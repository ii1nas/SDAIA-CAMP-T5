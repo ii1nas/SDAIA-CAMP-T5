{
  "cells": [
    {
      "cell_type": "markdown",
      "id": "5ffbf999-482f-4924-bb34-757d2f053bc5",
      "metadata": {
        "id": "5ffbf999-482f-4924-bb34-757d2f053bc5"
      },
      "source": [
        "# NumPy"
      ]
    },
    {
      "cell_type": "code",
      "source": [
        "from google.colab import drive\n",
        "drive.mount('/content/drive')"
      ],
      "metadata": {
        "colab": {
          "base_uri": "https://localhost:8080/"
        },
        "id": "uUeEZ2JoNBYh",
        "outputId": "0bbcab97-a0f4-4421-a21e-f69b8fef609b"
      },
      "id": "uUeEZ2JoNBYh",
      "execution_count": null,
      "outputs": [
        {
          "output_type": "stream",
          "name": "stdout",
          "text": [
            "Mounted at /content/drive\n"
          ]
        }
      ]
    },
    {
      "cell_type": "markdown",
      "id": "318e7d41-51fa-4553-8b8a-1b8b5959bb7b",
      "metadata": {
        "id": "318e7d41-51fa-4553-8b8a-1b8b5959bb7b"
      },
      "source": [
        "The [NumPy](https://www.numpy.org/) package is the workhorse of data analysis, machine learning, and scientific computing in the python ecosystem. It vastly simplifies manipulating and crunching vectors and matrices. Some of python's leading package rely on NumPy as a fundamental piece of their infrastructure (examples include scikit-learn, SciPy, pandas, and tensorflow). Beyond the ability to slice and dice numeric data, mastering numpy will give you an edge when dealing and debugging with advanced usecases in these libraries.\n",
        "\n",
        "**Why use NumPy?**\n",
        "\n",
        "\n",
        "Python list is flexable but this flexibility comes at a cost: to allow these flexible types, each item in the list must contain its own type info, reference count, and other information–that is, each item is a complete Python object. In the special case that all variables are of the same type, much of this information is redundant: it can be much more efficient to store data in a fixed-type array. The difference between a dynamic-type list and a fixed-type (NumPy-style) array is illustrated in the following figure"
      ]
    },
    {
      "cell_type": "markdown",
      "id": "b7d36b56-0e9c-41f7-a762-76f3dab1eaf1",
      "metadata": {
        "id": "b7d36b56-0e9c-41f7-a762-76f3dab1eaf1"
      },
      "source": [
        "\n",
        "<div class=\"img-div-any-width\" markdown=\"0\">\n",
        "  <img src=\"../../MyDrive/T5 - Module 3 /images/numpy/array_vs_list.png\"/>\n",
        "  <br />\n",
        "</div>\n"
      ]
    },
    {
      "cell_type": "markdown",
      "id": "224f33b9-927f-4e7b-aa08-5e1dfc46e4db",
      "metadata": {
        "id": "224f33b9-927f-4e7b-aa08-5e1dfc46e4db"
      },
      "source": [
        "NumPy arrays are faster and more compact than Python lists. An array consumes less memory and is convenient to use. NumPy uses much less memory to store data and it provides a mechanism of specifying the data types. This allows the code to be optimized even further."
      ]
    },
    {
      "cell_type": "markdown",
      "id": "3ead8cc7-c92e-48a3-9ec2-cc8ae6309f77",
      "metadata": {
        "id": "3ead8cc7-c92e-48a3-9ec2-cc8ae6309f77"
      },
      "source": [
        "In this notebook, we'll look at some of the main ways to use NumPy and how it can represent different types of data (tables, images, text...etc) before we can serve them to machine learning models."
      ]
    },
    {
      "cell_type": "code",
      "execution_count": null,
      "id": "a10f0b8a-2edb-44bc-9db1-d8377e5f99c6",
      "metadata": {
        "id": "a10f0b8a-2edb-44bc-9db1-d8377e5f99c6"
      },
      "outputs": [],
      "source": [
        "# Installing NumPy\n",
        "\n",
        "# !pip install numpy\n",
        "# conda install numpy"
      ]
    },
    {
      "cell_type": "code",
      "execution_count": null,
      "id": "6ffc6a86-1ea4-4aa4-b4dc-5dd38ccf5353",
      "metadata": {
        "id": "6ffc6a86-1ea4-4aa4-b4dc-5dd38ccf5353"
      },
      "outputs": [],
      "source": [
        "import numpy as np"
      ]
    },
    {
      "cell_type": "markdown",
      "id": "76395fc9-814d-420d-9974-df199c845be8",
      "metadata": {
        "id": "76395fc9-814d-420d-9974-df199c845be8"
      },
      "source": [
        "## Creating Arrays\n",
        "\n",
        "We can create a NumPy array by passing a python list to it and using ` np.array()`. In this case, python creates the array we can see on the right here:\n",
        "\n",
        "<div class=\"img-div-any-width\" markdown=\"0\">\n",
        "  <img src=\"../../../images/numpy/create-numpy-array-1.png\"/>\n",
        "  <br />\n",
        "</div>"
      ]
    },
    {
      "cell_type": "code",
      "execution_count": null,
      "id": "541b18da-7861-4336-81a4-1a31d6f11832",
      "metadata": {
        "id": "541b18da-7861-4336-81a4-1a31d6f11832",
        "outputId": "5de6a24a-e9fe-4fe2-9044-84d76c829747"
      },
      "outputs": [
        {
          "data": {
            "text/plain": [
              "array([1, 2, 3])"
            ]
          },
          "execution_count": 4,
          "metadata": {},
          "output_type": "execute_result"
        }
      ],
      "source": [
        "np.array([1, 2, 3])"
      ]
    },
    {
      "cell_type": "markdown",
      "id": "f60bce7d-bfda-4a40-95ed-9818342a64b3",
      "metadata": {
        "id": "f60bce7d-bfda-4a40-95ed-9818342a64b3"
      },
      "source": [
        "There are often cases when we want NumPy to initialize the values of the array for us. NumPy provides methods like ones(), zeros(), and random.random() for these cases. We just pass them the number of elements we want it to generate:\n",
        "\n",
        "<div class=\"img-div-any-width\" markdown=\"0\">\n",
        "  <img src=\"../../../images/numpy/create-numpy-array-ones-zeros-random.png\"/>\n",
        "  <br />\n",
        "</div>"
      ]
    },
    {
      "cell_type": "code",
      "execution_count": null,
      "id": "cf6b0609-652a-4c4f-9140-0e917e23b531",
      "metadata": {
        "id": "cf6b0609-652a-4c4f-9140-0e917e23b531",
        "outputId": "a588dab3-434c-4142-fac0-999a53fcb3c9"
      },
      "outputs": [
        {
          "data": {
            "text/plain": [
              "array([1., 1., 1.])"
            ]
          },
          "execution_count": 42,
          "metadata": {},
          "output_type": "execute_result"
        }
      ],
      "source": [
        "np.ones(3)"
      ]
    },
    {
      "cell_type": "code",
      "execution_count": null,
      "id": "d0467a1e-ba96-400b-8b74-3ac1fcb27313",
      "metadata": {
        "id": "d0467a1e-ba96-400b-8b74-3ac1fcb27313",
        "outputId": "e75bd435-4566-4177-86ab-e43654e36de9"
      },
      "outputs": [
        {
          "data": {
            "text/plain": [
              "array([0., 0., 0.])"
            ]
          },
          "execution_count": 43,
          "metadata": {},
          "output_type": "execute_result"
        }
      ],
      "source": [
        "np.zeros(3)"
      ]
    },
    {
      "cell_type": "code",
      "execution_count": null,
      "id": "ac30c730-eb24-49a9-a47c-17ad6968737e",
      "metadata": {
        "id": "ac30c730-eb24-49a9-a47c-17ad6968737e",
        "outputId": "18287661-2ac3-4a2a-f701-1cac315fe7c9"
      },
      "outputs": [
        {
          "data": {
            "text/plain": [
              "array([0.37063744, 0.04724458, 0.88763788])"
            ]
          },
          "execution_count": 44,
          "metadata": {},
          "output_type": "execute_result"
        }
      ],
      "source": [
        "np.random.random(3)"
      ]
    },
    {
      "cell_type": "markdown",
      "id": "b7dfbf1c-281c-4d04-ad94-f73c564f2661",
      "metadata": {
        "id": "b7dfbf1c-281c-4d04-ad94-f73c564f2661"
      },
      "source": [
        "Once we've created our arrays, we can start to manipulate them in interesting ways"
      ]
    },
    {
      "cell_type": "markdown",
      "id": "392fef04-d287-4582-8b11-7652c3c97519",
      "metadata": {
        "id": "392fef04-d287-4582-8b11-7652c3c97519"
      },
      "source": [
        "## Array Arithmetic\n",
        "Let's create two NumPy arrays to showcase their usefulness. We'll call them `data` and `ones`:\n",
        "\n",
        "<div class=\"img-div-any-width\" markdown=\"0\">\n",
        "  <img src=\"../../../images/numpy/numpy-arrays-example-1.png\"/>\n",
        "  <br />\n",
        "</div>\n",
        "\n",
        "<br />"
      ]
    },
    {
      "cell_type": "code",
      "execution_count": null,
      "id": "f8cadf01-0e35-406b-a216-47c9b6eb7916",
      "metadata": {
        "id": "f8cadf01-0e35-406b-a216-47c9b6eb7916"
      },
      "outputs": [],
      "source": [
        "data = np.array([1, 2])\n",
        "ones = np.ones(2)"
      ]
    },
    {
      "cell_type": "markdown",
      "id": "6371e995-4fdc-4399-a5df-3c5aa335cd95",
      "metadata": {
        "id": "6371e995-4fdc-4399-a5df-3c5aa335cd95"
      },
      "source": [
        "Adding them up position-wise (i.e. adding the values of each row) is as simple as typing ```data + ones```:\n",
        "\n",
        "<div class=\"img-div-any-width\" markdown=\"0\">\n",
        "  <img src=\"../../../images/numpy/numpy-arrays-adding-1.png\"/>\n",
        "  <br />\n",
        "</div>\n",
        "\n",
        "<br />"
      ]
    },
    {
      "cell_type": "code",
      "execution_count": null,
      "id": "00cf3504-99e1-4d0d-aee7-185c9c254bfb",
      "metadata": {
        "id": "00cf3504-99e1-4d0d-aee7-185c9c254bfb",
        "outputId": "62d1c2d8-3ed9-4ea6-eb0c-0ab0e6c4135f"
      },
      "outputs": [
        {
          "data": {
            "text/plain": [
              "array([2., 3.])"
            ]
          },
          "execution_count": 7,
          "metadata": {},
          "output_type": "execute_result"
        }
      ],
      "source": [
        "data + ones"
      ]
    },
    {
      "cell_type": "markdown",
      "id": "e4973f21-ddee-4562-adc5-12e26f98ca83",
      "metadata": {
        "id": "e4973f21-ddee-4562-adc5-12e26f98ca83"
      },
      "source": [
        "When I started learning such tools, I found it refreshing that an abstraction like this makes me not have to program such a calculation in loops. It's a wonderful abstraction that allows you to think about problems at a higher level.\n",
        "\n",
        "And it's not only addition that we can do this way:\n",
        "\n",
        "<div class=\"img-div-any-width\" markdown=\"0\">\n",
        "  <img src=\"../../../images/numpy/numpy-array-subtract-multiply-divide.png\"/>\n",
        "  <br />\n",
        "</div>\n",
        "\n",
        "<br />\n"
      ]
    },
    {
      "cell_type": "code",
      "execution_count": null,
      "id": "69c68130-ed8f-477b-8f27-aba460172df6",
      "metadata": {
        "id": "69c68130-ed8f-477b-8f27-aba460172df6",
        "outputId": "745aa3ed-8d71-4af4-9cd0-86ee410cae57"
      },
      "outputs": [
        {
          "data": {
            "text/plain": [
              "array([0., 1.])"
            ]
          },
          "execution_count": 8,
          "metadata": {},
          "output_type": "execute_result"
        }
      ],
      "source": [
        "data - ones"
      ]
    },
    {
      "cell_type": "code",
      "execution_count": null,
      "id": "3baf5577-65dc-4c02-9f1e-1b207b9e4956",
      "metadata": {
        "id": "3baf5577-65dc-4c02-9f1e-1b207b9e4956",
        "outputId": "7808f8e5-1efd-44d8-90c9-81245f9f6fac"
      },
      "outputs": [
        {
          "data": {
            "text/plain": [
              "array([1, 4])"
            ]
          },
          "execution_count": 9,
          "metadata": {},
          "output_type": "execute_result"
        }
      ],
      "source": [
        "data * data"
      ]
    },
    {
      "cell_type": "code",
      "execution_count": null,
      "id": "2d6c9f2a-ef19-48a1-bcb1-0fd8639ae717",
      "metadata": {
        "id": "2d6c9f2a-ef19-48a1-bcb1-0fd8639ae717",
        "outputId": "d1272f32-44f1-472e-ecf3-b3e5e301104b"
      },
      "outputs": [
        {
          "data": {
            "text/plain": [
              "array([1., 1.])"
            ]
          },
          "execution_count": 10,
          "metadata": {},
          "output_type": "execute_result"
        }
      ],
      "source": [
        "data / data"
      ]
    },
    {
      "cell_type": "markdown",
      "id": "32703954-6eb5-469c-b356-455b4a49fe42",
      "metadata": {
        "id": "32703954-6eb5-469c-b356-455b4a49fe42"
      },
      "source": [
        "### **Braodcasting** *(with 1D-array)*\n",
        "\n",
        "- Broadcasting refers to rules for applying element-wise functions to arrays with disimilar dimensions.\n",
        "- Broadcasting makes array operations more efficient by saving on memory allocation and indexing.\n",
        "\n",
        "\n"
      ]
    },
    {
      "cell_type": "markdown",
      "id": "97e54403-fbbf-4b3e-b087-63a877bafb29",
      "metadata": {
        "id": "97e54403-fbbf-4b3e-b087-63a877bafb29"
      },
      "source": [
        "There are often cases when we want to carry out an operation between an array and a single number (we can also call this an operation between a vector and a scalar). Say, for example, our array represents distance in miles, and we want to convert it to kilometers. We simply say ```data * 1.6```:\n",
        "\n",
        "\n",
        "<div class=\"img-div-any-width\" markdown=\"0\">\n",
        "  <img src=\"../../../images/numpy/numpy-array-broadcast.png\"/>\n",
        "  <br />\n",
        "</div>\n",
        "\n",
        "<br />\n",
        "\n",
        "See how NumPy understood that operation to mean that the multiplication should happen with each cell? That concept is called *broadcasting*, and it's very useful."
      ]
    },
    {
      "cell_type": "code",
      "execution_count": null,
      "id": "6c275d6d-0868-4a73-84c6-9d70102b88ac",
      "metadata": {
        "id": "6c275d6d-0868-4a73-84c6-9d70102b88ac",
        "outputId": "3673907e-091f-406e-b2e2-5eb4f5ecfe63"
      },
      "outputs": [
        {
          "data": {
            "text/plain": [
              "array([1.6, 3.2])"
            ]
          },
          "execution_count": 11,
          "metadata": {},
          "output_type": "execute_result"
        }
      ],
      "source": [
        "np.array([1, 2]) * 1.6"
      ]
    },
    {
      "cell_type": "markdown",
      "id": "a1823bd5-ecf3-47da-a248-03b860c5cfd8",
      "metadata": {
        "id": "a1823bd5-ecf3-47da-a248-03b860c5cfd8"
      },
      "source": [
        "## Indexing\n",
        "\n",
        "We can index and slice NumPy arrays in all the ways we can slice python lists:\n",
        "\n",
        "<div class=\"img-div-any-width\" markdown=\"0\">\n",
        "  <img src=\"../../../images/numpy/numpy-array-slice.png\"/>\n",
        "  <br />\n",
        "</div>\n"
      ]
    },
    {
      "cell_type": "code",
      "execution_count": null,
      "id": "3cad175a-bb12-42d2-861d-3e1e4f312c21",
      "metadata": {
        "id": "3cad175a-bb12-42d2-861d-3e1e4f312c21",
        "outputId": "c3087f82-ef8f-4f52-fc11-ba2cad6c5733"
      },
      "outputs": [
        {
          "data": {
            "text/plain": [
              "array([1, 2, 3])"
            ]
          },
          "execution_count": 15,
          "metadata": {},
          "output_type": "execute_result"
        }
      ],
      "source": [
        "data = np.array([1, 2, 3])\n",
        "data"
      ]
    },
    {
      "cell_type": "code",
      "execution_count": null,
      "id": "b634f683-904b-4bdf-a332-44bbbcc943a5",
      "metadata": {
        "id": "b634f683-904b-4bdf-a332-44bbbcc943a5",
        "outputId": "c2423333-dc65-45c2-d1a1-3a042798517d"
      },
      "outputs": [
        {
          "name": "stdout",
          "output_type": "stream",
          "text": [
            "1\n",
            "2\n"
          ]
        }
      ],
      "source": [
        "print(data[0])\n",
        "print(data[1])"
      ]
    },
    {
      "cell_type": "code",
      "execution_count": null,
      "id": "d7cd8893-cb74-4d2a-a9c5-ae332a25ee6a",
      "metadata": {
        "id": "d7cd8893-cb74-4d2a-a9c5-ae332a25ee6a",
        "outputId": "890960eb-0ad1-4423-9c61-3c39c5d78e7b"
      },
      "outputs": [
        {
          "name": "stdout",
          "output_type": "stream",
          "text": [
            "[1 2]\n"
          ]
        }
      ],
      "source": [
        "print(data[0:2])"
      ]
    },
    {
      "cell_type": "code",
      "execution_count": null,
      "id": "278954e5-58d1-42cc-88ff-8a4759653545",
      "metadata": {
        "id": "278954e5-58d1-42cc-88ff-8a4759653545",
        "outputId": "91222e4f-08be-4598-ca3d-cf2ee1a49c91"
      },
      "outputs": [
        {
          "name": "stdout",
          "output_type": "stream",
          "text": [
            "[2 3]\n"
          ]
        }
      ],
      "source": [
        "print(data[1:])"
      ]
    },
    {
      "cell_type": "markdown",
      "id": "7e446577-ba97-412c-a082-0dd256a7e67a",
      "metadata": {
        "id": "7e446577-ba97-412c-a082-0dd256a7e67a"
      },
      "source": [
        "## Aggregation\n",
        "\n",
        "Additional benefits NumPy gives us are aggregation functions:\n",
        "\n",
        "<div class=\"img-div-any-width\" markdown=\"0\">\n",
        "  <img src=\"../../images/numpy/numpy-array-aggregation.png\"/>\n",
        "  <br />\n",
        "</div>\n",
        "\n",
        "In addition to `min`, `max`, and `sum`, you get all the greats like `mean` to get the average, `prod` to get the result of multiplying all the elements together, `std` to get standard deviation, and [plenty of others](https://jakevdp.github.io/PythonDataScienceHandbook/02.04-computation-on-arrays-aggregates.html)."
      ]
    },
    {
      "cell_type": "code",
      "execution_count": null,
      "id": "d3889c09-923a-4d89-887f-8a23141e3114",
      "metadata": {
        "id": "d3889c09-923a-4d89-887f-8a23141e3114",
        "outputId": "3feada45-fa19-4440-eae6-ce2fe9d3cbc3"
      },
      "outputs": [
        {
          "data": {
            "text/plain": [
              "3"
            ]
          },
          "execution_count": 17,
          "metadata": {},
          "output_type": "execute_result"
        }
      ],
      "source": [
        "data.max()"
      ]
    },
    {
      "cell_type": "code",
      "execution_count": null,
      "id": "326dc0fa-be8a-4dc7-9361-c9782ae69510",
      "metadata": {
        "id": "326dc0fa-be8a-4dc7-9361-c9782ae69510",
        "outputId": "ae42eae0-6edc-41c2-9b69-7c7f209aa4ce"
      },
      "outputs": [
        {
          "data": {
            "text/plain": [
              "1"
            ]
          },
          "execution_count": 18,
          "metadata": {},
          "output_type": "execute_result"
        }
      ],
      "source": [
        "data.min()"
      ]
    },
    {
      "cell_type": "code",
      "execution_count": null,
      "id": "991c06ae-841c-4f83-9259-6b9a894dacae",
      "metadata": {
        "id": "991c06ae-841c-4f83-9259-6b9a894dacae",
        "outputId": "cd70ac54-a5f2-413f-c0d0-3d86504e6588"
      },
      "outputs": [
        {
          "data": {
            "text/plain": [
              "6"
            ]
          },
          "execution_count": 19,
          "metadata": {},
          "output_type": "execute_result"
        }
      ],
      "source": [
        "data.sum()"
      ]
    },
    {
      "cell_type": "markdown",
      "id": "2c7ad902-36a9-45ac-a906-102ac3672273",
      "metadata": {
        "id": "2c7ad902-36a9-45ac-a906-102ac3672273"
      },
      "source": [
        "### Creating Matrices\n",
        "\n",
        "We can pass python lists of lists in the following shape to have NumPy create a matrix to represent them:\n",
        "\n",
        "```python\n",
        "np.array([[1,2],[3,4]])\n",
        "```\n",
        "\n",
        "<div class=\"img-div-any-width\" markdown=\"0\">\n",
        "  <img src=\"../../../images/numpy/numpy-array-create-2d.png\"/>\n",
        "  <br />\n",
        "</div>\n",
        "\n",
        "We can also use the same methods we mentioned above (`ones()`, `zeros()`, and `random.random()`) as long as we give them a tuple describing the dimensions of the matrix we are creating:\n",
        "\n",
        "<div class=\"img-div-any-width\" markdown=\"0\">\n",
        "  <img src=\"../../../images/numpy/numpy-matrix-ones-zeros-random.png\"/>\n",
        "  <br />\n",
        "</div>\n",
        "\n",
        "<br />"
      ]
    },
    {
      "cell_type": "code",
      "execution_count": null,
      "id": "0259bd16-3d7d-4b33-ab63-4f8fc823e73d",
      "metadata": {
        "id": "0259bd16-3d7d-4b33-ab63-4f8fc823e73d",
        "outputId": "695b755b-8a83-48c2-f6f0-c1f66f13cb21"
      },
      "outputs": [
        {
          "data": {
            "text/plain": [
              "array([[1, 2],\n",
              "       [3, 4]])"
            ]
          },
          "execution_count": 20,
          "metadata": {},
          "output_type": "execute_result"
        }
      ],
      "source": [
        "np.array([[1,2],[3,4]])"
      ]
    },
    {
      "cell_type": "code",
      "execution_count": null,
      "id": "c82519f4-fc32-497e-989a-eab1466a2016",
      "metadata": {
        "id": "c82519f4-fc32-497e-989a-eab1466a2016",
        "outputId": "513c1590-7a5a-4f76-993e-41d72dfa84ba"
      },
      "outputs": [
        {
          "data": {
            "text/plain": [
              "array([[1., 1.],\n",
              "       [1., 1.],\n",
              "       [1., 1.]])"
            ]
          },
          "execution_count": 21,
          "metadata": {},
          "output_type": "execute_result"
        }
      ],
      "source": [
        "np.ones((3, 2))"
      ]
    },
    {
      "cell_type": "code",
      "execution_count": null,
      "id": "25a72ffa-32bf-423d-bdfb-bf2c0eb6f958",
      "metadata": {
        "id": "25a72ffa-32bf-423d-bdfb-bf2c0eb6f958",
        "outputId": "203f40fd-4bba-4e91-c63b-07bdd0775a17"
      },
      "outputs": [
        {
          "data": {
            "text/plain": [
              "array([[0., 0.],\n",
              "       [0., 0.],\n",
              "       [0., 0.]])"
            ]
          },
          "execution_count": 22,
          "metadata": {},
          "output_type": "execute_result"
        }
      ],
      "source": [
        "np.zeros((3, 2))"
      ]
    },
    {
      "cell_type": "code",
      "execution_count": null,
      "id": "cf3a45af-28f7-45e1-ba49-04b1400001cb",
      "metadata": {
        "id": "cf3a45af-28f7-45e1-ba49-04b1400001cb",
        "outputId": "48ad234c-514f-4c2a-9a1d-637f4a91a357"
      },
      "outputs": [
        {
          "data": {
            "text/plain": [
              "array([[0.77677837, 0.57541827],\n",
              "       [0.86729486, 0.23845897],\n",
              "       [0.29385925, 0.10333747]])"
            ]
          },
          "execution_count": 23,
          "metadata": {},
          "output_type": "execute_result"
        }
      ],
      "source": [
        "np.random.random((3, 2))"
      ]
    },
    {
      "cell_type": "markdown",
      "id": "e643a7c0-4e01-4679-a5ef-f5e2b2f00623",
      "metadata": {
        "id": "e643a7c0-4e01-4679-a5ef-f5e2b2f00623"
      },
      "source": [
        "### Matrix Arithmetic\n",
        "\n",
        "We can add and multiply matrices using arithmetic operators (`+-*/`) if the two matrices are the same size. NumPy handles those as position-wise operations:\n",
        "\n",
        "<div class=\"img-div-any-width\" markdown=\"0\">\n",
        "  <img src=\"../../../images/numpy/numpy-matrix-arithmetic.png\"/>\n",
        "  <br />\n",
        "</div>\n",
        "\n",
        "<br />\n"
      ]
    },
    {
      "cell_type": "code",
      "execution_count": null,
      "id": "29a205fa-6567-4a2b-b0a8-140eb7dbc683",
      "metadata": {
        "id": "29a205fa-6567-4a2b-b0a8-140eb7dbc683",
        "outputId": "cae7fb5d-3b16-4188-d4ad-1e5f82684e0c"
      },
      "outputs": [
        {
          "data": {
            "text/plain": [
              "array([[2., 3.],\n",
              "       [4., 5.]])"
            ]
          },
          "execution_count": 24,
          "metadata": {},
          "output_type": "execute_result"
        }
      ],
      "source": [
        "data = np.array([[1,2],[3,4]])\n",
        "ones = np.ones((2, 2))\n",
        "\n",
        "data + ones"
      ]
    },
    {
      "cell_type": "markdown",
      "id": "2054e452-edee-4161-9d86-450e2aa720f2",
      "metadata": {
        "id": "2054e452-edee-4161-9d86-450e2aa720f2"
      },
      "source": [
        "### **Braodcasting** *(with 2D-array)*\n",
        "\n",
        "- Again, Broadcasting refers to rules for applying element-wise functions to arrays with disimilar dimensions.\n",
        "- Broadcasting makes array operations more efficient by saving on memory allocation and indexing.\n",
        "\n",
        "\n"
      ]
    },
    {
      "cell_type": "markdown",
      "id": "3a1bd506-63f9-410f-8eda-df47a2e2d3be",
      "metadata": {
        "id": "3a1bd506-63f9-410f-8eda-df47a2e2d3be"
      },
      "source": [
        "We can get away with doing these arithmetic operations on matrices of different size only if the different dimension is one (e.g. the matrix has only one column or one row), in which case NumPy uses its broadcast rules for that operation:\n",
        "\n",
        "<div class=\"img-div-any-width\" markdown=\"0\">\n",
        "  <img src=\"../../../images/numpy/numpy-matrix-broadcast.png\"/>\n",
        "  <br />\n",
        "</div>\n"
      ]
    },
    {
      "cell_type": "code",
      "execution_count": null,
      "id": "30722b6c-b9e1-48f3-a1f1-b326250a72e5",
      "metadata": {
        "id": "30722b6c-b9e1-48f3-a1f1-b326250a72e5",
        "outputId": "deb60adf-6960-4616-ef06-8ed61d4417c2"
      },
      "outputs": [
        {
          "data": {
            "text/plain": [
              "array([[2., 3.],\n",
              "       [4., 5.],\n",
              "       [6., 7.]])"
            ]
          },
          "execution_count": 25,
          "metadata": {},
          "output_type": "execute_result"
        }
      ],
      "source": [
        "data = np.array([[1,2],[3,4], [5, 6]])\n",
        "ones = np.ones((1, 2))\n",
        "\n",
        "data + ones"
      ]
    },
    {
      "cell_type": "markdown",
      "id": "dc3bd5d7-b2f8-4454-ae29-0f0f0a598a99",
      "metadata": {
        "id": "dc3bd5d7-b2f8-4454-ae29-0f0f0a598a99"
      },
      "source": [
        "### Dot Product\n",
        "\n",
        "A key distinction to make with arithmetic is the case of [matrix multiplication](https://www.mathsisfun.com/algebra/matrix-multiplying.html) using the dot product. NumPy gives every matrix a `dot()` method we can use to carry-out dot product operations with other matrices:\n",
        "\n",
        "<div class=\"img-div-any-width\" markdown=\"0\">\n",
        "  <img src=\"../../../images/numpy/numpy-matrix-dot-product-1.png\"/>\n",
        "  <br />\n",
        "</div>\n",
        "\n",
        "<br />\n",
        "\n",
        "I've added matrix dimensions at the bottom of this figure to stress that the two matrices have to have the same dimension on the side they face each other with. You can visualize this operation as looking like this:\n",
        "\n",
        "<div class=\"img-div-any-width\" markdown=\"0\">\n",
        "  <img src=\"../../images/numpy/numpy-matrix-dot-product-2.png\"/>\n",
        "  <br />\n",
        "</div>\n",
        "\n",
        "<br />\n",
        "<br />"
      ]
    },
    {
      "cell_type": "code",
      "execution_count": null,
      "id": "4310d5ae-242c-4762-bd03-ec6014fc164b",
      "metadata": {
        "id": "4310d5ae-242c-4762-bd03-ec6014fc164b",
        "outputId": "b6999d00-4c73-489f-8bb8-c547b778030a"
      },
      "outputs": [
        {
          "data": {
            "text/plain": [
              "array([ 30201, 302010])"
            ]
          },
          "execution_count": 26,
          "metadata": {},
          "output_type": "execute_result"
        }
      ],
      "source": [
        "v = np.array([1, 2, 3])\n",
        "matrix = np.array([[1, 10], [100, 1000], [10000, 100000]])\n",
        "\n",
        "v.dot(matrix)"
      ]
    },
    {
      "cell_type": "markdown",
      "id": "00c555c7-e805-42d8-8058-cdfc2803d187",
      "metadata": {
        "id": "00c555c7-e805-42d8-8058-cdfc2803d187"
      },
      "source": [
        "### Matrix Indexing\n",
        "\n",
        "Indexing and slicing operations become even more useful when we're manipulating matrices:\n",
        "\n",
        "<div class=\"img-div-any-width\" markdown=\"0\">\n",
        "  <img src=\"../../../images/numpy/numpy-matrix-indexing.png\"/>\n",
        "  <br />\n",
        "</div>\n",
        "\n",
        "<br />\n"
      ]
    },
    {
      "cell_type": "code",
      "execution_count": null,
      "id": "a93b8d36-6e19-4e85-9334-4a0ab443757e",
      "metadata": {
        "id": "a93b8d36-6e19-4e85-9334-4a0ab443757e",
        "outputId": "2b8de43e-070a-4172-e49d-467b85f8f06f"
      },
      "outputs": [
        {
          "data": {
            "text/plain": [
              "2"
            ]
          },
          "execution_count": 27,
          "metadata": {},
          "output_type": "execute_result"
        }
      ],
      "source": [
        "data = np.array([[1, 2], [3, 4], [5, 6]])\n",
        "data[0, 1]"
      ]
    },
    {
      "cell_type": "code",
      "execution_count": null,
      "id": "4fea32c4-8d9b-423b-8af7-b3eeef4d3ff6",
      "metadata": {
        "id": "4fea32c4-8d9b-423b-8af7-b3eeef4d3ff6",
        "outputId": "9e102de2-b91c-45a1-abf7-7a5849d67f47"
      },
      "outputs": [
        {
          "data": {
            "text/plain": [
              "array([[3, 4],\n",
              "       [5, 6]])"
            ]
          },
          "execution_count": 28,
          "metadata": {},
          "output_type": "execute_result"
        }
      ],
      "source": [
        "data[1:3]"
      ]
    },
    {
      "cell_type": "code",
      "execution_count": null,
      "id": "a94330b9-d179-4e73-bb9f-85f9875350bb",
      "metadata": {
        "id": "a94330b9-d179-4e73-bb9f-85f9875350bb",
        "outputId": "372e9d97-5e50-440f-b99a-f40c9d517626"
      },
      "outputs": [
        {
          "data": {
            "text/plain": [
              "array([1, 3])"
            ]
          },
          "execution_count": 29,
          "metadata": {},
          "output_type": "execute_result"
        }
      ],
      "source": [
        "data[0:2, 0]"
      ]
    },
    {
      "cell_type": "markdown",
      "id": "43f693d4-9fd8-4965-a54b-5bc8f3ab9bbb",
      "metadata": {
        "id": "43f693d4-9fd8-4965-a54b-5bc8f3ab9bbb"
      },
      "source": [
        "### Matrix Aggregation\n",
        "\n",
        "We can aggregate matrices the same way we aggregated vectors:\n",
        "<div class=\"img-div-any-width\" markdown=\"0\">\n",
        "  <img src=\"../../../images/numpy/numpy-matrix-aggregation-1.png\"/>\n",
        "  <br />\n",
        "</div>\n",
        "\n",
        "<br />\n",
        "\n",
        "\n",
        "Not only can we aggregate all the values in a matrix, but we can also aggregate across the rows or columns by using the `axis` parameter:\n",
        "\n",
        "<div class=\"img-div-any-width\" markdown=\"0\">\n",
        "  <img src=\"../../../images/numpy/numpy-matrix-aggregation-4.png\"/>\n",
        "  <br />\n",
        "</div>\n",
        "\n",
        "<br />"
      ]
    },
    {
      "cell_type": "code",
      "execution_count": null,
      "id": "8060d467-8357-46d0-955a-1886f6ff1711",
      "metadata": {
        "id": "8060d467-8357-46d0-955a-1886f6ff1711",
        "outputId": "587912ae-65eb-4c2d-c437-41ddd0b17077"
      },
      "outputs": [
        {
          "data": {
            "text/plain": [
              "array([5, 6])"
            ]
          },
          "execution_count": 30,
          "metadata": {},
          "output_type": "execute_result"
        }
      ],
      "source": [
        "data.max(axis=0)"
      ]
    },
    {
      "cell_type": "code",
      "execution_count": null,
      "id": "88d28c13-5b8a-4411-a1ef-812a29ba4295",
      "metadata": {
        "id": "88d28c13-5b8a-4411-a1ef-812a29ba4295",
        "outputId": "18cba705-548b-4e06-a567-debf556a8db1"
      },
      "outputs": [
        {
          "data": {
            "text/plain": [
              "array([2, 4, 6])"
            ]
          },
          "execution_count": 31,
          "metadata": {},
          "output_type": "execute_result"
        }
      ],
      "source": [
        "data.max(axis=1)"
      ]
    },
    {
      "cell_type": "markdown",
      "id": "57893458-3cd0-4330-98ee-7c3097707167",
      "metadata": {
        "id": "57893458-3cd0-4330-98ee-7c3097707167"
      },
      "source": [
        "<div class=\"img-div-any-width\" markdown=\"0\">\n",
        "  <img src=\"../../../images/numpy/ufunc.png\"/>\n",
        "  <br />\n",
        "</div>"
      ]
    },
    {
      "cell_type": "code",
      "execution_count": null,
      "id": "4ae735a0-ecb8-49f4-accb-e02ffd8e5cbb",
      "metadata": {
        "id": "4ae735a0-ecb8-49f4-accb-e02ffd8e5cbb",
        "outputId": "64f3ca20-3264-4858-e172-ac777fb12f78"
      },
      "outputs": [
        {
          "data": {
            "text/plain": [
              "array([5, 7, 9])"
            ]
          },
          "execution_count": 47,
          "metadata": {},
          "output_type": "execute_result"
        }
      ],
      "source": [
        "ary= np.array([[1, 2, 3],\n",
        "               [4, 5, 6]])\n",
        "np.sum(ary, axis=0)"
      ]
    },
    {
      "cell_type": "code",
      "execution_count": null,
      "id": "c49b8875-7d86-41a8-8f1e-704d048b057e",
      "metadata": {
        "id": "c49b8875-7d86-41a8-8f1e-704d048b057e",
        "outputId": "c8e4d988-8d30-496a-e41c-36e8c2dbb1e6"
      },
      "outputs": [
        {
          "data": {
            "text/plain": [
              "array([ 6, 15])"
            ]
          },
          "execution_count": 48,
          "metadata": {},
          "output_type": "execute_result"
        }
      ],
      "source": [
        "np.sum(ary, axis=1)"
      ]
    },
    {
      "cell_type": "markdown",
      "id": "defabedc-f565-439a-9034-26dc99bae9f7",
      "metadata": {
        "id": "defabedc-f565-439a-9034-26dc99bae9f7"
      },
      "source": [
        "## Transposing and Reshaping\n",
        "\n",
        "A common need when dealing with matrices is the need to rotate them. This is often the case when we need to take the dot product of two matrices and need to align the dimension they share. NumPy arrays have a convenient property called `T` to get the transpose of a matrix:\n",
        "\n",
        "<div class=\"img-div-any-width\" markdown=\"0\">\n",
        "  <img src=\"../../../images/numpy/transpose.png\"/>\n",
        "  <br />\n",
        "</div>\n",
        "\n",
        "<br />"
      ]
    },
    {
      "cell_type": "code",
      "execution_count": null,
      "id": "d195ec10-4bd6-445e-9e71-61de2b341752",
      "metadata": {
        "id": "d195ec10-4bd6-445e-9e71-61de2b341752",
        "outputId": "1364304f-1364-461c-a116-f2e38ad8c5c4"
      },
      "outputs": [
        {
          "data": {
            "text/plain": [
              "array([[1, 4],\n",
              "       [2, 5],\n",
              "       [3, 6]])"
            ]
          },
          "execution_count": 46,
          "metadata": {},
          "output_type": "execute_result"
        }
      ],
      "source": [
        "data = np.array([[1, 2, 3],\n",
        "                 [4, 5, 6]])\n",
        "data.T"
      ]
    },
    {
      "cell_type": "markdown",
      "id": "8d503bb0-5ca1-46d2-ba8b-066018d1e5bb",
      "metadata": {
        "id": "8d503bb0-5ca1-46d2-ba8b-066018d1e5bb"
      },
      "source": [
        "In more advanced use case, you may find yourself needing to switch the dimensions of a certain matrix. This is often the case in machine learning applications where a certain model expects a certain shape for the inputs that is different from your dataset. NumPy's `reshape()` method is useful in these cases. You just pass it the new dimensions you want for the matrix. You can pass -1 for a dimension and NumPy can infer the correct dimension based on your matrix:\n",
        "\n",
        "\n",
        "<div class=\"img-div-any-width\" markdown=\"0\">\n",
        "  <img src=\"../../../images/numpy/numpy-reshape.png\"/>\n",
        "  <br />\n",
        "</div>\n",
        "\n",
        "\n",
        "<br />"
      ]
    },
    {
      "cell_type": "code",
      "execution_count": null,
      "id": "b5cf5c13-db01-4cb6-86d6-e71e45e1cb00",
      "metadata": {
        "id": "b5cf5c13-db01-4cb6-86d6-e71e45e1cb00",
        "outputId": "6a0f7d43-1c9f-48a4-ccb0-02e46295404a"
      },
      "outputs": [
        {
          "data": {
            "text/plain": [
              "array([[1, 2, 3],\n",
              "       [4, 5, 6]])"
            ]
          },
          "execution_count": 34,
          "metadata": {},
          "output_type": "execute_result"
        }
      ],
      "source": [
        "data = np.array([1, 2, 3, 4, 5, 6])\n",
        "\n",
        "data.reshape(2, 3)"
      ]
    },
    {
      "cell_type": "code",
      "execution_count": null,
      "id": "14b155a2-f520-4866-9c24-76740c688caa",
      "metadata": {
        "id": "14b155a2-f520-4866-9c24-76740c688caa",
        "outputId": "aa56baae-a9ec-4ba5-be17-0fa4af79153c"
      },
      "outputs": [
        {
          "data": {
            "text/plain": [
              "array([[1, 2],\n",
              "       [3, 4],\n",
              "       [5, 6]])"
            ]
          },
          "execution_count": 35,
          "metadata": {},
          "output_type": "execute_result"
        }
      ],
      "source": [
        "data.reshape(3, 2)"
      ]
    },
    {
      "cell_type": "markdown",
      "id": "e8618dc7-000d-4a13-b54a-b233eab7f5dd",
      "metadata": {
        "id": "e8618dc7-000d-4a13-b54a-b233eab7f5dd"
      },
      "source": [
        "## Yet More Dimensions\n",
        "NumPy can do everything we've mentioned in any number of dimensions. Its central data structure is called ndarray (N-Dimensional Array) for a reason.\n",
        "\n",
        "<div class=\"img-div-any-width\" markdown=\"0\">\n",
        "  <img src=\"../../../images/numpy/numpy-3d-array.png\"/>\n",
        "  <br />\n",
        "</div>\n",
        "\n",
        "\n"
      ]
    },
    {
      "cell_type": "code",
      "execution_count": null,
      "id": "d2b8fdb9-466f-4c08-a94a-dbdb6d1f307f",
      "metadata": {
        "id": "d2b8fdb9-466f-4c08-a94a-dbdb6d1f307f",
        "outputId": "347f8fcb-b278-4c1e-be02-b17133da777f"
      },
      "outputs": [
        {
          "data": {
            "text/plain": [
              "array([[[1, 2],\n",
              "        [3, 4]],\n",
              "\n",
              "       [[5, 6],\n",
              "        [7, 8]]])"
            ]
          },
          "execution_count": 36,
          "metadata": {},
          "output_type": "execute_result"
        }
      ],
      "source": [
        "np.array([ [[1, 2], [3, 4]],\n",
        "           [[5, 6], [7, 8]]  ])"
      ]
    },
    {
      "cell_type": "markdown",
      "id": "193fb913-c449-4003-a714-5d2cc8b250f2",
      "metadata": {
        "id": "193fb913-c449-4003-a714-5d2cc8b250f2"
      },
      "source": [
        "In a lot of ways, dealing with a new dimension is just adding a comma to the parameters of a NumPy function:\n",
        "\n",
        "<div class=\"img-div-any-width\" markdown=\"0\">\n",
        "  <img src=\"../../../images/numpy/numpy-3d-array-creation.png\"/>\n",
        "  <br />\n",
        "</div>\n",
        "\n",
        "Note: Keep in mind that when you print a 3-dimensional NumPy array, the text output visualizes the array differently than shown here.  NumPy's order for printing n-dimensional arrays is that the last axis is looped over the fastest, while the first is the slowest.\n",
        "\n",
        "      "
      ]
    },
    {
      "cell_type": "code",
      "execution_count": null,
      "id": "23f8ea07-d8ce-4e1f-8482-8890e8401923",
      "metadata": {
        "id": "23f8ea07-d8ce-4e1f-8482-8890e8401923",
        "outputId": "2e60eb4b-26bc-497b-f3cd-b53341a19941"
      },
      "outputs": [
        {
          "data": {
            "text/plain": [
              "array([[[1., 1.],\n",
              "        [1., 1.],\n",
              "        [1., 1.]],\n",
              "\n",
              "       [[1., 1.],\n",
              "        [1., 1.],\n",
              "        [1., 1.]],\n",
              "\n",
              "       [[1., 1.],\n",
              "        [1., 1.],\n",
              "        [1., 1.]],\n",
              "\n",
              "       [[1., 1.],\n",
              "        [1., 1.],\n",
              "        [1., 1.]]])"
            ]
          },
          "execution_count": 37,
          "metadata": {},
          "output_type": "execute_result"
        }
      ],
      "source": [
        "np.ones((4,3,2))"
      ]
    },
    {
      "cell_type": "code",
      "execution_count": null,
      "id": "e9406d4e-9ef9-4f1e-b948-4ffa98fc94e9",
      "metadata": {
        "id": "e9406d4e-9ef9-4f1e-b948-4ffa98fc94e9",
        "outputId": "02ab4ea6-79b2-42ae-f771-b6b75afe2628"
      },
      "outputs": [
        {
          "data": {
            "text/plain": [
              "array([[[0., 0.],\n",
              "        [0., 0.],\n",
              "        [0., 0.]],\n",
              "\n",
              "       [[0., 0.],\n",
              "        [0., 0.],\n",
              "        [0., 0.]],\n",
              "\n",
              "       [[0., 0.],\n",
              "        [0., 0.],\n",
              "        [0., 0.]],\n",
              "\n",
              "       [[0., 0.],\n",
              "        [0., 0.],\n",
              "        [0., 0.]]])"
            ]
          },
          "execution_count": 38,
          "metadata": {},
          "output_type": "execute_result"
        }
      ],
      "source": [
        "np.zeros((4,3,2))"
      ]
    },
    {
      "cell_type": "code",
      "execution_count": null,
      "id": "766cbbac-594d-4707-9b60-19422bd67294",
      "metadata": {
        "id": "766cbbac-594d-4707-9b60-19422bd67294",
        "outputId": "f1182419-0c08-40ca-9ea3-171f674ff8fd"
      },
      "outputs": [
        {
          "data": {
            "text/plain": [
              "array([[[0.24206483, 0.87942403],\n",
              "        [0.23622338, 0.12092397],\n",
              "        [0.97001264, 0.52967364]],\n",
              "\n",
              "       [[0.86386979, 0.77096841],\n",
              "        [0.19775933, 0.964929  ],\n",
              "        [0.15637221, 0.53884998]],\n",
              "\n",
              "       [[0.87171424, 0.49863226],\n",
              "        [0.81166114, 0.39764528],\n",
              "        [0.21069529, 0.01450155]],\n",
              "\n",
              "       [[0.84910965, 0.37922617],\n",
              "        [0.95894233, 0.82832385],\n",
              "        [0.50488113, 0.97078358]]])"
            ]
          },
          "execution_count": 39,
          "metadata": {},
          "output_type": "execute_result"
        }
      ],
      "source": [
        "np.random.random((4,3,2))"
      ]
    },
    {
      "cell_type": "markdown",
      "id": "1f7cd044-6c25-46ec-96ea-efa3b246c392",
      "metadata": {
        "id": "1f7cd044-6c25-46ec-96ea-efa3b246c392"
      },
      "source": [
        "\n",
        "## Practical Usage\n",
        "\n",
        "And now for the payoff. Here are some examples of the useful things NumPy will help you through.\n"
      ]
    },
    {
      "cell_type": "markdown",
      "id": "6e3279be-9e2b-482e-9c0e-638d08445857",
      "metadata": {
        "id": "6e3279be-9e2b-482e-9c0e-638d08445857"
      },
      "source": [
        "\n",
        "### Formulas\n",
        "Implementing mathematical formulas that work on matrices and vectors is a key use case to consider NumPy for. It's why NumPy is the darling of the scientific python community. For example, consider the mean square error formula that is central to supervised machine learning models tackling regression problems:\n",
        "\n",
        "<div class=\"img-div-any-width\" markdown=\"0\">\n",
        "  <img src=\"../../../images/numpy/mean-square-error-formula.png\"/>\n",
        "  <br />\n",
        "</div>\n",
        "\n",
        "<br />\n",
        "\n",
        "Implementing this is a breeze in NumPy:\n",
        "\n",
        "<div class=\"img-div-any-width\" markdown=\"0\">\n",
        "  <img src=\"../../../images/numpy/numpy-mean-square-error-formula.png\"/>\n",
        "  <br />\n",
        "</div>\n",
        "\n",
        "<br />\n",
        "\n"
      ]
    },
    {
      "cell_type": "markdown",
      "id": "5504aa6b-4bf8-498e-b2ea-4661df25a6d8",
      "metadata": {
        "id": "5504aa6b-4bf8-498e-b2ea-4661df25a6d8"
      },
      "source": [
        "The beauty of this is that numpy does not care if `predictions` and `labels` contain one or a thousand values (as long as they're both the same size). We can walk through an example stepping sequentially through the four operations in that line of code:\n",
        "\n",
        "<div class=\"img-div-any-width\" markdown=\"0\">\n",
        "  <img src=\"../../../images/numpy/numpy-mse-1.png\"/>\n",
        "  <br />\n",
        "</div>\n",
        "\n",
        "<br />\n",
        "\n",
        "Both the predictions and labels vectors contain three values. Which means n has a value of three. After we carry out the subtraction, we end up with the values looking like this:\n",
        "\n",
        "<div class=\"img-div-any-width\" markdown=\"0\">\n",
        "  <img src=\"../../../images/numpy/numpy-mse-2.png\"/>\n",
        "  <br />\n",
        "</div>\n",
        "\n",
        "<br />\n",
        "\n",
        "Then we can square the values in the vector:\n",
        "\n",
        "<div class=\"img-div-any-width\" markdown=\"0\">\n",
        "  <img src=\"../../../images/numpy/numpy-mse-3.png\"/>\n",
        "  <br />\n",
        "</div>\n",
        "\n",
        "<br />\n",
        "\n",
        "Now we sum these values:\n",
        "\n",
        "<div class=\"img-div-any-width\" markdown=\"0\">\n",
        "  <img src=\"../../../images/numpy/numpy-mse-4.png\"/>\n",
        "  <br />\n",
        "</div>\n",
        "\n",
        "<br />\n",
        "\n",
        "Which results in the error value for that prediction and a score for the quality of the model.\n",
        "\n"
      ]
    },
    {
      "cell_type": "code",
      "execution_count": null,
      "id": "e98f4ab9-3c34-4e6b-a993-f6b8c8c9bfb5",
      "metadata": {
        "id": "e98f4ab9-3c34-4e6b-a993-f6b8c8c9bfb5",
        "outputId": "df580240-12ca-4190-cc2f-e6726872de70"
      },
      "outputs": [
        {
          "data": {
            "text/plain": [
              "1.6666666666666665"
            ]
          },
          "execution_count": 41,
          "metadata": {},
          "output_type": "execute_result"
        }
      ],
      "source": [
        "predictions = np.array([1, 1, 1])\n",
        "labels = np.array([1, 2, 3])\n",
        "\n",
        "error = (1/3) * np.sum(np.square(predictions - labels))\n",
        "error"
      ]
    },
    {
      "cell_type": "markdown",
      "id": "1b99ddaf-40ff-48a3-8d17-8af068f5e027",
      "metadata": {
        "id": "1b99ddaf-40ff-48a3-8d17-8af068f5e027"
      },
      "source": [
        "### Data Representation\n",
        "\n",
        "Think of all the data types you'll need to crunch and build models around (spreadsheets, images, audio...etc). So many of them are perfectly suited for representation in an n-dimensional array:"
      ]
    },
    {
      "cell_type": "markdown",
      "id": "790c6f14-9169-486f-96e8-6ff5a51e3455",
      "metadata": {
        "tags": [],
        "id": "790c6f14-9169-486f-96e8-6ff5a51e3455"
      },
      "source": [
        "#### Tables and Spreadsheets\n",
        " * A spreadsheet or a table of values is a two dimensional matrix. Each sheet in a spreadsheet can be its own variable. The most popular abstraction in python for those is the [pandas dataframe](/gentle-visual-intro-to-data-analysis-python-pandas/), which actually uses NumPy and builds on top of it.\n",
        "\n",
        " <div class=\"img-div-any-width\" markdown=\"0\">\n",
        "   <img src=\"../../../images/numpy/np_pandas.png\"/>\n",
        "   <br />\n",
        " </div>"
      ]
    },
    {
      "cell_type": "markdown",
      "id": "64c6a426-075b-4252-b5ba-f0f0ca91b8ec",
      "metadata": {
        "tags": [],
        "id": "64c6a426-075b-4252-b5ba-f0f0ca91b8ec"
      },
      "source": [
        "#### Audio and Timeseries\n",
        " * An audio file is a one-dimensional array of samples. Each sample is a number representing a tiny chunk of the audio signal. CD-quality audio may have 44,100 samples per second and each sample is an integer between -32767 and 32768. Meaning if you have a ten-seconds WAVE file of CD-quality, you can load it in a NumPy array with length 10 * 44,100 = 441,000 samples. Want to extract the first second of audio? simply load the file into a NumPy array that we'll call `audio`, and get `audio[:44100]`.\n",
        "\n",
        " Here's a look at a slice of an audio file:\n",
        "\n",
        "  <div class=\"img-div-any-width\" markdown=\"0\">\n",
        "    <img src=\"../../../images/numpy/numpy-audio.png\"/>\n",
        "    <br />\n",
        "  </div>\n",
        "\n",
        "The same goes for time-series data (for example, the price of a stock over time).\n"
      ]
    },
    {
      "cell_type": "markdown",
      "id": "7a538e6c-12db-4b6b-a6ad-00e69705c6b3",
      "metadata": {
        "id": "7a538e6c-12db-4b6b-a6ad-00e69705c6b3"
      },
      "source": [
        "\n",
        "#### Images\n",
        " * An image is a matrix of pixels of size (height x width).\n",
        "\n",
        "   * If the image is black and white (a.k.a. grayscale), each pixel can be represented by a single number (commonly between 0 (black) and 255 (white)). Want to crop the top left 10 x 10 pixel part of the image? Just tell NumPy to get you `image[:10,:10]`.\n",
        "\n",
        "Here's a look at a slice of an image file:\n",
        "\n",
        "\n",
        " <div class=\"img-div-any-width\" markdown=\"0\">\n",
        "   <img src=\"../../../images/numpy/numpy-grayscale-image.png\"/>\n",
        "   <br />\n",
        " </div>\n",
        "\n",
        "\n",
        "   * If the image is colored, then each pixel is represented by three numbers - a value for each of red, green, and blue. In that case we need a 3rd dimension (because each cell can only contain one number). So a colored image is represented by an ndarray of dimensions: (height x width x 3).\n",
        "\n",
        "\n",
        "        <div class=\"img-div-any-width\" markdown=\"0\">\n",
        "          <img src=\"../../images/numpy/numpy-color-image.png\"/>\n",
        "          <br />\n",
        "        </div>\n"
      ]
    },
    {
      "cell_type": "markdown",
      "id": "a47210b6-3ab4-4b2a-8910-13554bf51c41",
      "metadata": {
        "id": "a47210b6-3ab4-4b2a-8910-13554bf51c41"
      },
      "source": [
        "\n",
        "#### Language\n",
        "If we're dealing with text, the story is a little different. The numeric representation of text requires a step of building a vocabulary (an inventory of all the unique words the model knows) and an [embedding step](/illustrated-word2vec/). Let us see the steps of numerically representing this (translated) quote by an ancient spirit:\n",
        "\n",
        "\"Have the bards who preceded me left any theme unsung?\"\n",
        "\n",
        "A model needs to look at a large amount of text before it can numerically represent the anxious words of this warrior poet. We can proceed to have it process a [small dataset](http://mattmahoney.net/dc/textdata.html) and use it to build a vocabulary (of 71,290 words):\n",
        "\n",
        "<div class=\"img-div-any-width\" markdown=\"0\">\n",
        "  <img src=\"../../../images/numpy/numpy-nlp-vocabulary.png\"/>\n",
        "  <br />\n",
        "</div>\n",
        "\n",
        "The sentence can then be broken into an array of tokens (words or parts of words based on common rules):\n",
        "\n",
        "<div class=\"img-div-any-width\" markdown=\"0\">\n",
        "  <img src=\"../../../images/numpy/numpy-nlp-tokenization.png\"/>\n",
        "  <br />\n",
        "</div>\n",
        "\n",
        "We then replace each word by its id in the vocabulary table:\n",
        "\n",
        "<div class=\"img-div-any-width\" markdown=\"0\">\n",
        "  <img src=\"../../../images/numpy/numpy-nlp-ids.png\"/>\n",
        "  <br />\n",
        "</div>\n",
        "\n",
        "These ids still don't provide much information value to a model. So before feeding a sequence of words to a model, the tokens/words need to be replaced with their embeddings (50 dimension [word2vec embedding](/illustrated-word2vec/) in this case):\n",
        "\n",
        "<div class=\"img-div-any-width\" markdown=\"0\">\n",
        "  <img src=\"../../../images/numpy/numpy-nlp-embeddings.png\"/>\n",
        "  <br />\n",
        "</div>\n",
        "\n",
        "\n",
        "\n",
        "You can see that this NumPy array has the dimensions [embedding_dimension x sequence_length]. In practice these would be the other way around, but I'm presenting it this way for visual consistency. For performance reasons, deep learning models tend to preserve the first dimension for batch size (because the model can be trained faster if multiple examples are trained in parallel). This is a clear case where ```reshape()``` becomes super useful. A model like [BERT](/illustrated-bert/), for example, would expect its inputs in the shape: [batch_size, sequence_length, embedding_size].\n",
        "\n",
        "\n",
        "<div class=\"img-div-any-width\" markdown=\"0\">\n",
        "  <img src=\"../../../images/numpy/numpy-nlp-bert-shape.png\"/>\n",
        "  <br />\n",
        "</div>\n",
        "\n",
        "This is now a numeric volume that a model can crunch and do useful things with. I left the other rows empty, but they'd be filled with other examples for the model to train on (or predict)."
      ]
    },
    {
      "cell_type": "markdown",
      "id": "c6331851-5232-42ba-926f-521fb8ee54b2",
      "metadata": {
        "id": "c6331851-5232-42ba-926f-521fb8ee54b2"
      },
      "source": [
        "This work is licensed under a Creative Commons Attribution-NonCommercial-ShareAlike 4.0 International License.\n",
        "\n",
        "Attribution example:\n",
        "Alammar, J (2018). A Visual Intro to NumPy and Data Representation [Blog post]. Retrieved from https://jalammar.github.io/visual-numpy/"
      ]
    }
  ],
  "metadata": {
    "kernelspec": {
      "display_name": "Python 3 (ipykernel)",
      "language": "python",
      "name": "python3"
    },
    "language_info": {
      "codemirror_mode": {
        "name": "ipython",
        "version": 3
      },
      "file_extension": ".py",
      "mimetype": "text/x-python",
      "name": "python",
      "nbconvert_exporter": "python",
      "pygments_lexer": "ipython3",
      "version": "3.9.13"
    },
    "colab": {
      "provenance": []
    }
  },
  "nbformat": 4,
  "nbformat_minor": 5
}