{
 "cells": [
  {
   "cell_type": "markdown",
   "metadata": {
    "id": "_L2xXhRgyHwC"
   },
   "source": [
    "# Web Scraping\n",
    "\n",
    "## Structure\n",
    "1. HTML pages\n",
    "2. Chrome DevTools\n",
    "3. BeautifulSoup: Web scraping package\n",
    "4. Ethical considerations of web scraping\n",
    "\n",
    "## What you will be able to do after the tutorial\n",
    "* Inspect an HTML page and identify which parts you want to scrape.\n",
    "* Scrape web pages with `requests` and `BeautifulSoup`.\n",
    "* Navigate Javascript elements with `Selenium`\n",
    "* Judge when web scraping is the most suitable approach and what you should consider before doing so (be a good citizen of the Internet).\n",
    "\n",
    "## HTML page structure\n",
    "\n",
    "**Hypertext Markup Language (HTML)** is the standard markup language for documents designed to be displayed in a web browser. HTML describes the structure of a web page and it can be used with **Cascading Style Sheets (CSS)** and a scripting language such as **JavaScript** to create interactive websites. HTML consists of a series of elements that \"tell\" to the browser how to display the content. Lastly, elements are represented by **tags**.\n",
    "\n",
    "Here are some tags:\n",
    "* `<!DOCTYPE html>` declaration defines this document to be HTML5.  \n",
    "* `<html>` element is the root element of an HTML page.  \n",
    "* `<div>` tag defines a division or a section in an HTML document. It's usually a container for other elements.\n",
    "* `<head>` element contains meta information about the document.  \n",
    "* `<title>` element specifies a title for the document.  \n",
    "* `<body>` element contains the visible page content.  \n",
    "* `<h1>` element defines a large heading.  \n",
    "* `<p>` element defines a paragraph.  \n",
    "* `<a>` element defines a hyperlink.\n",
    "\n",
    "HTML tags normally come in pairs like `<p>` and `</p>`. The first tag in a pair is the opening tag, the second tag is the closing tag. The end tag is written like the start tag, but with a slash inserted before the tag name.\n",
    "\n",
    "<img src=\"../../../images/scraping/tags.png\" width=\"512\">\n",
    "\n",
    "\n",
    "HTML has a tree-like 🌳 🌲 structure. Here's how a very simple HTML tree looks like.\n",
    "\n",
    "<img src=\"../../../images/scraping/dom_tree.gif\">\n",
    "\n",
    "### Creating a simple HTML page"
   ]
  },
  {
   "cell_type": "code",
   "execution_count": 2,
   "metadata": {
    "id": "n__7pXPTyHwF"
   },
   "outputs": [],
   "source": [
    "from IPython.display import display, HTML"
   ]
  },
  {
   "cell_type": "code",
   "execution_count": 3,
   "metadata": {
    "id": "slw13igwyHwF"
   },
   "outputs": [
    {
     "data": {
      "text/html": [
       "\n",
       "<!DOCTYPE html>\n",
       "<html lang=\"en\" dir=\"ltr\">\n",
       "<head>\n",
       "  <title>Intro to HTML</title>\n",
       "</head>\n",
       "\n",
       "<body>\n",
       "  <h1>Heading h1</h1>\n",
       "  <h2>Heading h2</h2>\n",
       "  <h3>Heading h3</h3>\n",
       "  <h4>Heading h4</h4>\n",
       "\n",
       "  <p>\n",
       "    That's a text paragraph. You can also <b>bold</b>, <mark>mark</mark>, <ins>underline</ins>, <del>strikethrough</del> and <i>emphasize</i> words.\n",
       "    You can also add links - here's one to <a href=\"https://www.linkedin.com/company/tuwaiqacademy/\">Tuwaiq Academy</a>.\n",
       "  </p>\n",
       "\n",
       "  <p>\n",
       "    This <br> is a paragraph <br> with <br> line breaks\n",
       "  </p>\n",
       "\n",
       "  <p style=\"color:red\">\n",
       "    Add colour to your paragraphs.\n",
       "  </p>\n",
       "\n",
       "  <p>Unordered list:</p>\n",
       "  <ul>\n",
       "    <li>Python</li>\n",
       "    <li>R</li>\n",
       "    <li>Julia</li>\n",
       "  </ul>\n",
       "\n",
       "  <p>Ordered list:</p>\n",
       "  <ol>\n",
       "    <li>Data collection</li>\n",
       "    <li>Exploratory data analysis</li>\n",
       "    <li>Data analysis</li>\n",
       "  </ol>\n",
       "  <hr>\n",
       "\n",
       "  <!-- This is a comment -->\n",
       "\n",
       "</body>\n",
       "</html>\n"
      ],
      "text/plain": [
       "<IPython.core.display.HTML object>"
      ]
     },
     "metadata": {},
     "output_type": "display_data"
    }
   ],
   "source": [
    "display(HTML(\"\"\"\n",
    "<!DOCTYPE html>\n",
    "<html lang=\"en\" dir=\"ltr\">\n",
    "<head>\n",
    "  <title>Intro to HTML</title>\n",
    "</head>\n",
    "\n",
    "<body>\n",
    "  <h1>Heading h1</h1>\n",
    "  <h2>Heading h2</h2>\n",
    "  <h3>Heading h3</h3>\n",
    "  <h4>Heading h4</h4>\n",
    "\n",
    "  <p>\n",
    "    That's a text paragraph. You can also <b>bold</b>, <mark>mark</mark>, <ins>underline</ins>, <del>strikethrough</del> and <i>emphasize</i> words.\n",
    "    You can also add links - here's one to <a href=\"https://www.linkedin.com/company/tuwaiqacademy/\">Tuwaiq Academy</a>.\n",
    "  </p>\n",
    "\n",
    "  <p>\n",
    "    This <br> is a paragraph <br> with <br> line breaks\n",
    "  </p>\n",
    "\n",
    "  <p style=\"color:red\">\n",
    "    Add colour to your paragraphs.\n",
    "  </p>\n",
    "\n",
    "  <p>Unordered list:</p>\n",
    "  <ul>\n",
    "    <li>Python</li>\n",
    "    <li>R</li>\n",
    "    <li>Julia</li>\n",
    "  </ul>\n",
    "\n",
    "  <p>Ordered list:</p>\n",
    "  <ol>\n",
    "    <li>Data collection</li>\n",
    "    <li>Exploratory data analysis</li>\n",
    "    <li>Data analysis</li>\n",
    "  </ol>\n",
    "  <hr>\n",
    "\n",
    "  <!-- This is a comment -->\n",
    "\n",
    "</body>\n",
    "</html>\n",
    "\"\"\"))"
   ]
  },
  {
   "cell_type": "markdown",
   "metadata": {
    "id": "_OM9aAdPyHwG"
   },
   "source": [
    "## Chrome DevTools\n",
    "\n",
    "[Chrome DevTools](https://developers.google.com/web/tools/chrome-devtools/) is a set of web developer tools built directly into the Google Chrome browser. DevTools can help you view and edit web pages. We will use Chrome's tool to inspect an HTML page and find which elements correspond to the data we might want to scrape.\n",
    "\n",
    "### Short exercise\n",
    "To get some experience with the HTML page structure and Chrome DevTools, we will search and locate elements in [IMDB](https://www.imdb.com/).\n",
    "\n",
    "**Tip**: Hit *Command+Option+C* (Mac) or *Control+Shift+C* (Windows, Linux) to access the elements panel.\n",
    "\n",
    "#### Tasks (we will do them together)\n",
    "* Find the _Sign in_ button\n",
    "* Find the IMDB logo.\n",
    "* What is the _heading_ size of the *Top 10 on IMDb this week* in the main section of the page?"
   ]
  },
  {
   "cell_type": "markdown",
   "metadata": {
    "id": "ZhHTI09jyHwG"
   },
   "source": [
    "## Web Scraping with `requests` and `BeautifulSoup`\n",
    "\n",
    "We will use `requests` and `BeautifulSoup` to access and scrape the content of [IMDB's homepage](https://www.imdb.com).\n",
    "\n",
    "### What is `BeautifulSoup`?\n",
    "\n",
    "It is a Python library for pulling data out of HTML and XML files. It provides methods to navigate the document's tree structure that we discussed before and scrape its content.\n",
    "\n",
    "### Our pipeline\n",
    "<img src='../../../images/scraping/boxofficemojo-pipeline.png' width=\"1024\">"
   ]
  },
  {
   "cell_type": "code",
   "execution_count": 4,
   "metadata": {
    "id": "sBUu7BxIyHwG"
   },
   "outputs": [
    {
     "ename": "ImportError",
     "evalue": "cannot import name 'cbook' from partially initialized module 'matplotlib' (most likely due to a circular import) (C:\\Users\\157338\\Anaconda3\\lib\\site-packages\\matplotlib\\__init__.py)",
     "output_type": "error",
     "traceback": [
      "\u001b[1;31m---------------------------------------------------------------------------\u001b[0m",
      "\u001b[1;31mImportError\u001b[0m                               Traceback (most recent call last)",
      "\u001b[1;32m~\\AppData\\Local\\Temp\\ipykernel_12436\\4262308148.py\u001b[0m in \u001b[0;36m<module>\u001b[1;34m\u001b[0m\n\u001b[0;32m      4\u001b[0m \u001b[1;32mimport\u001b[0m \u001b[0mpandas\u001b[0m \u001b[1;32mas\u001b[0m \u001b[0mpd\u001b[0m\u001b[1;33m\u001b[0m\u001b[1;33m\u001b[0m\u001b[0m\n\u001b[0;32m      5\u001b[0m \u001b[1;32mfrom\u001b[0m \u001b[0mbs4\u001b[0m \u001b[1;32mimport\u001b[0m \u001b[0mBeautifulSoup\u001b[0m\u001b[1;33m\u001b[0m\u001b[1;33m\u001b[0m\u001b[0m\n\u001b[1;32m----> 6\u001b[1;33m \u001b[1;32mimport\u001b[0m \u001b[0mmatplotlib\u001b[0m\u001b[1;33m.\u001b[0m\u001b[0mpyplot\u001b[0m \u001b[1;32mas\u001b[0m \u001b[0mplt\u001b[0m\u001b[1;33m\u001b[0m\u001b[1;33m\u001b[0m\u001b[0m\n\u001b[0m\u001b[0;32m      7\u001b[0m \u001b[1;33m\u001b[0m\u001b[0m\n\u001b[0;32m      8\u001b[0m \u001b[0mget_ipython\u001b[0m\u001b[1;33m(\u001b[0m\u001b[1;33m)\u001b[0m\u001b[1;33m.\u001b[0m\u001b[0mrun_line_magic\u001b[0m\u001b[1;33m(\u001b[0m\u001b[1;34m'matplotlib'\u001b[0m\u001b[1;33m,\u001b[0m \u001b[1;34m'inline'\u001b[0m\u001b[1;33m)\u001b[0m\u001b[1;33m\u001b[0m\u001b[1;33m\u001b[0m\u001b[0m\n",
      "\u001b[1;32m~\\Anaconda3\\lib\\site-packages\\matplotlib\\__init__.py\u001b[0m in \u001b[0;36m<module>\u001b[1;34m\u001b[0m\n\u001b[0;32m    107\u001b[0m \u001b[1;31m# cbook must import matplotlib only within function\u001b[0m\u001b[1;33m\u001b[0m\u001b[1;33m\u001b[0m\u001b[0m\n\u001b[0;32m    108\u001b[0m \u001b[1;31m# definitions, so it is safe to import from it here.\u001b[0m\u001b[1;33m\u001b[0m\u001b[1;33m\u001b[0m\u001b[0m\n\u001b[1;32m--> 109\u001b[1;33m \u001b[1;32mfrom\u001b[0m \u001b[1;33m.\u001b[0m \u001b[1;32mimport\u001b[0m \u001b[0m_api\u001b[0m\u001b[1;33m,\u001b[0m \u001b[0m_version\u001b[0m\u001b[1;33m,\u001b[0m \u001b[0mcbook\u001b[0m\u001b[1;33m,\u001b[0m \u001b[0mdocstring\u001b[0m\u001b[1;33m,\u001b[0m \u001b[0mrcsetup\u001b[0m\u001b[1;33m\u001b[0m\u001b[1;33m\u001b[0m\u001b[0m\n\u001b[0m\u001b[0;32m    110\u001b[0m \u001b[1;32mfrom\u001b[0m \u001b[0mmatplotlib\u001b[0m\u001b[1;33m.\u001b[0m\u001b[0mcbook\u001b[0m \u001b[1;32mimport\u001b[0m \u001b[0mMatplotlibDeprecationWarning\u001b[0m\u001b[1;33m,\u001b[0m \u001b[0msanitize_sequence\u001b[0m\u001b[1;33m\u001b[0m\u001b[1;33m\u001b[0m\u001b[0m\n\u001b[0;32m    111\u001b[0m \u001b[1;32mfrom\u001b[0m \u001b[0mmatplotlib\u001b[0m\u001b[1;33m.\u001b[0m\u001b[0mcbook\u001b[0m \u001b[1;32mimport\u001b[0m \u001b[0mmplDeprecation\u001b[0m  \u001b[1;31m# deprecated\u001b[0m\u001b[1;33m\u001b[0m\u001b[1;33m\u001b[0m\u001b[0m\n",
      "\u001b[1;32m~\\Anaconda3\\lib\\site-packages\\matplotlib\\rcsetup.py\u001b[0m in \u001b[0;36m<module>\u001b[1;34m\u001b[0m\n\u001b[0;32m     23\u001b[0m \u001b[1;32mimport\u001b[0m \u001b[0mnumpy\u001b[0m \u001b[1;32mas\u001b[0m \u001b[0mnp\u001b[0m\u001b[1;33m\u001b[0m\u001b[1;33m\u001b[0m\u001b[0m\n\u001b[0;32m     24\u001b[0m \u001b[1;33m\u001b[0m\u001b[0m\n\u001b[1;32m---> 25\u001b[1;33m \u001b[1;32mfrom\u001b[0m \u001b[0mmatplotlib\u001b[0m \u001b[1;32mimport\u001b[0m \u001b[0m_api\u001b[0m\u001b[1;33m,\u001b[0m \u001b[0mcbook\u001b[0m\u001b[1;33m\u001b[0m\u001b[1;33m\u001b[0m\u001b[0m\n\u001b[0m\u001b[0;32m     26\u001b[0m \u001b[1;32mfrom\u001b[0m \u001b[0mmatplotlib\u001b[0m\u001b[1;33m.\u001b[0m\u001b[0mcbook\u001b[0m \u001b[1;32mimport\u001b[0m \u001b[0mls_mapper\u001b[0m\u001b[1;33m\u001b[0m\u001b[1;33m\u001b[0m\u001b[0m\n\u001b[0;32m     27\u001b[0m \u001b[1;32mfrom\u001b[0m \u001b[0mmatplotlib\u001b[0m\u001b[1;33m.\u001b[0m\u001b[0mcolors\u001b[0m \u001b[1;32mimport\u001b[0m \u001b[0mColormap\u001b[0m\u001b[1;33m,\u001b[0m \u001b[0mis_color_like\u001b[0m\u001b[1;33m\u001b[0m\u001b[1;33m\u001b[0m\u001b[0m\n",
      "\u001b[1;31mImportError\u001b[0m: cannot import name 'cbook' from partially initialized module 'matplotlib' (most likely due to a circular import) (C:\\Users\\157338\\Anaconda3\\lib\\site-packages\\matplotlib\\__init__.py)"
     ]
    }
   ],
   "source": [
    "# Imports\n",
    "import requests\n",
    "import numpy as np\n",
    "import pandas as pd\n",
    "from bs4 import BeautifulSoup\n",
    "import matplotlib.pyplot as plt\n",
    "\n",
    "%matplotlib inline"
   ]
  },
  {
   "cell_type": "code",
   "execution_count": 5,
   "metadata": {},
   "outputs": [],
   "source": [
    "# othaim's oils\n",
    "othaim_url = 'https://www.othaimmarkets.com/grocery/oils-ghee.html'\n",
    "\n",
    "# Use requests to retrieve data from a given URL\n",
    "othaim_response = requests.get(othaim_url)"
   ]
  },
  {
   "cell_type": "code",
   "execution_count": 6,
   "metadata": {},
   "outputs": [
    {
     "data": {
      "text/plain": [
       "<Response [200]>"
      ]
     },
     "execution_count": 6,
     "metadata": {},
     "output_type": "execute_result"
    }
   ],
   "source": [
    "othaim_response"
   ]
  },
  {
   "cell_type": "markdown",
   "metadata": {},
   "source": [
    "<img src='../../../images/scraping/200.jpg' width=\"1024\">\n",
    "<br/>\n",
    "\n",
    "\n",
    "`<Response [200]>` is like getting a thumbs-up from the website you asked for information. It means your request went through smoothly, and you're getting the data you wanted. If you see numbers in the 400s, it's like the website saying, \"Sorry, we couldn't find what you're looking for.\" You can find more about these status codes and what they mean [here](https://http.cat/).\n",
    "\n",
    "Let's take a look at the returned data:"
   ]
  },
  {
   "cell_type": "code",
   "execution_count": 7,
   "metadata": {
    "jupyter": {
     "outputs_hidden": true
    },
    "tags": []
   },
   "outputs": [
    {
     "data": {
      "text/plain": [
       "'<!doctype html>\\n<html lang=\"ar\">\\n<head>\\n<meta http-equiv=\"Content-Type\" content=\"text/html; charset=utf-8\"/>\\n<title>زيوت وسمن - غذائية</title>\\n<meta http-equiv=\"X-UA-Compatible\" content=\"IE=edge\" />\\n<meta name=\"viewport\" content=\"width=device-width, initial-scale=1\">\\n\\n<meta name=\"description\" content=\"Abdullah AlOthaim Markets - أسواق عبدالله العثيم\"/>\\n<meta name=\"keywords\" content=\"Abdullah AlOthaim Markets , أسواق عبدالله العثيم\\r\\n\\r\\n\"/>\\n<!--<meta http-equiv=\"Content-Security-Policy\" content=\"default-src \\'self\\' https://www.googletagmanager.com/gtm.js https://www.othaimmarkets.com https://code.jquery.com https://www.google-analytics.com https://www.googleadservices.com https://sc-static.net/ https://fonts.googleapis.com  style-src  \\'self\\' \\'unsafe-inline\\' script-src \\'self\\' navigate-to \\'self\\' \\'unsafe-allow-redirects\\';\">-->\\n<meta name=\"robots\" content=\"INDEX,FOLLOW\"/>\\n<meta name=\"facebook-domain-verification\" content=\"ubgv6c3cdek00bw4hv9hxupk5j43qv\" />\\n<link rel=\"icon\" href=\"https://www.othaimmarkets.com/media/favicon/default/favicon.ico\" type=\"image/x-icon\"/>\\n<link rel=\"shortcut icon\" href=\"https://www.othaimmarkets.com/media/favicon/default/favicon.ico\" type=\"image/x-icon\"/>\\n\\n\\n<!--[if lt IE 7]>\\n<script type=\"text/javascript\">\\n    //<![CDATA[\\n    var BLANK_URL = \\'https://www.othaimmarkets.com/js/blank.html\\';\\n    var BLANK_IMG = \\'https://www.othaimmarkets.com/js/spacer.gif\\';\\n//]]>\\n</script>\\n<![endif]-->\\n\\n<link type=\"text/css\" href=\"https://www.othaimmarkets.com/skin/frontend/default/othaimshop/css/bootstrap.css\" rel=\"stylesheet\" />\\n<!--<link rel=\"stylesheet\" href=\"//maxcdn.bootstrapcdn.com/font-awesome/4.3.0/css/font-awesome.min.css\">-->\\n<link type=\"text/css\" rel=\"stylesheet\" href=\"https://www.othaimmarkets.com/skin/frontend/default/othaimshop/css/font-awesome.min.css\">\\n\\n\\n<link rel=\"stylesheet\" type=\"text/css\" href=\"https://www.othaimmarkets.com/skin/frontend/default/othaimshop/css/styles.css\" media=\"all\" />\\n<link rel=\"stylesheet\" type=\"text/css\" href=\"https://www.othaimmarkets.com/skin/frontend/base/default/css/widgets.css\" media=\"all\" />\\n<link rel=\"stylesheet\" type=\"text/css\" href=\"https://www.othaimmarkets.com/skin/frontend/default/default/aw_blog/css/style.css\" media=\"all\" />\\n<link rel=\"stylesheet\" type=\"text/css\" href=\"https://www.othaimmarkets.com/skin/frontend/default/default/css/clnews/style.css\" media=\"all\" />\\n<link rel=\"stylesheet\" type=\"text/css\" href=\"https://www.othaimmarkets.com/skin/frontend/default/default/css/commercelab/treeview/jquery.treeview.css\" media=\"all\" />\\n<link rel=\"stylesheet\" type=\"text/css\" href=\"https://www.othaimmarkets.com/skin/frontend/default/othaimshop/css/layerslider.css\" media=\"all\" />\\n<link rel=\"stylesheet\" type=\"text/css\" href=\"https://www.othaimmarkets.com/skin/frontend/base/default/css/catalogcategorysearch.css\" media=\"all\" />\\n<link rel=\"stylesheet\" type=\"text/css\" href=\"https://www.othaimmarkets.com/skin/frontend/default/default/othaim/othaim.css\" media=\"all\" />\\n<link rel=\"stylesheet\" type=\"text/css\" href=\"https://www.othaimmarkets.com/skin/frontend/default/othaimshop/css/reset.css\" media=\"all\" />\\n<link rel=\"stylesheet\" type=\"text/css\" href=\"https://www.othaimmarkets.com/skin/frontend/default/othaimshop/css/andepict.css\" media=\"all\" />\\n<link rel=\"stylesheet\" type=\"text/css\" href=\"https://www.othaimmarkets.com/skin/frontend/default/othaimshop/css/product-slider.css\" media=\"all\" />\\n<link rel=\"stylesheet\" type=\"text/css\" href=\"https://www.othaimmarkets.com/skin/frontend/default/othaimshop/css/fb_style.css\" media=\"all\" />\\n<link rel=\"stylesheet\" type=\"text/css\" href=\"https://www.othaimmarkets.com/skin/frontend/default/othaimshop/css/flexslider.css\" media=\"all\" />\\n<link rel=\"stylesheet\" type=\"text/css\" href=\"https://www.othaimmarkets.com/skin/frontend/default/othaimshop/css/jquery.selectbox.css\" media=\"all\" />\\n<link rel=\"stylesheet\" type=\"text/css\" href=\"https://www.othaimmarkets.com/skin/frontend/default/othaimshop/css/my_adds.css\" media=\"all\" />\\n<link rel=\"stylesheet\" type=\"text/css\" href=\"https://www.othaimmarkets.com/skin/frontend/default/default/css/select2/select2.css\" media=\"all\" />\\n<link rel=\"stylesheet\" type=\"text/css\" href=\"https://www.othaimmarkets.com/skin/frontend/default/othaimshop/css/revolution.css\" media=\"all\" />\\n<link rel=\"stylesheet\" type=\"text/css\" href=\"https://www.othaimmarkets.com/skin/frontend/default/default/aw_blog/css/animate.min.css\" media=\"all\" />\\n<link rel=\"stylesheet\" type=\"text/css\" href=\"https://www.othaimmarkets.com/skin/frontend/default/default/gallery/css/gallery.css\" media=\"all\" />\\n<link rel=\"stylesheet\" type=\"text/css\" href=\"https://www.othaimmarkets.com/skin/frontend/default/othaimshop/css/nouislider.css\" media=\"all\" />\\n<script type=\"text/javascript\" src=\"https://www.othaimmarkets.com/js/my_igallery/jquery.js\"></script>\\n<script type=\"text/javascript\" src=\"https://www.othaimmarkets.com/js/prototype/prototype.js\"></script>\\n<script type=\"text/javascript\" src=\"https://www.othaimmarkets.com/js/lib/ccard.js\"></script>\\n<script type=\"text/javascript\" src=\"https://www.othaimmarkets.com/js/prototype/validation.js\"></script>\\n<script type=\"text/javascript\" src=\"https://www.othaimmarkets.com/js/varien/js.js\"></script>\\n<script type=\"text/javascript\" src=\"https://www.othaimmarkets.com/js/varien/form.js\"></script>\\n<script type=\"text/javascript\" src=\"https://www.othaimmarkets.com/js/varien/menu.js\"></script>\\n<script type=\"text/javascript\" src=\"https://www.othaimmarkets.com/js/scriptaculous/scriptaculous.js\"></script>\\n<script type=\"text/javascript\" src=\"https://www.othaimmarkets.com/js/mage/translate.js\"></script>\\n<script type=\"text/javascript\" src=\"https://www.othaimmarkets.com/js/mage/cookies.js\"></script>\\n<script type=\"text/javascript\" src=\"https://www.othaimmarkets.com/js/commercelab/noconflict.js\"></script>\\n<script type=\"text/javascript\" src=\"https://www.othaimmarkets.com/js/commercelab/treeview/jquery.treeview.pack.js\"></script>\\n<script type=\"text/javascript\" src=\"https://www.othaimmarkets.com/js/commercelab/category_tree.js\"></script>\\n<script type=\"text/javascript\" src=\"https://www.othaimmarkets.com/js/etheme/buyshop/jquery-1.7.2.min.js\"></script>\\n<script type=\"text/javascript\" src=\"https://www.othaimmarkets.com/js/etheme/buyshop/jquery-1.7.2.noconflict.js\"></script>\\n<script type=\"text/javascript\" src=\"https://www.othaimmarkets.com/js/etheme/othaimshop/jquery1.9.1.js\"></script>\\n<script type=\"text/javascript\" src=\"https://www.othaimmarkets.com/js/etheme/othaimshop/bootstrap.min.js\"></script>\\n<script type=\"text/javascript\" src=\"https://www.othaimmarkets.com/js/etheme/othaimshop/jquery.easing.js\"></script>\\n<script type=\"text/javascript\" src=\"https://www.othaimmarkets.com/js/etheme/othaimshop/jquery.selectbox-0.2.min.js\"></script>\\n<script type=\"text/javascript\" src=\"https://www.othaimmarkets.com/js/etheme/othaimshop/jquery.mousewheel.pack.js\"></script>\\n<script type=\"text/javascript\" src=\"https://www.othaimmarkets.com/js/etheme/othaimshop/jquery.elastislide.js\"></script>\\n<script type=\"text/javascript\" src=\"https://www.othaimmarkets.com/js/etheme/othaimshop/jquery.flexslider.min.js\"></script>\\n<script type=\"text/javascript\" src=\"https://www.othaimmarkets.com/js/etheme/othaimshop/retina-replace.js\"></script>\\n<script type=\"text/javascript\" src=\"https://www.othaimmarkets.com/js/etheme/othaimshop/jquery.plugin.min.js\"></script>\\n<script type=\"text/javascript\" src=\"https://www.othaimmarkets.com/js/etheme/othaimshop/custom.js\"></script>\\n<script type=\"text/javascript\" src=\"https://www.othaimmarkets.com/js/select2/select2.min.js\"></script>\\n<script type=\"text/javascript\" src=\"https://www.othaimmarkets.com/js/jcarousal.js\"></script>\\n<script type=\"text/javascript\" src=\"https://www.othaimmarkets.com/js/VS/ajaxtoolbar.js\"></script>\\n<script type=\"text/javascript\" src=\"https://www.othaimmarkets.com/js/etheme/othaimshop/jquery.nouislider.min.js\"></script>\\n<script type=\"text/javascript\" src=\"https://www.othaimmarkets.com/js/etheme/othaimshop/AC_RunActiveContent.js\"></script>\\n<link href=\"http://www.othaimmarkets.com/blog/rss/index/store_id/4/\" title=\"الوصفات الغذائية\" rel=\"alternate\" type=\"application/rss+xml\" />\\n<!--[if lt IE 8]>\\n<link rel=\"stylesheet\" type=\"text/css\" href=\"https://www.othaimmarkets.com/skin/frontend/default/default/css/styles-ie.css\" media=\"all\" />\\n<![endif]-->\\n<!--[if lt IE 9]>\\n<link rel=\"stylesheet\" type=\"text/css\" href=\"https://www.othaimmarkets.com/skin/frontend/default/othaimshop/css/styleie9.css\" media=\"all\" />\\n<script type=\"text/javascript\" src=\"https://www.othaimmarkets.com/js/etheme/othaimshop/html5.js\"></script>\\n<script type=\"text/javascript\" src=\"https://www.othaimmarkets.com/js/etheme/othaimshop/css3-mediaqueries.js\"></script>\\n<![endif]-->\\n<!--[if gt IE 9]>\\n<link rel=\"stylesheet\" type=\"text/css\" href=\"https://www.othaimmarkets.com/skin/frontend/base/default/css/styleie10.css\" media=\"all\" />\\n<![endif]-->\\n<!--[if lte IE 8]>\\n<link rel=\"stylesheet\" type=\"text/css\" href=\"https://www.othaimmarkets.com/skin/frontend/default/othaimshop/css/styleie8.css\" media=\"all\" />\\n<![endif]-->\\n\\n<script type=\"text/javascript\">\\n//<![CDATA[\\nMage.Cookies.path     = \\'/\\';\\nMage.Cookies.domain   = \\'.www.othaimmarkets.com\\';\\n//]]>\\n</script>\\n\\n<script type=\"text/javascript\">\\n//<![CDATA[\\noptionalZipCountries = [\"HK\",\"IE\",\"MO\",\"PA\"];\\n//]]>\\n</script>\\n<!-- BEGIN GOOGLE ANALYTICS CODEs -->\\n<script type=\"text/javascript\">\\n//<![CDATA[\\n    var _gaq = _gaq || [];\\n    \\n_gaq.push([\\'_setAccount\\', \\'UA-32910226-1\\']);\\n\\n_gaq.push([\\'_trackPageview\\']);\\n    \\n    (function() {\\n        var ga = document.createElement(\\'script\\'); ga.type = \\'text/javascript\\'; ga.async = true;\\n        ga.src = (\\'https:\\' == document.location.protocol ? \\'https://ssl\\' : \\'http://www\\') + \\'.google-analytics.com/ga.js\\';\\n        var s = document.getElementsByTagName(\\'script\\')[0]; s.parentNode.insertBefore(ga, s);\\n    })();\\n\\n//]]>\\n</script>\\n<!-- END GOOGLE ANALYTICS CODE -->\\n<script type=\"text/javascript\">\\n\\ttoolbarBaseurl\\t=\\t\\'https://www.othaimmarkets.com/skin/\\';\\n</script>\\n<script type=\"text/javascript\">//<![CDATA[\\n        var Translator = new Translate({\"Please select an option.\":\"\\\\u0641\\\\u0636\\\\u0644\\\\u0627 \\\\u0627\\\\u062e\\\\u062a\\\\u0631 \\\\u062e\\\\u064a\\\\u0627\\\\u0631 .\",\"This is a required field.\":\"\\\\u0647\\\\u0630\\\\u0627 \\\\u0627\\\\u0644\\\\u062d\\\\u0642\\\\u0644 \\\\u0645\\\\u0637\\\\u0644\\\\u0648\\\\u0628.\",\"Please enter a valid number in this field.\":\"\\\\u0645\\\\u0646 \\\\u0641\\\\u0636\\\\u0644\\\\u0643 \\\\u0642\\\\u0645 \\\\u0628\\\\u0625\\\\u062f\\\\u062e\\\\u0627\\\\u0644 \\\\u0631\\\\u0642\\\\u0645 \\\\u0635\\\\u062d\\\\u064a\\\\u062d \\\\u0641\\\\u064a \\\\u0647\\\\u0630\\\\u0627 \\\\u0627\\\\u0644\\\\u062d\\\\u0642\\\\u0644.\",\"Please use letters only (a-z or A-Z) in this field.\":\"\\\\u0627\\\\u0644\\\\u0631\\\\u062c\\\\u0627\\\\u0621 \\\\u0627\\\\u0633\\\\u062a\\\\u062e\\\\u062f\\\\u0627\\\\u0645 \\\\u062d\\\\u0631\\\\u0648\\\\u0641 \\\\u0645\\\\u0646 (\\\\u0627\\\\u0644\\\\u0623\\\\u0644\\\\u0641 \\\\u0627\\\\u0644\\\\u0649 \\\\u0627\\\\u0644\\\\u064a\\\\u0627\\\\u0621) \\\\u0641\\\\u064a \\\\u0647\\\\u0630\\\\u0627 \\\\u0627\\\\u0644\\\\u062d\\\\u0642\\\\u0644\",\"Please use only letters (a-z), numbers (0-9) or underscore(_) in this field, first character should be a letter.\":\"\\\\u0627\\\\u0644\\\\u0631\\\\u062c\\\\u0627\\\\u0621 \\\\u0627\\\\u0633\\\\u062a\\\\u062e\\\\u062f\\\\u0627\\\\u0645 \\\\u0627\\\\u0644\\\\u062d\\\\u0631\\\\u0648\\\\u0641 (\\\\u0645\\\\u0646 \\\\u0627\\\\u0644\\\\u0627\\\\u0644\\\\u0641 \\\\u0627\\\\u0644\\\\u0649 \\\\u0627\\\\u0644\\\\u064a\\\\u0627\\\\u0621 \\\\u0627\\\\u0644\\\\u0627\\\\u0642\\\\u0627\\\\u0645\\\\u0629) \\\\u060c \\\\u0627\\\\u0631\\\\u0642\\\\u0627\\\\u0645 (0-9) \\\\u064a\\\\u0624\\\\u0643\\\\u062f \\\\u0627\\\\u0648 (_) \\\\u0641\\\\u064a \\\\u0647\\\\u0630\\\\u0627 \\\\u0627\\\\u0644\\\\u0645\\\\u062c\\\\u0627\\\\u0644 \\\\u060c \\\\u064a\\\\u0646\\\\u0628\\\\u063a\\\\u064a \\\\u0627\\\\u0646 \\\\u064a\\\\u0643\\\\u0648\\\\u0646 \\\\u0627\\\\u0644\\\\u062d\\\\u0631\\\\u0641 \\\\u0627\\\\u0644\\\\u0627\\\\u0648\\\\u0644 \\\\u0631\\\\u0633\\\\u0627\\\\u0644\\\\u0629.\",\"Please enter a valid phone number. For example (123) 456-7890 or 123-456-7890.\":\"\\\\u0645\\\\u0646 \\\\u0641\\\\u0636\\\\u0644\\\\u0643 \\\\u0642\\\\u0645 \\\\u0628\\\\u0625\\\\u062f\\\\u062e\\\\u0627\\\\u0644 \\\\u0631\\\\u0642\\\\u0645 \\\\u0647\\\\u0627\\\\u062a\\\\u0641 \\\\u0635\\\\u062d\\\\u064a\\\\u062d. \\\\u0643\\\\u0645\\\\u062b\\\\u0627\\\\u0644 (123) 456-7890 \\\\u0623\\\\u0648 123-456-7890.\",\"Please enter a valid date.\":\"\\\\u0645\\\\u0646 \\\\u0641\\\\u0636\\\\u0644\\\\u0643 \\\\u0642\\\\u0645 \\\\u0628\\\\u0625\\\\u062f\\\\u062e\\\\u0627\\\\u0644 \\\\u062a\\\\u0627\\\\u0631\\\\u064a\\\\u062e \\\\u0635\\\\u062d\\\\u064a\\\\u062d.\",\"Please enter a valid email address. For example johndoe@domain.com.\":\"\\\\u0645\\\\u0646 \\\\u0641\\\\u0636\\\\u0644\\\\u0643 \\\\u0642\\\\u0645 \\\\u0628\\\\u0625\\\\u062f\\\\u062e\\\\u0627\\\\u0644 \\\\u0628\\\\u0631\\\\u064a\\\\u062f \\\\u0625\\\\u0644\\\\u0643\\\\u062a\\\\u0631\\\\u0648\\\\u0646\\\\u064a \\\\u0635\\\\u062d\\\\u064a\\\\u062d. \\\\u0643\\\\u0645\\\\u062b\\\\u0627\\\\u0644 johndoe@domain.com.\",\"Please enter 6 or more characters. Leading or trailing spaces will be ignored.\":\"\\\\u0645\\\\u0646 \\\\u0641\\\\u0636\\\\u0644\\\\u0643 \\\\u0642\\\\u0645 \\\\u0628\\\\u0625\\\\u062f\\\\u062e\\\\u0627\\\\u0644 6 \\\\u0623\\\\u062d\\\\u0631\\\\u0641 \\\\u0623\\\\u0648 \\\\u0623\\\\u0643\\\\u062b\\\\u0631. \\\\u0633\\\\u064a\\\\u062a\\\\u0645 \\\\u062a\\\\u062c\\\\u0627\\\\u0647\\\\u0644 \\\\u0627\\\\u0644\\\\u0645\\\\u0633\\\\u0627\\\\u0641\\\\u0627\\\\u062a \\\\u0642\\\\u0628\\\\u0644 \\\\u0623\\\\u0648 \\\\u0628\\\\u0639\\\\u062f \\\\u0627\\\\u0644\\\\u0623\\\\u062d\\\\u0631\\\\u0641.\",\"Please make sure your passwords match.\":\"\\\\u0645\\\\u0646 \\\\u0641\\\\u0636\\\\u0644\\\\u0643 \\\\u062a\\\\u0623\\\\u0643\\\\u062f \\\\u0645\\\\u0646 \\\\u062a\\\\u0637\\\\u0627\\\\u0628\\\\u0642 \\\\u0643\\\\u0644\\\\u0645\\\\u0629 \\\\u0627\\\\u0644\\\\u0645\\\\u0631\\\\u0648\\\\u0631.\",\"Please enter a valid URL. For example http:\\\\/\\\\/www.example.com or www.example.com\":\"\\\\u0627\\\\u0644\\\\u0631\\\\u062c\\\\u0627\\\\u0621 \\\\u0627\\\\u062f\\\\u062e\\\\u0627\\\\u0644 \\\\u0639\\\\u0646\\\\u0648\\\\u0627\\\\u0646. \\\\u0641\\\\u0639\\\\u0644\\\\u0649 \\\\u0633\\\\u0628\\\\u064a\\\\u0644 \\\\u0627\\\\u0644\\\\u0645\\\\u062b\\\\u0627\\\\u0644 http:\\\\/\\\\/www.example.com \\\\u0627\\\\u0648 www.example.com\",\"Please enter a valid social security number. For example 123-45-6789.\":\"\\\\u0627\\\\u0644\\\\u0631\\\\u062c\\\\u0627\\\\u0621 \\\\u0627\\\\u062f\\\\u062e\\\\u0627\\\\u0644 \\\\u0631\\\\u0642\\\\u0645 \\\\u0627\\\\u0644\\\\u0636\\\\u0645\\\\u0627\\\\u0646 \\\\u0627\\\\u0644\\\\u0627\\\\u062c\\\\u062a\\\\u0645\\\\u0627\\\\u0639\\\\u064a. \\\\u0641\\\\u0639\\\\u0644\\\\u0649 \\\\u0633\\\\u0628\\\\u064a\\\\u0644 \\\\u0627\\\\u0644\\\\u0645\\\\u062b\\\\u0627\\\\u0644 123-45-6789.\",\"Please enter a valid zip code. For example 90602 or 90602-1234.\":\"\\\\u0627\\\\u0644\\\\u0631\\\\u062c\\\\u0627\\\\u0621 \\\\u0625\\\\u062f\\\\u062e\\\\u0627\\\\u0644 \\\\u0627\\\\u0644\\\\u0631\\\\u0645\\\\u0632 \\\\u0627\\\\u0644\\\\u0628\\\\u0631\\\\u064a\\\\u062f\\\\u064a. \\\\u0641\\\\u0639\\\\u0644\\\\u0649 \\\\u0633\\\\u0628\\\\u064a\\\\u0644 \\\\u0627\\\\u0644\\\\u0645\\\\u062b\\\\u0627\\\\u0644 90602 \\\\u0627\\\\u0648 90602-1234.\",\"Please enter a valid zip code.\":\"\\\\u0627\\\\u0644\\\\u0631\\\\u062c\\\\u0627\\\\u0621 \\\\u0625\\\\u062f\\\\u062e\\\\u0627\\\\u0644 \\\\u0627\\\\u0644\\\\u0631\\\\u0645\\\\u0632 \\\\u0627\\\\u0644\\\\u0628\\\\u0631\\\\u064a\\\\u062f\\\\u064a.\",\"Please use this date format: dd\\\\/mm\\\\/yyyy. For example 17\\\\/03\\\\/2006 for the 17th of March, 2006.\":\"\\\\u0627\\\\u0644\\\\u0631\\\\u062c\\\\u0627\\\\u0621 \\\\u0627\\\\u0633\\\\u062a\\\\u062e\\\\u062f\\\\u0627\\\\u0645 \\\\u0647\\\\u0630\\\\u0627 \\\\u0627\\\\u0644\\\\u0634\\\\u0643\\\\u0644 \\\\u062d\\\\u062a\\\\u0649 \\\\u0627\\\\u0644\\\\u0622\\\\u0646 : \\\\u0627\\\\u0644\\\\u064a\\\\u0648\\\\u0645 \\\\/ \\\\u0627\\\\u0644\\\\u0634\\\\u0647\\\\u0631 \\\\/ \\\\u0627\\\\u0644\\\\u0633\\\\u0646\\\\u0629. \\\\u0641\\\\u0639\\\\u0644\\\\u0649 \\\\u0633\\\\u0628\\\\u064a\\\\u0644 \\\\u0627\\\\u0644\\\\u0645\\\\u062b\\\\u0627\\\\u0644 17\\\\/03\\\\/2006 \\\\u0644\\\\u0644\\\\u0627\\\\u0644\\\\u0633\\\\u0627\\\\u0628\\\\u0639 \\\\u0639\\\\u0634\\\\u0631 \\\\u0645\\\\u0646 \\\\u0627\\\\u0630\\\\u0627\\\\u0631 \\\\/ \\\\u0645\\\\u0627\\\\u0631\\\\u0633 \\\\u060c 2006.\",\"Please enter a valid $ amount. For example $100.00.\":\"\\\\u0627\\\\u0644\\\\u0631\\\\u062c\\\\u0627\\\\u0621 \\\\u0627\\\\u062f\\\\u062e\\\\u0627\\\\u0644 \\\\u062f\\\\u0648\\\\u0644\\\\u0627\\\\u0631 \\\\u0645\\\\u0646 \\\\u0627\\\\u0644\\\\u0645\\\\u0628\\\\u0644\\\\u063a. \\\\u0641\\\\u0639\\\\u0644\\\\u0649 \\\\u0633\\\\u0628\\\\u064a\\\\u0644 \\\\u0627\\\\u0644\\\\u0645\\\\u062b\\\\u0627\\\\u0644 100\\\\u060c00 \\\\u062f\\\\u0648\\\\u0644\\\\u0627\\\\u0631..\",\"Please select one of the above options.\":\"\\\\u0641\\\\u0636\\\\u0644\\\\u0627 \\\\u0627\\\\u062e\\\\u062a\\\\u0627\\\\u0631 \\\\u0645\\\\u0646 \\\\u0627\\\\u0644\\\\u062e\\\\u064a\\\\u0627\\\\u0631\\\\u0627\\\\u062a \\\\u0627\\\\u0644\\\\u0645\\\\u0648\\\\u062c\\\\u0648\\\\u062f\\\\u0647 \\\\u0641\\\\u064a \\\\u0627\\\\u0644\\\\u0627\\\\u0639\\\\u0644\\\\u0649.\",\"Please select one of the options.\":\"\\\\u0641\\\\u0636\\\\u0644\\\\u0627 \\\\u0627\\\\u062e\\\\u062a\\\\u0627\\\\u0631 \\\\u0648\\\\u0627\\\\u062d\\\\u062f \\\\u0645\\\\u0646 \\\\u0627\\\\u0644\\\\u062e\\\\u064a\\\\u0627\\\\u0631\\\\u0627\\\\u062a.\",\"Please select State\\\\/Province.\":\"\\\\u0645\\\\u0646 \\\\u0641\\\\u0636\\\\u0644\\\\u0643 \\\\u0627\\\\u062e\\\\u062a\\\\u0631 \\\\u0648\\\\u0644\\\\u0627\\\\u064a\\\\u0629\\\\/\\\\u0645\\\\u0642\\\\u0627\\\\u0637\\\\u0639\\\\u0629.\",\"Please enter a number greater than 0 in this field.\":\"\\\\u0645\\\\u0646 \\\\u0641\\\\u0636\\\\u0644\\\\u0643 \\\\u0642\\\\u0645 \\\\u0628\\\\u0625\\\\u062f\\\\u062e\\\\u0627\\\\u0644 \\\\u0631\\\\u0642\\\\u0645 \\\\u0623\\\\u0643\\\\u0628\\\\u0631 \\\\u0645\\\\u0646 0 \\\\u0641\\\\u064a \\\\u0647\\\\u0630\\\\u0627 \\\\u0627\\\\u0644\\\\u062d\\\\u0642\\\\u0644.\",\"Please enter a valid credit card number.\":\"\\\\u0645\\\\u0646 \\\\u0641\\\\u0636\\\\u0644\\\\u0643 \\\\u0642\\\\u0645 \\\\u0628\\\\u0625\\\\u062f\\\\u062e\\\\u0627\\\\u0644 \\\\u0631\\\\u0642\\\\u0645 \\\\u0628\\\\u0637\\\\u0627\\\\u0642\\\\u0629 \\\\u0625\\\\u0626\\\\u062a\\\\u0645\\\\u0627\\\\u0646 \\\\u0635\\\\u062d\\\\u064a\\\\u062d.\",\"Please wait, loading...\":\"\\\\u0645\\\\u0646 \\\\u0641\\\\u0636\\\\u0644\\\\u0643 \\\\u0627\\\\u0646\\\\u062a\\\\u0638\\\\u0631\\\\u060c \\\\u062c\\\\u0627\\\\u0631 \\\\u0627\\\\u0644\\\\u062a\\\\u062d\\\\u0645\\\\u064a\\\\u0644...\",\"Complete\":\"\\\\u062a\\\\u0643\\\\u0645\\\\u0644\\\\u0629\",\"Please choose to register or to checkout as a guest\":\"\\\\u0645\\\\u0646 \\\\u0641\\\\u0636\\\\u0644\\\\u0643 \\\\u0627\\\\u062e\\\\u062a\\\\u0631 \\\\u0627\\\\u0644\\\\u062a\\\\u0633\\\\u062c\\\\u064a\\\\u0644 \\\\u0627\\\\u0648 \\\\u062a\\\\u0633\\\\u062c\\\\u064a\\\\u0644 \\\\u0627\\\\u0644\\\\u062e\\\\u0631\\\\u0648\\\\u062c \\\\u0643\\\\u0636\\\\u064a\\\\u0641\",\"Please specify payment method.\":\"\\\\u0627\\\\u0644\\\\u0631\\\\u062c\\\\u0627\\\\u0621 \\\\u062a\\\\u062d\\\\u062f\\\\u064a\\\\u062f \\\\u0637\\\\u0631\\\\u064a\\\\u0642\\\\u0629 \\\\u0627\\\\u0644\\\\u062f\\\\u0641\\\\u0639\"});\\n        //]]></script>\\n<link type=\"text/css\" href=\"https://www.othaimmarkets.com/skin/frontend/default/othaimshop/css/style.css\" rel=\"stylesheet\" />\\n\\n<!--<link type=\"text/css\" href=\"\" rel=\"stylesheet\" />-->\\n\\n\\n<link type=\"text/css\" href=\"https://www.othaimmarkets.com/skin/frontend/default/othaimshop/css/colors.css\" rel=\"stylesheet\" />\\n\\n<!--RTL support for arabic-->\\n    <link type=\"text/css\" href=\"https://www.othaimmarkets.com/skin/frontend/default/othaimshop/css/rtl.css\" rel=\"stylesheet\" />\\n\\n\\n<script>(function() {\\n  var _fbq = window._fbq || (window._fbq = []);\\n  if (!_fbq.loaded) {\\n    var fbds = document.createElement(\\'script\\');\\n    fbds.async = true;\\n    fbds.src = \\'//connect.facebook.net/en_US/fbds.js\\';\\n    var s = document.getElementsByTagName(\\'script\\')[0];\\n    s.parentNode.insertBefore(fbds, s);\\n    _fbq.loaded = true;\\n  }\\n  _fbq.push([\\'addPixelId\\', \\'1721299214761355\\']);\\n})();\\nwindow._fbq = window._fbq || [];\\nwindow._fbq.push([\\'track\\', \\'PixelInitialized\\', {}]);\\n</script>\\n\\n<noscript><img height=\"1\" width=\"1\" alt=\"\" style=\"display:none\" src=\"https://www.facebook.com/tr?id=1721299214761355&amp;ev=PixelInitialized\" /></noscript>\\n\\n<!-- Google Tag Manager -->\\n<script>(function(w,d,s,l,i){w[l]=w[l]||[];w[l].push({\\'gtm.start\\':\\nnew Date().getTime(),event:\\'gtm.js\\'});var f=d.getElementsByTagName(s)[0],\\nj=d.createElement(s),dl=l!=\\'dataLayer\\'?\\'&l=\\'+l:\\'\\';j.async=true;j.src=\\n\\'https://www.googletagmanager.com/gtm.js?id=\\'+i+dl;f.parentNode.insertBefore(j,f);\\n})(window,document,\\'script\\',\\'dataLayer\\',\\'GTM-WJ8GXL9\\');</script>\\n<!-- End Google Tag Manager -->\\n\\n\\n\\n</head>\\n<body class=\" catalog-category-view categorypath-grocery-oils-ghee-html category-oils-ghee\">\\n<div id=\"wrap\">\\n        <noscript>\\n        <div class=\"global-site-notice noscript\">\\n            <div class=\"notice-inner\">\\n                <p>\\n                    <strong>JavaScript seems to be disabled in your browser.</strong><br />\\n                    You must have JavaScript enabled in your browser to utilize the functionality of this website.                </p>\\n            </div>\\n        </div>\\n    </noscript>\\n    \\n        <div class=\"sticky-container\">\\n\\n            <ul class=\"sticky\">\\n\\n\\n                <li class=\"fb\">\\n\\n                    <a href=\"https://www.facebook.com/Othaim.Market\" target=\"_blank\">\\n                        <div class=\"stickyr\">\\n                            <i class=\"fa fa-facebook fa-2x\"></i>\\n                        </div>\\n                    </a>\\n                </li>\\n\\n                <li class=\"tw\">\\n                    <a href=\"https://twitter.com/OthaimMarkets\" target=\"_blank\">\\n                        <div class=\"stickyr\">\\n                            <i class=\"fa fa-twitter fa-2x\"></i>\\n                        </div>\\n                    </a>\\n                </li>\\n\\n\\n                <li class=\\'yt\\'>\\n                    <a href=\"http://www.youtube.com/user/othaimmarkets\" target=\"_blank\">\\n                        <div class=\"stickyr\">\\n                            <i class=\"fa fa-youtube fa-2x\"></i>\\n                        </div>\\n                    </a>\\n                </li>\\n\\n\\n                <li class=\"in\">\\n                    <a href=\"http://instagram.com/othaimmarkets\" target=\"_blank\">\\n                        <div class=\"stickyr\">\\n                            <i class=\"fa fa-instagram fa-2x\"></i>\\n                        </div>\\n                    </a>\\n                </li>\\n                <li class=\"wa\">\\n                    <a href=\"https://api.whatsapp.com/send?phone=966920000702\" target=\"_blank\">\\n                        <div class=\"stickyr\">\\n                            <i class=\"fa fa-whatsapp fa-2x\"></i>\\n                        </div>\\n                    </a>\\n                </li>\\n            </ul>\\n\\n        </div>\\n\\n<!--    </div>-->\\n        <!--TOPLINE v2-->\\n    <div id=\"topline\">\\n        <div class=\"container\">\\n             \\n            <div class=\"wrapper_w\">\\n           \\n\\n                <div class=\"pull-right\">\\n \\t\\t\\t\\t<div class=\"top_links\"><style type=\"text/css\">\\r\\n    #primary_nav_wrap ul {\\r\\n        list-style: none;\\r\\n        position: relative;\\r\\n        float: right;\\r\\n        margin: 0;\\r\\n        padding: 0\\r\\n    }\\r\\n\\r\\n    #primary_nav_wrap ul a {\\r\\n        display: block;\\r\\n        color: #333;\\r\\n        text-decoration: none;\\r\\n        line-height: 32px;\\r\\n        padding: 0px 15px;\\r\\n\\r\\n    }\\r\\n\\r\\n\\r\\n\\r\\n    #primary_nav_wrap ul li {\\r\\n        position: relative;\\r\\n        float: right;\\r\\n        margin: 0;\\r\\n        padding: 0\\r\\n    }\\r\\n\\r\\n    #primary_nav_wrap ul li.current-menu-item {\\r\\n        background: #ddd\\r\\n    }\\r\\n\\r\\n\\r\\n\\r\\n    #primary_nav_wrap ul ul {\\r\\n        display: none;\\r\\n        position: absolute;\\r\\n        top: 100%;\\r\\n        left: 0;\\r\\n        background: #fff;\\r\\n        padding: 0;\\r\\n        z-index: 11111;\\r\\n        border-top: 1px solid #59b210;\\r\\n        border-left: 1px solid #e5e5e5;\\r\\n        border-right: 1px solid #e5e5e5;\\r\\n        border-bottom: 1px solid #e5e5e5;\\r\\n        box-shadow: 0 6px 12px rgba(0, 0, 0, 0.176);\\r\\n        width: 150px;\\r\\n        right: 0px;\\r\\n        margin-top: -1px;\\r\\n\\r\\n    }\\r\\n\\r\\n    #primary_nav_wrap ul ul li {\\r\\n        float: none;\\r\\n        width: 200px\\r\\n    }\\r\\n\\r\\n    #primary_nav_wrap ul ul a {\\r\\n        line-height: 120%;\\r\\n        padding: 10px 15px;\\r\\n\\r\\n\\r\\n    }\\r\\n\\r\\n    #primary_nav_wrap ul ul a:hover {\\r\\n        color: #FF0000 !important;\\r\\n        background-color: #f5f5f5 !important;\\r\\n\\r\\n\\r\\n    }\\r\\n\\r\\n    #primary_nav_wrap ul li a:hover {\\r\\n        color: #59b210 !important;\\r\\n    }\\r\\n\\r\\n\\r\\n\\r\\n\\r\\n    #primary_nav_wrap ul ul ul {\\r\\n        top: 0;\\r\\n        left: 100%\\r\\n    }\\r\\n\\r\\n    #primary_nav_wrap ul li:hover>ul {\\r\\n        display: block\\r\\n    }\\r\\n\\r\\n    #primary_nav_wrap ul ul:hover {\\r\\n        display: block;\\r\\n    }\\r\\n\\r\\n    .drop_down {\\r\\n        float: right;\\r\\n        width: 108px;\\r\\n    }\\r\\n\\r\\n    .top_dd_menu {\\r\\n        float: left;\\r\\n        padding-top: 10px;\\r\\n        padding-right: 7px;\\r\\n        width: 30px;\\r\\n        line-height: 16px;\\r\\n    }\\r\\n</style>\\r\\n<nav id=\"primary_nav_wrap\">\\r\\n    <ul>\\r\\n        <li><a href=\"http://www.othaimmarkets.com/\" style=\"padding-right:2px;\">الرئيسية </a></li>\\r\\n        <li class=\"list_top_links\"><img src=\"https://www.othaimmarkets.com/skin/frontend/default/othaimshop/images/separator.png\"></li>\\r\\n\\r\\n        <li><a href=\"http://www.othaimmarkets.com/about-us\"> عن الشركة </a></li>\\r\\n        <li class=\"list_top_links\"><img src=\"https://www.othaimmarkets.com/skin/frontend/default/othaimshop/images/separator.png\"></li>\\r\\n\\r\\n\\r\\n        <li><a href=\"https://iktissab.othaimmarkets.com/\" target=\"_blank\">اكتساب</a></li>\\r\\n        <li class=\"list_top_links\"><img src=\"https://www.othaimmarkets.com/skin/frontend/default/othaimshop/images/separator.png\"></li>\\r\\n\\r\\n        <li><a href=http://www.othaimmarkets.com/toward-clients> مسؤوليتنا</a></li>\\r\\n        <li class=\"list_top_links\"><img src=\"https://www.othaimmarkets.com/skin/frontend/default/othaimshop/images/separator.png\"></li>\\r\\n\\r\\n\\r\\n        <li><a href=\"http://www.othaimmarkets.com/store-locator\">الفروع</a></li>\\r\\n        <li class=\"list_top_links\"><img src=\"https://www.othaimmarkets.com/skin/frontend/default/othaimshop/images/separator.png\"></li>\\r\\n\\r\\n        <li><a href=\"http://www.othaimmarkets.com/whole-sale\"> تجارة الجملة </a></li>\\r\\n        <li class=\"list_top_links\"><img src=\"https://www.othaimmarkets.com/skin/frontend/default/othaimshop/images/separator.png\"></li>\\r\\n\\r\\n\\r\\n        <li><a href=\"http://www.othaimmarkets.com/media-center\"> المركز الإعلامي</a></li>\\r\\n        <li class=\"list_top_links\"><img src=\"https://www.othaimmarkets.com/skin/frontend/default/othaimshop/images/separator.png\"></li>\\r\\n\\r\\n        <li><a href=\"http://www.othaimmarkets.com/investors-ir\"> علاقات المستثمرين</a></li>\\r\\n        <li class=\"list_top_links\"><img src=\"https://www.othaimmarkets.com/skin/frontend/default/othaimshop/images/separator.png\"></li>\\r\\n\\r\\n  <li><a href=\"http://www.othaimmarkets.com/othaimoffers/index/page\"> العروض </a></li>\\r\\n<li class=\"list_top_links\"><img src=\"https://www.othaimmarkets.com/skin/frontend/default/othaimshop/images/separator.png\"></li>\\r\\n\\r\\n        <li class=\"drop_down\"><a href=http://www.othaimmarkets.com/jobs> التوظيف<span class=\"top_dd_menu\"><i\\r\\n                        class=\"fa fa-angle-down\"></i></a>\\r\\n            </span>\\r\\n            <ul>\\r\\n                <li><a href=\"http://www.othaimmarkets.com/jobs\">عن التوظيف</a></li>\\r\\n                <li><a href=\"http://www.othaimmarkets.com/othaim-recruitment\">طلب توظيف</a> </li>\\r\\n                <li><a href=\"http://www.othaimmarkets.com/othaim-recruitment/index/applyviasms\">التوظيف باستخدام رسائل\\r\\n                        الجوال</a> </li>\\r\\n                <li><a href=\"http://www.othaimmarkets.com/othaim-recruitment/index/femalevacancies\">الوظائف النسائية</a> </li>\\r\\n\\r\\n            </ul>\\r\\n        </li>\\r\\n\\r\\n      \\r\\n\\r\\n    </ul>\\r\\n</nav>            \\t\\n            </div>\\n                    <div class=\"alignright\">\\n\\n\\n\\n                        \\n<div class=\"language_contactus\" >\\n        <div class=\"country_drop_down \">\\n            <nav id=\"primary_nav_wrap_lang\" class=\"f-dropdown\">\\n                <ul>\\n                    <li><a href=\"\"><img id=\"change_country\"\\n                                        src=\"https://www.othaimmarkets.com/skin/frontend/base/default/images/saudi_arabia_64.png\"/>\\n                            <span class=\"lang_dd\"><i class=\"fa fa-angle-down\"></i></span>\\n                        </a>\\n                        <ul>\\n\\n                            <!--<li class=\"language_list\" onclick=\"change_image(\\'1\\')\"><a href=\"http://www.othaimmarkets.com/store-locator/index/countryswitcher?id=sa\"><span class=\"country_image\"><img src=\"https://www.othaimmarkets.com/skin/frontend/base/default/images/saudi_arabia_64.png\" /></span> <span class=\"country_text\">Saudi Arabia</span></a></li>-->\\n                            <li class=\"language_list\"><a\\n                                    href=\"http://www.othaimmarkets.com/splash?id=eg&ln=ar\"><img\\n                                        src=\"https://www.othaimmarkets.com/skin/frontend/base/default/images/egypt_64.png\"/></span> <span\\n                                        class=\"country_text\"> مصر </span> </a></li>\\n\\n\\n                        </ul>\\n                    </li>\\n\\n                </ul>\\n\\n                <div>\\n\\n                </div>\\n            </nav>\\n        </div>\\n        <!-- end of lanugae drop down -->\\n        <div class=\"separator\"> <img src=\"https://www.othaimmarkets.com/skin/frontend/default/othaimshop/images/separator.png\" ></div>\\n<div class=\"link_label\"><a  href=\"http://www.othaimmarkets.com/contacts\">اتصل بنا</a></div><div class=\"separator\"> <img src=\"https://www.othaimmarkets.com/skin/frontend/default/othaimshop/images/separator.png\" ></div>\\n\\n<div class=\"fadelink\" >\\n    <div class=\"ul_wrapper_top\" style=\"display:block;\" >\\n        <ul>\\n                        <li class=\"language_selector_ar\">\\n                <a href=\"https://www.othaimmarkets.com/grocery/oils-ghee.html?___store=ar&amp;___from_store=ar\" data=\"https://www.othaimmarkets.com/grocery/oils-ghee.html?___store=ar&amp;___from_store=ar\">عربي</a> </li>\\n                        <li class=\"language_selector_en\">\\n                <a href=\"https://www.othaimmarkets.com/grocery/oils-ghee.html?___store=en&amp;___from_store=ar\" data=\"https://www.othaimmarkets.com/grocery/oils-ghee.html?___store=en&amp;___from_store=ar\">English</a> </li>\\n                    </ul>\\n    </div>\\n    <div style=\"clear:both;\"></div>\\n</div>\\n<div style=\"clear:both;\"></div>\\n</div>\\n\\n\\n                        \\n                    </div>\\n                </div>\\n            </div>\\n          \\n        </div>\\n    </div>\\n    <!--TOPLINE v2 EOF-->\\n    \\n\\n    \\n\\n\\n<input type=\"hidden\" name=\"lat\" id=\"lat\" value=\"\" />\\n<input type=\"hidden\" name=\"lon\" id=\"lon\" value=\"\" />\\n\\n\\n<div id=\"preloader\">\\n    <div class=\"loader\" style=\"display: none\"><img width=\"32\" height=\"32\" alt=\"\" src=\"https://www.othaimmarkets.com/skin/frontend/default/othaimshop/images/template/ajax-loader.gif\" /></div>\\n    <div class=\"message\"  style=\"display: none\">\\n        <div class=\"inside\"></div>\\n    </div>\\n</div>\\n<!--HEADER-->\\n    <div class=\"header_wrapper\">\\n                <div id=\"header\"  >\\n\\n\\n            <div class=\"container\">\\n                <div class=\"wrapper_w\">\\n                    <div id=\"logo\" class=\"col-sm-3\" > <a href=\"http://www.othaimmarkets.com/\"><img src=\"https://www.othaimmarkets.com/skin/frontend/default/othaimshop/images/logo.png\"></a> </div>\\n                    <!--<div class=\"\">\\n                                            </div>-->\\n                    <div class=\"col-sm-6\">\\n                        <div class=\"othaimshop-search\">\\n\\n\\n\\n\\n<form id=\"search_mini_form \" action=\"https://www.othaimmarkets.com/catalogsearch/result/\" method=\"get\">\\n    <div class=\"form-search top-search-form\">\\n\\t\\t\\n\\t<div class=\"oth-catalog\">\\n    \\t<div class=\"oth-catalog-title\">\\n       \\t\\t<div class=\"catalog-email\"> wecare<span class=\"email-green\">@othaimmarkets.com</span></div>\\n            <div class=\"env-catalog\"><i class=\"fa fa-envelope\"></i></div>\\n        \\t<div style=\"clear:both;\"></div>\\n    \\t</div>\\n    \\t<div class=\"oth-catalog-form\">\\n            <input placeholder=\"ابحث عن اسم الصنف\" id=\"search\" class=\"search-box\" type=\"text\" name=\"q\"  class=\"input-text\" />\\n    \\n         \\n            <button type=\"submit\" onclick=\"return true;\" class=\"down-arrow-btn\">\\n                <i class=\"fa fa-search\">&nbsp;</i>\\n            </button>\\n     \\t</div>\\n        <div style=\"clear:both;\"></div>\\n</div>\\n<div class=\"oth-search\">\\n            <div class=\"oth-search-title\">\\n            \\t\\n           \\t\\t<div class=\"search-phone\">(+966) 92 0000 702</div>\\n                <div class=\"search-icone\"><i class=\"fa fa-phone\"></i></div>\\n                <div style=\"clear:both;\"></div>\\n            </div>\\n            <div class=\"oth-search-form\">\\n                                        <select class=\"category_selection_all\" id=\"cat\" name=\"cat\">\\n                        <option value=\"\"><i class=\"fa fa-search\">&nbsp;</i> جميع الفئات</option>\\n                                                    <option class=\"parent-cate\" value=\"142\">غذائية</option>\\n                                                                                                <option value=\"143\">&nbsp;  > مشروبات ساخنة</option>\\n                                                                    <option value=\"151\">&nbsp;  > تصنيع الحلويات والمخبوزات</option>\\n                                                                    <option value=\"155\">&nbsp;  > معلبات</option>\\n                                                                    <option value=\"157\">&nbsp;  > حليب</option>\\n                                                                    <option value=\"160\">&nbsp;  > أجبان وقشطة وزبدة</option>\\n                                                                    <option value=\"165\">&nbsp;  > منتجات الحمية</option>\\n                                                                    <option value=\"169\">&nbsp;  > صلصات ومعجون الطماطم</option>\\n                                                                    <option value=\"172\">&nbsp;  > زيوت وسمن</option>\\n                                                                    <option value=\"180\">&nbsp;  > معكرونة وشوربة</option>\\n                                                                    <option value=\"185\">&nbsp;  > الأرز والسكر </option>\\n                                                                    <option value=\"195\">&nbsp;  > مأكولات آسيوية</option>\\n                                                                    <option value=\"202\">&nbsp;  > حبوب إفطار</option>\\n                                                                    <option value=\"206\">&nbsp;  > أغذية إفطار</option>\\n                                                                                                                <option class=\"parent-cate\" value=\"104\">الطازج</option>\\n                                                                                                <option value=\"105\">&nbsp;  > الخبز والحلويات</option>\\n                                                                    <option value=\"110\">&nbsp;  > دواجن وبيض </option>\\n                                                                    <option value=\"116\">&nbsp;  > منتجات ألبان</option>\\n                                                                    <option value=\"120\">&nbsp;  > فواكه وخضروات</option>\\n                                                                    <option value=\"126\">&nbsp;  > لحوم</option>\\n                                                                    <option value=\"134\">&nbsp;  > أجبان ولانشون وزيتون</option>\\n                                                                                                                <option class=\"parent-cate\" value=\"230\">المجمدات</option>\\n                                                                                                <option value=\"231\">&nbsp;  > آيس كريم وحلويات</option>\\n                                                                    <option value=\"236\">&nbsp;  > خضروات وفواكه</option>\\n                                                                    <option value=\"240\">&nbsp;  > معجنات للتحضير </option>\\n                                                                    <option value=\"244\">&nbsp;  > مأكولات مسبقة التحضير</option>\\n                                                                    <option value=\"250\">&nbsp;  > لحوم ودواجن</option>\\n                                                                    <option value=\"255\">&nbsp;  > أسماك وأطعمة بحرية</option>\\n                                                                                                                <option class=\"parent-cate\" value=\"258\">مشروبات وحلويات</option>\\n                                                                                                <option value=\"262\">&nbsp;  > حلويات وتسالي</option>\\n                                                                    <option value=\"266\">&nbsp;  > مشروبات وعصائر</option>\\n                                                                                                                <option class=\"parent-cate\" value=\"274\">الصحة والجمال</option>\\n                                                                                                <option value=\"275\">&nbsp;  > مستلزمات حلاقة </option>\\n                                                                    <option value=\"279\">&nbsp;  > عناية المرأة</option>\\n                                                                    <option value=\"284\">&nbsp;  > عناية الجسم والوجه</option>\\n                                                                    <option value=\"289\">&nbsp;  > صابون الأيدي والجسم </option>\\n                                                                    <option value=\"295\">&nbsp;  > مزيلات عرق</option>\\n                                                                    <option value=\"298\">&nbsp;  > عناية الأسنان</option>\\n                                                                    <option value=\"303\">&nbsp;  > عناية  الشعر </option>\\n                                                                                                                <option class=\"parent-cate\" value=\"312\">احتياجات الطفل</option>\\n                                                                                                <option value=\"313\">&nbsp;  > عناية الطفل</option>\\n                                                                    <option value=\"396\">&nbsp;  > أغذية الطفل</option>\\n                                                                                                                <option class=\"parent-cate\" value=\"319\">عناية المنزل </option>\\n                                                                                                <option value=\"320\">&nbsp;  > أواني منزلية </option>\\n                                                                    <option value=\"325\">&nbsp;  > غسيل الملابس </option>\\n                                                                    <option value=\"329\">&nbsp;  > عناية الملابس</option>\\n                                                                    <option value=\"332\">&nbsp;  > غسيل وتنظيف الصحون</option>\\n                                                                    <option value=\"336\">&nbsp;  > مطهرات وملمعات ومعطرات</option>\\n                                                                    <option value=\"341\">&nbsp;  > قصدير وحفظ وتغليف الماكؤلات</option>\\n                                                                    <option value=\"345\">&nbsp;  > منتجات بلاستيكية</option>\\n                                                                    <option value=\"349\">&nbsp;  > منتجات ورقية </option>\\n                                                                    <option value=\"352\">&nbsp;  > طعام حيوانات </option>\\n                                                                    <option value=\"355\">&nbsp;  > أدوات منزلية</option>\\n                                                                                                                <option class=\"parent-cate\" value=\"358\">الإلكترونيات والأجهزة</option>\\n                                                                                                <option value=\"382\">&nbsp;  > شاشات واجهزة صوتية</option>\\n                                                                    <option value=\"386\">&nbsp;  > جوالات وأجهزة لوحية </option>\\n                                                                    <option value=\"380\">&nbsp;  > أجهزة منزلية</option>\\n                                                                                                        </select>\\n                    \\n                    \\n            </div>\\n            <div style=\"clear:both;\"></div>\\n\\t</div>\\n        <div id=\"search_autocomplete\" class=\"search-autocomplete\" style=\"display: none\"></div>\\n        <div style=\"clear:both;\"></div>\\n    </div>\\n</form>\\n</div><!--\\n<script type=\"text/javascript\">\\n//<![CDATA[\\n    Event.observe(window, \\'load\\', function(){\\n        $$(\\'select#cat option\\').each(function(o) {\\n            if (o.value == \\'172\\') {\\n                o.selected = true;\\n                throw $break;\\n            }\\n        });\\n        escapedQueryText = \\'\\';\\n        if (escapedQueryText !== \\'\\') {\\n            $(\\'search\\').value = escapedQueryText;\\n        }\\n    });\\n    var searchForm = new Varien.searchForm(\\'search_mini_form\\', \\'search\\', \\'بحث في كامل المتجر\\');\\n    searchForm.initAutocomplete(\\'https://www.othaimmarkets.com/catalogsearch/ajax/suggest/\\', \\'search_autocomplete\\');\\n//]]>\\n\\n</script>\\n-->                    </div>\\n\\n                    <div class=\"col-sm-3\">\\r\\n<div class=\"header-image-site\">\\r\\n    <p class=\"site-name\">\\r\\nأسواق العثيم \\r\\n     <span class=\"save\">منكم وفيكم</span></p>\\r\\n    <div style=\"clear:both;\"></div>\\r\\n</div>\\r\\n<div style=\"clear:both;\"></div>\\r\\n</div>                    <div class=\"clr\"></div>\\n                </div>\\n                <div class=\"clr\"></div>\\n            </div>\\n\\n                            \\r\\n\\r\\n\\r\\n\\r\\n    <div class=\"menu_bg\">\\r\\n        <nav>\\r\\n\\r\\n        <ul class=\"nav nav-list hidden-desktop\">\\r\\n            <li class=\"nav-header\"><a href=\"#level1\" title=\"\" data-toggle=\"collapse\"><i class=\"icon-th\"></i>&nbsp;&nbsp;\\r\\n                القا ئمة <i class=\"icon-down pull-right\"></i> </a>\\r\\n                <ul class=\"collapse in\" id=\"level1\">\\r\\n                    <li class=\"level0 nav-1 active first parent\">\\n<a href=\"http://www.othaimmarkets.com/grocery.html\">\\n<span>غذائية</span>\\n</a>\\n<a class=\"icon-collapse\" href=\"#level2\" title=\"\" data-toggle=\"collapse\" ><i class=\"icon-down pull-right\"></i></a>\\n<ul class=\"collapse in level0\" id=\"level2\">\\n<li class=\"level1 nav-1-1 first\">\\n<a href=\"http://www.othaimmarkets.com/grocery/hot-drinks.html\">\\n<span>مشروبات ساخنة</span>\\n</a>\\n</li><li class=\"level1 nav-1-2\">\\n<a href=\"http://www.othaimmarkets.com/grocery/home-baking.html\">\\n<span>تصنيع الحلويات والمخبوزات</span>\\n</a>\\n</li><li class=\"level1 nav-1-3\">\\n<a href=\"http://www.othaimmarkets.com/grocery/canned-foods.html\">\\n<span>معلبات</span>\\n</a>\\n</li><li class=\"level1 nav-1-4\">\\n<a href=\"http://www.othaimmarkets.com/grocery/milk.html\">\\n<span>حليب</span>\\n</a>\\n</li><li class=\"level1 nav-1-5\">\\n<a href=\"http://www.othaimmarkets.com/grocery/uht-cream.html\">\\n<span>أجبان وقشطة وزبدة</span>\\n</a>\\n</li><li class=\"level1 nav-1-6\">\\n<a href=\"http://www.othaimmarkets.com/grocery/dietary-products.html\">\\n<span>منتجات الحمية</span>\\n</a>\\n</li><li class=\"level1 nav-1-7\">\\n<a href=\"http://www.othaimmarkets.com/grocery/sauces-tomato-paste.html\">\\n<span>صلصات ومعجون الطماطم</span>\\n</a>\\n</li><li class=\"level1 nav-1-8 active\">\\n<a href=\"http://www.othaimmarkets.com/grocery/oils-ghee.html\">\\n<span>زيوت وسمن</span>\\n</a>\\n</li><li class=\"level1 nav-1-9\">\\n<a href=\"http://www.othaimmarkets.com/grocery/pasta-noodles-soup.html\">\\n<span>معكرونة وشوربة</span>\\n</a>\\n</li><li class=\"level1 nav-1-10\">\\n<a href=\"http://www.othaimmarkets.com/grocery/rice-sugar.html\">\\n<span>الأرز والسكر </span>\\n</a>\\n</li><li class=\"level1 nav-1-11\">\\n<a href=\"http://www.othaimmarkets.com/grocery/oriental-food.html\">\\n<span>مأكولات آسيوية</span>\\n</a>\\n</li><li class=\"level1 nav-1-12\">\\n<a href=\"http://www.othaimmarkets.com/grocery/cereal-food.html\">\\n<span>حبوب إفطار</span>\\n</a>\\n</li><li class=\"level1 nav-1-13 last\">\\n<a href=\"http://www.othaimmarkets.com/grocery/breakfast-food.html\">\\n<span>أغذية إفطار</span>\\n</a>\\n</li>\\n</ul>\\n</li><li class=\"level0 nav-2 parent\">\\n<a href=\"http://www.othaimmarkets.com/fresh-and-bakery.html\">\\n<span>الطازج</span>\\n</a>\\n<a class=\"icon-collapse\" href=\"#level3\" title=\"\" data-toggle=\"collapse\" ><i class=\"icon-down pull-right\"></i></a>\\n<ul class=\"collapse in level0\" id=\"level3\">\\n<li class=\"level1 nav-2-1 first\">\\n<a href=\"http://www.othaimmarkets.com/fresh-and-bakery/bakery.html\">\\n<span>الخبز والحلويات</span>\\n</a>\\n</li><li class=\"level1 nav-2-2\">\\n<a href=\"http://www.othaimmarkets.com/fresh-and-bakery/fresh-chicken-eggs.html\">\\n<span>دواجن وبيض </span>\\n</a>\\n</li><li class=\"level1 nav-2-3\">\\n<a href=\"http://www.othaimmarkets.com/fresh-and-bakery/dairy-products.html\">\\n<span>منتجات ألبان</span>\\n</a>\\n</li><li class=\"level1 nav-2-4\">\\n<a href=\"http://www.othaimmarkets.com/fresh-and-bakery/fruit-vegetables.html\">\\n<span>فواكه وخضروات</span>\\n</a>\\n</li><li class=\"level1 nav-2-5\">\\n<a href=\"http://www.othaimmarkets.com/fresh-and-bakery/fresh-meat.html\">\\n<span>لحوم</span>\\n</a>\\n</li><li class=\"level1 nav-2-6 last\">\\n<a href=\"http://www.othaimmarkets.com/fresh-and-bakery/delicatessens.html\">\\n<span>أجبان ولانشون وزيتون</span>\\n</a>\\n</li>\\n</ul>\\n</li><li class=\"level0 nav-3 parent\">\\n<a href=\"http://www.othaimmarkets.com/frozen.html\">\\n<span>المجمدات</span>\\n</a>\\n<a class=\"icon-collapse\" href=\"#level4\" title=\"\" data-toggle=\"collapse\" ><i class=\"icon-down pull-right\"></i></a>\\n<ul class=\"collapse in level0\" id=\"level4\">\\n<li class=\"level1 nav-3-1 first\">\\n<a href=\"http://www.othaimmarkets.com/frozen/ice-cream-cakes22.html\">\\n<span>آيس كريم وحلويات</span>\\n</a>\\n</li><li class=\"level1 nav-3-2\">\\n<a href=\"http://www.othaimmarkets.com/frozen/fruit-vegetables.html\">\\n<span>خضروات وفواكه</span>\\n</a>\\n</li><li class=\"level1 nav-3-3\">\\n<a href=\"http://www.othaimmarkets.com/frozen/pastries.html\">\\n<span>معجنات للتحضير </span>\\n</a>\\n</li><li class=\"level1 nav-3-4\">\\n<a href=\"http://www.othaimmarkets.com/frozen/ready-to-eat.html\">\\n<span>مأكولات مسبقة التحضير</span>\\n</a>\\n</li><li class=\"level1 nav-3-5\">\\n<a href=\"http://www.othaimmarkets.com/frozen/chicken-meat.html\">\\n<span>لحوم ودواجن</span>\\n</a>\\n</li><li class=\"level1 nav-3-6 last\">\\n<a href=\"http://www.othaimmarkets.com/frozen/fish-seafood.html\">\\n<span>أسماك وأطعمة بحرية</span>\\n</a>\\n</li>\\n</ul>\\n</li><li class=\"level0 nav-4 parent\">\\n<a href=\"http://www.othaimmarkets.com/beverage-confectionery.html\">\\n<span>مشروبات وحلويات</span>\\n</a>\\n<a class=\"icon-collapse\" href=\"#level5\" title=\"\" data-toggle=\"collapse\" ><i class=\"icon-down pull-right\"></i></a>\\n<ul class=\"collapse in level0\" id=\"level5\">\\n<li class=\"level1 nav-4-1 first\">\\n<a href=\"http://www.othaimmarkets.com/beverage-confectionery/confectionery-snacks.html\">\\n<span>حلويات وتسالي</span>\\n</a>\\n</li><li class=\"level1 nav-4-2 last\">\\n<a href=\"http://www.othaimmarkets.com/beverage-confectionery/drinks-juice.html\">\\n<span>مشروبات وعصائر</span>\\n</a>\\n</li>\\n</ul>\\n</li><li class=\"level0 nav-5 parent\">\\n<a href=\"http://www.othaimmarkets.com/health-beauty.html\">\\n<span>الصحة والجمال</span>\\n</a>\\n<a class=\"icon-collapse\" href=\"#level6\" title=\"\" data-toggle=\"collapse\" ><i class=\"icon-down pull-right\"></i></a>\\n<ul class=\"collapse in level0\" id=\"level6\">\\n<li class=\"level1 nav-5-1 first\">\\n<a href=\"http://www.othaimmarkets.com/health-beauty/shaving-needs.html\">\\n<span>مستلزمات حلاقة </span>\\n</a>\\n</li><li class=\"level1 nav-5-2\">\\n<a href=\"http://www.othaimmarkets.com/health-beauty/woman-care.html\">\\n<span>عناية المرأة</span>\\n</a>\\n</li><li class=\"level1 nav-5-3\">\\n<a href=\"http://www.othaimmarkets.com/health-beauty/body-face-care.html\">\\n<span>عناية الجسم والوجه</span>\\n</a>\\n</li><li class=\"level1 nav-5-4\">\\n<a href=\"http://www.othaimmarkets.com/health-beauty/hand-soap-shower-gel.html\">\\n<span>صابون الأيدي والجسم </span>\\n</a>\\n</li><li class=\"level1 nav-5-5\">\\n<a href=\"http://www.othaimmarkets.com/health-beauty/deodorant.html\">\\n<span>مزيلات عرق</span>\\n</a>\\n</li><li class=\"level1 nav-5-6\">\\n<a href=\"http://www.othaimmarkets.com/health-beauty/dental-care.html\">\\n<span>عناية الأسنان</span>\\n</a>\\n</li><li class=\"level1 nav-5-7 last\">\\n<a href=\"http://www.othaimmarkets.com/health-beauty/hair-care.html\">\\n<span>عناية  الشعر </span>\\n</a>\\n</li>\\n</ul>\\n</li><li class=\"level0 nav-6 parent\">\\n<a href=\"http://www.othaimmarkets.com/baby-needs-5.html\">\\n<span>احتياجات الطفل</span>\\n</a>\\n<a class=\"icon-collapse\" href=\"#level7\" title=\"\" data-toggle=\"collapse\" ><i class=\"icon-down pull-right\"></i></a>\\n<ul class=\"collapse in level0\" id=\"level7\">\\n<li class=\"level1 nav-6-1 first\">\\n<a href=\"http://www.othaimmarkets.com/baby-needs-5/baby-food.html\">\\n<span>عناية الطفل</span>\\n</a>\\n</li><li class=\"level1 nav-6-2 last\">\\n<a href=\"http://www.othaimmarkets.com/baby-needs-5/baby-food-1.html\">\\n<span>أغذية الطفل</span>\\n</a>\\n</li>\\n</ul>\\n</li><li class=\"level0 nav-7 parent\">\\n<a href=\"http://www.othaimmarkets.com/home-care.html\">\\n<span>عناية المنزل </span>\\n</a>\\n<a class=\"icon-collapse\" href=\"#level8\" title=\"\" data-toggle=\"collapse\" ><i class=\"icon-down pull-right\"></i></a>\\n<ul class=\"collapse in level0\" id=\"level8\">\\n<li class=\"level1 nav-7-1 first\">\\n<a href=\"http://www.othaimmarkets.com/home-care/kitchen-needs.html\">\\n<span>أواني منزلية </span>\\n</a>\\n</li><li class=\"level1 nav-7-2\">\\n<a href=\"http://www.othaimmarkets.com/home-care/household.html\">\\n<span>غسيل الملابس </span>\\n</a>\\n</li><li class=\"level1 nav-7-3\">\\n<a href=\"http://www.othaimmarkets.com/home-care/clothes-care.html\">\\n<span>عناية الملابس</span>\\n</a>\\n</li><li class=\"level1 nav-7-4\">\\n<a href=\"http://www.othaimmarkets.com/home-care/dishwashing.html\">\\n<span>غسيل وتنظيف الصحون</span>\\n</a>\\n</li><li class=\"level1 nav-7-5\">\\n<a href=\"http://www.othaimmarkets.com/home-care/disinfectant-cleaner-freshener.html\">\\n<span>مطهرات وملمعات ومعطرات</span>\\n</a>\\n</li><li class=\"level1 nav-7-6\">\\n<a href=\"http://www.othaimmarkets.com/home-care/foils-cling-films.html\">\\n<span>قصدير وحفظ وتغليف الماكؤلات</span>\\n</a>\\n</li><li class=\"level1 nav-7-7\">\\n<a href=\"http://www.othaimmarkets.com/home-care/plastic-products.html\">\\n<span>منتجات بلاستيكية</span>\\n</a>\\n</li><li class=\"level1 nav-7-8\">\\n<a href=\"http://www.othaimmarkets.com/home-care/paper-products.html\">\\n<span>منتجات ورقية </span>\\n</a>\\n</li><li class=\"level1 nav-7-9\">\\n<a href=\"http://www.othaimmarkets.com/home-care/pet-food.html\">\\n<span>طعام حيوانات </span>\\n</a>\\n</li><li class=\"level1 nav-7-10 last\">\\n<a href=\"http://www.othaimmarkets.com/home-care/household-5.html\">\\n<span>أدوات منزلية</span>\\n</a>\\n</li>\\n</ul>\\n</li><li class=\"level0 nav-8 last parent\">\\n<a href=\"http://www.othaimmarkets.com/electronics-appliances.html\">\\n<span>الإلكترونيات والأجهزة</span>\\n</a>\\n<a class=\"icon-collapse\" href=\"#level10\" title=\"\" data-toggle=\"collapse\" ><i class=\"icon-down pull-right\"></i></a>\\n<ul class=\"collapse in level0\" id=\"level10\">\\n<li class=\"level1 nav-8-1 first\">\\n<a href=\"http://www.othaimmarkets.com/electronics-appliances/audio-video.html\">\\n<span>شاشات واجهزة صوتية</span>\\n</a>\\n</li><li class=\"level1 nav-8-2\">\\n<a href=\"http://www.othaimmarkets.com/electronics-appliances/mobiles-tablets.html\">\\n<span>جوالات وأجهزة لوحية </span>\\n</a>\\n</li><li class=\"level1 nav-8-3 last parent\">\\n<a href=\"http://www.othaimmarkets.com/electronics-appliances/home-appliances.html\">\\n<span>أجهزة منزلية</span>\\n</a>\\n<a class=\"icon-collapse\" href=\"#level9\" title=\"\" data-toggle=\"collapse\" ><i class=\"icon-down pull-right\"></i></a>\\n<ul class=\"collapse in level1\" id=\"level9\">\\n<li class=\"level2 nav-8-3-1 first\">\\n<a href=\"http://www.othaimmarkets.com/electronics-appliances/home-appliances/kitchen-appliances.html\">\\n<span>أجهزة المطبخ</span>\\n</a>\\n</li><li class=\"level2 nav-8-3-2\">\\n<a href=\"http://www.othaimmarkets.com/electronics-appliances/home-appliances/heaters-coolers.html\">\\n<span>دفايات وبرادة</span>\\n</a>\\n</li><li class=\"level2 nav-8-3-3 last\">\\n<a href=\"http://www.othaimmarkets.com/electronics-appliances/home-appliances/vacuum-cleaner.html\">\\n<span>اجهزة عناية وتنظيف</span>\\n</a>\\n</li>\\n</ul>\\n</li>\\n</ul>\\n</li>\\r\\n                    <!--#1 DUPLICATE THIS SECTION IF YOU WANT MORE CUSTOM MENU ITEMS-->\\r\\n                                        <li>\\r\\n                        <a href=\"http://www.othaimmarkets.com/contacts\" >\\r\\n                            <span>اتصل بنا</span> </a>\\r\\n                    </li>\\r\\n                                        <!--end #1-->\\r\\n\\r\\n                    <!--#2 DUPLICATE THIS SECTION IF YOU WANT MORE SIMPLE  MENU LINKS-->\\r\\n                                            <li><a href=\"http://www.othaimmarkets.com/contacts\">اتصل بنا</a></li>\\r\\n                                        <!--end #2-->\\r\\n\\r\\n                </ul>\\r\\n            </li>\\r\\n        </ul>\\r\\n\\r\\n\\r\\n\\r\\n\\r\\n                <div id=\"megamenu\">\\r\\n        \\r\\n           <div class=\"container\">\\r\\n                <ul id=\"nav\"  class=\"wrap_w\">\\r\\n                                <!--<li class=\"li-first-home\"> <a href=\"\"><i class=\"icon-home\"></i></a> </li>-->\\r\\n                \\r\\n\\r\\n                                <li class=\"level0 nav-9 active first parent\">\\n<a href=\"http://www.othaimmarkets.com/grocery.html\">\\n<span>غذائية</span>\\n</a>\\n<ul class=\"level0\">\\n<ul class=\"shadow\"><li class=\"row_top\"><span class=\"inside\"><div id=\"cat_en\">\\r\\n<h2 id=\\'menu_catname\\'>Food Items</h2>\\r\\n<h3 id=\\'menu_catdesc\\'>High Quality, Lowest Prices</h3>\\r\\n</div>\\r\\n<div id=\"cat_ar\">\\r\\n<h2 id=\\'menu_catname\\'>أصناف غذائية</h2>\\r\\n<h3 id=\\'menu_catdesc\\'>جودة عالية بأقل الأسعار</h3>\\r\\n</div></span></li><li class=\"row_middle\">\\r\\n                                    <ul class=\"rows_outer\"><li><ul class=\"menu_row\"><li class=\"col\"><ul><li class=\"level1 nav-9-1 first title\">\\n<a href=\"http://www.othaimmarkets.com/grocery/hot-drinks.html\">\\nمشروبات ساخنة\\n</a></ul></li><li class=\"col\"><ul><li class=\"level1 nav-9-2 title\">\\n<a href=\"http://www.othaimmarkets.com/grocery/home-baking.html\">\\nتصنيع الحلويات والمخبوزات\\n</a></ul></li></ul></li><li><ul class=\"menu_row\"><li class=\"col\"><ul><li class=\"level1 nav-9-3 title\">\\n<a href=\"http://www.othaimmarkets.com/grocery/canned-foods.html\">\\nمعلبات\\n</a></ul></li><li class=\"col\"><ul><li class=\"level1 nav-9-4 title\">\\n<a href=\"http://www.othaimmarkets.com/grocery/milk.html\">\\nحليب\\n</a></ul></li></ul></li><li><ul class=\"menu_row\"><li class=\"col\"><ul><li class=\"level1 nav-9-5 title\">\\n<a href=\"http://www.othaimmarkets.com/grocery/uht-cream.html\">\\nأجبان وقشطة وزبدة\\n</a></ul></li><li class=\"col\"><ul><li class=\"level1 nav-9-6 title\">\\n<a href=\"http://www.othaimmarkets.com/grocery/dietary-products.html\">\\nمنتجات الحمية\\n</a></ul></li></ul></li><li><ul class=\"menu_row\"><li class=\"col\"><ul><li class=\"level1 nav-9-7 title\">\\n<a href=\"http://www.othaimmarkets.com/grocery/sauces-tomato-paste.html\">\\nصلصات ومعجون الطماطم\\n</a></ul></li><li class=\"col\"><ul><li class=\"level1 nav-9-8 active title\">\\n<a href=\"http://www.othaimmarkets.com/grocery/oils-ghee.html\">\\nزيوت وسمن\\n</a></ul></li></ul></li><li><ul class=\"menu_row\"><li class=\"col\"><ul><li class=\"level1 nav-9-9 title\">\\n<a href=\"http://www.othaimmarkets.com/grocery/pasta-noodles-soup.html\">\\nمعكرونة وشوربة\\n</a></ul></li><li class=\"col\"><ul><li class=\"level1 nav-9-10 title\">\\n<a href=\"http://www.othaimmarkets.com/grocery/rice-sugar.html\">\\nالأرز والسكر \\n</a></ul></li></ul></li><li><ul class=\"menu_row\"><li class=\"col\"><ul><li class=\"level1 nav-9-11 title\">\\n<a href=\"http://www.othaimmarkets.com/grocery/oriental-food.html\">\\nمأكولات آسيوية\\n</a></ul></li><li class=\"col\"><ul><li class=\"level1 nav-9-12 title\">\\n<a href=\"http://www.othaimmarkets.com/grocery/cereal-food.html\">\\nحبوب إفطار\\n</a></ul></li></ul></li><li><ul class=\"menu_row\"><li class=\"col\"><ul><li class=\"level1 nav-9-13 last title\">\\n<a href=\"http://www.othaimmarkets.com/grocery/breakfast-food.html\">\\nأغذية إفطار\\n</a></ul></li></ul></li>          </ul></li><li class=\"row_bot\"><span class=\" inside\"><img src=\"https://www.othaimmarkets.com/media/megamenu/Food.jpg\" alt=\"\" /></span></li></ul>\\n</ul>\\n</li><li class=\"level0 nav-10 parent\">\\n<a href=\"http://www.othaimmarkets.com/fresh-and-bakery.html\">\\n<span>الطازج</span>\\n</a>\\n<ul class=\"level0\">\\n<ul class=\"shadow\"><li class=\"row_top\"><span class=\"inside\"><div id=\"cat_en\">\\r\\n<h2 id=\\'menu_catname\\'>Fresh & Bakery</h2>\\r\\n<h3 id=\\'menu_catdesc\\'>Comming Daily, With best price</h3>\\r\\n</div>\\r\\n<div id=\"cat_ar\">\\r\\n<h2 id=\\'menu_catname\\'>أصنـاف الطازج</h2>\\r\\n<h3 id=\\'menu_catdesc\\'>تأتيكم يومياً وبأفضل الأسعار</h3>\\r\\n</div></span></li><li class=\"row_middle\">\\r\\n                                    <ul class=\"rows_outer\"><li><ul class=\"menu_row\"><li class=\"col\"><ul><li class=\"level1 nav-10-1 first title\">\\n<a href=\"http://www.othaimmarkets.com/fresh-and-bakery/bakery.html\">\\nالخبز والحلويات\\n</a></ul></li><li class=\"col\"><ul><li class=\"level1 nav-10-2 title\">\\n<a href=\"http://www.othaimmarkets.com/fresh-and-bakery/fresh-chicken-eggs.html\">\\nدواجن وبيض \\n</a></ul></li></ul></li><li><ul class=\"menu_row\"><li class=\"col\"><ul><li class=\"level1 nav-10-3 title\">\\n<a href=\"http://www.othaimmarkets.com/fresh-and-bakery/dairy-products.html\">\\nمنتجات ألبان\\n</a></ul></li><li class=\"col\"><ul><li class=\"level1 nav-10-4 title\">\\n<a href=\"http://www.othaimmarkets.com/fresh-and-bakery/fruit-vegetables.html\">\\nفواكه وخضروات\\n</a></ul></li></ul></li><li><ul class=\"menu_row\"><li class=\"col\"><ul><li class=\"level1 nav-10-5 title\">\\n<a href=\"http://www.othaimmarkets.com/fresh-and-bakery/fresh-meat.html\">\\nلحوم\\n</a></ul></li><li class=\"col\"><ul><li class=\"level1 nav-10-6 last title\">\\n<a href=\"http://www.othaimmarkets.com/fresh-and-bakery/delicatessens.html\">\\nأجبان ولانشون وزيتون\\n</a></ul></li></ul></li>          </ul></li><li class=\"row_bot\"><span class=\" inside\"><img src=\"https://www.othaimmarkets.com/media/megamenu/fresh.jpg\" alt=\"\" /></span></li></ul>\\n</ul>\\n</li><li class=\"level0 nav-11 parent\">\\n<a href=\"http://www.othaimmarkets.com/frozen.html\">\\n<span>المجمدات</span>\\n</a>\\n<ul class=\"level0\">\\n<ul class=\"shadow\"><li class=\"row_top\"><span class=\"inside\"><div id=\"cat_en\">\\r\\n<h2 id=\\'menu_catname\\'>Frozen Items</h2>\\r\\n<h3 id=\\'menu_catdesc\\'>High Quality, Frozen and Chilled Varities</h3>\\r\\n</div>\\r\\n<div id=\"cat_ar\">\\r\\n<h2 id=\\'menu_catname\\'>أصناف المجمدات</h2>\\r\\n<h3 id=\\'menu_catdesc\\'>أصناف مبردة ومجمدة بجودة عالية</h3>\\r\\n</div></span></li><li class=\"row_middle\">\\r\\n                                    <ul class=\"rows_outer\"><li><ul class=\"menu_row\"><li class=\"col\"><ul><li class=\"level1 nav-11-1 first title\">\\n<a href=\"http://www.othaimmarkets.com/frozen/ice-cream-cakes22.html\">\\nآيس كريم وحلويات\\n</a></ul></li><li class=\"col\"><ul><li class=\"level1 nav-11-2 title\">\\n<a href=\"http://www.othaimmarkets.com/frozen/fruit-vegetables.html\">\\nخضروات وفواكه\\n</a></ul></li><li class=\"col\"><ul><li class=\"level1 nav-11-3 title\">\\n<a href=\"http://www.othaimmarkets.com/frozen/pastries.html\">\\nمعجنات للتحضير \\n</a></ul></li><li class=\"col\"><ul><li class=\"level1 nav-11-4 title\">\\n<a href=\"http://www.othaimmarkets.com/frozen/ready-to-eat.html\">\\nمأكولات مسبقة التحضير\\n</a></ul></li><li class=\"col\"><ul><li class=\"level1 nav-11-5 title\">\\n<a href=\"http://www.othaimmarkets.com/frozen/chicken-meat.html\">\\nلحوم ودواجن\\n</a></ul></li><li class=\"col\"><ul><li class=\"level1 nav-11-6 last title\">\\n<a href=\"http://www.othaimmarkets.com/frozen/fish-seafood.html\">\\nأسماك وأطعمة بحرية\\n</a></ul></li></ul></li>          </ul></li><li class=\"row_bot\"><span class=\" inside\"><img src=\"https://www.othaimmarkets.com/media/megamenu/frozen.jpg\" alt=\"\" /></span></li></ul>\\n</ul>\\n</li><li class=\"level0 nav-12 parent\">\\n<a href=\"http://www.othaimmarkets.com/beverage-confectionery.html\">\\n<span>مشروبات وحلويات</span>\\n</a>\\n<ul class=\"level0\">\\n<ul class=\"shadow\"><li class=\"row_top\"><span class=\"inside\"><div id=\"cat_en\">\\r\\n<h2 id=\\'menu_catname\\'>Sweets & Drinks</h2>\\r\\n<h3 id=\\'menu_catdesc\\'>Good variety of Deserts and Drinks</h3>\\r\\n</div>\\r\\n<div id=\"cat_ar\">\\r\\n<h2 id=\\'menu_catname\\'>مشروبات وحلويات</h2>\\r\\n<h3 id=\\'menu_catdesc\\'>تشكيلة رائعة من الحلويات والمشروبات</h3>\\r\\n</div></span></li><li class=\"row_middle\">\\r\\n                                    <ul class=\"rows_outer\"><li><ul class=\"menu_row\"><li class=\"col\"><ul><li class=\"level1 nav-12-1 first title\">\\n<a href=\"http://www.othaimmarkets.com/beverage-confectionery/confectionery-snacks.html\">\\nحلويات وتسالي\\n</a></ul></li></ul></li><li><ul class=\"menu_row\"><li class=\"col\"><ul><li class=\"level1 nav-12-2 last title\">\\n<a href=\"http://www.othaimmarkets.com/beverage-confectionery/drinks-juice.html\">\\nمشروبات وعصائر\\n</a></ul></li></ul></li>          </ul></li><li class=\"row_bot\"><span class=\" inside\"><img src=\"https://www.othaimmarkets.com/media/megamenu/beverages.jpg\" alt=\"\" /></span></li></ul>\\n</ul>\\n</li><li class=\"level0 nav-13 parent\">\\n<a href=\"http://www.othaimmarkets.com/health-beauty.html\">\\n<span>الصحة والجمال</span>\\n</a>\\n<ul class=\"level0\">\\n<ul class=\"shadow\"><li class=\"row_top\"><span class=\"inside\"><div id=\"cat_en\">\\r\\n<h2 id=\\'menu_catname\\'>Health & Beauty</h2>\\r\\n<h3 id=\\'menu_catdesc\\'>Personal care kits</h3>\\r\\n</div>\\r\\n<div id=\"cat_ar\">\\r\\n<h2 id=\\'menu_catname\\'>الصحة والجمال</h2>\\r\\n<h3 id=\\'menu_catdesc\\'>جميع مستلزمات العناية الشخصية</h3>\\r\\n</div></span></li><li class=\"row_middle\">\\r\\n                                    <ul class=\"rows_outer\"><li><ul class=\"menu_row\"><li class=\"col\"><ul><li class=\"level1 nav-13-1 first title\">\\n<a href=\"http://www.othaimmarkets.com/health-beauty/shaving-needs.html\">\\nمستلزمات حلاقة \\n</a></ul></li><li class=\"col\"><ul><li class=\"level1 nav-13-2 title\">\\n<a href=\"http://www.othaimmarkets.com/health-beauty/woman-care.html\">\\nعناية المرأة\\n</a></ul></li></ul></li><li><ul class=\"menu_row\"><li class=\"col\"><ul><li class=\"level1 nav-13-3 title\">\\n<a href=\"http://www.othaimmarkets.com/health-beauty/body-face-care.html\">\\nعناية الجسم والوجه\\n</a></ul></li><li class=\"col\"><ul><li class=\"level1 nav-13-4 title\">\\n<a href=\"http://www.othaimmarkets.com/health-beauty/hand-soap-shower-gel.html\">\\nصابون الأيدي والجسم \\n</a></ul></li></ul></li><li><ul class=\"menu_row\"><li class=\"col\"><ul><li class=\"level1 nav-13-5 title\">\\n<a href=\"http://www.othaimmarkets.com/health-beauty/deodorant.html\">\\nمزيلات عرق\\n</a></ul></li><li class=\"col\"><ul><li class=\"level1 nav-13-6 title\">\\n<a href=\"http://www.othaimmarkets.com/health-beauty/dental-care.html\">\\nعناية الأسنان\\n</a></ul></li></ul></li><li><ul class=\"menu_row\"><li class=\"col\"><ul><li class=\"level1 nav-13-7 last title\">\\n<a href=\"http://www.othaimmarkets.com/health-beauty/hair-care.html\">\\nعناية  الشعر \\n</a></ul></li></ul></li>          </ul></li><li class=\"row_bot\"><span class=\" inside\"><img src=\"https://www.othaimmarkets.com/media/megamenu/cosmetic.jpg\" alt=\"\" /></span></li></ul>\\n</ul>\\n</li><li class=\"level0 nav-14 parent\">\\n<a href=\"http://www.othaimmarkets.com/baby-needs-5.html\">\\n<span>احتياجات الطفل</span>\\n</a>\\n<ul class=\"level0\">\\n<ul class=\"shadow\"><li class=\"row_top\"><span class=\"inside\"><div id=\"cat_en\">\\r\\n<h2 id=\\'menu_catname\\'>Baby Needs</h2>\\r\\n<h3 id=\\'menu_catdesc\\'>Child Care accessories</h3>\\r\\n</div>\\r\\n<div id=\"cat_ar\">\\r\\n<h2 id=\\'menu_catname\\'>احتياجـات الطفـل</h2>\\r\\n<h3 id=\\'menu_catdesc\\'>جميع لوازم العناية بالأطفال</h3>\\r\\n</div></span></li><li class=\"row_middle\">\\r\\n                                    <ul class=\"rows_outer\"><li><ul class=\"menu_row\"><li class=\"col\"><ul><li class=\"level1 nav-14-1 first title\">\\n<a href=\"http://www.othaimmarkets.com/baby-needs-5/baby-food.html\">\\nعناية الطفل\\n</a></ul></li></ul></li><li><ul class=\"menu_row\"><li class=\"col\"><ul><li class=\"level1 nav-14-2 last title\">\\n<a href=\"http://www.othaimmarkets.com/baby-needs-5/baby-food-1.html\">\\nأغذية الطفل\\n</a></ul></li></ul></li>          </ul></li><li class=\"row_bot\"><span class=\" inside\"><img src=\"https://www.othaimmarkets.com/media/megamenu/Kids.jpg\" alt=\"\" /></span></li></ul>\\n</ul>\\n</li><li class=\"level0 nav-15 parent\">\\n<a href=\"http://www.othaimmarkets.com/home-care.html\">\\n<span>عناية المنزل </span>\\n</a>\\n<ul class=\"level0\">\\n<ul class=\"shadow\"><li class=\"row_top\"><span class=\"inside\"><div id=\"cat_en\">\\r\\n<h2 id=\\'menu_catname\\'>Home Care</h2>\\r\\n<h3 id=\\'menu_catdesc\\'>Home Care accessories</h3>\\r\\n</div>\\r\\n<div id=\"cat_ar\">\\r\\n<h2 id=\\'menu_catname\\'>عناية المنزل</h2>\\r\\n<h3 id=\\'menu_catdesc\\'>جميع الأدوات اللازمة للعناية بالمنزل</h3>\\r\\n</div></span></li><li class=\"row_middle\">\\r\\n                                    <ul class=\"rows_outer\"><li><ul class=\"menu_row\"><li class=\"col\"><ul><li class=\"level1 nav-15-1 first title\">\\n<a href=\"http://www.othaimmarkets.com/home-care/kitchen-needs.html\">\\nأواني منزلية \\n</a></ul></li><li class=\"col\"><ul><li class=\"level1 nav-15-2 title\">\\n<a href=\"http://www.othaimmarkets.com/home-care/household.html\">\\nغسيل الملابس \\n</a></ul></li></ul></li><li><ul class=\"menu_row\"><li class=\"col\"><ul><li class=\"level1 nav-15-3 title\">\\n<a href=\"http://www.othaimmarkets.com/home-care/clothes-care.html\">\\nعناية الملابس\\n</a></ul></li><li class=\"col\"><ul><li class=\"level1 nav-15-4 title\">\\n<a href=\"http://www.othaimmarkets.com/home-care/dishwashing.html\">\\nغسيل وتنظيف الصحون\\n</a></ul></li></ul></li><li><ul class=\"menu_row\"><li class=\"col\"><ul><li class=\"level1 nav-15-5 title\">\\n<a href=\"http://www.othaimmarkets.com/home-care/disinfectant-cleaner-freshener.html\">\\nمطهرات وملمعات ومعطرات\\n</a></ul></li><li class=\"col\"><ul><li class=\"level1 nav-15-6 title\">\\n<a href=\"http://www.othaimmarkets.com/home-care/foils-cling-films.html\">\\nقصدير وحفظ وتغليف الماكؤلات\\n</a></ul></li></ul></li><li><ul class=\"menu_row\"><li class=\"col\"><ul><li class=\"level1 nav-15-7 title\">\\n<a href=\"http://www.othaimmarkets.com/home-care/plastic-products.html\">\\nمنتجات بلاستيكية\\n</a></ul></li><li class=\"col\"><ul><li class=\"level1 nav-15-8 title\">\\n<a href=\"http://www.othaimmarkets.com/home-care/paper-products.html\">\\nمنتجات ورقية \\n</a></ul></li></ul></li><li><ul class=\"menu_row\"><li class=\"col\"><ul><li class=\"level1 nav-15-9 title\">\\n<a href=\"http://www.othaimmarkets.com/home-care/pet-food.html\">\\nطعام حيوانات \\n</a></ul></li><li class=\"col\"><ul><li class=\"level1 nav-15-10 last title\">\\n<a href=\"http://www.othaimmarkets.com/home-care/household-5.html\">\\nأدوات منزلية\\n</a></ul></li></ul></li>          </ul></li><li class=\"row_bot\"><span class=\" inside\"><img src=\"https://www.othaimmarkets.com/media/megamenu/Home.jpg\" alt=\"\" /></span></li></ul>\\n</ul>\\n</li><li class=\"level0 nav-16 last parent\">\\n<a href=\"http://www.othaimmarkets.com/electronics-appliances.html\">\\n<span>الإلكترونيات والأجهزة</span>\\n</a>\\n<ul class=\"level0\">\\n<ul class=\"shadow\"><li class=\"row_top\"><span class=\"inside\"><div id=\"cat_en\">\\r\\n<h2 id=\\'menu_catname\\'>Electronics</h2>\\r\\n<h3 id=\\'menu_catdesc\\'>Available at competitive prices</h3>\\r\\n</div>\\r\\n<div id=\"cat_ar\">\\r\\n<h2 id=\\'menu_catname\\'>الإلكترونيات والأجهزة المنزلية</h2>\\r\\n<h3 id=\\'menu_catdesc\\'>متوفرة لدينا بأسعار تنافسية</h3>\\r\\n</div></span></li><li class=\"row_middle\">\\r\\n                                    <ul class=\"rows_outer\"><li><ul class=\"menu_row\"><li class=\"col\"><ul><li class=\"level1 nav-16-1 first title\">\\n<a href=\"http://www.othaimmarkets.com/electronics-appliances/audio-video.html\">\\nشاشات واجهزة صوتية\\n</a></ul></li><li class=\"col\"><ul><li class=\"level1 nav-16-2 title\">\\n<a href=\"http://www.othaimmarkets.com/electronics-appliances/mobiles-tablets.html\">\\nجوالات وأجهزة لوحية \\n</a></ul></li></ul></li><li><ul class=\"menu_row\"><li class=\"col\"><ul><li class=\"level1 nav-16-3 last parent title\">\\n<a href=\"http://www.othaimmarkets.com/electronics-appliances/home-appliances.html\">\\nأجهزة منزلية\\n</a>\\n</li>\\n<li class=\"level2 nav-16-3-1 first\">\\n<a href=\"http://www.othaimmarkets.com/electronics-appliances/home-appliances/kitchen-appliances.html\">\\nأجهزة المطبخ\\n</a>\\n</li><li class=\"level2 nav-16-3-2\">\\n<a href=\"http://www.othaimmarkets.com/electronics-appliances/home-appliances/heaters-coolers.html\">\\nدفايات وبرادة\\n</a>\\n</li><li class=\"level2 nav-16-3-3 last\">\\n<a href=\"http://www.othaimmarkets.com/electronics-appliances/home-appliances/vacuum-cleaner.html\">\\nاجهزة عناية وتنظيف\\n</a>\\n</li>\\n</ul></li></ul></li>          </ul></li><li class=\"row_bot\"><span class=\" inside\"><img src=\"https://www.othaimmarkets.com/media/megamenu/electronics.jpg\" alt=\"\" /></span></li></ul>\\n</ul>\\n</li>                \\r\\n\\r\\n\\r\\n                \\r\\n\\r\\n\\r\\n\\r\\n                <!--#2 DUPLICATE THIS SECTION IF YOU WANT MORE SIMPLE  MENU LINKS-->\\r\\n                                <!--<li><a href=\"\"></a></li>-->\\r\\n                                <!--end #2-->\\r\\n\\r\\n\\t\\t\\t\\t\\r\\n            </ul>\\r\\n           </div>\\r\\n\\r\\n                </div>\\r\\n                </nav>\\r\\n    </div>            \\n\\n        </div>\\n    </div>\\n\\n\\n<!--HEADER EOF-->\\n\\n\\n    <div id=\"spy\" class=\"visible-desktop\">\\n        <!--<div class=\"container\">-->\\n        <div class=\"row\">\\n            <div class=\"span12\">\\n                <nav>\\n\\n                </nav>\\n            </div>\\n            <!--<div class=\"spy-left\">\\n    <div class=\"logo\"><a href=\"\"><img   data-retina=\"true\" src=\"\"  alt=\"\"></a></div>\\n</div>-->\\n            <!--<div class=\"spy-right\">\\n   <div class=\"spyshop\"></div>\\n    </div>-->\\n        </div>\\n        <!--</div>-->\\n    </div>\\n\\n    <script type=\"text/javascript\">\\n        jQuery(function() {\\n            jQuery(window).scroll(function() {\\n                if (jQuery(\".container\").width()>767){\\n                    if (jQuery(this).scrollTop() > jQuery (\\'#header .wrapper_w\\').height() +60+ jQuery (\\'#topline\\').height()) {\\n                        jQuery(\\'#spy\\').addClass(\\'fix\\');\\n                        if(jQuery(\\'#megamenu\\').length)\\n                        {\\n                            jQuery(\\'#spy nav\\').html(jQuery(\\'#megamenu:first\\').clone());\\n                        }else if(jQuery(\\'#nav.simple\\').length)\\n                        {\\n                            jQuery(\\'#spy nav\\').html(jQuery(\\'#nav.simple:first\\').clone());\\n                        }\\n\\n\\n\\n                        jQuery(\\'#spy .spyshop\\').html(jQuery(\\'.pull-right.padding-1 .shoppingcart\\').clone());\\n                        jQuery(\"#spy .shoppingcart .fadelink\").mouseenter(function() {\\n                            jQuery(this).parent().find(\".shopping_cart_mini\").stop(true, true).fadeIn(200, \"linear\");\\n                        });\\n                        jQuery(\"#spy .shoppingcart .fadelink\").mouseleave(function() {\\n                            jQuery(this).parent().find(\".shopping_cart_mini\").stop(true, true).fadeOut(200, \"linear\");\\n                        });\\n                        /// new code abn\\n//                        jQuery(this).find(\\'#spy #megamenu ul#nav li.level0\\').hover(function (e) {\\n                        jQuery(\\'div#spy div#megamenu ul#nav li.level0\\').hover(function (e) {\\n\\n                            var w = jQuery(this).width() / 2 - 9;\\n                            var offset = jQuery(this).offset();\\n                            jQuery(\\'#megamenu_pointer\\').css({\\n                                display: \\'block\\',\\n                                visibility: \\'visible\\',\\n                                position: \\'fixed\\',\\n                                zIndex: \\'9999998\\',\\n                                top: \\'36px\\',\\n                                \\'margin-top\\': \\'5px\\'\\n                            }).offset({\\n                                top: \\'30px\\',\\n                                left: offset.left + w\\n                            });\\n                        }, function (e) {\\n                            jQuery(\\'#megamenu_pointer\\').css({\\n                                display: \\'none\\',\\n                                visibility: \\'hidden\\',\\n                                position: \\'relative\\'\\n                            });\\n                        });\\n                        /////// end of new code abn\\n                    } else {\\n                        jQuery(\\'#spy\\').removeClass(\\'fix\\');\\n                    }}\\n            });\\n\\n        });\\n\\n\\n        /*\\n         function showPosition(position)\\n         {\\n         //alert(document.getElementById(\"lat\").value);\\n         //alert(\"in\");\\n         document.getElementById(\"lat\").value =  position.coords.latitude;\\n         //alert(document.getElementById(\"lat\").value);\\n         document.getElementById(\"lon\").value =  position.coords.longitude;\\n         getRegionsLocations(document.getElementById(\"lat\").value , document.getElementById(\"lon\").value);\\n         }\\n         navigator.geolocation.getCurrentPosition(showPosition);\\n\\n         function getRegionsLocations(lat,lan){\\n\\n         var reloadurl = \"http://www.othaimmarkets.com/store-locator/index/getRegionsLocations/?id_lat=\" + lat + \"&id_lan=\" + lan ;\\n\\n         //alert(reloadurl);\\n         new Ajax.Request(reloadurl, {\\n         method: \\'get\\',\\n         onLoading: function (transport) {\\n\\n         },\\n         onComplete: function(transport) {\\n\\n         }\\n         });\\n         }\\n         */\\n\\n    </script>\\n\\n<script type=\"text/javascript\">\\n    adroll_adv_id = \"BPHNGPC7FNDD3CBVQ6LP6Q\";\\n    adroll_pix_id = \"MOUPUUQ7V5ETTP5ZPQDOAT\";\\n    (function () {\\n        var oldonload = window.onload;\\n        window.onload = function(){\\n            __adroll_loaded=true;\\n            var scr = document.createElement(\"script\");\\n            var host = ((\"https:\" == document.location.protocol) ? \"https://s.adroll.com\" : \"http://a.adroll.com\");\\n            scr.setAttribute(\\'async\\', \\'true\\');\\n            scr.type = \"text/javascript\";\\n            scr.src = host + \"/j/roundtrip.js\";\\n            ((document.getElementsByTagName(\\'head\\') || [null])[0] ||\\n            document.getElementsByTagName(\\'script\\')[0].parentNode).appendChild(scr);\\n            if(oldonload){oldonload()}};\\n    }());\\n</script>\\n    <section id=\"content\">\\n        <div class=\"row top\">\\n                                <div class=\"container\">\\n              <div class=\"braeed-crumms\"><div class=\"breadcrumbs\">\\r\\n\\r\\n        \\r\\n                            <a href=\"http://www.othaimmarkets.com/\" title=\"الذهاب إلى الصفحة الرئيسية\">الصفحة الرئيسية</a>\\r\\n                                        <span>›</span>\\r\\n            \\r\\n        \\r\\n                            <a href=\"http://www.othaimmarkets.com/grocery.html\" title=\"\">غذائية</a>\\r\\n                                        <span>›</span>\\r\\n            \\r\\n        \\r\\n                            <a class=\"last-breadcrumb\">زيوت وسمن</a>\\r\\n                        \\r\\n        \\r\\n</div>\\r\\n</div>\\n              <div  class=\"col-md-9\" id=\"column_right\">\\n          \\n                                <style>\\r\\nbody{width: 103% !important;}\\r\\n@media screen and (min-device-width:320px){\\r\\n    body{width:100% !important; }\\r\\n}\\r\\n</style> \\r\\n\\r\\n<div class=\"page-title category-title\">\\r\\n    </div>\\r\\n\\r\\n    \\r\\n<script type=\"text/javascript\">\\n    jQuery(function(){\\n//        jQuery(\\'.price\\').each(function(index, el){\\n            jQuery(\".category-products\").find(\\'.price\\').each(function(index, el){\\n            var content = jQuery(el).html();\\n            var temp = content.trim().split(\\'SR\\');\\n            var value = 0;\\n            if(temp.length == 2){\\n                value = temp[1];\\n            }\\n            else{\\n                value = content;\\n            }\\n            jQuery(el).html(\"<span class=\\'ryale\\'> SR </span>\" + value + \"<span class=\\'ryal\\'> ريال </span>\");\\n        });\\n            jQuery(\"#fp_catpage\").find(\\'.price\\').each(function(index, el){\\n            var content = jQuery(el).html();\\n            var temp = content.trim().split(\\'SR\\');\\n            var value = 0;\\n            if(temp.length == 2){\\n                value = temp[1];\\n            }\\n            else{\\n                value = content;\\n            }\\n            jQuery(el).html(\"<span class=\\'ryale\\'> SR </span>\" + value + \"<span class=\\'ryal\\'> ريال </span>\");\\n        });\\n\\n    });\\n</script>\\n\\n\\n \\t\\n\\t\\t<!--<div class=\"category-products-class\">-->\\n<div class=\"category-products-class\"><li class=\"list-categories-product-class\"><a style=Array href=http://www.othaimmarkets.com/grocery/oils-ghee/ghee.html>سمن<ul class=\"list-categories-separator\"><li class=\"categories-separator\" >&nbsp;</li></ul></a></li><li class=\"list-categories-product-class\"><a style=Array href=http://www.othaimmarkets.com/grocery/oils-ghee/corn-oil.html>زيت ذرة<ul class=\"list-categories-separator\"><li class=\"categories-separator\" >&nbsp;</li></ul></a></li><li class=\"list-categories-product-class\"><a style=Array href=http://www.othaimmarkets.com/grocery/oils-ghee/sunflower-oil.html>زيت دوار الشمس<ul class=\"list-categories-separator\"><li class=\"categories-separator\" >&nbsp;</li></ul></a></li><li class=\"list-categories-product-class\"><a style=Array href=http://www.othaimmarkets.com/grocery/oils-ghee/vegetable-oil.html>زيت خضار<ul class=\"list-categories-separator\"><li class=\"categories-separator\" >&nbsp;</li></ul></a></li><li class=\"list-categories-product-class\"><a style=Array href=http://www.othaimmarkets.com/grocery/oils-ghee/other-oil.html>زيوت اخرى<ul class=\"list-categories-separator\"><li class=\"categories-separator\" >&nbsp;</li></ul></a></li><li class=\"list-categories-product-class\"><a style=Array href=http://www.othaimmarkets.com/grocery/oils-ghee/olive-oil.html>زيت زيتون<ul class=\"list-categories-separator\"><li class=\"categories-separator\" >&nbsp;</li></ul></a></li></div><!--</div>-->\\n\\n<div class=\"category-products\" id=\"my-products\">\\n    <div id=\"toptoolbar\">\\n    <div class=\"toolbar\">\\r\\n<div class=\"listing_header_row1\">\\r\\n    <div class=\"pull-left\">\\r\\n        <label>ترتيب حسب:</label>\\r\\n        <div class=\"select_wrapper width1\">\\r\\n\\r\\n                        <select name=\"select1\" class=\"custom\" tabindex=\"1\"  onchange=\"setLocation(this.value)\">\\r\\n                                                        <option value=\"http://www.othaimmarkets.com/grocery/oils-ghee.html?dir=asc&amp;order=position\" selected=\"selected\">\\r\\n                                موقع                            </option>\\r\\n                                                        <option value=\"http://www.othaimmarkets.com/grocery/oils-ghee.html?dir=asc&amp;order=name\">\\r\\n                                الاسم                            </option>\\r\\n                                                        <option value=\"http://www.othaimmarkets.com/grocery/oils-ghee.html?dir=asc&amp;order=price\">\\r\\n                                السعر                            </option>\\r\\n                                                    </select>\\r\\n\\r\\n\\r\\n        </div>\\r\\n                <a href=\"http://www.othaimmarkets.com/grocery/oils-ghee.html?dir=desc&amp;order=position\" title=\"تحديد الاتجاه التنازلي\"><i class=\"icon-up hidden-phone\"></i></a>\\r\\n            </div>\\r\\n    <div class=\"pull-left aligncenter hidden-phone\">\\r\\n\\r\\n                        <label> <span class=\"hidden-tablet\">طريقة العرض:</span></label>\\r\\n\\r\\n                    \\r\\n\\r\\n                \\r\\n                                    <a  class=\"icon-th active\"></a>\\r\\n                    \\r\\n\\r\\n                                        \\r\\n                                    <a href=\"http://www.othaimmarkets.com/grocery/oils-ghee.html?mode=list\" class=\"icon-th-list\"></a>\\r\\n                    \\r\\n                \\r\\n\\r\\n                                    \\r\\n\\r\\n    </div>\\r\\n\\r\\n\\r\\n\\r\\n    <div class=\"pull-right alignright\">\\r\\n        <label><span class=\"hidden-phone\">عرض:</span></label>\\r\\n        <div class=\"select_wrapper width2\">\\r\\n            <select name=\"select2\" class=\"custom\" tabindex=\"2\"  onchange=\"setLocation(this.value)\">\\r\\n                                <option value=\"http://www.othaimmarkets.com/grocery/oils-ghee.html?limit=9\">\\r\\n                    9                </option>\\r\\n                                <option value=\"http://www.othaimmarkets.com/grocery/oils-ghee.html?limit=18\" selected=\"selected\">\\r\\n                    18                </option>\\r\\n                                <option value=\"http://www.othaimmarkets.com/grocery/oils-ghee.html?limit=30\">\\r\\n                    30                </option>\\r\\n                            </select>\\r\\n        </div>\\r\\n        للصفحة    </div>\\r\\n</div>\\r\\n<div class=\"line1\"></div>\\r\\n\\r\\n<div class=\"listing_header_row2\">\\r\\n    <div class=\"pull-left\">\\r\\n                عناصر 1 الى  18  من  46              </div>\\r\\n    <div class=\"pull-right\">\\r\\n        <div class=\"num\">\\r\\n                    <div class=\"pages\">\\n\\n       \\n        \\n        \\n                                    <a class=\"active\">1</a>\\n                                                <a href=\"https://www.othaimmarkets.com/grocery/oils-ghee.html?p=2\">2</a>\\n                                                <a href=\"https://www.othaimmarkets.com/grocery/oils-ghee.html?p=3\">3</a>\\n                    \\n\\n        \\n        \\n        \\n\\n                <a class=\"small_icon\" href=\"https://www.othaimmarkets.com/grocery/oils-ghee.html?p=2\"><i class=\"icon-right-thin\"></i></a>\\n\\n\\n\\n        \\n\\n    </div>\\n    \\n\\n            \\r\\n        </div>\\r\\n    </div>\\r\\n</div>\\r\\n</div>\\r\\n    </div>\\n        \\n    \\n\\n\\n<div class=\"row big_with_description\">                    \\n        \\n        <!--PRODUCT-->\\n        <div class=\"span2 product\">\\n                        <div class=\"product-image-wrapper nohover\">\\n                            <div class=\"label_new_top_left\">جديد</div>\\n                            \\n                            <a href=\"http://www.othaimmarkets.com/grocery/oils-ghee/afia-corn-oil-1-8l.html\"><img  src=\"https://www.othaimmarkets.com/media/catalog/product/cache/4/small_image/170x165/9df78eab33525d08d6e5fb8d27136e95/2/2/229545.jpg\" class=\"product-retina\" data-image2x=\"https://www.othaimmarkets.com/media/catalog/product/cache/4/small_image/340x330/9df78eab33525d08d6e5fb8d27136e95/2/2/229545.jpg\" width=\"170\" height=\"165\"  alt=\"زيت عافية ذرة 1,8لتر\"></a>\\n        </div> <div class=\"wrapper-hover\">\\n                                <h3 class=\"product-name\"><a href=\"http://www.othaimmarkets.com/grocery/oils-ghee/afia-corn-oil-1-8l.html\">زيت عافية ذرة 1,8لتر</a></h3>\\n                                <div class=\"wrapper\">\\n\\n                \\n    <div class=\"price-box\">\\n                                                            <span class=\"regular-price\" id=\"product-price-977\">\\n                                            <span class=\"price\">30.95</span>                                    </span>\\n                        \\n        </div>\\n\\n<div class=\"product-tocart\"><a onclick=\"setLocationAjax(\\'http://www.othaimmarkets.com/checkout/cart/add/uenc/aHR0cHM6Ly93d3cub3RoYWltbWFya2V0cy5jb20vZ3JvY2VyeS9vaWxzLWdoZWUuaHRtbA,,/product/977/form_key/voZKKJcpDQ2us74H/\\',\\'977\\')\"><i class=\"icon-basket\"></i></a></div></div>\\n                            </div></div>                <!--PRODUCT EOF-->\\n\\n\\n        \\n                    \\n        \\n        <!--PRODUCT-->\\n        <div class=\"span2 product\">\\n                        <div class=\"product-image-wrapper nohover\">\\n                            \\n                            \\n                            <a href=\"http://www.othaimmarkets.com/grocery/oils-ghee/haley-vegetable-oil-can-16l.html\"><img  src=\"https://www.othaimmarkets.com/media/catalog/product/cache/4/small_image/170x165/9df78eab33525d08d6e5fb8d27136e95/9/3/937245_0.jpg\" class=\"product-retina\" data-image2x=\"https://www.othaimmarkets.com/media/catalog/product/cache/4/small_image/340x330/9df78eab33525d08d6e5fb8d27136e95/9/3/937245_0.jpg\" width=\"170\" height=\"165\"  alt=\"زيت هالي نباتي علب 16لتر\"></a>\\n        </div> <div class=\"wrapper-hover\">\\n                                <h3 class=\"product-name\"><a href=\"http://www.othaimmarkets.com/grocery/oils-ghee/haley-vegetable-oil-can-16l.html\">زيت هالي نباتي علب 16لتر</a></h3>\\n                                <div class=\"wrapper\">\\n\\n                \\n    <div class=\"price-box\">\\n                                                            <span class=\"regular-price\" id=\"product-price-976\">\\n                                            <span class=\"price\">105.00</span>                                    </span>\\n                        \\n        </div>\\n\\n<div class=\"product-tocart\"><a onclick=\"setLocationAjax(\\'http://www.othaimmarkets.com/checkout/cart/add/uenc/aHR0cHM6Ly93d3cub3RoYWltbWFya2V0cy5jb20vZ3JvY2VyeS9vaWxzLWdoZWUuaHRtbA,,/product/976/form_key/voZKKJcpDQ2us74H/\\',\\'976\\')\"><i class=\"icon-basket\"></i></a></div></div>\\n                            </div></div>                <!--PRODUCT EOF-->\\n\\n\\n        \\n                    \\n        \\n        <!--PRODUCT-->\\n        <div class=\"span2 product\">\\n                        <div class=\"product-image-wrapper nohover\">\\n                            <div class=\"label_new_top_left\">جديد</div>\\n                            \\n                            <a href=\"http://www.othaimmarkets.com/grocery/oils-ghee/coopoliva-olive-oil-500ml.html\"><img  src=\"https://www.othaimmarkets.com/media/catalog/product/cache/4/small_image/170x165/9df78eab33525d08d6e5fb8d27136e95/8/0/801735_0.jpg\" class=\"product-retina\" data-image2x=\"https://www.othaimmarkets.com/media/catalog/product/cache/4/small_image/340x330/9df78eab33525d08d6e5fb8d27136e95/8/0/801735_0.jpg\" width=\"170\" height=\"165\"  alt=\"زيت زيتون كوبوليفا زجاج 500مل\"></a>\\n        </div> <div class=\"wrapper-hover\">\\n                                <h3 class=\"product-name\"><a href=\"http://www.othaimmarkets.com/grocery/oils-ghee/coopoliva-olive-oil-500ml.html\">زيت زيتون كوبوليفا زجاج 500مل</a></h3>\\n                                <div class=\"wrapper\">\\n\\n                \\n    <div class=\"price-box\">\\n                                                            <span class=\"regular-price\" id=\"product-price-975\">\\n                                            <span class=\"price\">25.95</span>                                    </span>\\n                        \\n        </div>\\n\\n<div class=\"product-tocart\"><a onclick=\"setLocationAjax(\\'http://www.othaimmarkets.com/checkout/cart/add/uenc/aHR0cHM6Ly93d3cub3RoYWltbWFya2V0cy5jb20vZ3JvY2VyeS9vaWxzLWdoZWUuaHRtbA,,/product/975/form_key/voZKKJcpDQ2us74H/\\',\\'975\\')\"><i class=\"icon-basket\"></i></a></div></div>\\n                            </div></div>                <!--PRODUCT EOF-->\\n\\n\\n        \\n                    \\n        \\n        <!--PRODUCT-->\\n        <div class=\"span2 product\">\\n                        <div class=\"product-image-wrapper nohover\">\\n                            \\n                            \\n                            <a href=\"http://www.othaimmarkets.com/grocery/oils-ghee/coopoliva-olive-oil-250ml.html\"><img  src=\"https://www.othaimmarkets.com/media/catalog/product/cache/4/small_image/170x165/9df78eab33525d08d6e5fb8d27136e95/8/0/801725_0.jpg\" class=\"product-retina\" data-image2x=\"https://www.othaimmarkets.com/media/catalog/product/cache/4/small_image/340x330/9df78eab33525d08d6e5fb8d27136e95/8/0/801725_0.jpg\" width=\"170\" height=\"165\"  alt=\"زيت زيتون كوبوليفا زجاج 250مل\"></a>\\n        </div> <div class=\"wrapper-hover\">\\n                                <h3 class=\"product-name\"><a href=\"http://www.othaimmarkets.com/grocery/oils-ghee/coopoliva-olive-oil-250ml.html\">زيت زيتون كوبوليفا زجاج 250مل</a></h3>\\n                                <div class=\"wrapper\">\\n\\n                \\n    <div class=\"price-box\">\\n                                \\n                    <p class=\"old-price\">\\n                <span class=\"price-label\">سعر عادي:</span>\\n                <span class=\"price\" id=\"old-price-974\">\\n                    14.95                </span>\\n            </p>\\n\\n                            <p class=\"special-price\">\\n                    <span class=\"price-label\">Special Price</span>\\n                <span class=\"price\" id=\"product-price-974\">\\n                    11.95                </span>\\n                </p>\\n                    \\n    \\n        </div>\\n\\n<div class=\"product-tocart\"><a onclick=\"setLocationAjax(\\'http://www.othaimmarkets.com/checkout/cart/add/uenc/aHR0cHM6Ly93d3cub3RoYWltbWFya2V0cy5jb20vZ3JvY2VyeS9vaWxzLWdoZWUuaHRtbA,,/product/974/form_key/voZKKJcpDQ2us74H/\\',\\'974\\')\"><i class=\"icon-basket\"></i></a></div></div>\\n                            </div></div>                <!--PRODUCT EOF-->\\n\\n\\n        \\n                    \\n        \\n        <!--PRODUCT-->\\n        <div class=\"span2 product\">\\n                        <div class=\"product-image-wrapper nohover\">\\n                            \\n                            \\n                            <a href=\"http://www.othaimmarkets.com/grocery/oils-ghee/aljouf-olive-oil-250ml.html\"><img  src=\"https://www.othaimmarkets.com/media/catalog/product/cache/4/small_image/170x165/9df78eab33525d08d6e5fb8d27136e95/6/5/658735_0.jpg\" class=\"product-retina\" data-image2x=\"https://www.othaimmarkets.com/media/catalog/product/cache/4/small_image/340x330/9df78eab33525d08d6e5fb8d27136e95/6/5/658735_0.jpg\" width=\"170\" height=\"165\"  alt=\"زيت زيتون الجوف زجاج 250مل\"></a>\\n        </div> <div class=\"wrapper-hover\">\\n                                <h3 class=\"product-name\"><a href=\"http://www.othaimmarkets.com/grocery/oils-ghee/aljouf-olive-oil-250ml.html\">زيت زيتون الجوف زجاج 250مل</a></h3>\\n                                <div class=\"wrapper\">\\n\\n                \\n    <div class=\"price-box\">\\n                                \\n                    <p class=\"old-price\">\\n                <span class=\"price-label\">سعر عادي:</span>\\n                <span class=\"price\" id=\"old-price-972\">\\n                    15.95                </span>\\n            </p>\\n\\n                            <p class=\"special-price\">\\n                    <span class=\"price-label\">Special Price</span>\\n                <span class=\"price\" id=\"product-price-972\">\\n                    13.45                </span>\\n                </p>\\n                    \\n    \\n        </div>\\n\\n<div class=\"product-tocart\"><a onclick=\"setLocationAjax(\\'http://www.othaimmarkets.com/checkout/cart/add/uenc/aHR0cHM6Ly93d3cub3RoYWltbWFya2V0cy5jb20vZ3JvY2VyeS9vaWxzLWdoZWUuaHRtbA,,/product/972/form_key/voZKKJcpDQ2us74H/\\',\\'972\\')\"><i class=\"icon-basket\"></i></a></div></div>\\n                            </div></div>                <!--PRODUCT EOF-->\\n\\n\\n        \\n                    \\n        \\n        <!--PRODUCT-->\\n        <div class=\"span2 product\">\\n                        <div class=\"product-image-wrapper nohover\">\\n                            \\n                            \\n                            <a href=\"http://www.othaimmarkets.com/grocery/oils-ghee/rf-virgin-olive-oil-2l.html\"><img  src=\"https://www.othaimmarkets.com/media/catalog/product/cache/4/small_image/170x165/9df78eab33525d08d6e5fb8d27136e95/1/5/153175w.jpg\" class=\"product-retina\" data-image2x=\"https://www.othaimmarkets.com/media/catalog/product/cache/4/small_image/340x330/9df78eab33525d08d6e5fb8d27136e95/1/5/153175w.jpg\" width=\"170\" height=\"165\"  alt=\"زيت زيتون ار اف بكر 2لتر\"></a>\\n        </div> <div class=\"wrapper-hover\">\\n                                <h3 class=\"product-name\"><a href=\"http://www.othaimmarkets.com/grocery/oils-ghee/rf-virgin-olive-oil-2l.html\">زيت زيتون ار اف بكر 2لتر</a></h3>\\n                                <div class=\"wrapper\">\\n\\n                \\n    <div class=\"price-box\">\\n                                                            <span class=\"regular-price\" id=\"product-price-971\">\\n                                            <span class=\"price\">72.95</span>                                    </span>\\n                        \\n        </div>\\n\\n<div class=\"product-tocart\"><a onclick=\"setLocationAjax(\\'http://www.othaimmarkets.com/checkout/cart/add/uenc/aHR0cHM6Ly93d3cub3RoYWltbWFya2V0cy5jb20vZ3JvY2VyeS9vaWxzLWdoZWUuaHRtbA,,/product/971/form_key/voZKKJcpDQ2us74H/\\',\\'971\\')\"><i class=\"icon-basket\"></i></a></div></div>\\n                            </div></div>                <!--PRODUCT EOF-->\\n\\n\\n        \\n                    \\n        \\n        <!--PRODUCT-->\\n        <div class=\"span2 product\">\\n                        <div class=\"product-image-wrapper nohover\">\\n                            \\n                            \\n                            <a href=\"http://www.othaimmarkets.com/grocery/oils-ghee/rf-virgin-olive-oil-500ml.html\"><img  src=\"https://www.othaimmarkets.com/media/catalog/product/cache/4/small_image/170x165/9df78eab33525d08d6e5fb8d27136e95/1/5/150085_0.jpg\" class=\"product-retina\" data-image2x=\"https://www.othaimmarkets.com/media/catalog/product/cache/4/small_image/340x330/9df78eab33525d08d6e5fb8d27136e95/1/5/150085_0.jpg\" width=\"170\" height=\"165\"  alt=\"زيت زيتون ار اف بكر زجاج 500مل\"></a>\\n        </div> <div class=\"wrapper-hover\">\\n                                <h3 class=\"product-name\"><a href=\"http://www.othaimmarkets.com/grocery/oils-ghee/rf-virgin-olive-oil-500ml.html\">زيت زيتون ار اف بكر زجاج 500مل</a></h3>\\n                                <div class=\"wrapper\">\\n\\n                \\n    <div class=\"price-box\">\\n                                                            <span class=\"regular-price\" id=\"product-price-970\">\\n                                            <span class=\"price\">17.50</span>                                    </span>\\n                        \\n        </div>\\n\\n<div class=\"product-tocart\"><a onclick=\"setLocationAjax(\\'http://www.othaimmarkets.com/checkout/cart/add/uenc/aHR0cHM6Ly93d3cub3RoYWltbWFya2V0cy5jb20vZ3JvY2VyeS9vaWxzLWdoZWUuaHRtbA,,/product/970/form_key/voZKKJcpDQ2us74H/\\',\\'970\\')\"><i class=\"icon-basket\"></i></a></div></div>\\n                            </div></div>                <!--PRODUCT EOF-->\\n\\n\\n        \\n                    \\n        \\n        <!--PRODUCT-->\\n        <div class=\"span2 product\">\\n                        <div class=\"product-image-wrapper nohover\">\\n                            <div class=\"label_new_top_left\">جديد</div>\\n                            \\n                            <a href=\"http://www.othaimmarkets.com/grocery/oils-ghee/olio-sasso-olive-oil-400ml.html\"><img  src=\"https://www.othaimmarkets.com/media/catalog/product/cache/4/small_image/170x165/9df78eab33525d08d6e5fb8d27136e95/9/2/92095_0.jpg\" class=\"product-retina\" data-image2x=\"https://www.othaimmarkets.com/media/catalog/product/cache/4/small_image/340x330/9df78eab33525d08d6e5fb8d27136e95/9/2/92095_0.jpg\" width=\"170\" height=\"165\"  alt=\"زيت زيتون ساسو علب 400مل\"></a>\\n        </div> <div class=\"wrapper-hover\">\\n                                <h3 class=\"product-name\"><a href=\"http://www.othaimmarkets.com/grocery/oils-ghee/olio-sasso-olive-oil-400ml.html\">زيت زيتون ساسو علب 400مل</a></h3>\\n                                <div class=\"wrapper\">\\n\\n                \\n    <div class=\"price-box\">\\n                                                            <span class=\"regular-price\" id=\"product-price-968\">\\n                                            <span class=\"price\">32.95</span>                                    </span>\\n                        \\n        </div>\\n\\n<div class=\"product-tocart\"><a onclick=\"setLocationAjax(\\'http://www.othaimmarkets.com/checkout/cart/add/uenc/aHR0cHM6Ly93d3cub3RoYWltbWFya2V0cy5jb20vZ3JvY2VyeS9vaWxzLWdoZWUuaHRtbA,,/product/968/form_key/voZKKJcpDQ2us74H/\\',\\'968\\')\"><i class=\"icon-basket\"></i></a></div></div>\\n                            </div></div>                <!--PRODUCT EOF-->\\n\\n\\n        \\n                    \\n        \\n        <!--PRODUCT-->\\n        <div class=\"span2 product\">\\n                        <div class=\"product-image-wrapper nohover\">\\n                            \\n                            \\n                            <a href=\"http://www.othaimmarkets.com/grocery/oils-ghee/olio-sasso-olive-oil-can175ml.html\"><img  src=\"https://www.othaimmarkets.com/media/catalog/product/cache/4/small_image/170x165/9df78eab33525d08d6e5fb8d27136e95/9/2/92085_0.jpg\" class=\"product-retina\" data-image2x=\"https://www.othaimmarkets.com/media/catalog/product/cache/4/small_image/340x330/9df78eab33525d08d6e5fb8d27136e95/9/2/92085_0.jpg\" width=\"170\" height=\"165\"  alt=\"زيت زيتون ساسو علب 175مل\"></a>\\n        </div> <div class=\"wrapper-hover\">\\n                                <h3 class=\"product-name\"><a href=\"http://www.othaimmarkets.com/grocery/oils-ghee/olio-sasso-olive-oil-can175ml.html\">زيت زيتون ساسو علب 175مل</a></h3>\\n                                <div class=\"wrapper\">\\n\\n                \\n    <div class=\"price-box\">\\n                                                            <span class=\"regular-price\" id=\"product-price-967\">\\n                                            <span class=\"price\">15.95</span>                                    </span>\\n                        \\n        </div>\\n\\n<div class=\"product-tocart\"><a onclick=\"setLocationAjax(\\'http://www.othaimmarkets.com/checkout/cart/add/uenc/aHR0cHM6Ly93d3cub3RoYWltbWFya2V0cy5jb20vZ3JvY2VyeS9vaWxzLWdoZWUuaHRtbA,,/product/967/form_key/voZKKJcpDQ2us74H/\\',\\'967\\')\"><i class=\"icon-basket\"></i></a></div></div>\\n                            </div></div>                <!--PRODUCT EOF-->\\n\\n\\n        \\n                    \\n        \\n        <!--PRODUCT-->\\n        <div class=\"span2 product\">\\n                        <div class=\"product-image-wrapper nohover\">\\n                            \\n                            \\n                            <a href=\"http://www.othaimmarkets.com/grocery/oils-ghee/alwazir-olive-oil-500ml.html\"><img  src=\"https://www.othaimmarkets.com/media/catalog/product/cache/4/small_image/170x165/9df78eab33525d08d6e5fb8d27136e95/1/6/16405.jpg\" class=\"product-retina\" data-image2x=\"https://www.othaimmarkets.com/media/catalog/product/cache/4/small_image/340x330/9df78eab33525d08d6e5fb8d27136e95/1/6/16405.jpg\" width=\"170\" height=\"165\"  alt=\"زيت زيتون الوزير زجاج 500مل\"></a>\\n        </div> <div class=\"wrapper-hover\">\\n                                <h3 class=\"product-name\"><a href=\"http://www.othaimmarkets.com/grocery/oils-ghee/alwazir-olive-oil-500ml.html\">زيت زيتون الوزير زجاج 500مل</a></h3>\\n                                <div class=\"wrapper\">\\n\\n                \\n    <div class=\"price-box\">\\n                                \\n                    <p class=\"old-price\">\\n                <span class=\"price-label\">سعر عادي:</span>\\n                <span class=\"price\" id=\"old-price-966\">\\n                    23.95                </span>\\n            </p>\\n\\n                            <p class=\"special-price\">\\n                    <span class=\"price-label\">Special Price</span>\\n                <span class=\"price\" id=\"product-price-966\">\\n                    21.95                </span>\\n                </p>\\n                    \\n    \\n        </div>\\n\\n<div class=\"product-tocart\"><a onclick=\"setLocationAjax(\\'http://www.othaimmarkets.com/checkout/cart/add/uenc/aHR0cHM6Ly93d3cub3RoYWltbWFya2V0cy5jb20vZ3JvY2VyeS9vaWxzLWdoZWUuaHRtbA,,/product/966/form_key/voZKKJcpDQ2us74H/\\',\\'966\\')\"><i class=\"icon-basket\"></i></a></div></div>\\n                            </div></div>                <!--PRODUCT EOF-->\\n\\n\\n        \\n                    \\n        \\n        <!--PRODUCT-->\\n        <div class=\"span2 product\">\\n                        <div class=\"product-image-wrapper nohover\">\\n                            <div class=\"label_new_top_left\">جديد</div>\\n                            \\n                            <a href=\"http://www.othaimmarkets.com/grocery/oils-ghee/mazola-v-ghee-butter-can-2l.html\"><img  src=\"https://www.othaimmarkets.com/media/catalog/product/cache/4/small_image/170x165/9df78eab33525d08d6e5fb8d27136e95/5/8/58525_0.jpg\" class=\"product-retina\" data-image2x=\"https://www.othaimmarkets.com/media/catalog/product/cache/4/small_image/340x330/9df78eab33525d08d6e5fb8d27136e95/5/8/58525_0.jpg\" width=\"170\" height=\"165\"  alt=\"سمن مازولا نباتي زبدة 2لتر\"></a>\\n        </div> <div class=\"wrapper-hover\">\\n                                <h3 class=\"product-name\"><a href=\"http://www.othaimmarkets.com/grocery/oils-ghee/mazola-v-ghee-butter-can-2l.html\">سمن مازولا نباتي زبدة 2لتر</a></h3>\\n                                <div class=\"wrapper\">\\n\\n                \\n    <div class=\"price-box\">\\n                                                            <span class=\"regular-price\" id=\"product-price-965\">\\n                                            <span class=\"price\">54.95</span>                                    </span>\\n                        \\n        </div>\\n\\n<div class=\"product-tocart\"><a onclick=\"setLocationAjax(\\'http://www.othaimmarkets.com/checkout/cart/add/uenc/aHR0cHM6Ly93d3cub3RoYWltbWFya2V0cy5jb20vZ3JvY2VyeS9vaWxzLWdoZWUuaHRtbA,,/product/965/form_key/voZKKJcpDQ2us74H/\\',\\'965\\')\"><i class=\"icon-basket\"></i></a></div></div>\\n                            </div></div>                <!--PRODUCT EOF-->\\n\\n\\n        \\n                    \\n        \\n        <!--PRODUCT-->\\n        <div class=\"span2 product\">\\n                        <div class=\"product-image-wrapper nohover\">\\n                            <div class=\"label_new_top_left\">جديد</div>\\n                            \\n                            <a href=\"http://www.othaimmarkets.com/grocery/oils-ghee/rs-olive-oil-bottle-500ml.html\"><img  src=\"https://www.othaimmarkets.com/media/catalog/product/cache/4/small_image/170x165/9df78eab33525d08d6e5fb8d27136e95/5/6/56385.jpg\" class=\"product-retina\" data-image2x=\"https://www.othaimmarkets.com/media/catalog/product/cache/4/small_image/340x330/9df78eab33525d08d6e5fb8d27136e95/5/6/56385.jpg\" width=\"170\" height=\"165\"  alt=\"زيت زيتون ار اس زجاج 500مل\"></a>\\n        </div> <div class=\"wrapper-hover\">\\n                                <h3 class=\"product-name\"><a href=\"http://www.othaimmarkets.com/grocery/oils-ghee/rs-olive-oil-bottle-500ml.html\">زيت زيتون ار اس زجاج 500مل</a></h3>\\n                                <div class=\"wrapper\">\\n\\n                \\n    <div class=\"price-box\">\\n                                                            <span class=\"regular-price\" id=\"product-price-963\">\\n                                            <span class=\"price\">25.50</span>                                    </span>\\n                        \\n        </div>\\n\\n<div class=\"product-tocart\"><a onclick=\"setLocationAjax(\\'http://www.othaimmarkets.com/checkout/cart/add/uenc/aHR0cHM6Ly93d3cub3RoYWltbWFya2V0cy5jb20vZ3JvY2VyeS9vaWxzLWdoZWUuaHRtbA,,/product/963/form_key/voZKKJcpDQ2us74H/\\',\\'963\\')\"><i class=\"icon-basket\"></i></a></div></div>\\n                            </div></div>                <!--PRODUCT EOF-->\\n\\n\\n        \\n                    \\n        \\n        <!--PRODUCT-->\\n        <div class=\"span2 product\">\\n                        <div class=\"product-image-wrapper nohover\">\\n                            \\n                            \\n                            <a href=\"http://www.othaimmarkets.com/grocery/oils-ghee/mazola-veg-ghee-butter-can-1l.html\"><img  src=\"https://www.othaimmarkets.com/media/catalog/product/cache/4/small_image/170x165/9df78eab33525d08d6e5fb8d27136e95/m/a/mazolaveggheebutterflav1lt_0.jpg\" class=\"product-retina\" data-image2x=\"https://www.othaimmarkets.com/media/catalog/product/cache/4/small_image/340x330/9df78eab33525d08d6e5fb8d27136e95/m/a/mazolaveggheebutterflav1lt_0.jpg\" width=\"170\" height=\"165\"  alt=\"سمن مازولا زبدة نباتي 1لتر\"></a>\\n        </div> <div class=\"wrapper-hover\">\\n                                <h3 class=\"product-name\"><a href=\"http://www.othaimmarkets.com/grocery/oils-ghee/mazola-veg-ghee-butter-can-1l.html\">سمن مازولا زبدة نباتي 1لتر</a></h3>\\n                                <div class=\"wrapper\">\\n\\n                \\n    <div class=\"price-box\">\\n                                                            <span class=\"regular-price\" id=\"product-price-960\">\\n                                            <span class=\"price\">28.95</span>                                    </span>\\n                        \\n        </div>\\n\\n<div class=\"product-tocart\"><a onclick=\"setLocationAjax(\\'http://www.othaimmarkets.com/checkout/cart/add/uenc/aHR0cHM6Ly93d3cub3RoYWltbWFya2V0cy5jb20vZ3JvY2VyeS9vaWxzLWdoZWUuaHRtbA,,/product/960/form_key/voZKKJcpDQ2us74H/\\',\\'960\\')\"><i class=\"icon-basket\"></i></a></div></div>\\n                            </div></div>                <!--PRODUCT EOF-->\\n\\n\\n        \\n                    \\n        \\n        <!--PRODUCT-->\\n        <div class=\"span2 product\">\\n                        <div class=\"product-image-wrapper nohover\">\\n                            \\n                            \\n                            <a href=\"http://www.othaimmarkets.com/grocery/oils-ghee/delico-vegetable-ghee-900g.html\"><img  src=\"https://www.othaimmarkets.com/media/catalog/product/cache/4/small_image/170x165/9df78eab33525d08d6e5fb8d27136e95/7/4/747005_0.jpg\" class=\"product-retina\" data-image2x=\"https://www.othaimmarkets.com/media/catalog/product/cache/4/small_image/340x330/9df78eab33525d08d6e5fb8d27136e95/7/4/747005_0.jpg\" width=\"170\" height=\"165\"  alt=\"سمن ديلكو شوكة وملعقة 900 جرام\"></a>\\n        </div> <div class=\"wrapper-hover\">\\n                                <h3 class=\"product-name\"><a href=\"http://www.othaimmarkets.com/grocery/oils-ghee/delico-vegetable-ghee-900g.html\">سمن ديلكو شوكة وملعقة 900 جرام</a></h3>\\n                                <div class=\"wrapper\">\\n\\n                \\n    <div class=\"price-box\">\\n                                \\n                    <p class=\"old-price\">\\n                <span class=\"price-label\">سعر عادي:</span>\\n                <span class=\"price\" id=\"old-price-959\">\\n                    23.95                </span>\\n            </p>\\n\\n                            <p class=\"special-price\">\\n                    <span class=\"price-label\">Special Price</span>\\n                <span class=\"price\" id=\"product-price-959\">\\n                    19.95                </span>\\n                </p>\\n                    \\n    \\n        </div>\\n\\n<div class=\"product-tocart\"><a onclick=\"setLocationAjax(\\'http://www.othaimmarkets.com/checkout/cart/add/uenc/aHR0cHM6Ly93d3cub3RoYWltbWFya2V0cy5jb20vZ3JvY2VyeS9vaWxzLWdoZWUuaHRtbA,,/product/959/form_key/voZKKJcpDQ2us74H/\\',\\'959\\')\"><i class=\"icon-basket\"></i></a></div></div>\\n                            </div></div>                <!--PRODUCT EOF-->\\n\\n\\n        \\n                    \\n        \\n        <!--PRODUCT-->\\n        <div class=\"span2 product\">\\n                        <div class=\"product-image-wrapper nohover\">\\n                            <div class=\"label_new_top_left\">جديد</div>\\n                            \\n                            <a href=\"http://www.othaimmarkets.com/grocery/oils-ghee/nakheel-oil.html\"><img  src=\"https://www.othaimmarkets.com/media/catalog/product/cache/4/small_image/170x165/9df78eab33525d08d6e5fb8d27136e95/9/1/912955.jpg\" class=\"product-retina\" data-image2x=\"https://www.othaimmarkets.com/media/catalog/product/cache/4/small_image/340x330/9df78eab33525d08d6e5fb8d27136e95/9/1/912955.jpg\" width=\"170\" height=\"165\"  alt=\"نخيل زيت نباتي للقلي ١٫٥ لتر\"></a>\\n        </div> <div class=\"wrapper-hover\">\\n                                <h3 class=\"product-name\"><a href=\"http://www.othaimmarkets.com/grocery/oils-ghee/nakheel-oil.html\">نخيل زيت نباتي للقلي ١٫٥ لتر</a></h3>\\n                                <div class=\"wrapper\">\\n\\n                \\n    <div class=\"price-box\">\\n                                                            <span class=\"regular-price\" id=\"product-price-7900\">\\n                                            <span class=\"price\">17.95</span>                                    </span>\\n                        \\n        </div>\\n\\n<div class=\"product-tocart\"><a onclick=\"setLocationAjax(\\'http://www.othaimmarkets.com/checkout/cart/add/uenc/aHR0cHM6Ly93d3cub3RoYWltbWFya2V0cy5jb20vZ3JvY2VyeS9vaWxzLWdoZWUuaHRtbA,,/product/7900/form_key/voZKKJcpDQ2us74H/\\',\\'7900\\')\"><i class=\"icon-basket\"></i></a></div></div>\\n                            </div></div>                <!--PRODUCT EOF-->\\n\\n\\n        \\n                    \\n        \\n        <!--PRODUCT-->\\n        <div class=\"span2 product\">\\n                        <div class=\"product-image-wrapper nohover\">\\n                            \\n                            \\n                            <a href=\"http://www.othaimmarkets.com/grocery/oils-ghee/noor-sunflower-oil-1-8l.html\"><img  src=\"https://www.othaimmarkets.com/media/catalog/product/cache/4/small_image/170x165/9df78eab33525d08d6e5fb8d27136e95/7/0/706775_1.jpg\" class=\"product-retina\" data-image2x=\"https://www.othaimmarkets.com/media/catalog/product/cache/4/small_image/340x330/9df78eab33525d08d6e5fb8d27136e95/7/0/706775_1.jpg\" width=\"170\" height=\"165\"  alt=\"زيت نور دوار الشمس 1.8لتر\"></a>\\n        </div> <div class=\"wrapper-hover\">\\n                                <h3 class=\"product-name\"><a href=\"http://www.othaimmarkets.com/grocery/oils-ghee/noor-sunflower-oil-1-8l.html\">زيت نور دوار الشمس 1.8لتر</a></h3>\\n                                <div class=\"wrapper\">\\n\\n                \\n    <div class=\"price-box\">\\n                                \\n                    <p class=\"old-price\">\\n                <span class=\"price-label\">سعر عادي:</span>\\n                <span class=\"price\" id=\"old-price-996\">\\n                    27.95                </span>\\n            </p>\\n\\n                            <p class=\"special-price\">\\n                    <span class=\"price-label\">Special Price</span>\\n                <span class=\"price\" id=\"product-price-996\">\\n                    19.95                </span>\\n                </p>\\n                    \\n    \\n        </div>\\n\\n<div class=\"product-tocart\"><a onclick=\"setLocationAjax(\\'http://www.othaimmarkets.com/checkout/cart/add/uenc/aHR0cHM6Ly93d3cub3RoYWltbWFya2V0cy5jb20vZ3JvY2VyeS9vaWxzLWdoZWUuaHRtbA,,/product/996/form_key/voZKKJcpDQ2us74H/\\',\\'996\\')\"><i class=\"icon-basket\"></i></a></div></div>\\n                            </div></div>                <!--PRODUCT EOF-->\\n\\n\\n        \\n                    \\n        \\n        <!--PRODUCT-->\\n        <div class=\"span2 product\">\\n                        <div class=\"product-image-wrapper nohover\">\\n                            \\n                            \\n                            <a href=\"http://www.othaimmarkets.com/grocery/oils-ghee/alsawsan-olive-oil-can-800ml.html\"><img  src=\"https://www.othaimmarkets.com/media/catalog/product/cache/4/small_image/170x165/9df78eab33525d08d6e5fb8d27136e95/s/a/sawsan-800ml.jpg\" class=\"product-retina\" data-image2x=\"https://www.othaimmarkets.com/media/catalog/product/cache/4/small_image/340x330/9df78eab33525d08d6e5fb8d27136e95/s/a/sawsan-800ml.jpg\" width=\"170\" height=\"165\"  alt=\"زيت زيتون السوسن بكر علب 800مل\"></a>\\n        </div> <div class=\"wrapper-hover\">\\n                                <h3 class=\"product-name\"><a href=\"http://www.othaimmarkets.com/grocery/oils-ghee/alsawsan-olive-oil-can-800ml.html\">زيت زيتون السوسن بكر علب 800مل</a></h3>\\n                                <div class=\"wrapper\">\\n\\n                \\n    <div class=\"price-box\">\\n                                                            <span class=\"regular-price\" id=\"product-price-990\">\\n                                            <span class=\"price\">32.95</span>                                    </span>\\n                        \\n        </div>\\n\\n<div class=\"product-tocart\"><a onclick=\"setLocationAjax(\\'http://www.othaimmarkets.com/checkout/cart/add/uenc/aHR0cHM6Ly93d3cub3RoYWltbWFya2V0cy5jb20vZ3JvY2VyeS9vaWxzLWdoZWUuaHRtbA,,/product/990/form_key/voZKKJcpDQ2us74H/\\',\\'990\\')\"><i class=\"icon-basket\"></i></a></div></div>\\n                            </div></div>                <!--PRODUCT EOF-->\\n\\n\\n        \\n                    \\n        \\n        <!--PRODUCT-->\\n        <div class=\"span2 product\">\\n                        <div class=\"product-image-wrapper nohover\">\\n                            \\n                            \\n                            <a href=\"http://www.othaimmarkets.com/grocery/oils-ghee/rahma-virgin-olive-oil-250ml.html\"><img  src=\"https://www.othaimmarkets.com/skin/frontend/default/othaimshop/images/catalog/product/placeholder/small_image.jpg\" class=\"product-retina\" data-image2x=\"https://www.othaimmarkets.com/skin/frontend/default/othaimshop/images/catalog/product/placeholder/small_image.jpg\" width=\"170\" height=\"165\"  alt=\"زيت زيتون رحمة زجاج 250مل\"></a>\\n        </div> <div class=\"wrapper-hover\">\\n                                <h3 class=\"product-name\"><a href=\"http://www.othaimmarkets.com/grocery/oils-ghee/rahma-virgin-olive-oil-250ml.html\">زيت زيتون رحمة زجاج 250مل</a></h3>\\n                                <div class=\"wrapper\">\\n\\n                \\n    <div class=\"price-box\">\\n                                                            <span class=\"regular-price\" id=\"product-price-988\">\\n                                            <span class=\"price\">19.95</span>                                    </span>\\n                        \\n        </div>\\n\\n<div class=\"product-tocart\"><a onclick=\"setLocationAjax(\\'http://www.othaimmarkets.com/checkout/cart/add/uenc/aHR0cHM6Ly93d3cub3RoYWltbWFya2V0cy5jb20vZ3JvY2VyeS9vaWxzLWdoZWUuaHRtbA,,/product/988/form_key/voZKKJcpDQ2us74H/\\',\\'988\\')\"><i class=\"icon-basket\"></i></a></div></div>\\n                            </div></div>                <!--PRODUCT EOF-->\\n\\n\\n        \\n    \\n</div>\\n\\n    <div id=\"bottomtoolbar\">\\n    <div class=\"toolbar\">\\r\\n<div class=\"listing_header_row1\">\\r\\n    <div class=\"pull-left\">\\r\\n        <label>ترتيب حسب:</label>\\r\\n        <div class=\"select_wrapper width1\">\\r\\n\\r\\n                        <select name=\"select1\" class=\"custom\" tabindex=\"1\"  onchange=\"setLocation(this.value)\">\\r\\n                                                        <option value=\"http://www.othaimmarkets.com/grocery/oils-ghee.html?dir=asc&amp;order=position\" selected=\"selected\">\\r\\n                                موقع                            </option>\\r\\n                                                        <option value=\"http://www.othaimmarkets.com/grocery/oils-ghee.html?dir=asc&amp;order=name\">\\r\\n                                الاسم                            </option>\\r\\n                                                        <option value=\"http://www.othaimmarkets.com/grocery/oils-ghee.html?dir=asc&amp;order=price\">\\r\\n                                السعر                            </option>\\r\\n                                                    </select>\\r\\n\\r\\n\\r\\n        </div>\\r\\n                <a href=\"http://www.othaimmarkets.com/grocery/oils-ghee.html?dir=desc&amp;order=position\" title=\"تحديد الاتجاه التنازلي\"><i class=\"icon-up hidden-phone\"></i></a>\\r\\n            </div>\\r\\n    <div class=\"pull-left aligncenter hidden-phone\">\\r\\n\\r\\n                        <label> <span class=\"hidden-tablet\">طريقة العرض:</span></label>\\r\\n\\r\\n                    \\r\\n\\r\\n                \\r\\n                                    <a  class=\"icon-th active\"></a>\\r\\n                    \\r\\n\\r\\n                                        \\r\\n                                    <a href=\"http://www.othaimmarkets.com/grocery/oils-ghee.html?mode=list\" class=\"icon-th-list\"></a>\\r\\n                    \\r\\n                \\r\\n\\r\\n                                    \\r\\n\\r\\n    </div>\\r\\n\\r\\n\\r\\n\\r\\n    <div class=\"pull-right alignright\">\\r\\n        <label><span class=\"hidden-phone\">عرض:</span></label>\\r\\n        <div class=\"select_wrapper width2\">\\r\\n            <select name=\"select2\" class=\"custom\" tabindex=\"2\"  onchange=\"setLocation(this.value)\">\\r\\n                                <option value=\"http://www.othaimmarkets.com/grocery/oils-ghee.html?limit=9\">\\r\\n                    9                </option>\\r\\n                                <option value=\"http://www.othaimmarkets.com/grocery/oils-ghee.html?limit=18\" selected=\"selected\">\\r\\n                    18                </option>\\r\\n                                <option value=\"http://www.othaimmarkets.com/grocery/oils-ghee.html?limit=30\">\\r\\n                    30                </option>\\r\\n                            </select>\\r\\n        </div>\\r\\n        للصفحة    </div>\\r\\n</div>\\r\\n<div class=\"line1\"></div>\\r\\n\\r\\n<div class=\"listing_header_row2\">\\r\\n    <div class=\"pull-left\">\\r\\n                عناصر 1 الى  18  من  46              </div>\\r\\n    <div class=\"pull-right\">\\r\\n        <div class=\"num\">\\r\\n                    <div class=\"pages\">\\n\\n       \\n        \\n        \\n                                    <a class=\"active\">1</a>\\n                                                <a href=\"https://www.othaimmarkets.com/grocery/oils-ghee.html?p=2\">2</a>\\n                                                <a href=\"https://www.othaimmarkets.com/grocery/oils-ghee.html?p=3\">3</a>\\n                    \\n\\n        \\n        \\n        \\n\\n                <a class=\"small_icon\" href=\"https://www.othaimmarkets.com/grocery/oils-ghee.html?p=2\"><i class=\"icon-right-thin\"></i></a>\\n\\n\\n\\n        \\n\\n    </div>\\n    \\n\\n            \\r\\n        </div>\\r\\n    </div>\\r\\n</div>\\r\\n</div>\\r\\n</div>\\n</div>\\n<script type=\"text/javascript\">\\n// jQuery( document ).ready(function() {\\n// \\tvar reloadurl = \"http://localhost/magento2/index.php/fresh-and-bakery/fresh-chicken-eggs.html\";\\n        \\n//         new Ajax.Request(reloadurl, {\\n//             method: \\'get\\',\\n//             onLoading: function (transport) {\\n// \\t\\t\\t\\t$(\\'my_products\\').update(\\'Loading...\\');\\n//             },\\n//             onComplete: function(transport) {\\n// \\t\\t\\t \\t$(\\'my_products\\').update(transport.responseText);\\n//             }\\n//         });\\n// });\\n</script>\\n                          </div>\\n          \\n                <div class=\"col-md-3\" id=\"column_left\">\\n            <div class=\"row\">\\n                <div class=\"span3\"><div class=\"block_listing\">\\r\\n    <div class=\"block block-layered-nav leftmenu\">\\r\\n        <div class=\"block-title\"><strong><span>شجرة الأصناف</span></strong></div>\\r\\n        <div class=\"block-content\">\\r\\n            <ul id=\"collapsed-menu\">\\r\\n            <li class=\"level0 nav-1 active first parent current\">\\n<label class=\"tree-toggler nav-header opened\">\\r\\n                           <a href=\"http://www.othaimmarkets.com/grocery.html\">غذائية</a></label>\\n<ul class=\"nav nav-list tree\">\\n<li class=\"level1 nav-1-1 first\">\\n<label class=\"tree-toggler nav-header closed\">\\r\\n                           <a href=\"http://www.othaimmarkets.com/grocery/hot-drinks.html\">مشروبات ساخنة</a></label>\\n</li><li class=\"level1 nav-1-2\">\\n<label class=\"tree-toggler nav-header closed\">\\r\\n                           <a href=\"http://www.othaimmarkets.com/grocery/home-baking.html\">تصنيع الحلويات والمخبوزات</a></label>\\n</li><li class=\"level1 nav-1-3\">\\n<label class=\"tree-toggler nav-header closed\">\\r\\n                           <a href=\"http://www.othaimmarkets.com/grocery/canned-foods.html\">معلبات</a></label>\\n</li><li class=\"level1 nav-1-4\">\\n<label class=\"tree-toggler nav-header closed\">\\r\\n                           <a href=\"http://www.othaimmarkets.com/grocery/milk.html\">حليب</a></label>\\n</li><li class=\"level1 nav-1-5\">\\n<label class=\"tree-toggler nav-header closed\">\\r\\n                           <a href=\"http://www.othaimmarkets.com/grocery/uht-cream.html\">أجبان وقشطة وزبدة</a></label>\\n</li><li class=\"level1 nav-1-6\">\\n<label class=\"tree-toggler nav-header closed\">\\r\\n                           <a href=\"http://www.othaimmarkets.com/grocery/dietary-products.html\">منتجات الحمية</a></label>\\n</li><li class=\"level1 nav-1-7\">\\n<label class=\"tree-toggler nav-header closed\">\\r\\n                           <a href=\"http://www.othaimmarkets.com/grocery/sauces-tomato-paste.html\">صلصات ومعجون الطماطم</a></label>\\n</li><li class=\"level1 nav-1-8 active current\">\\n<label class=\"tree-toggler nav-header opened\">\\r\\n                           <a href=\"http://www.othaimmarkets.com/grocery/oils-ghee.html\">زيوت وسمن</a></label>\\n</li><li class=\"level1 nav-1-9\">\\n<label class=\"tree-toggler nav-header closed\">\\r\\n                           <a href=\"http://www.othaimmarkets.com/grocery/pasta-noodles-soup.html\">معكرونة وشوربة</a></label>\\n</li><li class=\"level1 nav-1-10\">\\n<label class=\"tree-toggler nav-header closed\">\\r\\n                           <a href=\"http://www.othaimmarkets.com/grocery/rice-sugar.html\">الأرز والسكر </a></label>\\n</li><li class=\"level1 nav-1-11\">\\n<label class=\"tree-toggler nav-header closed\">\\r\\n                           <a href=\"http://www.othaimmarkets.com/grocery/oriental-food.html\">مأكولات آسيوية</a></label>\\n</li><li class=\"level1 nav-1-12\">\\n<label class=\"tree-toggler nav-header closed\">\\r\\n                           <a href=\"http://www.othaimmarkets.com/grocery/cereal-food.html\">حبوب إفطار</a></label>\\n</li><li class=\"level1 nav-1-13 last\">\\n<label class=\"tree-toggler nav-header closed\">\\r\\n                           <a href=\"http://www.othaimmarkets.com/grocery/breakfast-food.html\">أغذية إفطار</a></label>\\n</li>\\n</ul>\\n</li><li class=\"level0 nav-2 parent\">\\n<label class=\"tree-toggler nav-header closed\">\\r\\n                           <a href=\"http://www.othaimmarkets.com/fresh-and-bakery.html\">الطازج</a></label>\\n<ul class=\"nav nav-list tree\">\\n<li class=\"level1 nav-2-1 first\">\\n<label class=\"tree-toggler nav-header closed\">\\r\\n                           <a href=\"http://www.othaimmarkets.com/fresh-and-bakery/bakery.html\">الخبز والحلويات</a></label>\\n</li><li class=\"level1 nav-2-2\">\\n<label class=\"tree-toggler nav-header closed\">\\r\\n                           <a href=\"http://www.othaimmarkets.com/fresh-and-bakery/fresh-chicken-eggs.html\">دواجن وبيض </a></label>\\n</li><li class=\"level1 nav-2-3\">\\n<label class=\"tree-toggler nav-header closed\">\\r\\n                           <a href=\"http://www.othaimmarkets.com/fresh-and-bakery/dairy-products.html\">منتجات ألبان</a></label>\\n</li><li class=\"level1 nav-2-4\">\\n<label class=\"tree-toggler nav-header closed\">\\r\\n                           <a href=\"http://www.othaimmarkets.com/fresh-and-bakery/fruit-vegetables.html\">فواكه وخضروات</a></label>\\n</li><li class=\"level1 nav-2-5\">\\n<label class=\"tree-toggler nav-header closed\">\\r\\n                           <a href=\"http://www.othaimmarkets.com/fresh-and-bakery/fresh-meat.html\">لحوم</a></label>\\n</li><li class=\"level1 nav-2-6 last\">\\n<label class=\"tree-toggler nav-header closed\">\\r\\n                           <a href=\"http://www.othaimmarkets.com/fresh-and-bakery/delicatessens.html\">أجبان ولانشون وزيتون</a></label>\\n</li>\\n</ul>\\n</li><li class=\"level0 nav-3 parent\">\\n<label class=\"tree-toggler nav-header closed\">\\r\\n                           <a href=\"http://www.othaimmarkets.com/frozen.html\">المجمدات</a></label>\\n<ul class=\"nav nav-list tree\">\\n<li class=\"level1 nav-3-1 first\">\\n<label class=\"tree-toggler nav-header closed\">\\r\\n                           <a href=\"http://www.othaimmarkets.com/frozen/ice-cream-cakes22.html\">آيس كريم وحلويات</a></label>\\n</li><li class=\"level1 nav-3-2\">\\n<label class=\"tree-toggler nav-header closed\">\\r\\n                           <a href=\"http://www.othaimmarkets.com/frozen/fruit-vegetables.html\">خضروات وفواكه</a></label>\\n</li><li class=\"level1 nav-3-3\">\\n<label class=\"tree-toggler nav-header closed\">\\r\\n                           <a href=\"http://www.othaimmarkets.com/frozen/pastries.html\">معجنات للتحضير </a></label>\\n</li><li class=\"level1 nav-3-4\">\\n<label class=\"tree-toggler nav-header closed\">\\r\\n                           <a href=\"http://www.othaimmarkets.com/frozen/ready-to-eat.html\">مأكولات مسبقة التحضير</a></label>\\n</li><li class=\"level1 nav-3-5\">\\n<label class=\"tree-toggler nav-header closed\">\\r\\n                           <a href=\"http://www.othaimmarkets.com/frozen/chicken-meat.html\">لحوم ودواجن</a></label>\\n</li><li class=\"level1 nav-3-6 last\">\\n<label class=\"tree-toggler nav-header closed\">\\r\\n                           <a href=\"http://www.othaimmarkets.com/frozen/fish-seafood.html\">أسماك وأطعمة بحرية</a></label>\\n</li>\\n</ul>\\n</li><li class=\"level0 nav-4 parent\">\\n<label class=\"tree-toggler nav-header closed\">\\r\\n                           <a href=\"http://www.othaimmarkets.com/beverage-confectionery.html\">مشروبات وحلويات</a></label>\\n<ul class=\"nav nav-list tree\">\\n<li class=\"level1 nav-4-1 first\">\\n<label class=\"tree-toggler nav-header closed\">\\r\\n                           <a href=\"http://www.othaimmarkets.com/beverage-confectionery/confectionery-snacks.html\">حلويات وتسالي</a></label>\\n</li><li class=\"level1 nav-4-2 last\">\\n<label class=\"tree-toggler nav-header closed\">\\r\\n                           <a href=\"http://www.othaimmarkets.com/beverage-confectionery/drinks-juice.html\">مشروبات وعصائر</a></label>\\n</li>\\n</ul>\\n</li><li class=\"level0 nav-5 parent\">\\n<label class=\"tree-toggler nav-header closed\">\\r\\n                           <a href=\"http://www.othaimmarkets.com/health-beauty.html\">الصحة والجمال</a></label>\\n<ul class=\"nav nav-list tree\">\\n<li class=\"level1 nav-5-1 first\">\\n<label class=\"tree-toggler nav-header closed\">\\r\\n                           <a href=\"http://www.othaimmarkets.com/health-beauty/shaving-needs.html\">مستلزمات حلاقة </a></label>\\n</li><li class=\"level1 nav-5-2\">\\n<label class=\"tree-toggler nav-header closed\">\\r\\n                           <a href=\"http://www.othaimmarkets.com/health-beauty/woman-care.html\">عناية المرأة</a></label>\\n</li><li class=\"level1 nav-5-3\">\\n<label class=\"tree-toggler nav-header closed\">\\r\\n                           <a href=\"http://www.othaimmarkets.com/health-beauty/body-face-care.html\">عناية الجسم والوجه</a></label>\\n</li><li class=\"level1 nav-5-4\">\\n<label class=\"tree-toggler nav-header closed\">\\r\\n                           <a href=\"http://www.othaimmarkets.com/health-beauty/hand-soap-shower-gel.html\">صابون الأيدي والجسم </a></label>\\n</li><li class=\"level1 nav-5-5\">\\n<label class=\"tree-toggler nav-header closed\">\\r\\n                           <a href=\"http://www.othaimmarkets.com/health-beauty/deodorant.html\">مزيلات عرق</a></label>\\n</li><li class=\"level1 nav-5-6\">\\n<label class=\"tree-toggler nav-header closed\">\\r\\n                           <a href=\"http://www.othaimmarkets.com/health-beauty/dental-care.html\">عناية الأسنان</a></label>\\n</li><li class=\"level1 nav-5-7 last\">\\n<label class=\"tree-toggler nav-header closed\">\\r\\n                           <a href=\"http://www.othaimmarkets.com/health-beauty/hair-care.html\">عناية  الشعر </a></label>\\n</li>\\n</ul>\\n</li><li class=\"level0 nav-6 parent\">\\n<label class=\"tree-toggler nav-header closed\">\\r\\n                           <a href=\"http://www.othaimmarkets.com/baby-needs-5.html\">احتياجات الطفل</a></label>\\n<ul class=\"nav nav-list tree\">\\n<li class=\"level1 nav-6-1 first\">\\n<label class=\"tree-toggler nav-header closed\">\\r\\n                           <a href=\"http://www.othaimmarkets.com/baby-needs-5/baby-food.html\">عناية الطفل</a></label>\\n</li><li class=\"level1 nav-6-2 last\">\\n<label class=\"tree-toggler nav-header closed\">\\r\\n                           <a href=\"http://www.othaimmarkets.com/baby-needs-5/baby-food-1.html\">أغذية الطفل</a></label>\\n</li>\\n</ul>\\n</li><li class=\"level0 nav-7 parent\">\\n<label class=\"tree-toggler nav-header closed\">\\r\\n                           <a href=\"http://www.othaimmarkets.com/home-care.html\">عناية المنزل </a></label>\\n<ul class=\"nav nav-list tree\">\\n<li class=\"level1 nav-7-1 first\">\\n<label class=\"tree-toggler nav-header closed\">\\r\\n                           <a href=\"http://www.othaimmarkets.com/home-care/kitchen-needs.html\">أواني منزلية </a></label>\\n</li><li class=\"level1 nav-7-2\">\\n<label class=\"tree-toggler nav-header closed\">\\r\\n                           <a href=\"http://www.othaimmarkets.com/home-care/household.html\">غسيل الملابس </a></label>\\n</li><li class=\"level1 nav-7-3\">\\n<label class=\"tree-toggler nav-header closed\">\\r\\n                           <a href=\"http://www.othaimmarkets.com/home-care/clothes-care.html\">عناية الملابس</a></label>\\n</li><li class=\"level1 nav-7-4\">\\n<label class=\"tree-toggler nav-header closed\">\\r\\n                           <a href=\"http://www.othaimmarkets.com/home-care/dishwashing.html\">غسيل وتنظيف الصحون</a></label>\\n</li><li class=\"level1 nav-7-5\">\\n<label class=\"tree-toggler nav-header closed\">\\r\\n                           <a href=\"http://www.othaimmarkets.com/home-care/disinfectant-cleaner-freshener.html\">مطهرات وملمعات ومعطرات</a></label>\\n</li><li class=\"level1 nav-7-6\">\\n<label class=\"tree-toggler nav-header closed\">\\r\\n                           <a href=\"http://www.othaimmarkets.com/home-care/foils-cling-films.html\">قصدير وحفظ وتغليف الماكؤلات</a></label>\\n</li><li class=\"level1 nav-7-7\">\\n<label class=\"tree-toggler nav-header closed\">\\r\\n                           <a href=\"http://www.othaimmarkets.com/home-care/plastic-products.html\">منتجات بلاستيكية</a></label>\\n</li><li class=\"level1 nav-7-8\">\\n<label class=\"tree-toggler nav-header closed\">\\r\\n                           <a href=\"http://www.othaimmarkets.com/home-care/paper-products.html\">منتجات ورقية </a></label>\\n</li><li class=\"level1 nav-7-9\">\\n<label class=\"tree-toggler nav-header closed\">\\r\\n                           <a href=\"http://www.othaimmarkets.com/home-care/pet-food.html\">طعام حيوانات </a></label>\\n</li><li class=\"level1 nav-7-10 last\">\\n<label class=\"tree-toggler nav-header closed\">\\r\\n                           <a href=\"http://www.othaimmarkets.com/home-care/household-5.html\">أدوات منزلية</a></label>\\n</li>\\n</ul>\\n</li><li class=\"level0 nav-8 last parent\">\\n<label class=\"tree-toggler nav-header closed\">\\r\\n                           <a href=\"http://www.othaimmarkets.com/electronics-appliances.html\">الإلكترونيات والأجهزة</a></label>\\n<ul class=\"nav nav-list tree\">\\n<li class=\"level1 nav-8-1 first\">\\n<label class=\"tree-toggler nav-header closed\">\\r\\n                           <a href=\"http://www.othaimmarkets.com/electronics-appliances/audio-video.html\">شاشات واجهزة صوتية</a></label>\\n</li><li class=\"level1 nav-8-2\">\\n<label class=\"tree-toggler nav-header closed\">\\r\\n                           <a href=\"http://www.othaimmarkets.com/electronics-appliances/mobiles-tablets.html\">جوالات وأجهزة لوحية </a></label>\\n</li><li class=\"level1 nav-8-3 last parent\">\\n<label class=\"tree-toggler nav-header closed\">\\r\\n                           <a href=\"http://www.othaimmarkets.com/electronics-appliances/home-appliances.html\">أجهزة منزلية</a></label>\\n<ul class=\"nav nav-list tree\">\\n<li class=\"level2 nav-8-3-1 first\">\\n<label class=\"tree-toggler nav-header closed\">\\r\\n                           <a href=\"http://www.othaimmarkets.com/electronics-appliances/home-appliances/kitchen-appliances.html\">أجهزة المطبخ</a></label>\\n</li><li class=\"level2 nav-8-3-2\">\\n<label class=\"tree-toggler nav-header closed\">\\r\\n                           <a href=\"http://www.othaimmarkets.com/electronics-appliances/home-appliances/heaters-coolers.html\">دفايات وبرادة</a></label>\\n</li><li class=\"level2 nav-8-3-3 last\">\\n<label class=\"tree-toggler nav-header closed\">\\r\\n                           <a href=\"http://www.othaimmarkets.com/electronics-appliances/home-appliances/vacuum-cleaner.html\">اجهزة عناية وتنظيف</a></label>\\n</li>\\n</ul>\\n</li>\\n</ul>\\n</li>\\r\\n        </div>\\r\\n    </div>\\r\\n</div>\\r\\n\\r\\n\\r\\n\\r\\n<script>\\r\\n    jQuery(document).ready(function () {\\r\\n        jQuery(\\'label.tree-toggler.closed\\' ).each(function() {\\r\\n            if (jQuery(this).parent().find(\\'ul.tree\\').length != 0){\\r\\n                jQuery(this).append( \"<span class=\\'collapse_button\\'>+</span>\" );}\\r\\n\\r\\n        });\\r\\n        jQuery(\\'label.tree-toggler.opened\\' ).each(function() {\\r\\n            if (jQuery(this).parent().find(\\'ul.tree\\').length != 0){\\r\\n                jQuery(this).append( \"<span class=\\'collapse_button\\'>&#8211;</span>\" );}\\r\\n\\r\\n        });\\r\\n        jQuery(\\'label.tree-toggler span.collapse_button\\').click(function() {\\r\\n            if (!jQuery(this).parent().parent().hasClass(\\'current\\')){\\r\\n                jQuery(this).html(\\'&#8211;\\');\\r\\n                jQuery(this).parent().parent().children(\\'ul.tree\\').show(300);\\r\\n                jQuery(this).parent().parent().addClass(\\'current\\');\\r\\n            }\\telse \\t{\\r\\n                jQuery(this).html(\\'+\\');\\r\\n                jQuery(this).parent().parent().find(\\'ul.tree\\').hide(300);\\r\\n                jQuery(this).parent().parent().removeClass(\\'current\\');\\r\\n                jQuery(this).parent().parent().find(\\'li\\').removeClass(\\'current\\');\\r\\n                jQuery(this).parent().parent().find(\\'span.collapse_button\\').html(\\'+\\');\\r\\n            }\\r\\n        });\\r\\n\\r\\n\\r\\n\\r\\n\\r\\n    });\\r\\n</script>\\r\\n\\r\\n<div style=\"display: none;\">\\n<div class=\"block_listing\">\\n    <div class=\"block block-layered-nav\">\\n        <div class=\"block-title\"><strong><span>  </span></strong></div>\\n        <div class=\"block-content\">\\n                                                <p class=\"block-subtitle\">خيارات تنفيذ البيع</p>\\n            <dl id=\"narrow-by-list\">\\n                                                                                    <dt>التصنيفات</dt>\\n                    <dd>\\n<ol>\\n    <li>\\n                <a href=\"http://www.othaimmarkets.com/grocery/oils-ghee.html?cat=173\">سمن</a>\\n                        (12)\\n            </li>\\n    <li>\\n                <a href=\"http://www.othaimmarkets.com/grocery/oils-ghee.html?cat=175\">زيت ذرة</a>\\n                        (4)\\n            </li>\\n    <li>\\n                <a href=\"http://www.othaimmarkets.com/grocery/oils-ghee.html?cat=176\">زيت دوار الشمس</a>\\n                        (5)\\n            </li>\\n    <li>\\n                <a href=\"http://www.othaimmarkets.com/grocery/oils-ghee.html?cat=177\">زيت خضار</a>\\n                        (6)\\n            </li>\\n    <li>\\n                <a href=\"http://www.othaimmarkets.com/grocery/oils-ghee.html?cat=178\">زيوت اخرى</a>\\n                        (1)\\n            </li>\\n    <li>\\n                <a href=\"http://www.othaimmarkets.com/grocery/oils-ghee.html?cat=179\">زيت زيتون</a>\\n                        (17)\\n            </li>\\n</ol>\\n</dd>\\n                                                                                                                                                                </dl>\\n            <script type=\"text/javascript\">decorateDataList(\\'narrow-by-list\\')</script>\\n                    </div>\\n    </div>\\n</div>\\n</div><div style=\"display:none\" align=\"right\" class=\"clcopyright\">&copy Developed by <a href=\"http://othaimmarkets.com/\">Othaim Markets</a></div><div class=\"block\">\\r\\n    <div class=\"block-title\"><strong><span>الفرز بالسعر</span></strong></div>\\r\\n    <div class=\"block-content\">\\r\\n        <div id=\"price_slider_wrapper\">\\r\\n            <div class=\"noUiSlider\" id=\"noUiSlider\">\\r\\n                <div class=\"noUi-handle noUi-lowerHandle\"></div>\\r\\n                <div class=\"noUi-midBar\"></div>\\r\\n                <div class=\"noUi-handle noUi-upperHandle\"></div>\\r\\n            </div>\\r\\n            <div id=\"valueInput\"></div>\\r\\n            <div class=\"price_range\">\\r\\n                <div id=\"price_from\">SR6</div>\\r\\n                <div id=\"price_to\">SR106</div>\\r\\n                <input type=\"hidden\" id=\"maxMinPrice_CurrencySymbol\" value=\"106:6:SR\" >\\r\\n                <input type=\"hidden\" id=\"currentUrl\" value=\"https://www.othaimmarkets.com/grocery/oils-ghee.html\" >\\r\\n            </div>\\r\\n        </div>\\r\\n    </div>\\r\\n</div>\\r\\n\\r\\n<script type=\"text/javascript\">\\r\\n//    jQuery(function(){\\r\\n//\\r\\n//        function addParameter(url, parameterName, parameterValue, atStart/*Add param before others*/){\\r\\n//            replaceDuplicates = true;\\r\\n//            if(url.indexOf(\\'#\\') > 0){\\r\\n//                var cl = url.indexOf(\\'#\\');\\r\\n//                urlhash = url.substring(url.indexOf(\\'#\\'),url.length);\\r\\n//            } else {\\r\\n//                urlhash = \\'\\';\\r\\n//                cl = url.length;\\r\\n//            }\\r\\n//            sourceUrl = url.substring(0,cl);\\r\\n//\\r\\n//\\r\\n//            var urlParts = sourceUrl.split(\"?\");\\r\\n//            var newQueryString = \"\";\\r\\n//\\r\\n//            if (urlParts.length > 1)\\r\\n//            {\\r\\n//                var parameters = urlParts[1].split(\"&\");\\r\\n//                for (var i=0; (i < parameters.length); i++)\\r\\n//                {\\r\\n//                    var parameterParts = parameters[i].split(\"=\");\\r\\n//                    if (!(replaceDuplicates && parameterParts[0] == parameterName))\\r\\n//                    {\\r\\n//                        if (newQueryString == \"\")\\r\\n//                            newQueryString = \"?\";\\r\\n//                        else\\r\\n//                            newQueryString += \"&\";\\r\\n//                        newQueryString += parameterParts[0] + \"=\" + (parameterParts[1]?parameterParts[1]:\\'\\');\\r\\n//                    }\\r\\n//                }\\r\\n//            }\\r\\n//            if (newQueryString == \"\")\\r\\n//                newQueryString = \"?\";\\r\\n//\\r\\n//            if(atStart){\\r\\n//                newQueryString = \\'?\\'+ parameterName + \"=\" + parameterValue + (newQueryString.length>1?\\'&\\'+newQueryString.substring(1):\\'\\');\\r\\n//            } else {\\r\\n//                if (newQueryString !== \"\" && newQueryString != \\'?\\')\\r\\n//                    newQueryString += \"&\";\\r\\n//                newQueryString += parameterName + \"=\" + (parameterValue?parameterValue:\\'\\');\\r\\n//            }\\r\\n//            return urlParts[0] + newQueryString + urlhash;\\r\\n//        };\\r\\n//\\r\\n//        jQuery(\"#noUiSlider\").empty().noUiSlider( \\'init\\', {\\r\\n//            scale:[//,//],\\r\\n//            start:[//,//],\\r\\n//            connect: true,\\r\\n//            change:\\r\\n//                function(){\\r\\n//                    var values = jQuery(this).noUiSlider( \\'value\\' );\\r\\n//                    jQuery(\\'#price_from\\').text(\\'//\\'+values[0]);\\r\\n//                    jQuery(\\'#price_to\\').text(\\'//\\'+values[1]);\\r\\n//\\r\\n//                },\\r\\n//            end:\\r\\n//                function(type){\\r\\n//                    var values = jQuery(this).noUiSlider( \\'value\\' );\\r\\n//                    price_val=values[0]+\\'-\\'+values[1];\\r\\n//                    setLocation(addParameter(\\'//\\',\\'price\\',price_val));\\r\\n//                }\\r\\n//\\r\\n//        });\\r\\n//    });\\r\\n</script>\\r\\n\\n    <div id=\"fp_catpage\">\\n        <h2 class=\"home_title\">العروض الخاصة</h2>\\n                                <!--PRODUCT-->\\n        <div class=\"span3 product\">\\n                        <div class=\"product-image-wrapper nohover\">\\n                            <div class=\"label_new_top_left\">جديد</div>\\n                            \\n                            <a href=\"http://www.othaimmarkets.com/home-featured-products/nutella-chocolate-jar-825g.html\"><img  src=\"https://www.othaimmarkets.com/media/catalog/product/cache/4/small_image/50x48/9df78eab33525d08d6e5fb8d27136e95/1/2/1282385b.jpg\" class=\"product-retina\" data-image2x=\"https://www.othaimmarkets.com/media/catalog/product/cache/4/small_image/100x96/9df78eab33525d08d6e5fb8d27136e95/1/2/1282385b.jpg\" width=\"50\" height=\"48\"  alt=\"شوكولاته نوتيلا برطمان 825 جرام\"></a>\\n        </div> <div class=\"wrapper-hover\">\\n                                <h3 class=\"product-name\"><a href=\"http://www.othaimmarkets.com/home-featured-products/nutella-chocolate-jar-825g.html\">شوكولاته نوتيلا برطمان 825 جرام</a></h3>\\n                                <div class=\"wrapper\">\\n\\n                \\n    <div class=\"price-box\">\\n                                \\n                    <p class=\"old-price\">\\n                <span class=\"price-label\">سعر عادي:</span>\\n                <span class=\"price\" id=\"old-price-8177\">\\n                    38.95                </span>\\n            </p>\\n\\n                            <p class=\"special-price\">\\n                    <span class=\"price-label\">Special Price</span>\\n                <span class=\"price\" id=\"product-price-8177\">\\n                    29.95                </span>\\n                </p>\\n                    \\n    \\n        </div>\\n\\n<div class=\"product-tocart\"><a onclick=\"setLocationAjax(\\'http://www.othaimmarkets.com/checkout/cart/add/uenc/aHR0cHM6Ly93d3cub3RoYWltbWFya2V0cy5jb20vZ3JvY2VyeS9vaWxzLWdoZWUuaHRtbA,,/product/8177/form_key/voZKKJcpDQ2us74H/\\',\\'8177\\')\"><i class=\"icon-basket\"></i></a></div></div>\\n                            </div></div>\\n                <!--PRODUCT EOF-->\\n                        <!--PRODUCT-->\\n        <div class=\"span3 product\">\\n                        <div class=\"product-image-wrapper nohover\">\\n                            <div class=\"label_new_top_left\">جديد</div>\\n                            \\n                            <a href=\"http://www.othaimmarkets.com/home-featured-products/haleyhoney1k.html\"><img  src=\"https://www.othaimmarkets.com/media/catalog/product/cache/4/small_image/50x48/9df78eab33525d08d6e5fb8d27136e95/1/2/1277415.jpg\" class=\"product-retina\" data-image2x=\"https://www.othaimmarkets.com/media/catalog/product/cache/4/small_image/100x96/9df78eab33525d08d6e5fb8d27136e95/1/2/1277415.jpg\" width=\"50\" height=\"48\"  alt=\"عسل هالي صافي ١٠٠٠جم\"></a>\\n        </div> <div class=\"wrapper-hover\">\\n                                <h3 class=\"product-name\"><a href=\"http://www.othaimmarkets.com/home-featured-products/haleyhoney1k.html\">عسل هالي صافي ١٠٠٠جم</a></h3>\\n                                <div class=\"wrapper\">\\n\\n                \\n    <div class=\"price-box\">\\n                                                            <span class=\"regular-price\" id=\"product-price-8328\">\\n                                            <span class=\"price\">29.95</span>                                    </span>\\n                        \\n        </div>\\n\\n<div class=\"product-tocart\"><a onclick=\"setLocationAjax(\\'http://www.othaimmarkets.com/checkout/cart/add/uenc/aHR0cHM6Ly93d3cub3RoYWltbWFya2V0cy5jb20vZ3JvY2VyeS9vaWxzLWdoZWUuaHRtbA,,/product/8328/form_key/voZKKJcpDQ2us74H/\\',\\'8328\\')\"><i class=\"icon-basket\"></i></a></div></div>\\n                            </div></div>\\n                <!--PRODUCT EOF-->\\n                        <!--PRODUCT-->\\n        <div class=\"span3 product\">\\n                        <div class=\"product-image-wrapper nohover\">\\n                            <div class=\"label_new_top_left\">جديد</div>\\n                            \\n                            <a href=\"http://www.othaimmarkets.com/home-featured-products/10.html\"><img  src=\"https://www.othaimmarkets.com/media/catalog/product/cache/4/small_image/50x48/9df78eab33525d08d6e5fb8d27136e95/1/5/1572835.png\" class=\"product-retina\" data-image2x=\"https://www.othaimmarkets.com/media/catalog/product/cache/4/small_image/100x96/9df78eab33525d08d6e5fb8d27136e95/1/5/1572835.png\" width=\"50\" height=\"48\"  alt=\"سكر البيت ناعم 10 كجم\"></a>\\n        </div> <div class=\"wrapper-hover\">\\n                                <h3 class=\"product-name\"><a href=\"http://www.othaimmarkets.com/home-featured-products/10.html\">سكر البيت ناعم 10 كجم</a></h3>\\n                                <div class=\"wrapper\">\\n\\n                \\n    <div class=\"price-box\">\\n                                \\n                    <p class=\"old-price\">\\n                <span class=\"price-label\">سعر عادي:</span>\\n                <span class=\"price\" id=\"old-price-8332\">\\n                    43.95                </span>\\n            </p>\\n\\n                            <p class=\"special-price\">\\n                    <span class=\"price-label\">Special Price</span>\\n                <span class=\"price\" id=\"product-price-8332\">\\n                    36.95                </span>\\n                </p>\\n                    \\n    \\n        </div>\\n\\n<div class=\"product-tocart\"><a onclick=\"setLocationAjax(\\'http://www.othaimmarkets.com/checkout/cart/add/uenc/aHR0cHM6Ly93d3cub3RoYWltbWFya2V0cy5jb20vZ3JvY2VyeS9vaWxzLWdoZWUuaHRtbA,,/product/8332/form_key/voZKKJcpDQ2us74H/\\',\\'8332\\')\"><i class=\"icon-basket\"></i></a></div></div>\\n                            </div></div>\\n                <!--PRODUCT EOF-->\\n                        <!--PRODUCT-->\\n        <div class=\"span3 product\">\\n                        <div class=\"product-image-wrapper nohover\">\\n                            <div class=\"label_new_top_left\">جديد</div>\\n                            \\n                            <a href=\"http://www.othaimmarkets.com/home-featured-products/2.html\"><img  src=\"https://www.othaimmarkets.com/media/catalog/product/cache/4/small_image/50x48/9df78eab33525d08d6e5fb8d27136e95/1/2/1259335_1.png\" class=\"product-retina\" data-image2x=\"https://www.othaimmarkets.com/media/catalog/product/cache/4/small_image/100x96/9df78eab33525d08d6e5fb8d27136e95/1/2/1259335_1.png\" width=\"50\" height=\"48\"  alt=\"ساديا صدور دجاج طرية 2 كجم\"></a>\\n        </div> <div class=\"wrapper-hover\">\\n                                <h3 class=\"product-name\"><a href=\"http://www.othaimmarkets.com/home-featured-products/2.html\">ساديا صدور دجاج طرية 2 كجم</a></h3>\\n                                <div class=\"wrapper\">\\n\\n                \\n    <div class=\"price-box\">\\n                                \\n                    <p class=\"old-price\">\\n                <span class=\"price-label\">سعر عادي:</span>\\n                <span class=\"price\" id=\"old-price-8336\">\\n                    61.95                </span>\\n            </p>\\n\\n                            <p class=\"special-price\">\\n                    <span class=\"price-label\">Special Price</span>\\n                <span class=\"price\" id=\"product-price-8336\">\\n                    40.95                </span>\\n                </p>\\n                    \\n    \\n        </div>\\n\\n<div class=\"product-tocart\"><a onclick=\"setLocationAjax(\\'http://www.othaimmarkets.com/checkout/cart/add/uenc/aHR0cHM6Ly93d3cub3RoYWltbWFya2V0cy5jb20vZ3JvY2VyeS9vaWxzLWdoZWUuaHRtbA,,/product/8336/form_key/voZKKJcpDQ2us74H/\\',\\'8336\\')\"><i class=\"icon-basket\"></i></a></div></div>\\n                            </div></div>\\n                <!--PRODUCT EOF-->\\n        \\n    </div>\\n\\n\\n\\n<script type=\"text/javascript\">\\n    jQuery(function(){\\n        jQuery(\\'.flexslider.banners\\').flexslider({\\n            animation: \"slide\",\\n            pauseOnHover: true,\\n            controlNav: false,\\n            prevText: \"<i class=\\'icon-left-thin\\'></i>\",\\n            nextText: \"<i class=\\'icon-right-thin\\'></i>\"\\n\\n        });\\n    })\\n</script>\\n\\n\\n\\n\\n\\n\\n\\n\\n\\n<!--<div id=\"column_right_slider\" class=\"span3\" style=\"margin-top: 0px\">-->\\r\\n<!--    <div class=\"row\">-->\\r\\n<!--        <div class=\"span3\">-->\\r\\n<!--             --><!--        </div>-->\\r\\n<!--    </div>-->\\r\\n<!--</div>-->\\r\\n<!--\\r\\n<div class=\"promo-media\"><a target=\"_blank\" href=\"http://www.othaimmarkets.com/#\">\\r\\n\\t\\t\\t\\t<img width=\"360\" height=\"200\"   data-retina=\"true\" src=\"https://www.othaimmarkets.com/media/wysiwyg/promo-media.jpg\" alt=\"\">\\r\\n\\t\\t\\t</a></div> -->\\r\\n<div class=\"promo-media\">\\r\\n<div class=\"media-tip\">\\r\\n<div class=\"media-content\">\\r\\n<script type=\"text/javascript\">// <![CDATA[\\r\\n                    jQuery(document).ready(function() {\\r\\n\\r\\n                        jQuery(\\'#media_othaimshop_slider\\').flexslider({\\r\\n                            animation : \"slide\",\\r\\n                            animationSpeed : 700\\r\\n                        });\\r\\n\\r\\n                        jQuery(\\'#media_othaimshop_slider\\').find(\\'ol.flex-control-nav\\').each(function(el){\\r\\n                            jQuery(this).css({display: \\'none\\'});\\r\\n                        });\\r\\n\\r\\n                        jQuery(\\'#media_othaimshop_slider\\').find(\\'ul.flex-direction-nav\\').each(function(el){\\r\\n                            jQuery(this).css({display: \\'none\\'});\\r\\n                        });\\r\\n                    });\\r\\n                \\r\\n// ]]></script>\\r\\n<div id=\"media_othaimshop_slider\">\\r\\n<ul class=\"slides\">\\r\\n<li><img src=\"https://www.othaimmarkets.com/media/slider1/ar/001.jpg\" alt=\"\" width=\"240\" height=\"312\" /></li>\\r\\n<li><img src=\"https://www.othaimmarkets.com/media/slider1/ar/002.jpg\" alt=\"\" width=\"240\" height=\"312\" /></li>\\r\\n<li><img src=\"https://www.othaimmarkets.com/media/slider1/ar/003.jpg\" alt=\"\" width=\"240\" height=\"312\" /></li>\\r\\n<li><img src=\"https://www.othaimmarkets.com/media/slider1/ar/004.jpg\" alt=\"\" width=\"240\" height=\"312\" /></li>\\r\\n</ul>\\r\\n</div>\\r\\n</div>\\r\\n</div>\\r\\n</div></div>\\n            </div>\\n        </div>\\n        \\n                      </div>\\n          \\n\\n\\n        </div>\\n\\n        \\n\\n<div class=\"line_above_footer\">\\n\\t<div class=\"footer-newsletter\">\\n\\t\\t<div class=\"newsletter-data\">\\n        \\t<div class=\"newsletter-input\">\\n        \\n            \\n            <form class=\"form-mail\" action=\"https://www.othaimmarkets.com/newsletter/subscriber/new/\" method=\"post\"  id=\"newsletter-validate-detail\">\\n            <input type=\"text\"  class=\"email-newsletter-subscrber\" name=\"email\" id=\"newsletter\" class=\"input-medium required-entry validate-email\"  placeholder=\"اشترك في القائمة البريدية لتصلك أحدث العروض والتخفيضات\" />\\n\\n            </div>\\n            <div class=\"news-btn\">\\n             <button type=\"submit\"  title=\"اشترك\"  class=\"btn btn-default green\">اشترك</button>\\n             </form>\\n             \\n             \\n            </div>\\n            <div class=\"clr\"></div>\\n        </div>\\n         <div class=\"clr\"></div>\\n\\t</div>\\n     <div class=\"clr\"></div>\\n</div>\\n\\n<div id=\"bottom_block\" >\\n    <div class=\"row\">\\n        <div class=\"container\">\\n           \\n           <div class=\"col-sm-3 footer-content-listing\">\\r\\n           \\t\\t<div class=\"oth-footer-title green\">\\r\\n\\t\\t\\t\\tعن الشركة\\r\\n</div>\\r\\n                <div class=\"oth-aboutus\">\\r\\n                \\t<ul class=\"aboutus-listing\">\\r\\n                     <li><a href=\"http://www.othaimmarkets.com/about-us\">عن الشركة</a></li>\\r\\n         <!--          <li><a href=\"http://www.othaimmarkets.com/about-us#chairmanmessage\">كلمة رئيس مجلس الإدارة</a></li>\\r\\n                       <li><a href=\"http://www.othaimmarkets.com/about-us#ourvision\">رؤيتنا ورسالتنا</a></li>\\r\\n                         <li><a href=\"http://www.othaimmarkets.com/about-us#quality-policy\">سياسة الجودة</a></li>\\r\\n                         <li><a href=\"http://www.othaimmarkets.com/about-us#sister-companies\">الشركات الشقيقة</a></li>\\r\\n              -->          <li><a href=\"http://www.othaimmarkets.com/toward-clients\">مسؤوليتنا</a></li>\\r\\n                        <li><a href=\"http://www.othaimmarkets.com/store-locator\">الفروع</a></li>\\r\\n  <li><a href=\"http://www.othaimmarkets.com/investors-ir\">علاقات المستثمرين</a></li>\\r\\n                         <li><a href=\"http://www.othaimmarkets.com/media-center\">المركز الإعلامي</a></li>\\r\\n                     </ul>   \\r\\n                </div>\\r\\n              \\t<div class=\"clr\"></div>\\r\\n           </div>\\r\\n          <div class=\"col-sm-3 footer-content-listing\">\\r\\n           \\t\\t<div class=\"oth-footer-title green\">العروض الترويجية</div>\\r\\n                <div class=\"oth-proomo\">\\r\\n                \\t\\n<ul class=\"proomo-listing\">\\n    <li>العروض الأسبوعية</li>\\n    <li>  عروض الطازج </li>\\n    <li><a href=\"http://www.othaimmarkets.com//othaim-promotions?pid=2\">عروض الأركان</a></li>\\n    <li>عروض الجملة</li>\\n    <li>العروض الخاصة</li>\\n</ul>\\n\\n\\n\\n\\r\\n                </div>\\r\\n              \\t<div class=\"clr\"></div>\\r\\n           </div>\\r\\n           <div class=\"col-sm-3 footer-content-listing\">\\r\\n           \\t\\t<div class=\"oth-footer-title green\">روابط أخرى</div>\\r\\n                <div class=\"oth-mics\">\\r\\n                \\t<ul class=\"mics-listing\"> \\r\\n                \\r\\n                        <li><a href=\"https://iktissab.othaimmarkets.com/\" target=\"_blannk\">اكتساب</a></li>\\r\\n                       \\r\\n                         <li><a href=\"https://vendor.othaimmarkets.com/vendor/loginEn.aspx\" target=\"_blannk\">بوابة الموردين</a></li>\\r\\n                         <li><a href=\"http://www.othaimmarkets.com/jobs\">التوظيف</a></li>\\r\\n                         <li><a href=\"http://www.othaimmarkets.com/othaim-recruitment\">طلب توظيف</a> </li> \\r\\n <li><a href=\"http://www.othaimmarkets.com/othaim-recruitment/index/femalevacancies\">الوظائف النسائية</a> </li> \\r\\n\\r\\n                         <li><a href=\"http://www.othaimmarkets.com/othaim-recruitment/index/applyviasms\">التوظيف باستخدام رسائل الجوال</a> </li> \\r\\n                        <li><a href=\"http://www.othaimmarkets.com/whole-sale\">تجارة الجملة</a></li>\\r\\n                         <li><a href=\"http://www.othaimmarkets.com/contacts\">الشكاوى والمقترحات</a></li>\\r\\n     <li><a href=\"http://www.othaimmarkets.com/sister-companies\">الشركات الشقيقة</a></li>\\r\\n\\r\\n\\r\\n<li class=\"social-mobile\"><span class=\"phone-title\">مواقع التواصل الاجتماعي</span></li>\\r\\n<li class=\"social-mobile\">\\r\\n<div class=\"footer_socail_links\">\\r\\n<a href=\"https://www.facebook.com/Othaim.Market\" target=\"_blank\">\\r\\n<span class=\"fa-stack fa-lg\">\\r\\n  <i class=\"fa fa-circle fa-stack-2x\" style=\"color:#4562A3;\"></i>\\r\\n  <i class=\"fa fa-facebook fa-stack-1x fa-inverse\"></i>\\r\\n</span>\\r\\n</a> \\r\\n<a href=\"https://twitter.com/OthaimMarkets\" target=\"_blank\">\\r\\n\\r\\n<span class=\"fa-stack fa-lg\">\\r\\n  <i class=\"fa fa-circle fa-stack-2x\" style=\"color:#54C8F7;\"></i>\\r\\n  <i class=\"fa fa-twitter fa-stack-1x fa-inverse\"></i>\\r\\n</span>\\r\\n</a>\\r\\n\\r\\n<a href=\"http://instagram.com/othaimmarkets\" target=\"_blank\">\\r\\n<span class=\"fa-stack fa-lg\">\\r\\n  <i class=\"fa fa-circle fa-stack-2x\" style=\"color:#AE8567;\"></i>\\r\\n  <i class=\"fa fa-instagram fa-stack-1x fa-inverse\" style=\"font-size:23px; color:#FFFFFF\"></i>\\r\\n</span>\\r\\n</a>\\r\\n\\r\\n\\r\\n <a href=\"http://www.youtube.com/user/othaimmarkets\" target=\"_blank\">\\r\\n<span class=\"fa-stack fa-lg\">\\r\\n  <i class=\"fa fa-circle fa-stack-2x\" style=\"color:#DF1D11;\"></i>\\r\\n  <i class=\"fa fa-youtube fa-stack-1x fa-inverse\"></i>\\r\\n</span>\\r\\n</a>\\r\\n\\r\\n\\r\\n\\r\\n <a href=\"https://api.whatsapp.com/send?phone=966920000702\" target=\"_blank\">\\r\\n<span class=\"fa-stack fa-lg\">\\r\\n  <i class=\"fa fa-circle fa-stack-2x\" style=\"color:#25d366;\"></i>\\r\\n  <i class=\"fa fa-whatsapp  fa-stack-1x fa-inverse\"></i>\\r\\n</span>\\r\\n</a>\\r\\n\\r\\n\\r\\n </div>      \\r\\n </li>\\r\\n                     </ul>   \\r\\n                </div>\\r\\n              \\t<div class=\"clr\"></div>\\r\\n           </div>\\r\\n                      \\n           \\n           <div class=\"col-sm-3 footer_contactus\">\\n           \\t\\t<div class=\"oth-footer-title green\"><!--<img src=\"\" />--> اتصل بنا</h4></div>\\n                <div class=\"rtl_margin\">\\n                        \\n                        <div class=\"cleancode footer-contact\">\\n                                             \\r\\n                  <ul class=\"\">\\r\\n                        \\r\\n\\r\\n\\r\\n\\r\\n\\r\\n<li>  <span class=\"phone-title\"> <!--<img src=\"https://www.othaimmarkets.com/media/wysiwyg/phone-footer.jpg\" alt=\"\" />-->  خدمة العملاء  </span></li>\\r\\n                        <li>   <span class=\"phone\"> 920000702 </span> </li>\\r\\n\\r\\n \\r\\n\\r\\n\\r\\n\\r\\n                      \\r\\n\\r\\n                       <li> <!--<img src=\"https://www.othaimmarkets.com/media/wysiwyg/email-footer.jpg\" alt=\"\" />--><span class=\"phone-title\">الشكاوى والمقترحات</span></li> \\r\\n                            <li><a class=\"mail_to_wecare\" href=\"mailto:wecare@othaimmarkets.com\">wecare@othaimmarkets.com</a>\\r\\n                           </li>\\r\\n\\r\\n                       </li>\\r\\n\\r\\n\\r\\n<li>  <span class=\"phone-title\"> السجل التجاري </span></li>\\r\\n <li>   <span class=\"phone\" style=\"color: #000;margin-top: 5px;font-size: 14px;\"> 1010031185</span> </li>\\r\\n\\r\\n<li>  <span class=\"phone-title\">  الرقم الضريبي </span></li>\\r\\n <li>   <span class=\"phone\"  style=\"color: #000;margin-top: 5px;font-size: 14px;\"> 300057178310003</span> </li>\\r\\n \\r\\n\\r\\n <li > <span  class=\"phone-title\" >تطبيقات الجوال</span></li>   \\r\\n <li> <div style=\"text-align:left\" class=\"footer_links_mobile\">\\r\\n  <a href=\"https://play.google.com/store/apps/details?id=com.othaim.Iktissab\" target=\"_blank\">\\t\\r\\n<img src=\"https://www.othaimmarkets.com/media/pl/Goolgeplay.jpg\" alt=\"\" /></a> \\r\\n  <a href=\"https://apps.apple.com/us/app/iktissab-%D8%A7%D9%83%D8%AA%D8%B3%D8%A7%D8%A8/id590381344?ls=1\" target=\"_blank\">\\r\\n<img src=\"https://www.othaimmarkets.com/media/pl/AppStore.jpg\" alt=\"\" /></a>  <br>\\r\\n  <!--<a href=\"http://appworld.blackberry.com/webstore/content/21998885/?lang=en&countrycode=SA\" target=\"_blank\"> <img src=\"https://www.othaimmarkets.com/media/wysiwyg/bb-footer.jpg\" alt=\"\" /></a>-->\\r\\n   </div>\\r\\n </li>\\r\\n                    </ul>\\r\\n                 \\r\\n\\r\\n                                     </div>\\n                    </div>\\n              \\t<div class=\"clr\"></div>\\n           </div>\\n           <div class=\"clr\"></div>\\n        </div>\\n        <div class=\"clr\"></div>\\n    </div>\\n     <div class=\"clr\"></div>\\n</div>\\n\\n\\n<script type=\"text/javascript\">\\n    //<![CDATA[\\n    var newsletterSubscriberFormDetail = new VarienForm(\\'newsletter-validate-detail\\');\\n    //]]>\\n</script>\\n\\n\\n    </section>\\n</div>\\n<!--FOOTER-->\\n<div  id=\"footer\">\\n    \\n\\n    <div id=\"footer_line\">\\n    \\n\\n        <div class=\"row\" id=\"footer_bottom\">\\n            <div class=\"container\">\\n                <div class=\"col-sm-12\">\\n                    <div class=\"footer-contents\">\\n                        <!--<span class=\"hidden-phone payment_icons\">\\n                                                    </span>-->\\n                         حقوق الاستخدام محفوظة<span style=\"color:#FFFFFF;\"> لشركة أسواق عبد الله العثيم      &copy; 2019</span>\\r\\n                                 </div>\\n                 </div>\\n            </div>\\n        </div>\\n    </div>\\n</div>\\n<script>\\n    \\n                const currentUrl = window.location.href; //window.location.pathname;\\n                 console.log(currentUrl);\\n                if(currentUrl.includes(\"__store\") || currentUrl.includes(\"___from_store\"))\\n                {\\n                    let newString = currentUrl.replace(\"__store\", \"__web\");\\n                    let finalString = newString.replace(\"___from_store\", \"___from_web\");\\n                    console.log(finalString);\\n                    //console.log(currentUrl);\\n                    window.history.pushState(\"\", \"Title\", finalString);\\n                }\\n</script>\\n\\n<script type=\"text/javascript\">\\r\\n<!--\\r\\n//jQuery(document).ready(\\r\\n//    function (){\\r\\n//        jQuery(\"a[rel^=\\'prettyPhoto\\']\").prettyPhoto({\\r\\n//            //            animation_speed:\\'//\\',\\r\\n//            <!---->\\r\\n<!--            -->//            slideshow://,\\r\\n//            <!---->\\r\\n<!--            -->//            autoplay_slideshow: //,\\r\\n//            <!---->\\r\\n<!--            -->//            opacity://,\\r\\n//            <!---->\\r\\n<!--            -->//            show_title://,\\r\\n//            <!---->\\r\\n<!--            -->//            allow_resize://,\\r\\n//            <!---->\\r\\n<!--            -->//            default_width://,\\r\\n//            <!---->\\r\\n<!--            -->//            default_height://,\\r\\n//            <!---->\\r\\n<!--            -->//            counter_separator_label:\\'//\\',\\r\\n//            <!---->\\r\\n<!--            -->//            theme:\\'//\\',\\r\\n//            <!---->\\r\\n<!--            -->//            horizontal_padding://,\\r\\n//            <!---->\\r\\n<!--            -->//            hideflash://,\\r\\n//            <!---->\\r\\n<!--            -->//            wmode:\\'//\\',\\r\\n//            <!---->\\r\\n<!--            -->//            autoplay://,\\r\\n//            <!---->\\r\\n<!--            -->//            modal://,\\r\\n//            <!---->\\r\\n<!--            -->//            deeplinking://,\\r\\n//            <!---->\\r\\n<!--            -->//            overlay_gallery://,\\r\\n//            <!---->\\r\\n<!--            -->//            keyboard_shortcuts://,\\r\\n//            <!---->\\r\\n<!--            -->//            social_tools:\\'\\',\\r\\n//            //\\r\\n//            deeplinking: false,\\r\\n//        });\\r\\n//    }\\r\\n//);\\r\\n-->\\r\\n</script>\\n<script src=\"//platform.twitter.com/oct.js\" type=\"text/javascript\"></script>\\n<script type=\"text/javascript\">\\ntwttr.conversion.trackPid(\\'l4e31\\');</script>\\n<!-- Start of Async HubSpot Analytics Code --> <script type=\"text/javascript\">\\n    (function(d,s,i,r) {\\n        if (d.getElementById(i)){return;}\\n        var n=d.createElement(s),e=d.getElementsByTagName(s)[0];\\n        n.id=i;n.src=\\'//js.hs-analytics.net/analytics/\\'+(Math.ceil(new Date()/r)*r)+\\'\\\\/474114.js\\';\\n        e.parentNode.insertBefore(n, e);\\n    })(document,\"script\",\"hs-analytics\",300000);\\n</script>\\n<!-- End of Async HubSpot Analytics Code -->\\n<noscript>\\n<img height=\"1\" width=\"1\" style=\"display:none;\" alt=\"\" src=\"https://analytics.twitter.com/i/adsct?txn_id=l4e31&p_id=Twitter\" />\\n<img height=\"1\" width=\"1\" style=\"display:none;\" alt=\"\" src=\"//t.co/i/adsct?txn_id=l4e31&p_id=Twitter\" /></noscript>\\n\\n<script type=\"text/javascript\">\\n/* <![CDATA[ */\\nvar google_conversion_id = 964832877;\\nvar google_custom_params = window.google_tag_params;\\nvar google_remarketing_only = true;\\nvar google_conversion_format = 3;\\n\\n/* ]]> */\\n</script>\\n<script type=\"text/javascript\" src=\"//www.googleadservices.com/pagead/conversion.js\">\\n</script>\\n<noscript>\\n<div style=\"display:inline;\">\\n<img height=\"1\" width=\"1\" style=\"border-style:none;\" alt=\"\" src=\"//googleads.g.doubleclick.net/pagead/viewthroughconversion/964832877/?value=0&amp;guid=ON&amp;script=0\"/>\\n</div>\\n</noscript>\\n\\n\\n</body>\\n</html>\\n'"
      ]
     },
     "execution_count": 7,
     "metadata": {},
     "output_type": "execute_result"
    }
   ],
   "source": [
    "othaim_response.text"
   ]
  },
  {
   "cell_type": "markdown",
   "metadata": {},
   "source": [
    "We get messy data back with a lot of html code. It's hard to find what we need. But if we turn it into soup (not soup in a bowl), we can easily pick out what we want using HTML tags."
   ]
  },
  {
   "cell_type": "code",
   "execution_count": 45,
   "metadata": {},
   "outputs": [],
   "source": [
    "# Parse the whole HTML page using BeautifulSoup\n",
    "othaim_soup = BeautifulSoup(othaim_response.text, 'html.parser')"
   ]
  },
  {
   "cell_type": "markdown",
   "metadata": {},
   "source": [
    "Now we can easily pick what we want using HTML tags:"
   ]
  },
  {
   "cell_type": "code",
   "execution_count": 47,
   "metadata": {},
   "outputs": [
    {
     "data": {
      "text/plain": [
       "<title>زيوت وسمن - غذائية</title>"
      ]
     },
     "execution_count": 47,
     "metadata": {},
     "output_type": "execute_result"
    }
   ],
   "source": [
    "# Title of the parsed page\n",
    "othaim_soup.title"
   ]
  },
  {
   "cell_type": "code",
   "execution_count": 49,
   "metadata": {
    "id": "gxjacsn6yHwI"
   },
   "outputs": [
    {
     "data": {
      "text/plain": [
       "'زيوت وسمن - غذائية'"
      ]
     },
     "execution_count": 49,
     "metadata": {},
     "output_type": "execute_result"
    }
   ],
   "source": [
    "# We can also get it without the HTML tags\n",
    "othaim_soup.title.string"
   ]
  },
  {
   "cell_type": "markdown",
   "metadata": {
    "id": "NkQ-tUc8yHwI"
   },
   "source": [
    "### Collect products' name and price"
   ]
  },
  {
   "cell_type": "code",
   "execution_count": 59,
   "metadata": {},
   "outputs": [
    {
     "data": {
      "text/plain": [
       "<div class=\"span2 product\">\n",
       "<div class=\"product-image-wrapper nohover\">\n",
       "<div class=\"label_new_top_left\">جديد</div>\n",
       "<a href=\"http://www.othaimmarkets.com/grocery/oils-ghee/afia-corn-oil-1-8l.html\"><img alt=\"زيت عافية ذرة 1,8لتر\" class=\"product-retina\" data-image2x=\"https://www.othaimmarkets.com/media/catalog/product/cache/4/small_image/340x330/9df78eab33525d08d6e5fb8d27136e95/2/2/229545.jpg\" height=\"165\" src=\"https://www.othaimmarkets.com/media/catalog/product/cache/4/small_image/170x165/9df78eab33525d08d6e5fb8d27136e95/2/2/229545.jpg\" width=\"170\"/></a>\n",
       "</div> <div class=\"wrapper-hover\">\n",
       "<h3 class=\"product-name\"><a href=\"http://www.othaimmarkets.com/grocery/oils-ghee/afia-corn-oil-1-8l.html\">زيت عافية ذرة 1,8لتر</a></h3>\n",
       "<div class=\"wrapper\">\n",
       "<div class=\"price-box\">\n",
       "<span class=\"regular-price\" id=\"product-price-977\">\n",
       "<span class=\"price\">30.95</span> </span>\n",
       "</div>\n",
       "<div class=\"product-tocart\"><a onclick=\"setLocationAjax('http://www.othaimmarkets.com/checkout/cart/add/uenc/aHR0cHM6Ly93d3cub3RoYWltbWFya2V0cy5jb20vZ3JvY2VyeS9vaWxzLWdoZWUuaHRtbA,,/product/977/form_key/OhFaW2Kr5cjGS9jK/','977')\"><i class=\"icon-basket\"></i></a></div></div>\n",
       "</div></div>"
      ]
     },
     "execution_count": 59,
     "metadata": {},
     "output_type": "execute_result"
    }
   ],
   "source": [
    "first_product = othaim_soup.find('div', {'class':'span2 product'})\n",
    "first_product"
   ]
  },
  {
   "cell_type": "markdown",
   "metadata": {},
   "source": [
    "We can use `prettify()` method to make the HTML or XML code more readable by adding indentation and line breaks. It formats the structure of the document in a visually appealing way, making it easier for humans to understand."
   ]
  },
  {
   "cell_type": "code",
   "execution_count": 61,
   "metadata": {
    "id": "RZVy60Q1yHwI"
   },
   "outputs": [
    {
     "name": "stdout",
     "output_type": "stream",
     "text": [
      "<div class=\"span2 product\">\n",
      " <div class=\"product-image-wrapper nohover\">\n",
      "  <div class=\"label_new_top_left\">\n",
      "   جديد\n",
      "  </div>\n",
      "  <a href=\"http://www.othaimmarkets.com/grocery/oils-ghee/afia-corn-oil-1-8l.html\">\n",
      "   <img alt=\"زيت عافية ذرة 1,8لتر\" class=\"product-retina\" data-image2x=\"https://www.othaimmarkets.com/media/catalog/product/cache/4/small_image/340x330/9df78eab33525d08d6e5fb8d27136e95/2/2/229545.jpg\" height=\"165\" src=\"https://www.othaimmarkets.com/media/catalog/product/cache/4/small_image/170x165/9df78eab33525d08d6e5fb8d27136e95/2/2/229545.jpg\" width=\"170\"/>\n",
      "  </a>\n",
      " </div>\n",
      " <div class=\"wrapper-hover\">\n",
      "  <h3 class=\"product-name\">\n",
      "   <a href=\"http://www.othaimmarkets.com/grocery/oils-ghee/afia-corn-oil-1-8l.html\">\n",
      "    زيت عافية ذرة 1,8لتر\n",
      "   </a>\n",
      "  </h3>\n",
      "  <div class=\"wrapper\">\n",
      "   <div class=\"price-box\">\n",
      "    <span class=\"regular-price\" id=\"product-price-977\">\n",
      "     <span class=\"price\">\n",
      "      30.95\n",
      "     </span>\n",
      "    </span>\n",
      "   </div>\n",
      "   <div class=\"product-tocart\">\n",
      "    <a onclick=\"setLocationAjax('http://www.othaimmarkets.com/checkout/cart/add/uenc/aHR0cHM6Ly93d3cub3RoYWltbWFya2V0cy5jb20vZ3JvY2VyeS9vaWxzLWdoZWUuaHRtbA,,/product/977/form_key/OhFaW2Kr5cjGS9jK/','977')\">\n",
      "     <i class=\"icon-basket\">\n",
      "     </i>\n",
      "    </a>\n",
      "   </div>\n",
      "  </div>\n",
      " </div>\n",
      "</div>\n",
      "\n"
     ]
    }
   ],
   "source": [
    "print(first_product.prettify())"
   ]
  },
  {
   "cell_type": "markdown",
   "metadata": {},
   "source": [
    "Let's extract the **product name:**"
   ]
  },
  {
   "cell_type": "code",
   "execution_count": 106,
   "metadata": {},
   "outputs": [
    {
     "data": {
      "text/plain": [
       "<h3 class=\"product-name\"><a href=\"http://www.othaimmarkets.com/grocery/oils-ghee/afia-corn-oil-1-8l.html\">زيت عافية ذرة 1,8لتر</a></h3>"
      ]
     },
     "execution_count": 106,
     "metadata": {},
     "output_type": "execute_result"
    }
   ],
   "source": [
    "first_product.find('h3', class_='product-name')"
   ]
  },
  {
   "cell_type": "markdown",
   "metadata": {},
   "source": [
    "We aren't interested in the HTML details. Instead, We'll focus on extracting the *text*"
   ]
  },
  {
   "cell_type": "code",
   "execution_count": 107,
   "metadata": {},
   "outputs": [
    {
     "data": {
      "text/plain": [
       "'زيت عافية ذرة 1,8لتر'"
      ]
     },
     "execution_count": 107,
     "metadata": {},
     "output_type": "execute_result"
    }
   ],
   "source": [
    "first_product.find('h3', class_='product-name').text"
   ]
  },
  {
   "cell_type": "markdown",
   "metadata": {},
   "source": [
    "We'll do the same with the **price**. However, it's important to note that some products may have special offers, in such cases, we'll need to extract both the *regular price* and the *special price*."
   ]
  },
  {
   "cell_type": "code",
   "execution_count": 111,
   "metadata": {},
   "outputs": [],
   "source": [
    "first_product.find('p', class_='special-price')"
   ]
  },
  {
   "cell_type": "markdown",
   "metadata": {},
   "source": [
    "No special price here but there are regular price"
   ]
  },
  {
   "cell_type": "code",
   "execution_count": 112,
   "metadata": {},
   "outputs": [
    {
     "data": {
      "text/plain": [
       "<span class=\"regular-price\" id=\"product-price-977\">\n",
       "<span class=\"price\">30.95</span> </span>"
      ]
     },
     "execution_count": 112,
     "metadata": {},
     "output_type": "execute_result"
    }
   ],
   "source": [
    "first_product.find('span', class_='regular-price')"
   ]
  },
  {
   "cell_type": "code",
   "execution_count": 115,
   "metadata": {},
   "outputs": [
    {
     "data": {
      "text/plain": [
       "'\\n30.95 '"
      ]
     },
     "execution_count": 115,
     "metadata": {},
     "output_type": "execute_result"
    }
   ],
   "source": [
    "first_product.find('span', class_='regular-price').text"
   ]
  },
  {
   "cell_type": "markdown",
   "metadata": {},
   "source": [
    "We can use `strip` to remove `\\n` or any other extra spaces "
   ]
  },
  {
   "cell_type": "code",
   "execution_count": 116,
   "metadata": {},
   "outputs": [
    {
     "data": {
      "text/plain": [
       "'30.95'"
      ]
     },
     "execution_count": 116,
     "metadata": {},
     "output_type": "execute_result"
    }
   ],
   "source": [
    "first_product.find('span', class_='regular-price').text.strip()"
   ]
  },
  {
   "cell_type": "markdown",
   "metadata": {},
   "source": [
    "Let's put all in one function"
   ]
  },
  {
   "cell_type": "code",
   "execution_count": 117,
   "metadata": {},
   "outputs": [],
   "source": [
    "def extract_product_details(prod):\n",
    "    # Extract product name\n",
    "    product_name = prod.find('h3', class_='product-name').text.strip()\n",
    "    \n",
    "    # Extract price\n",
    "    price_element = prod.find('p', class_='special-price')\n",
    "    price = price_element.text.strip() if price_element else prod.find('span', class_='regular-price').text.strip()\n",
    "    \n",
    "    # Extract old price if available\n",
    "    old_price_element = prod.find('span', class_='price', id=lambda x: x and x.startswith('old-price'))\n",
    "    old_price = old_price_element.text.strip() if old_price_element else None\n",
    "    \n",
    "    return product_name, price, old_price\n",
    "    "
   ]
  },
  {
   "cell_type": "markdown",
   "metadata": {},
   "source": [
    "We will use the `.find_all()` method to search the HTML tree for particular tags and get a `list` with all the products."
   ]
  },
  {
   "cell_type": "code",
   "execution_count": 69,
   "metadata": {
    "collapsed": true,
    "jupyter": {
     "outputs_hidden": true
    },
    "tags": []
   },
   "outputs": [
    {
     "data": {
      "text/plain": [
       "[<div class=\"span2 product\">\n",
       " <div class=\"product-image-wrapper nohover\">\n",
       " <div class=\"label_new_top_left\">جديد</div>\n",
       " <a href=\"http://www.othaimmarkets.com/grocery/oils-ghee/afia-corn-oil-1-8l.html\"><img alt=\"زيت عافية ذرة 1,8لتر\" class=\"product-retina\" data-image2x=\"https://www.othaimmarkets.com/media/catalog/product/cache/4/small_image/340x330/9df78eab33525d08d6e5fb8d27136e95/2/2/229545.jpg\" height=\"165\" src=\"https://www.othaimmarkets.com/media/catalog/product/cache/4/small_image/170x165/9df78eab33525d08d6e5fb8d27136e95/2/2/229545.jpg\" width=\"170\"/></a>\n",
       " </div> <div class=\"wrapper-hover\">\n",
       " <h3 class=\"product-name\"><a href=\"http://www.othaimmarkets.com/grocery/oils-ghee/afia-corn-oil-1-8l.html\">زيت عافية ذرة 1,8لتر</a></h3>\n",
       " <div class=\"wrapper\">\n",
       " <div class=\"price-box\">\n",
       " <span class=\"regular-price\" id=\"product-price-977\">\n",
       " <span class=\"price\">30.95</span> </span>\n",
       " </div>\n",
       " <div class=\"product-tocart\"><a onclick=\"setLocationAjax('http://www.othaimmarkets.com/checkout/cart/add/uenc/aHR0cHM6Ly93d3cub3RoYWltbWFya2V0cy5jb20vZ3JvY2VyeS9vaWxzLWdoZWUuaHRtbA,,/product/977/form_key/OhFaW2Kr5cjGS9jK/','977')\"><i class=\"icon-basket\"></i></a></div></div>\n",
       " </div></div>,\n",
       " <div class=\"span2 product\">\n",
       " <div class=\"product-image-wrapper nohover\">\n",
       " <a href=\"http://www.othaimmarkets.com/grocery/oils-ghee/haley-vegetable-oil-can-16l.html\"><img alt=\"زيت هالي نباتي علب 16لتر\" class=\"product-retina\" data-image2x=\"https://www.othaimmarkets.com/media/catalog/product/cache/4/small_image/340x330/9df78eab33525d08d6e5fb8d27136e95/9/3/937245_0.jpg\" height=\"165\" src=\"https://www.othaimmarkets.com/media/catalog/product/cache/4/small_image/170x165/9df78eab33525d08d6e5fb8d27136e95/9/3/937245_0.jpg\" width=\"170\"/></a>\n",
       " </div> <div class=\"wrapper-hover\">\n",
       " <h3 class=\"product-name\"><a href=\"http://www.othaimmarkets.com/grocery/oils-ghee/haley-vegetable-oil-can-16l.html\">زيت هالي نباتي علب 16لتر</a></h3>\n",
       " <div class=\"wrapper\">\n",
       " <div class=\"price-box\">\n",
       " <span class=\"regular-price\" id=\"product-price-976\">\n",
       " <span class=\"price\">91.00</span> </span>\n",
       " </div>\n",
       " <div class=\"product-tocart\"><a onclick=\"setLocationAjax('http://www.othaimmarkets.com/checkout/cart/add/uenc/aHR0cHM6Ly93d3cub3RoYWltbWFya2V0cy5jb20vZ3JvY2VyeS9vaWxzLWdoZWUuaHRtbA,,/product/976/form_key/OhFaW2Kr5cjGS9jK/','976')\"><i class=\"icon-basket\"></i></a></div></div>\n",
       " </div></div>,\n",
       " <div class=\"span2 product\">\n",
       " <div class=\"product-image-wrapper nohover\">\n",
       " <div class=\"label_new_top_left\">جديد</div>\n",
       " <a href=\"http://www.othaimmarkets.com/grocery/oils-ghee/coopoliva-olive-oil-500ml.html\"><img alt=\"زيت زيتون كوبوليفا زجاج 500مل\" class=\"product-retina\" data-image2x=\"https://www.othaimmarkets.com/media/catalog/product/cache/4/small_image/340x330/9df78eab33525d08d6e5fb8d27136e95/8/0/801735_0.jpg\" height=\"165\" src=\"https://www.othaimmarkets.com/media/catalog/product/cache/4/small_image/170x165/9df78eab33525d08d6e5fb8d27136e95/8/0/801735_0.jpg\" width=\"170\"/></a>\n",
       " </div> <div class=\"wrapper-hover\">\n",
       " <h3 class=\"product-name\"><a href=\"http://www.othaimmarkets.com/grocery/oils-ghee/coopoliva-olive-oil-500ml.html\">زيت زيتون كوبوليفا زجاج 500مل</a></h3>\n",
       " <div class=\"wrapper\">\n",
       " <div class=\"price-box\">\n",
       " <p class=\"old-price\">\n",
       " <span class=\"price-label\">سعر عادي:</span>\n",
       " <span class=\"price\" id=\"old-price-975\">\n",
       "                     25.95                </span>\n",
       " </p>\n",
       " <p class=\"special-price\">\n",
       " <span class=\"price-label\">Special Price</span>\n",
       " <span class=\"price\" id=\"product-price-975\">\n",
       "                     23.95                </span>\n",
       " </p>\n",
       " </div>\n",
       " <div class=\"product-tocart\"><a onclick=\"setLocationAjax('http://www.othaimmarkets.com/checkout/cart/add/uenc/aHR0cHM6Ly93d3cub3RoYWltbWFya2V0cy5jb20vZ3JvY2VyeS9vaWxzLWdoZWUuaHRtbA,,/product/975/form_key/OhFaW2Kr5cjGS9jK/','975')\"><i class=\"icon-basket\"></i></a></div></div>\n",
       " </div></div>,\n",
       " <div class=\"span2 product\">\n",
       " <div class=\"product-image-wrapper nohover\">\n",
       " <a href=\"http://www.othaimmarkets.com/grocery/oils-ghee/coopoliva-olive-oil-250ml.html\"><img alt=\"زيت زيتون كوبوليفا زجاج 250مل\" class=\"product-retina\" data-image2x=\"https://www.othaimmarkets.com/media/catalog/product/cache/4/small_image/340x330/9df78eab33525d08d6e5fb8d27136e95/8/0/801725_0.jpg\" height=\"165\" src=\"https://www.othaimmarkets.com/media/catalog/product/cache/4/small_image/170x165/9df78eab33525d08d6e5fb8d27136e95/8/0/801725_0.jpg\" width=\"170\"/></a>\n",
       " </div> <div class=\"wrapper-hover\">\n",
       " <h3 class=\"product-name\"><a href=\"http://www.othaimmarkets.com/grocery/oils-ghee/coopoliva-olive-oil-250ml.html\">زيت زيتون كوبوليفا زجاج 250مل</a></h3>\n",
       " <div class=\"wrapper\">\n",
       " <div class=\"price-box\">\n",
       " <span class=\"regular-price\" id=\"product-price-974\">\n",
       " <span class=\"price\">14.95</span> </span>\n",
       " </div>\n",
       " <div class=\"product-tocart\"><a onclick=\"setLocationAjax('http://www.othaimmarkets.com/checkout/cart/add/uenc/aHR0cHM6Ly93d3cub3RoYWltbWFya2V0cy5jb20vZ3JvY2VyeS9vaWxzLWdoZWUuaHRtbA,,/product/974/form_key/OhFaW2Kr5cjGS9jK/','974')\"><i class=\"icon-basket\"></i></a></div></div>\n",
       " </div></div>,\n",
       " <div class=\"span2 product\">\n",
       " <div class=\"product-image-wrapper nohover\">\n",
       " <a href=\"http://www.othaimmarkets.com/grocery/oils-ghee/aljouf-olive-oil-250ml.html\"><img alt=\"زيت زيتون الجوف زجاج 250مل\" class=\"product-retina\" data-image2x=\"https://www.othaimmarkets.com/media/catalog/product/cache/4/small_image/340x330/9df78eab33525d08d6e5fb8d27136e95/6/5/658735_0.jpg\" height=\"165\" src=\"https://www.othaimmarkets.com/media/catalog/product/cache/4/small_image/170x165/9df78eab33525d08d6e5fb8d27136e95/6/5/658735_0.jpg\" width=\"170\"/></a>\n",
       " </div> <div class=\"wrapper-hover\">\n",
       " <h3 class=\"product-name\"><a href=\"http://www.othaimmarkets.com/grocery/oils-ghee/aljouf-olive-oil-250ml.html\">زيت زيتون الجوف زجاج 250مل</a></h3>\n",
       " <div class=\"wrapper\">\n",
       " <div class=\"price-box\">\n",
       " <span class=\"regular-price\" id=\"product-price-972\">\n",
       " <span class=\"price\">15.95</span> </span>\n",
       " </div>\n",
       " <div class=\"product-tocart\"><a onclick=\"setLocationAjax('http://www.othaimmarkets.com/checkout/cart/add/uenc/aHR0cHM6Ly93d3cub3RoYWltbWFya2V0cy5jb20vZ3JvY2VyeS9vaWxzLWdoZWUuaHRtbA,,/product/972/form_key/OhFaW2Kr5cjGS9jK/','972')\"><i class=\"icon-basket\"></i></a></div></div>\n",
       " </div></div>,\n",
       " <div class=\"span2 product\">\n",
       " <div class=\"product-image-wrapper nohover\">\n",
       " <a href=\"http://www.othaimmarkets.com/grocery/oils-ghee/rf-virgin-olive-oil-2l.html\"><img alt=\"زيت زيتون ار اف بكر 2لتر\" class=\"product-retina\" data-image2x=\"https://www.othaimmarkets.com/media/catalog/product/cache/4/small_image/340x330/9df78eab33525d08d6e5fb8d27136e95/1/5/153175w.jpg\" height=\"165\" src=\"https://www.othaimmarkets.com/media/catalog/product/cache/4/small_image/170x165/9df78eab33525d08d6e5fb8d27136e95/1/5/153175w.jpg\" width=\"170\"/></a>\n",
       " </div> <div class=\"wrapper-hover\">\n",
       " <h3 class=\"product-name\"><a href=\"http://www.othaimmarkets.com/grocery/oils-ghee/rf-virgin-olive-oil-2l.html\">زيت زيتون ار اف بكر 2لتر</a></h3>\n",
       " <div class=\"wrapper\">\n",
       " <div class=\"price-box\">\n",
       " <span class=\"regular-price\" id=\"product-price-971\">\n",
       " <span class=\"price\">72.95</span> </span>\n",
       " </div>\n",
       " <div class=\"product-tocart\"><a onclick=\"setLocationAjax('http://www.othaimmarkets.com/checkout/cart/add/uenc/aHR0cHM6Ly93d3cub3RoYWltbWFya2V0cy5jb20vZ3JvY2VyeS9vaWxzLWdoZWUuaHRtbA,,/product/971/form_key/OhFaW2Kr5cjGS9jK/','971')\"><i class=\"icon-basket\"></i></a></div></div>\n",
       " </div></div>,\n",
       " <div class=\"span2 product\">\n",
       " <div class=\"product-image-wrapper nohover\">\n",
       " <a href=\"http://www.othaimmarkets.com/grocery/oils-ghee/rf-virgin-olive-oil-500ml.html\"><img alt=\"زيت زيتون ار اف بكر زجاج 500مل\" class=\"product-retina\" data-image2x=\"https://www.othaimmarkets.com/media/catalog/product/cache/4/small_image/340x330/9df78eab33525d08d6e5fb8d27136e95/1/5/150085_0.jpg\" height=\"165\" src=\"https://www.othaimmarkets.com/media/catalog/product/cache/4/small_image/170x165/9df78eab33525d08d6e5fb8d27136e95/1/5/150085_0.jpg\" width=\"170\"/></a>\n",
       " </div> <div class=\"wrapper-hover\">\n",
       " <h3 class=\"product-name\"><a href=\"http://www.othaimmarkets.com/grocery/oils-ghee/rf-virgin-olive-oil-500ml.html\">زيت زيتون ار اف بكر زجاج 500مل</a></h3>\n",
       " <div class=\"wrapper\">\n",
       " <div class=\"price-box\">\n",
       " <span class=\"regular-price\" id=\"product-price-970\">\n",
       " <span class=\"price\">17.50</span> </span>\n",
       " </div>\n",
       " <div class=\"product-tocart\"><a onclick=\"setLocationAjax('http://www.othaimmarkets.com/checkout/cart/add/uenc/aHR0cHM6Ly93d3cub3RoYWltbWFya2V0cy5jb20vZ3JvY2VyeS9vaWxzLWdoZWUuaHRtbA,,/product/970/form_key/OhFaW2Kr5cjGS9jK/','970')\"><i class=\"icon-basket\"></i></a></div></div>\n",
       " </div></div>,\n",
       " <div class=\"span2 product\">\n",
       " <div class=\"product-image-wrapper nohover\">\n",
       " <div class=\"label_new_top_left\">جديد</div>\n",
       " <a href=\"http://www.othaimmarkets.com/grocery/oils-ghee/olio-sasso-olive-oil-400ml.html\"><img alt=\"زيت زيتون ساسو علب 400مل\" class=\"product-retina\" data-image2x=\"https://www.othaimmarkets.com/media/catalog/product/cache/4/small_image/340x330/9df78eab33525d08d6e5fb8d27136e95/9/2/92095_0.jpg\" height=\"165\" src=\"https://www.othaimmarkets.com/media/catalog/product/cache/4/small_image/170x165/9df78eab33525d08d6e5fb8d27136e95/9/2/92095_0.jpg\" width=\"170\"/></a>\n",
       " </div> <div class=\"wrapper-hover\">\n",
       " <h3 class=\"product-name\"><a href=\"http://www.othaimmarkets.com/grocery/oils-ghee/olio-sasso-olive-oil-400ml.html\">زيت زيتون ساسو علب 400مل</a></h3>\n",
       " <div class=\"wrapper\">\n",
       " <div class=\"price-box\">\n",
       " <p class=\"old-price\">\n",
       " <span class=\"price-label\">سعر عادي:</span>\n",
       " <span class=\"price\" id=\"old-price-968\">\n",
       "                     32.95                </span>\n",
       " </p>\n",
       " <p class=\"special-price\">\n",
       " <span class=\"price-label\">Special Price</span>\n",
       " <span class=\"price\" id=\"product-price-968\">\n",
       "                     23.95                </span>\n",
       " </p>\n",
       " </div>\n",
       " <div class=\"product-tocart\"><a onclick=\"setLocationAjax('http://www.othaimmarkets.com/checkout/cart/add/uenc/aHR0cHM6Ly93d3cub3RoYWltbWFya2V0cy5jb20vZ3JvY2VyeS9vaWxzLWdoZWUuaHRtbA,,/product/968/form_key/OhFaW2Kr5cjGS9jK/','968')\"><i class=\"icon-basket\"></i></a></div></div>\n",
       " </div></div>,\n",
       " <div class=\"span2 product\">\n",
       " <div class=\"product-image-wrapper nohover\">\n",
       " <a href=\"http://www.othaimmarkets.com/grocery/oils-ghee/olio-sasso-olive-oil-can175ml.html\"><img alt=\"زيت زيتون ساسو علب 175مل\" class=\"product-retina\" data-image2x=\"https://www.othaimmarkets.com/media/catalog/product/cache/4/small_image/340x330/9df78eab33525d08d6e5fb8d27136e95/9/2/92085_0.jpg\" height=\"165\" src=\"https://www.othaimmarkets.com/media/catalog/product/cache/4/small_image/170x165/9df78eab33525d08d6e5fb8d27136e95/9/2/92085_0.jpg\" width=\"170\"/></a>\n",
       " </div> <div class=\"wrapper-hover\">\n",
       " <h3 class=\"product-name\"><a href=\"http://www.othaimmarkets.com/grocery/oils-ghee/olio-sasso-olive-oil-can175ml.html\">زيت زيتون ساسو علب 175مل</a></h3>\n",
       " <div class=\"wrapper\">\n",
       " <div class=\"price-box\">\n",
       " <p class=\"old-price\">\n",
       " <span class=\"price-label\">سعر عادي:</span>\n",
       " <span class=\"price\" id=\"old-price-967\">\n",
       "                     15.95                </span>\n",
       " </p>\n",
       " <p class=\"special-price\">\n",
       " <span class=\"price-label\">Special Price</span>\n",
       " <span class=\"price\" id=\"product-price-967\">\n",
       "                     11.95                </span>\n",
       " </p>\n",
       " </div>\n",
       " <div class=\"product-tocart\"><a onclick=\"setLocationAjax('http://www.othaimmarkets.com/checkout/cart/add/uenc/aHR0cHM6Ly93d3cub3RoYWltbWFya2V0cy5jb20vZ3JvY2VyeS9vaWxzLWdoZWUuaHRtbA,,/product/967/form_key/OhFaW2Kr5cjGS9jK/','967')\"><i class=\"icon-basket\"></i></a></div></div>\n",
       " </div></div>,\n",
       " <div class=\"span2 product\">\n",
       " <div class=\"product-image-wrapper nohover\">\n",
       " <a href=\"http://www.othaimmarkets.com/grocery/oils-ghee/alwazir-olive-oil-500ml.html\"><img alt=\"زيت زيتون الوزير زجاج 500مل\" class=\"product-retina\" data-image2x=\"https://www.othaimmarkets.com/media/catalog/product/cache/4/small_image/340x330/9df78eab33525d08d6e5fb8d27136e95/1/6/16405.jpg\" height=\"165\" src=\"https://www.othaimmarkets.com/media/catalog/product/cache/4/small_image/170x165/9df78eab33525d08d6e5fb8d27136e95/1/6/16405.jpg\" width=\"170\"/></a>\n",
       " </div> <div class=\"wrapper-hover\">\n",
       " <h3 class=\"product-name\"><a href=\"http://www.othaimmarkets.com/grocery/oils-ghee/alwazir-olive-oil-500ml.html\">زيت زيتون الوزير زجاج 500مل</a></h3>\n",
       " <div class=\"wrapper\">\n",
       " <div class=\"price-box\">\n",
       " <p class=\"old-price\">\n",
       " <span class=\"price-label\">سعر عادي:</span>\n",
       " <span class=\"price\" id=\"old-price-966\">\n",
       "                     23.95                </span>\n",
       " </p>\n",
       " <p class=\"special-price\">\n",
       " <span class=\"price-label\">Special Price</span>\n",
       " <span class=\"price\" id=\"product-price-966\">\n",
       "                     21.50                </span>\n",
       " </p>\n",
       " </div>\n",
       " <div class=\"product-tocart\"><a onclick=\"setLocationAjax('http://www.othaimmarkets.com/checkout/cart/add/uenc/aHR0cHM6Ly93d3cub3RoYWltbWFya2V0cy5jb20vZ3JvY2VyeS9vaWxzLWdoZWUuaHRtbA,,/product/966/form_key/OhFaW2Kr5cjGS9jK/','966')\"><i class=\"icon-basket\"></i></a></div></div>\n",
       " </div></div>,\n",
       " <div class=\"span2 product\">\n",
       " <div class=\"product-image-wrapper nohover\">\n",
       " <div class=\"label_new_top_left\">جديد</div>\n",
       " <a href=\"http://www.othaimmarkets.com/grocery/oils-ghee/mazola-v-ghee-butter-can-2l.html\"><img alt=\"سمن مازولا نباتي زبدة 2لتر\" class=\"product-retina\" data-image2x=\"https://www.othaimmarkets.com/media/catalog/product/cache/4/small_image/340x330/9df78eab33525d08d6e5fb8d27136e95/5/8/58525_0.jpg\" height=\"165\" src=\"https://www.othaimmarkets.com/media/catalog/product/cache/4/small_image/170x165/9df78eab33525d08d6e5fb8d27136e95/5/8/58525_0.jpg\" width=\"170\"/></a>\n",
       " </div> <div class=\"wrapper-hover\">\n",
       " <h3 class=\"product-name\"><a href=\"http://www.othaimmarkets.com/grocery/oils-ghee/mazola-v-ghee-butter-can-2l.html\">سمن مازولا نباتي زبدة 2لتر</a></h3>\n",
       " <div class=\"wrapper\">\n",
       " <div class=\"price-box\">\n",
       " <span class=\"regular-price\" id=\"product-price-965\">\n",
       " <span class=\"price\">54.95</span> </span>\n",
       " </div>\n",
       " <div class=\"product-tocart\"><a onclick=\"setLocationAjax('http://www.othaimmarkets.com/checkout/cart/add/uenc/aHR0cHM6Ly93d3cub3RoYWltbWFya2V0cy5jb20vZ3JvY2VyeS9vaWxzLWdoZWUuaHRtbA,,/product/965/form_key/OhFaW2Kr5cjGS9jK/','965')\"><i class=\"icon-basket\"></i></a></div></div>\n",
       " </div></div>,\n",
       " <div class=\"span2 product\">\n",
       " <div class=\"product-image-wrapper nohover\">\n",
       " <div class=\"label_new_top_left\">جديد</div>\n",
       " <a href=\"http://www.othaimmarkets.com/grocery/oils-ghee/rs-olive-oil-bottle-500ml.html\"><img alt=\"زيت زيتون ار اس زجاج 500مل\" class=\"product-retina\" data-image2x=\"https://www.othaimmarkets.com/media/catalog/product/cache/4/small_image/340x330/9df78eab33525d08d6e5fb8d27136e95/5/6/56385.jpg\" height=\"165\" src=\"https://www.othaimmarkets.com/media/catalog/product/cache/4/small_image/170x165/9df78eab33525d08d6e5fb8d27136e95/5/6/56385.jpg\" width=\"170\"/></a>\n",
       " </div> <div class=\"wrapper-hover\">\n",
       " <h3 class=\"product-name\"><a href=\"http://www.othaimmarkets.com/grocery/oils-ghee/rs-olive-oil-bottle-500ml.html\">زيت زيتون ار اس زجاج 500مل</a></h3>\n",
       " <div class=\"wrapper\">\n",
       " <div class=\"price-box\">\n",
       " <p class=\"old-price\">\n",
       " <span class=\"price-label\">سعر عادي:</span>\n",
       " <span class=\"price\" id=\"old-price-963\">\n",
       "                     25.50                </span>\n",
       " </p>\n",
       " <p class=\"special-price\">\n",
       " <span class=\"price-label\">Special Price</span>\n",
       " <span class=\"price\" id=\"product-price-963\">\n",
       "                     21.50                </span>\n",
       " </p>\n",
       " </div>\n",
       " <div class=\"product-tocart\"><a onclick=\"setLocationAjax('http://www.othaimmarkets.com/checkout/cart/add/uenc/aHR0cHM6Ly93d3cub3RoYWltbWFya2V0cy5jb20vZ3JvY2VyeS9vaWxzLWdoZWUuaHRtbA,,/product/963/form_key/OhFaW2Kr5cjGS9jK/','963')\"><i class=\"icon-basket\"></i></a></div></div>\n",
       " </div></div>,\n",
       " <div class=\"span2 product\">\n",
       " <div class=\"product-image-wrapper nohover\">\n",
       " <a href=\"http://www.othaimmarkets.com/grocery/oils-ghee/mazola-veg-ghee-butter-can-1l.html\"><img alt=\"سمن مازولا زبدة نباتي 1لتر\" class=\"product-retina\" data-image2x=\"https://www.othaimmarkets.com/media/catalog/product/cache/4/small_image/340x330/9df78eab33525d08d6e5fb8d27136e95/m/a/mazolaveggheebutterflav1lt_0.jpg\" height=\"165\" src=\"https://www.othaimmarkets.com/media/catalog/product/cache/4/small_image/170x165/9df78eab33525d08d6e5fb8d27136e95/m/a/mazolaveggheebutterflav1lt_0.jpg\" width=\"170\"/></a>\n",
       " </div> <div class=\"wrapper-hover\">\n",
       " <h3 class=\"product-name\"><a href=\"http://www.othaimmarkets.com/grocery/oils-ghee/mazola-veg-ghee-butter-can-1l.html\">سمن مازولا زبدة نباتي 1لتر</a></h3>\n",
       " <div class=\"wrapper\">\n",
       " <div class=\"price-box\">\n",
       " <p class=\"old-price\">\n",
       " <span class=\"price-label\">سعر عادي:</span>\n",
       " <span class=\"price\" id=\"old-price-960\">\n",
       "                     28.95                </span>\n",
       " </p>\n",
       " <p class=\"special-price\">\n",
       " <span class=\"price-label\">Special Price</span>\n",
       " <span class=\"price\" id=\"product-price-960\">\n",
       "                     20.95                </span>\n",
       " </p>\n",
       " </div>\n",
       " <div class=\"product-tocart\"><a onclick=\"setLocationAjax('http://www.othaimmarkets.com/checkout/cart/add/uenc/aHR0cHM6Ly93d3cub3RoYWltbWFya2V0cy5jb20vZ3JvY2VyeS9vaWxzLWdoZWUuaHRtbA,,/product/960/form_key/OhFaW2Kr5cjGS9jK/','960')\"><i class=\"icon-basket\"></i></a></div></div>\n",
       " </div></div>,\n",
       " <div class=\"span2 product\">\n",
       " <div class=\"product-image-wrapper nohover\">\n",
       " <a href=\"http://www.othaimmarkets.com/grocery/oils-ghee/delico-vegetable-ghee-900g.html\"><img alt=\"سمن ديلكو شوكة وملعقة 900 جرام\" class=\"product-retina\" data-image2x=\"https://www.othaimmarkets.com/media/catalog/product/cache/4/small_image/340x330/9df78eab33525d08d6e5fb8d27136e95/7/4/747005_0.jpg\" height=\"165\" src=\"https://www.othaimmarkets.com/media/catalog/product/cache/4/small_image/170x165/9df78eab33525d08d6e5fb8d27136e95/7/4/747005_0.jpg\" width=\"170\"/></a>\n",
       " </div> <div class=\"wrapper-hover\">\n",
       " <h3 class=\"product-name\"><a href=\"http://www.othaimmarkets.com/grocery/oils-ghee/delico-vegetable-ghee-900g.html\">سمن ديلكو شوكة وملعقة 900 جرام</a></h3>\n",
       " <div class=\"wrapper\">\n",
       " <div class=\"price-box\">\n",
       " <p class=\"old-price\">\n",
       " <span class=\"price-label\">سعر عادي:</span>\n",
       " <span class=\"price\" id=\"old-price-959\">\n",
       "                     23.95                </span>\n",
       " </p>\n",
       " <p class=\"special-price\">\n",
       " <span class=\"price-label\">Special Price</span>\n",
       " <span class=\"price\" id=\"product-price-959\">\n",
       "                     19.95                </span>\n",
       " </p>\n",
       " </div>\n",
       " <div class=\"product-tocart\"><a onclick=\"setLocationAjax('http://www.othaimmarkets.com/checkout/cart/add/uenc/aHR0cHM6Ly93d3cub3RoYWltbWFya2V0cy5jb20vZ3JvY2VyeS9vaWxzLWdoZWUuaHRtbA,,/product/959/form_key/OhFaW2Kr5cjGS9jK/','959')\"><i class=\"icon-basket\"></i></a></div></div>\n",
       " </div></div>,\n",
       " <div class=\"span2 product\">\n",
       " <div class=\"product-image-wrapper nohover\">\n",
       " <div class=\"label_new_top_left\">جديد</div>\n",
       " <a href=\"http://www.othaimmarkets.com/grocery/oils-ghee/nakheel-oil.html\"><img alt=\"نخيل زيت نباتي للقلي ١٫٥ لتر\" class=\"product-retina\" data-image2x=\"https://www.othaimmarkets.com/media/catalog/product/cache/4/small_image/340x330/9df78eab33525d08d6e5fb8d27136e95/9/1/912955.jpg\" height=\"165\" src=\"https://www.othaimmarkets.com/media/catalog/product/cache/4/small_image/170x165/9df78eab33525d08d6e5fb8d27136e95/9/1/912955.jpg\" width=\"170\"/></a>\n",
       " </div> <div class=\"wrapper-hover\">\n",
       " <h3 class=\"product-name\"><a href=\"http://www.othaimmarkets.com/grocery/oils-ghee/nakheel-oil.html\">نخيل زيت نباتي للقلي ١٫٥ لتر</a></h3>\n",
       " <div class=\"wrapper\">\n",
       " <div class=\"price-box\">\n",
       " <p class=\"old-price\">\n",
       " <span class=\"price-label\">سعر عادي:</span>\n",
       " <span class=\"price\" id=\"old-price-7900\">\n",
       "                     17.95                </span>\n",
       " </p>\n",
       " <p class=\"special-price\">\n",
       " <span class=\"price-label\">Special Price</span>\n",
       " <span class=\"price\" id=\"product-price-7900\">\n",
       "                     10.95                </span>\n",
       " </p>\n",
       " </div>\n",
       " <div class=\"product-tocart\"><a onclick=\"setLocationAjax('http://www.othaimmarkets.com/checkout/cart/add/uenc/aHR0cHM6Ly93d3cub3RoYWltbWFya2V0cy5jb20vZ3JvY2VyeS9vaWxzLWdoZWUuaHRtbA,,/product/7900/form_key/OhFaW2Kr5cjGS9jK/','7900')\"><i class=\"icon-basket\"></i></a></div></div>\n",
       " </div></div>,\n",
       " <div class=\"span2 product\">\n",
       " <div class=\"product-image-wrapper nohover\">\n",
       " <a href=\"http://www.othaimmarkets.com/grocery/oils-ghee/noor-sunflower-oil-1-8l.html\"><img alt=\"زيت نور دوار الشمس 1.8لتر\" class=\"product-retina\" data-image2x=\"https://www.othaimmarkets.com/media/catalog/product/cache/4/small_image/340x330/9df78eab33525d08d6e5fb8d27136e95/7/0/706775_1.jpg\" height=\"165\" src=\"https://www.othaimmarkets.com/media/catalog/product/cache/4/small_image/170x165/9df78eab33525d08d6e5fb8d27136e95/7/0/706775_1.jpg\" width=\"170\"/></a>\n",
       " </div> <div class=\"wrapper-hover\">\n",
       " <h3 class=\"product-name\"><a href=\"http://www.othaimmarkets.com/grocery/oils-ghee/noor-sunflower-oil-1-8l.html\">زيت نور دوار الشمس 1.8لتر</a></h3>\n",
       " <div class=\"wrapper\">\n",
       " <div class=\"price-box\">\n",
       " <p class=\"old-price\">\n",
       " <span class=\"price-label\">سعر عادي:</span>\n",
       " <span class=\"price\" id=\"old-price-996\">\n",
       "                     27.95                </span>\n",
       " </p>\n",
       " <p class=\"special-price\">\n",
       " <span class=\"price-label\">Special Price</span>\n",
       " <span class=\"price\" id=\"product-price-996\">\n",
       "                     20.95                </span>\n",
       " </p>\n",
       " </div>\n",
       " <div class=\"product-tocart\"><a onclick=\"setLocationAjax('http://www.othaimmarkets.com/checkout/cart/add/uenc/aHR0cHM6Ly93d3cub3RoYWltbWFya2V0cy5jb20vZ3JvY2VyeS9vaWxzLWdoZWUuaHRtbA,,/product/996/form_key/OhFaW2Kr5cjGS9jK/','996')\"><i class=\"icon-basket\"></i></a></div></div>\n",
       " </div></div>,\n",
       " <div class=\"span2 product\">\n",
       " <div class=\"product-image-wrapper nohover\">\n",
       " <a href=\"http://www.othaimmarkets.com/grocery/oils-ghee/alsawsan-olive-oil-can-800ml.html\"><img alt=\"زيت زيتون السوسن بكر علب 800مل\" class=\"product-retina\" data-image2x=\"https://www.othaimmarkets.com/media/catalog/product/cache/4/small_image/340x330/9df78eab33525d08d6e5fb8d27136e95/s/a/sawsan-800ml.jpg\" height=\"165\" src=\"https://www.othaimmarkets.com/media/catalog/product/cache/4/small_image/170x165/9df78eab33525d08d6e5fb8d27136e95/s/a/sawsan-800ml.jpg\" width=\"170\"/></a>\n",
       " </div> <div class=\"wrapper-hover\">\n",
       " <h3 class=\"product-name\"><a href=\"http://www.othaimmarkets.com/grocery/oils-ghee/alsawsan-olive-oil-can-800ml.html\">زيت زيتون السوسن بكر علب 800مل</a></h3>\n",
       " <div class=\"wrapper\">\n",
       " <div class=\"price-box\">\n",
       " <span class=\"regular-price\" id=\"product-price-990\">\n",
       " <span class=\"price\">32.95</span> </span>\n",
       " </div>\n",
       " <div class=\"product-tocart\"><a onclick=\"setLocationAjax('http://www.othaimmarkets.com/checkout/cart/add/uenc/aHR0cHM6Ly93d3cub3RoYWltbWFya2V0cy5jb20vZ3JvY2VyeS9vaWxzLWdoZWUuaHRtbA,,/product/990/form_key/OhFaW2Kr5cjGS9jK/','990')\"><i class=\"icon-basket\"></i></a></div></div>\n",
       " </div></div>,\n",
       " <div class=\"span2 product\">\n",
       " <div class=\"product-image-wrapper nohover\">\n",
       " <a href=\"http://www.othaimmarkets.com/grocery/oils-ghee/rahma-virgin-olive-oil-250ml.html\"><img alt=\"زيت زيتون رحمة زجاج 250مل\" class=\"product-retina\" data-image2x=\"https://www.othaimmarkets.com/skin/frontend/default/othaimshop/images/catalog/product/placeholder/small_image.jpg\" height=\"165\" src=\"https://www.othaimmarkets.com/skin/frontend/default/othaimshop/images/catalog/product/placeholder/small_image.jpg\" width=\"170\"/></a>\n",
       " </div> <div class=\"wrapper-hover\">\n",
       " <h3 class=\"product-name\"><a href=\"http://www.othaimmarkets.com/grocery/oils-ghee/rahma-virgin-olive-oil-250ml.html\">زيت زيتون رحمة زجاج 250مل</a></h3>\n",
       " <div class=\"wrapper\">\n",
       " <div class=\"price-box\">\n",
       " <span class=\"regular-price\" id=\"product-price-988\">\n",
       " <span class=\"price\">19.95</span> </span>\n",
       " </div>\n",
       " <div class=\"product-tocart\"><a onclick=\"setLocationAjax('http://www.othaimmarkets.com/checkout/cart/add/uenc/aHR0cHM6Ly93d3cub3RoYWltbWFya2V0cy5jb20vZ3JvY2VyeS9vaWxzLWdoZWUuaHRtbA,,/product/988/form_key/OhFaW2Kr5cjGS9jK/','988')\"><i class=\"icon-basket\"></i></a></div></div>\n",
       " </div></div>]"
      ]
     },
     "execution_count": 69,
     "metadata": {},
     "output_type": "execute_result"
    }
   ],
   "source": [
    "products = othaim_soup.find_all('div', {'class':'span2 product'})\n",
    "products"
   ]
  },
  {
   "cell_type": "code",
   "execution_count": 118,
   "metadata": {},
   "outputs": [
    {
     "name": "stdout",
     "output_type": "stream",
     "text": [
      "Product Name: زيت عافية ذرة 1,8لتر\n",
      "Price: 30.95\n",
      "Old Price: None\n",
      "----------\n",
      "Product Name: زيت هالي نباتي علب 16لتر\n",
      "Price: 91.00\n",
      "Old Price: None\n",
      "----------\n",
      "Product Name: زيت زيتون كوبوليفا زجاج 500مل\n",
      "Price: Special Price\n",
      "\n",
      "                    23.95\n",
      "Old Price: 25.95\n",
      "----------\n",
      "Product Name: زيت زيتون كوبوليفا زجاج 250مل\n",
      "Price: 14.95\n",
      "Old Price: None\n",
      "----------\n",
      "Product Name: زيت زيتون الجوف زجاج 250مل\n",
      "Price: 15.95\n",
      "Old Price: None\n",
      "----------\n",
      "Product Name: زيت زيتون ار اف بكر 2لتر\n",
      "Price: 72.95\n",
      "Old Price: None\n",
      "----------\n",
      "Product Name: زيت زيتون ار اف بكر زجاج 500مل\n",
      "Price: 17.50\n",
      "Old Price: None\n",
      "----------\n",
      "Product Name: زيت زيتون ساسو علب 400مل\n",
      "Price: Special Price\n",
      "\n",
      "                    23.95\n",
      "Old Price: 32.95\n",
      "----------\n",
      "Product Name: زيت زيتون ساسو علب 175مل\n",
      "Price: Special Price\n",
      "\n",
      "                    11.95\n",
      "Old Price: 15.95\n",
      "----------\n",
      "Product Name: زيت زيتون الوزير زجاج 500مل\n",
      "Price: Special Price\n",
      "\n",
      "                    21.50\n",
      "Old Price: 23.95\n",
      "----------\n",
      "Product Name: سمن مازولا نباتي زبدة 2لتر\n",
      "Price: 54.95\n",
      "Old Price: None\n",
      "----------\n",
      "Product Name: زيت زيتون ار اس زجاج 500مل\n",
      "Price: Special Price\n",
      "\n",
      "                    21.50\n",
      "Old Price: 25.50\n",
      "----------\n",
      "Product Name: سمن مازولا زبدة نباتي 1لتر\n",
      "Price: Special Price\n",
      "\n",
      "                    20.95\n",
      "Old Price: 28.95\n",
      "----------\n",
      "Product Name: سمن ديلكو شوكة وملعقة 900 جرام\n",
      "Price: Special Price\n",
      "\n",
      "                    19.95\n",
      "Old Price: 23.95\n",
      "----------\n",
      "Product Name: نخيل زيت نباتي للقلي ١٫٥ لتر\n",
      "Price: Special Price\n",
      "\n",
      "                    10.95\n",
      "Old Price: 17.95\n",
      "----------\n",
      "Product Name: زيت نور دوار الشمس 1.8لتر\n",
      "Price: Special Price\n",
      "\n",
      "                    20.95\n",
      "Old Price: 27.95\n",
      "----------\n",
      "Product Name: زيت زيتون السوسن بكر علب 800مل\n",
      "Price: 32.95\n",
      "Old Price: None\n",
      "----------\n",
      "Product Name: زيت زيتون رحمة زجاج 250مل\n",
      "Price: 19.95\n",
      "Old Price: None\n",
      "----------\n"
     ]
    }
   ],
   "source": [
    "# Loop through the products\n",
    "for prod in products:\n",
    "    product_name, price, old_price = extract_product_details(prod)\n",
    "    \n",
    "    # Print the results\n",
    "    print(\"Product Name:\", product_name)\n",
    "    print(\"Price:\", price)\n",
    "    print(\"Old Price:\", old_price)\n",
    "    print(\"----------\")\n"
   ]
  },
  {
   "cell_type": "markdown",
   "metadata": {},
   "source": [
    "We've collected the data for oil products. Now, let's collect data for other categories:"
   ]
  },
  {
   "cell_type": "code",
   "execution_count": 134,
   "metadata": {},
   "outputs": [],
   "source": [
    "# You can scrape these names too from the website but for simplicity we will go with hardcode\n",
    "categories = ['grocery', 'fresh-and-bakery', 'frozen', 'beverage-confectionery', 'health-beauty', 'baby-needs-5', 'home-care','electronics-appliances']"
   ]
  },
  {
   "cell_type": "code",
   "execution_count": 135,
   "metadata": {
    "collapsed": true,
    "jupyter": {
     "outputs_hidden": true
    },
    "tags": []
   },
   "outputs": [
    {
     "name": "stdout",
     "output_type": "stream",
     "text": [
      "Product Name: ذرة قودي حبة ذهبية علب 196 جرام\n",
      "Price: Special Price\n",
      "\n",
      "                    3.25\n",
      "Old Price: 4.75\n",
      "----------\n",
      "Product Name: زيتون كوبوليفا اسود بلا نوى150 جرام\n",
      "Price: 7.95\n",
      "Old Price: None\n",
      "----------\n",
      "Product Name: زيتون حلواني اخضر بالزيت 650 جرام\n",
      "Price: Special Price\n",
      "\n",
      "                    19.95\n",
      "Old Price: 31.95\n",
      "----------\n",
      "Product Name: فول حدائق كاليفورنيا خلطة لبنانية 450 جرام\n",
      "Price: Special Price\n",
      "\n",
      "                    4.95\n",
      "Old Price: 6.95\n",
      "----------\n",
      "Product Name: فول حدائق كاليفورنيا مع فلفل 450 جرام\n",
      "Price: Special Price\n",
      "\n",
      "                    4.95\n",
      "Old Price: 6.95\n",
      "----------\n",
      "Product Name: فول حدائق كاليفورنيا خلطة مصرية 450 جرام\n",
      "Price: Special Price\n",
      "\n",
      "                    4.95\n",
      "Old Price: 6.95\n",
      "----------\n",
      "Product Name: فول لونا امريكي علب 450 جرام\n",
      "Price: 3.75\n",
      "Old Price: None\n",
      "----------\n",
      "Product Name: فاصوليا لونا بيضاء 400 جرام\n",
      "Price: 4.25\n",
      "Old Price: None\n",
      "----------\n",
      "Product Name: زيتون اليسا اسود علب 100 جرام\n",
      "Price: Special Price\n",
      "\n",
      "                    5.70\n",
      "Old Price: 6.95\n",
      "----------\n",
      "Product Name: زيتون كوبوليفا اسود علب 100جرام\n",
      "Price: 5.75\n",
      "Old Price: None\n",
      "----------\n",
      "Product Name: زيتون كوبوليفا اسود شرائح 114 جرام\n",
      "Price: Special Price\n",
      "\n",
      "                    6.25\n",
      "Old Price: 8.50\n",
      "----------\n",
      "Product Name: حمص حدائق كاليفورنيا طحينة 400 جرام\n",
      "Price: Special Price\n",
      "\n",
      "                    3.95\n",
      "Old Price: 5.25\n",
      "----------\n",
      "Product Name: تونة قودي قليل الدسم بالماء 95جرام\n",
      "Price: 5.95\n",
      "Old Price: None\n",
      "----------\n",
      "Product Name: تونة قودي قليل الدسم بالماء 195جرام\n",
      "Price: Special Price\n",
      "\n",
      "                    7.68\n",
      "Old Price: 8.95\n",
      "----------\n",
      "Product Name: زيتون اليسا اسود بلا عجو 150 جرام\n",
      "Price: 8.50\n",
      "Old Price: None\n",
      "----------\n",
      "Product Name: تونة هالي خفيف 200جرام\n",
      "Price: 4.95\n",
      "Old Price: None\n",
      "----------\n",
      "Product Name: تونة هالي ابيض 200جرام\n",
      "Price: 5.50\n",
      "Old Price: None\n",
      "----------\n",
      "Product Name: بزاليا هالي خضراء علب 400 جرام\n",
      "Price: 1.75\n",
      "Old Price: None\n",
      "----------\n",
      "Product Name: زيتون كوبوليفا اسود #160 5 كيلو\n",
      "Price: 135.95\n",
      "Old Price: None\n",
      "----------\n",
      "Product Name: زيتون كوبوليفا اسود شرائح 900جرام\n",
      "Price: Special Price\n",
      "\n",
      "                    21.50\n",
      "Old Price: 23.95\n",
      "----------\n",
      "Product Name: زيتون كوبوليفا اسود #320 5كيلو\n",
      "Price: 97.95\n",
      "Old Price: None\n",
      "----------\n",
      "Product Name: مرتديلا سنيورة رومي زيتون 500 جرام\n",
      "Price: 19.95\n",
      "Old Price: None\n",
      "----------\n",
      "Product Name: صدور دجاج التنمية بدون عظم450ج\n",
      "Price: 19.25\n",
      "Old Price: None\n",
      "----------\n",
      "Product Name: كعك حفلة سويتز 12حبه\n",
      "Price: 8.00\n",
      "Old Price: None\n",
      "----------\n",
      "Product Name: دجاج التنمية طازج طبق 1000جرام\n",
      "Price: 20.95\n",
      "Old Price: None\n",
      "----------\n",
      "Product Name: دجاج التنمية طازج طبق 1200جرام\n",
      "Price: 22.25\n",
      "Old Price: None\n",
      "----------\n",
      "Product Name: دجاج التنمية طازج طبق 1100جرام\n",
      "Price: 21.75\n",
      "Old Price: None\n",
      "----------\n",
      "Product Name: زبادي الصافي 170جرام\n",
      "Price: 2.00\n",
      "Old Price: None\n",
      "----------\n",
      "Product Name: زبادي الصافي قليل الدسم 170جرام\n",
      "Price: 2.00\n",
      "Old Price: None\n",
      "----------\n",
      "Product Name: زبادي زادي فراولة 100جرام\n",
      "Price: 1.50\n",
      "Old Price: None\n",
      "----------\n",
      "Product Name: زبادي نادك طازج 1كيلو\n",
      "Price: 8.00\n",
      "Old Price: None\n",
      "----------\n",
      "Product Name: بودي نادك حلى فانيليا 75جرام\n",
      "Price: 1.25\n",
      "Old Price: None\n",
      "----------\n",
      "Product Name: لبنة بينار طازجة سطل 2.75كيلو\n",
      "Price: 90.50\n",
      "Old Price: None\n",
      "----------\n",
      "Product Name: لبن المراعي طازج كرتون 1لتر\n",
      "Price: 6.00\n",
      "Old Price: None\n",
      "----------\n",
      "Product Name: لبن المراعي طازج بلاستيك قليل الدسم 2لتر\n",
      "Price: 11.00\n",
      "Old Price: None\n",
      "----------\n",
      "Product Name: لبن المراعي بلاستيك قليل الدسم 180مل\n",
      "Price: 2.00\n",
      "Old Price: None\n",
      "----------\n",
      "Product Name: برجر امريكانا دجاج اكياس 15 حبة\n",
      "Price: 26.95\n",
      "Old Price: None\n",
      "----------\n",
      "Product Name: كفتة ارز امريكانا مصرية 900 جرام\n",
      "Price: 29.95\n",
      "Old Price: None\n",
      "----------\n",
      "Product Name: مفروم دجاج الوطنية رول 400 جرام\n",
      "Price: 8.95\n",
      "Old Price: None\n",
      "----------\n",
      "Product Name: بامية مونتانا زيرو مجمدة 400 جرام\n",
      "Price: Special Price\n",
      "\n",
      "                    7.50\n",
      "Old Price: 9.95\n",
      "----------\n",
      "Product Name: نقانق دجاج دو حار 400 جرام\n",
      "Price: 8.50\n",
      "Old Price: None\n",
      "----------\n",
      "Product Name: ذرة مونتانا سكرية حب 400 جرام\n",
      "Price: 5.50\n",
      "Old Price: None\n",
      "----------\n",
      "Product Name: برجر هرفي دجاج بالبقسماط 450 جرام\n",
      "Price: 16.95\n",
      "Old Price: None\n",
      "----------\n",
      "Product Name: برجر هرفي دجاج بالبقسماط 672 جرام\n",
      "Price: 24.50\n",
      "Old Price: None\n",
      "----------\n",
      "Product Name: برجر هرفي دجاج بالبقسماط 1120ج\n",
      "Price: 38.95\n",
      "Old Price: None\n",
      "----------\n",
      "Product Name: رقائق السنبلة سبرنج رول بر160 جرام\n",
      "Price: Special Price\n",
      "\n",
      "                    1.98\n",
      "Old Price: 6.95\n",
      "----------\n",
      "Product Name: كبة شامي لحم بقر ميني 450 جرام\n",
      "Price: 21.95\n",
      "Old Price: None\n",
      "----------\n",
      "Product Name: مفروم دجاج امريكانا 400جرام\n",
      "Price: Special Price\n",
      "\n",
      "                    5.50\n",
      "Old Price: 8.50\n",
      "----------\n",
      "Product Name: مفروم غنم امريكانا 400جرام\n",
      "Price: Special Price\n",
      "\n",
      "                    5.50\n",
      "Old Price: 9.50\n",
      "----------\n",
      "Product Name: مفروم غنم الهبرة 400جرام\n",
      "Price: 7.50\n",
      "Old Price: None\n",
      "----------\n",
      "Product Name: مفروم بقر سعودي 400جرام\n",
      "Price: Special Price\n",
      "\n",
      "                    3.95\n",
      "Old Price: 4.95\n",
      "----------\n",
      "Product Name: مفروم بقر شهية مربع 400جرام\n",
      "Price: Special Price\n",
      "\n",
      "                    8.25\n",
      "Old Price: 10.25\n",
      "----------\n",
      "Product Name: روبيان سيبلو جامبو 500جرام\n",
      "Price: 114.95\n",
      "Old Price: None\n",
      "----------\n",
      "Product Name: برجر امريكانا دجاج 24حبة 1200جرام\n",
      "Price: 38.95\n",
      "Old Price: None\n",
      "----------\n",
      "Product Name: حلوى بقر لاكسوري المداح 800جرام\n",
      "Price: 42.95\n",
      "Old Price: None\n",
      "----------\n",
      "Product Name: بسكويت شاي اولكر 175جرام\n",
      "Price: 2.50\n",
      "Old Price: None\n",
      "----------\n",
      "Product Name: بسكويت ديمة مشكل 3×684جرام\n",
      "Price: 26.50\n",
      "Old Price: None\n",
      "----------\n",
      "Product Name: بسكويت ديمة ملت بالحليب12×57جرام\n",
      "Price: 12.95\n",
      "Old Price: None\n",
      "----------\n",
      "Product Name: كليجا بلفيتا بالهيل 72ج\n",
      "Price: 2.00\n",
      "Old Price: None\n",
      "----------\n",
      "Product Name: بسكويت اوريو كريمة شوكولاتة44جرام\n",
      "Price: 1.50\n",
      "Old Price: None\n",
      "----------\n",
      "Product Name: بسكويت اوريو حليب وشوكولاتة44جرام\n",
      "Price: 1.50\n",
      "Old Price: None\n",
      "----------\n",
      "Product Name: بسكويت اولكر سندوتش #77-4 25جرام\n",
      "Price: 0.75\n",
      "Old Price: None\n",
      "----------\n",
      "Product Name: بسكويت بورقات مالح خضار110جرام\n",
      "Price: 7.95\n",
      "Old Price: None\n",
      "----------\n",
      "Product Name: بسكويت بورقات مالح جبن 110جرام\n",
      "Price: 7.95\n",
      "Old Price: None\n",
      "----------\n",
      "Product Name: بسكويت ديمة بالتمر 150جرام\n",
      "Price: 2.50\n",
      "Old Price: None\n",
      "----------\n",
      "Product Name: كيك يمامة غندور برتقال 12حبة\n",
      "Price: Special Price\n",
      "\n",
      "                    6.95\n",
      "Old Price: 8.95\n",
      "----------\n",
      "Product Name: كيك يمامة غندور فانيليا 12حبة\n",
      "Price: Special Price\n",
      "\n",
      "                    6.95\n",
      "Old Price: 8.95\n",
      "----------\n",
      "Product Name: شابورة امريكانا احمر 375جرام\n",
      "Price: 7.25\n",
      "Old Price: None\n",
      "----------\n",
      "Product Name: معمول الكرامة تمر 500جرام\n",
      "Price: 16.25\n",
      "Old Price: None\n",
      "----------\n",
      "Product Name: بسكويت ريتز مالح كراكرز 400جرام\n",
      "Price: 9.95\n",
      "Old Price: None\n",
      "----------\n",
      "Product Name: بسكويت ريتز مالح كراكرز 200جرام\n",
      "Price: 4.00\n",
      "Old Price: None\n",
      "----------\n",
      "Product Name: بسكويت تيشوب نخالة 260جرام\n",
      "Price: 2.75\n",
      "Old Price: None\n",
      "----------\n",
      "Product Name: مزيل ع دوف خيار وشاي الاخضر50مل\n",
      "Price: 22.95\n",
      "Old Price: None\n",
      "----------\n",
      "Product Name: لوشن نيفيا لشد البشرة 400مل\n",
      "Price: 49.95\n",
      "Old Price: None\n",
      "----------\n",
      "Product Name: لوشن نيفيا بالمسك جذاب 400مل\n",
      "Price: Special Price\n",
      "\n",
      "                    15.95\n",
      "Old Price: 32.95\n",
      "----------\n",
      "Product Name: لوشن بالمرز لشد الجلد 250 مل\n",
      "Price: 32.95\n",
      "Old Price: None\n",
      "----------\n",
      "Product Name: مزيل ع ليدي سبيد حساس 45جرام\n",
      "Price: 24.95\n",
      "Old Price: None\n",
      "----------\n",
      "Product Name: مزيل عرق مام رصاصي رول 50مل\n",
      "Price: 15.95\n",
      "Old Price: None\n",
      "----------\n",
      "Product Name: لوشن جرجنز مقاوم شيخوخة 400مل\n",
      "Price: 32.95\n",
      "Old Price: None\n",
      "----------\n",
      "Product Name: شامبو هيمالايا جاف مع بلسم400مل\n",
      "Price: Special Price\n",
      "\n",
      "                    8.95\n",
      "Old Price: 13.95\n",
      "----------\n",
      "Product Name: شامبو شولدرز كثافة جديد 400مل\n",
      "Price: 23.95\n",
      "Old Price: None\n",
      "----------\n",
      "Product Name: شامبو شولدرز فريش جديد400مل\n",
      "Price: 23.95\n",
      "Old Price: None\n",
      "----------\n",
      "Product Name: شامبو صانسيلك قوة ولمعان 200مل\n",
      "Price: 12.95\n",
      "Old Price: None\n",
      "----------\n",
      "Product Name: شامبو صانسيلك قوة ولمعان 700مل\n",
      "Price: Special Price\n",
      "\n",
      "                    12.95\n",
      "Old Price: 32.95\n",
      "----------\n",
      "Product Name: شامبو صانسيلك قوةولمعان 400مل\n",
      "Price: 19.95\n",
      "Old Price: None\n",
      "----------\n",
      "Product Name: شامبو صانسيلك نعومةوحيوية400مل\n",
      "Price: 19.95\n",
      "Old Price: None\n",
      "----------\n",
      "Product Name: شامبو صانسيلك ضد تساقط 400مل\n",
      "Price: 19.95\n",
      "Old Price: None\n",
      "----------\n",
      "Product Name: شامبو صانسيلك ناعم وانسيابي 700مل\n",
      "Price: Special Price\n",
      "\n",
      "                    12.95\n",
      "Old Price: 32.95\n",
      "----------\n",
      "Product Name: شامبو هيربال باي باي جفاف400مل\n",
      "Price: 20.25\n",
      "Old Price: None\n",
      "----------\n",
      "Product Name: شامبو هيربال كثير كثيف 400مل\n",
      "Price: 20.25\n",
      "Old Price: None\n",
      "----------\n",
      "Product Name: طعام اطفال سيريلاك عسل 400 جرام\n",
      "Price: 31.95\n",
      "Old Price: None\n",
      "----------\n",
      "Product Name: حليب اطفال رونالاك #1 400جرام\n",
      "Price: 38.95\n",
      "Old Price: None\n",
      "----------\n",
      "Product Name: حليب نيدو بالعسل 3سنوات 1800ج\n",
      "Price: 117.00\n",
      "Old Price: None\n",
      "----------\n",
      "Product Name: حليب نيدو بريبايو مقوى 1800ج\n",
      "Price: 124.00\n",
      "Old Price: None\n",
      "----------\n",
      "Product Name: حليب أطفال روناجرو #3 فانيليا 400جرام\n",
      "Price: 39.95\n",
      "Old Price: None\n",
      "----------\n",
      "Product Name: طعام اطفال سيريلاك فواكة 1كيلو\n",
      "Price: 76.95\n",
      "Old Price: None\n",
      "----------\n",
      "Product Name: طعام اطفال سيريلاك أرز 400 جرام\n",
      "Price: 29.50\n",
      "Old Price: None\n",
      "----------\n",
      "Product Name: طعام اطفال بلفيت بالعسل 300جرام\n",
      "Price: 27.50\n",
      "Old Price: None\n",
      "----------\n",
      "Product Name: طعام اطفال سيريلاك قمح 1000جرام\n",
      "Price: 69.95\n",
      "Old Price: None\n",
      "----------\n",
      "Product Name: حليب نيدو بالعسل 3سنوات 400جرام\n",
      "Price: 31.95\n",
      "Old Price: None\n",
      "----------\n",
      "Product Name: زيت جونسون اطفال 200مل\n",
      "Price: 29.95\n",
      "Old Price: None\n",
      "----------\n",
      "Product Name: جلي جونسون اطفال معطر 250مل\n",
      "Price: 18.95\n",
      "Old Price: None\n",
      "----------\n",
      "Product Name: زيت جونسون اطفال 300مل\n",
      "Price: 40.95\n",
      "Old Price: None\n",
      "----------\n",
      "Product Name: زيت جونسون اطفال 500مل\n",
      "Price: 52.95\n",
      "Old Price: None\n",
      "----------\n",
      "Product Name: بودرة نونو اطفال 100جرام\n",
      "Price: Special Price\n",
      "\n",
      "                    8.95\n",
      "Old Price: 12.95\n",
      "----------\n",
      "Product Name: شامبو نونو اطفال 500مل\n",
      "Price: Special Price\n",
      "\n",
      "                    17.95\n",
      "Old Price: 22.95\n",
      "----------\n",
      "Product Name: حليب نيدو بريبايو مقوي 400جرام\n",
      "Price: 31.95\n",
      "Old Price: None\n",
      "----------\n",
      "Product Name: حليب اطفال رونالاك 2 فانيليا 400 جرام\n",
      "Price: 38.95\n",
      "Old Price: None\n",
      "----------\n",
      "Product Name: قصدير كلوب 45سم\n",
      "Price: 7.50\n",
      "Old Price: None\n",
      "----------\n",
      "Product Name: قصدير سانيتا 75قدم مربع\n",
      "Price: 16.95\n",
      "Old Price: None\n",
      "----------\n",
      "Product Name: قصدير سانيتا 200قدم مربع\n",
      "Price: 40.95\n",
      "Old Price: None\n",
      "----------\n",
      "Product Name: قصدير سانيتا 300 ملم\n",
      "Price: Special Price\n",
      "\n",
      "                    28.95\n",
      "Old Price: 43.95\n",
      "----------\n",
      "Product Name: قصدير سانيتا 37,5قدم\n",
      "Price: 12.95\n",
      "Old Price: None\n",
      "----------\n",
      "Product Name: قصدير سانيتا 450مم\n",
      "Price: 65.95\n",
      "Old Price: None\n",
      "----------\n",
      "Product Name: قصدير شراع 2×45×600سم\n",
      "Price: Special Price\n",
      "\n",
      "                    10.95\n",
      "Old Price: 17.25\n",
      "----------\n",
      "Product Name: رول تغليف سانيتا 3×30م×300مم\n",
      "Price: Special Price\n",
      "\n",
      "                    12.95\n",
      "Old Price: 20.95\n",
      "----------\n",
      "Product Name: رول تغليف سانيتا 45سم\n",
      "Price: 42.95\n",
      "Old Price: None\n",
      "----------\n",
      "Product Name: رول تغليف سانيتا 30سم\n",
      "Price: Special Price\n",
      "\n",
      "                    22.95\n",
      "Old Price: 32.95\n",
      "----------\n",
      "Product Name: رول تغليف سانيتا 20متر×450مم\n",
      "Price: 7.25\n",
      "Old Price: None\n",
      "----------\n",
      "Product Name: اكياس شراع حفظ اطعمة #10\n",
      "Price: 7.50\n",
      "Old Price: None\n",
      "----------\n",
      "Product Name: اكياس بلاستي نت حفظ اطعمة #12\n",
      "Price: Special Price\n",
      "\n",
      "                    19.95\n",
      "Old Price: 27.95\n",
      "----------\n",
      "Product Name: اكياس بلاستي نت حفظ اطعمة #10\n",
      "Price: Special Price\n",
      "\n",
      "                    14.95\n",
      "Old Price: 18.75\n",
      "----------\n",
      "Product Name: اكياس بلاستي نت حفظ اطعمة #8\n",
      "Price: Special Price\n",
      "\n",
      "                    10.95\n",
      "Old Price: 14.00\n",
      "----------\n",
      "Product Name: اكياس شراع حفظ اطعمة #12\n",
      "Price: 7.50\n",
      "Old Price: None\n",
      "----------\n",
      "Product Name: اكياس نابكو حفظ اطعمة #14\n",
      "Price: 10.95\n",
      "Old Price: None\n",
      "----------\n",
      "Product Name: اكياس نابكو حفظ اطعمة #16\n",
      "Price: 13.95\n",
      "Old Price: None\n",
      "----------\n",
      "Product Name: صانع طعام كينود 220 فولت\n",
      "Price: 285.00\n",
      "Old Price: None\n",
      "----------\n",
      "Product Name: ميكرويف كليك وان 20ل #4306\n",
      "Price: 270.00\n",
      "Old Price: None\n",
      "----------\n",
      "Product Name: خلاط نيكاي مع مطحنة #بي اي2900\n",
      "Price: 90.00\n",
      "Old Price: None\n",
      "----------\n",
      "Product Name: خلاط نيكاي مع مطحنة#1713بي ان\n",
      "Price: 119.00\n",
      "Old Price: None\n",
      "----------\n",
      "Product Name: مضرب كينوود بيض 330\n",
      "Price: 85.00\n",
      "Old Price: None\n",
      "----------\n",
      "Product Name: قطاعة خضار اي تي سي#ام اكس 4سي\n",
      "Price: 65.00\n",
      "Old Price: None\n",
      "----------\n",
      "Product Name: قطاعة خضار كينوود 550\n",
      "Price: 95.00\n",
      "Old Price: None\n",
      "----------\n",
      "Product Name: قطاعة خضار كينوود .5ل #580\n",
      "Price: 139.00\n",
      "Old Price: None\n",
      "----------\n",
      "Product Name: سخان سندوتش كينوود بشواية 360\n",
      "Price: 139.00\n",
      "Old Price: None\n",
      "----------\n",
      "Product Name: صانع طعام جيباس  4ه1 2031\n",
      "Price: 139.00\n",
      "Old Price: None\n",
      "----------\n"
     ]
    }
   ],
   "source": [
    "# othaim's website\n",
    "base_url = 'https://www.othaimmarkets.com/'\n",
    "\n",
    "# Loop through categories\n",
    "for category in categories:\n",
    "    # Construct the URL for the category page\n",
    "    category_url = base_url + category + '.html'\n",
    "    \n",
    "    # Send a GET request to the category URL\n",
    "    response = requests.get(category_url)\n",
    "    \n",
    "    # Check if the request was successful (status code 200)\n",
    "    if response.status_code == 200:\n",
    "        # Parse the HTML content of the page\n",
    "        soup = BeautifulSoup(response.content, 'html.parser')\n",
    "        \n",
    "        # Here you can write your scraping logic to extract information from the page\n",
    "        # Let's find all product names or prices\n",
    "        products = soup.find_all('div', {'class':'span2 product'})\n",
    "        for prod in products:\n",
    "            product_name, price, old_price = extract_product_details(prod)\n",
    "\n",
    "            # Print the results\n",
    "            print(\"Product Name:\", product_name)\n",
    "            print(\"Price:\", price)\n",
    "            print(\"Old Price:\", old_price)\n",
    "            print(\"----------\")\n",
    "\n",
    "    else:\n",
    "        print(\"Failed to retrieve data for category:\", category)\n"
   ]
  },
  {
   "cell_type": "markdown",
   "metadata": {},
   "source": [
    "## From web data to analysis\n",
    "\n",
    "\n",
    "Let's start by storing the data into lists. Later, we can organize this data into a DataFrame for further analysis."
   ]
  },
  {
   "cell_type": "code",
   "execution_count": 136,
   "metadata": {},
   "outputs": [],
   "source": [
    "# othaim's website\n",
    "base_url = 'https://www.othaimmarkets.com/'\n",
    "\n",
    "# Loop through categories\n",
    "for category in categories:\n",
    "    # Construct the URL for the category page\n",
    "    category_url = base_url + category + '.html'\n",
    "    \n",
    "    # Send a GET request to the category URL\n",
    "    response = requests.get(category_url)\n",
    "    \n",
    "    # Check if the request was successful (status code 200)\n",
    "    if response.status_code == 200:\n",
    "        # Parse the HTML content of the page\n",
    "        soup = BeautifulSoup(response.content, 'html.parser')\n",
    "        \n",
    "        # Here you can write your scraping logic to extract information from the page\n",
    "        # Let's find all product names or prices\n",
    "        products = soup.find_all('div', {'class':'span2 product'})\n",
    "        for prod in products:\n",
    "            product_name, price, old_price = extract_product_details(prod)\n",
    "\n",
    "            # put the results in a list\n",
    "            products_name.append(product_name)\n",
    "            prices.append(price)\n",
    "            old_prices.append(old_price)\n",
    "\n",
    "    else:\n",
    "        print(\"Failed to retrieve data for category:\", category)\n"
   ]
  },
  {
   "cell_type": "code",
   "execution_count": 119,
   "metadata": {},
   "outputs": [],
   "source": [
    "# Loop through the products\n",
    "products_name = []\n",
    "prices = []\n",
    "old_prices = []\n",
    "\n",
    "for prod in products:\n",
    "    product_name, price, old_price = extract_product_details(prod)\n",
    "\n",
    "    # put the results in a list\n",
    "    products_name.append(product_name)\n",
    "    prices.append(price)\n",
    "    old_prices.append(old_price)\n"
   ]
  },
  {
   "cell_type": "code",
   "execution_count": 137,
   "metadata": {},
   "outputs": [
    {
     "data": {
      "text/html": [
       "<div>\n",
       "<style scoped>\n",
       "    .dataframe tbody tr th:only-of-type {\n",
       "        vertical-align: middle;\n",
       "    }\n",
       "\n",
       "    .dataframe tbody tr th {\n",
       "        vertical-align: top;\n",
       "    }\n",
       "\n",
       "    .dataframe thead th {\n",
       "        text-align: right;\n",
       "    }\n",
       "</style>\n",
       "<table border=\"1\" class=\"dataframe\">\n",
       "  <thead>\n",
       "    <tr style=\"text-align: right;\">\n",
       "      <th></th>\n",
       "      <th>name</th>\n",
       "      <th>price</th>\n",
       "      <th>old_price</th>\n",
       "    </tr>\n",
       "  </thead>\n",
       "  <tbody>\n",
       "    <tr>\n",
       "      <th>0</th>\n",
       "      <td>زيت عافية ذرة 1,8لتر</td>\n",
       "      <td>30.95</td>\n",
       "      <td>None</td>\n",
       "    </tr>\n",
       "    <tr>\n",
       "      <th>1</th>\n",
       "      <td>زيت هالي نباتي علب 16لتر</td>\n",
       "      <td>91.00</td>\n",
       "      <td>None</td>\n",
       "    </tr>\n",
       "    <tr>\n",
       "      <th>2</th>\n",
       "      <td>زيت زيتون كوبوليفا زجاج 500مل</td>\n",
       "      <td>Special Price\\n\\n                    23.95</td>\n",
       "      <td>25.95</td>\n",
       "    </tr>\n",
       "    <tr>\n",
       "      <th>3</th>\n",
       "      <td>زيت زيتون كوبوليفا زجاج 250مل</td>\n",
       "      <td>14.95</td>\n",
       "      <td>None</td>\n",
       "    </tr>\n",
       "    <tr>\n",
       "      <th>4</th>\n",
       "      <td>زيت زيتون الجوف زجاج 250مل</td>\n",
       "      <td>15.95</td>\n",
       "      <td>None</td>\n",
       "    </tr>\n",
       "    <tr>\n",
       "      <th>...</th>\n",
       "      <td>...</td>\n",
       "      <td>...</td>\n",
       "      <td>...</td>\n",
       "    </tr>\n",
       "    <tr>\n",
       "      <th>149</th>\n",
       "      <td>قطاعة خضار اي تي سي#ام اكس 4سي</td>\n",
       "      <td>65.00</td>\n",
       "      <td>None</td>\n",
       "    </tr>\n",
       "    <tr>\n",
       "      <th>150</th>\n",
       "      <td>قطاعة خضار كينوود 550</td>\n",
       "      <td>95.00</td>\n",
       "      <td>None</td>\n",
       "    </tr>\n",
       "    <tr>\n",
       "      <th>151</th>\n",
       "      <td>قطاعة خضار كينوود .5ل #580</td>\n",
       "      <td>139.00</td>\n",
       "      <td>None</td>\n",
       "    </tr>\n",
       "    <tr>\n",
       "      <th>152</th>\n",
       "      <td>سخان سندوتش كينوود بشواية 360</td>\n",
       "      <td>139.00</td>\n",
       "      <td>None</td>\n",
       "    </tr>\n",
       "    <tr>\n",
       "      <th>153</th>\n",
       "      <td>صانع طعام جيباس  4ه1 2031</td>\n",
       "      <td>139.00</td>\n",
       "      <td>None</td>\n",
       "    </tr>\n",
       "  </tbody>\n",
       "</table>\n",
       "<p>154 rows × 3 columns</p>\n",
       "</div>"
      ],
      "text/plain": [
       "                               name  \\\n",
       "0              زيت عافية ذرة 1,8لتر   \n",
       "1          زيت هالي نباتي علب 16لتر   \n",
       "2     زيت زيتون كوبوليفا زجاج 500مل   \n",
       "3     زيت زيتون كوبوليفا زجاج 250مل   \n",
       "4        زيت زيتون الجوف زجاج 250مل   \n",
       "..                              ...   \n",
       "149  قطاعة خضار اي تي سي#ام اكس 4سي   \n",
       "150           قطاعة خضار كينوود 550   \n",
       "151      قطاعة خضار كينوود .5ل #580   \n",
       "152   سخان سندوتش كينوود بشواية 360   \n",
       "153       صانع طعام جيباس  4ه1 2031   \n",
       "\n",
       "                                          price old_price  \n",
       "0                                         30.95      None  \n",
       "1                                         91.00      None  \n",
       "2    Special Price\\n\\n                    23.95     25.95  \n",
       "3                                         14.95      None  \n",
       "4                                         15.95      None  \n",
       "..                                          ...       ...  \n",
       "149                                       65.00      None  \n",
       "150                                       95.00      None  \n",
       "151                                      139.00      None  \n",
       "152                                      139.00      None  \n",
       "153                                      139.00      None  \n",
       "\n",
       "[154 rows x 3 columns]"
      ]
     },
     "execution_count": 137,
     "metadata": {},
     "output_type": "execute_result"
    }
   ],
   "source": [
    "# put all in the dataframe\n",
    "df = pd.DataFrame({'name':products_name, 'price':prices, 'old_price':old_prices})\n",
    "df"
   ]
  },
  {
   "cell_type": "markdown",
   "metadata": {},
   "source": [
    "We've only collected data for *154* products, but Othaim Market has more than that, Right?!. \n",
    "\n",
    "These are just the products displayed at the top of each webpage. To retrieve the rest of the products, we'll need to scroll down. How to scroll in code? We can do this programmatically using the *Selenium library.* We will talk about this later."
   ]
  },
  {
   "cell_type": "markdown",
   "metadata": {},
   "source": [
    "The price includes the text `Special Price\\n\\n`. Let's clean it up and keep only the price:"
   ]
  },
  {
   "cell_type": "code",
   "execution_count": 138,
   "metadata": {},
   "outputs": [],
   "source": [
    "df.price = df.price.str.extract(r'(\\d+\\.\\d+)')"
   ]
  },
  {
   "cell_type": "code",
   "execution_count": null,
   "metadata": {},
   "outputs": [
    {
     "data": {
      "text/html": [
       "<div>\n",
       "<style scoped>\n",
       "    .dataframe tbody tr th:only-of-type {\n",
       "        vertical-align: middle;\n",
       "    }\n",
       "\n",
       "    .dataframe tbody tr th {\n",
       "        vertical-align: top;\n",
       "    }\n",
       "\n",
       "    .dataframe thead th {\n",
       "        text-align: right;\n",
       "    }\n",
       "</style>\n",
       "<table border=\"1\" class=\"dataframe\">\n",
       "  <thead>\n",
       "    <tr style=\"text-align: right;\">\n",
       "      <th></th>\n",
       "      <th>name</th>\n",
       "      <th>price</th>\n",
       "      <th>old_price</th>\n",
       "    </tr>\n",
       "  </thead>\n",
       "  <tbody>\n",
       "    <tr>\n",
       "      <th>0</th>\n",
       "      <td>زيت عافية ذرة 1,8لتر</td>\n",
       "      <td>30.95</td>\n",
       "      <td>None</td>\n",
       "    </tr>\n",
       "    <tr>\n",
       "      <th>1</th>\n",
       "      <td>زيت هالي نباتي علب 16لتر</td>\n",
       "      <td>91.00</td>\n",
       "      <td>None</td>\n",
       "    </tr>\n",
       "    <tr>\n",
       "      <th>2</th>\n",
       "      <td>زيت زيتون كوبوليفا زجاج 500مل</td>\n",
       "      <td>23.95</td>\n",
       "      <td>25.95</td>\n",
       "    </tr>\n",
       "    <tr>\n",
       "      <th>3</th>\n",
       "      <td>زيت زيتون كوبوليفا زجاج 250مل</td>\n",
       "      <td>14.95</td>\n",
       "      <td>None</td>\n",
       "    </tr>\n",
       "    <tr>\n",
       "      <th>4</th>\n",
       "      <td>زيت زيتون الجوف زجاج 250مل</td>\n",
       "      <td>15.95</td>\n",
       "      <td>None</td>\n",
       "    </tr>\n",
       "    <tr>\n",
       "      <th>...</th>\n",
       "      <td>...</td>\n",
       "      <td>...</td>\n",
       "      <td>...</td>\n",
       "    </tr>\n",
       "    <tr>\n",
       "      <th>149</th>\n",
       "      <td>قطاعة خضار اي تي سي#ام اكس 4سي</td>\n",
       "      <td>65.00</td>\n",
       "      <td>None</td>\n",
       "    </tr>\n",
       "    <tr>\n",
       "      <th>150</th>\n",
       "      <td>قطاعة خضار كينوود 550</td>\n",
       "      <td>95.00</td>\n",
       "      <td>None</td>\n",
       "    </tr>\n",
       "    <tr>\n",
       "      <th>151</th>\n",
       "      <td>قطاعة خضار كينوود .5ل #580</td>\n",
       "      <td>139.00</td>\n",
       "      <td>None</td>\n",
       "    </tr>\n",
       "    <tr>\n",
       "      <th>152</th>\n",
       "      <td>سخان سندوتش كينوود بشواية 360</td>\n",
       "      <td>139.00</td>\n",
       "      <td>None</td>\n",
       "    </tr>\n",
       "    <tr>\n",
       "      <th>153</th>\n",
       "      <td>صانع طعام جيباس  4ه1 2031</td>\n",
       "      <td>139.00</td>\n",
       "      <td>None</td>\n",
       "    </tr>\n",
       "  </tbody>\n",
       "</table>\n",
       "<p>154 rows × 3 columns</p>\n",
       "</div>"
      ],
      "text/plain": [
       "                               name   price old_price\n",
       "0              زيت عافية ذرة 1,8لتر   30.95      None\n",
       "1          زيت هالي نباتي علب 16لتر   91.00      None\n",
       "2     زيت زيتون كوبوليفا زجاج 500مل   23.95     25.95\n",
       "3     زيت زيتون كوبوليفا زجاج 250مل   14.95      None\n",
       "4        زيت زيتون الجوف زجاج 250مل   15.95      None\n",
       "..                              ...     ...       ...\n",
       "149  قطاعة خضار اي تي سي#ام اكس 4سي   65.00      None\n",
       "150           قطاعة خضار كينوود 550   95.00      None\n",
       "151      قطاعة خضار كينوود .5ل #580  139.00      None\n",
       "152   سخان سندوتش كينوود بشواية 360  139.00      None\n",
       "153       صانع طعام جيباس  4ه1 2031  139.00      None\n",
       "\n",
       "[154 rows x 3 columns]"
      ]
     },
     "execution_count": 139,
     "metadata": {},
     "output_type": "execute_result"
    }
   ],
   "source": [
    "df"
   ]
  },
  {
   "cell_type": "markdown",
   "metadata": {},
   "source": [
    "It's a good practice to save the original data before analyzing it further. This way, if we make any changes and need to revert to the original data, we won't have to run the scraping code again, which is often time-consuming."
   ]
  },
  {
   "cell_type": "code",
   "execution_count": 140,
   "metadata": {},
   "outputs": [],
   "source": [
    "df.to_csv('othaim_sample_prod.csv')"
   ]
  },
  {
   "cell_type": "markdown",
   "metadata": {},
   "source": [
    "Let's do quick analysis on the percentage of discounted products in this sample"
   ]
  },
  {
   "cell_type": "code",
   "execution_count": 141,
   "metadata": {},
   "outputs": [],
   "source": [
    "df['has_discount'] = df['old_price'].notna()"
   ]
  },
  {
   "cell_type": "code",
   "execution_count": 142,
   "metadata": {},
   "outputs": [
    {
     "data": {
      "text/html": [
       "<div>\n",
       "<style scoped>\n",
       "    .dataframe tbody tr th:only-of-type {\n",
       "        vertical-align: middle;\n",
       "    }\n",
       "\n",
       "    .dataframe tbody tr th {\n",
       "        vertical-align: top;\n",
       "    }\n",
       "\n",
       "    .dataframe thead th {\n",
       "        text-align: right;\n",
       "    }\n",
       "</style>\n",
       "<table border=\"1\" class=\"dataframe\">\n",
       "  <thead>\n",
       "    <tr style=\"text-align: right;\">\n",
       "      <th></th>\n",
       "      <th>name</th>\n",
       "      <th>price</th>\n",
       "      <th>old_price</th>\n",
       "      <th>has_discount</th>\n",
       "    </tr>\n",
       "  </thead>\n",
       "  <tbody>\n",
       "    <tr>\n",
       "      <th>0</th>\n",
       "      <td>زيت عافية ذرة 1,8لتر</td>\n",
       "      <td>30.95</td>\n",
       "      <td>None</td>\n",
       "      <td>False</td>\n",
       "    </tr>\n",
       "    <tr>\n",
       "      <th>1</th>\n",
       "      <td>زيت هالي نباتي علب 16لتر</td>\n",
       "      <td>91.00</td>\n",
       "      <td>None</td>\n",
       "      <td>False</td>\n",
       "    </tr>\n",
       "    <tr>\n",
       "      <th>2</th>\n",
       "      <td>زيت زيتون كوبوليفا زجاج 500مل</td>\n",
       "      <td>23.95</td>\n",
       "      <td>25.95</td>\n",
       "      <td>True</td>\n",
       "    </tr>\n",
       "    <tr>\n",
       "      <th>3</th>\n",
       "      <td>زيت زيتون كوبوليفا زجاج 250مل</td>\n",
       "      <td>14.95</td>\n",
       "      <td>None</td>\n",
       "      <td>False</td>\n",
       "    </tr>\n",
       "    <tr>\n",
       "      <th>4</th>\n",
       "      <td>زيت زيتون الجوف زجاج 250مل</td>\n",
       "      <td>15.95</td>\n",
       "      <td>None</td>\n",
       "      <td>False</td>\n",
       "    </tr>\n",
       "    <tr>\n",
       "      <th>...</th>\n",
       "      <td>...</td>\n",
       "      <td>...</td>\n",
       "      <td>...</td>\n",
       "      <td>...</td>\n",
       "    </tr>\n",
       "    <tr>\n",
       "      <th>149</th>\n",
       "      <td>قطاعة خضار اي تي سي#ام اكس 4سي</td>\n",
       "      <td>65.00</td>\n",
       "      <td>None</td>\n",
       "      <td>False</td>\n",
       "    </tr>\n",
       "    <tr>\n",
       "      <th>150</th>\n",
       "      <td>قطاعة خضار كينوود 550</td>\n",
       "      <td>95.00</td>\n",
       "      <td>None</td>\n",
       "      <td>False</td>\n",
       "    </tr>\n",
       "    <tr>\n",
       "      <th>151</th>\n",
       "      <td>قطاعة خضار كينوود .5ل #580</td>\n",
       "      <td>139.00</td>\n",
       "      <td>None</td>\n",
       "      <td>False</td>\n",
       "    </tr>\n",
       "    <tr>\n",
       "      <th>152</th>\n",
       "      <td>سخان سندوتش كينوود بشواية 360</td>\n",
       "      <td>139.00</td>\n",
       "      <td>None</td>\n",
       "      <td>False</td>\n",
       "    </tr>\n",
       "    <tr>\n",
       "      <th>153</th>\n",
       "      <td>صانع طعام جيباس  4ه1 2031</td>\n",
       "      <td>139.00</td>\n",
       "      <td>None</td>\n",
       "      <td>False</td>\n",
       "    </tr>\n",
       "  </tbody>\n",
       "</table>\n",
       "<p>154 rows × 4 columns</p>\n",
       "</div>"
      ],
      "text/plain": [
       "                               name   price old_price  has_discount\n",
       "0              زيت عافية ذرة 1,8لتر   30.95      None         False\n",
       "1          زيت هالي نباتي علب 16لتر   91.00      None         False\n",
       "2     زيت زيتون كوبوليفا زجاج 500مل   23.95     25.95          True\n",
       "3     زيت زيتون كوبوليفا زجاج 250مل   14.95      None         False\n",
       "4        زيت زيتون الجوف زجاج 250مل   15.95      None         False\n",
       "..                              ...     ...       ...           ...\n",
       "149  قطاعة خضار اي تي سي#ام اكس 4سي   65.00      None         False\n",
       "150           قطاعة خضار كينوود 550   95.00      None         False\n",
       "151      قطاعة خضار كينوود .5ل #580  139.00      None         False\n",
       "152   سخان سندوتش كينوود بشواية 360  139.00      None         False\n",
       "153       صانع طعام جيباس  4ه1 2031  139.00      None         False\n",
       "\n",
       "[154 rows x 4 columns]"
      ]
     },
     "execution_count": 142,
     "metadata": {},
     "output_type": "execute_result"
    }
   ],
   "source": [
    "df"
   ]
  },
  {
   "cell_type": "code",
   "execution_count": 143,
   "metadata": {},
   "outputs": [
    {
     "data": {
      "text/plain": [
       "False    114\n",
       "True      40\n",
       "Name: has_discount, dtype: int64"
      ]
     },
     "execution_count": 143,
     "metadata": {},
     "output_type": "execute_result"
    }
   ],
   "source": [
    "df.has_discount.value_counts()"
   ]
  },
  {
   "cell_type": "code",
   "execution_count": 148,
   "metadata": {},
   "outputs": [
    {
     "data": {
      "text/plain": [
       "False    0.74026\n",
       "True     0.25974\n",
       "Name: has_discount, dtype: float64"
      ]
     },
     "execution_count": 148,
     "metadata": {},
     "output_type": "execute_result"
    }
   ],
   "source": [
    "df.has_discount.value_counts(normalize=True)"
   ]
  },
  {
   "cell_type": "code",
   "execution_count": 147,
   "metadata": {},
   "outputs": [
    {
     "data": {
      "image/png": "[encoded data removed]",
      "text/plain": [
       "<Figure size 640x480 with 1 Axes>"
      ]
     },
     "metadata": {},
     "output_type": "display_data"
    }
   ],
   "source": [
    "df.has_discount.value_counts().plot.pie();"
   ]
  },
  {
   "cell_type": "markdown",
   "metadata": {
    "id": "6RUOptSFyHwV"
   },
   "source": [
    "## Ethical considerations\n",
    "\n",
    "**You can scrape it, should you though?**\n",
    "\n",
    "\n",
    "*Here's a good summary of practices for ethical web scraping:*\n",
    "\n",
    "- Respect the rules: Always check the website's robots.txt file and terms of service (TOS) first. These will tell you if scraping is allowed and what data you can access.\n",
    "- Be a good guest: Don't overload the website with requests. Space out your scraping requests and be gentle on the server. Avoid scraping during peak hours.\n",
    "- Identify yourself: Use a user-agent string to identify your scraper as a bot. This allows the website owner to contact you if there are any issues.\n",
    "- Public data only: Focus on scraping publicly available information, not private user data or sensitive content.\n",
    "- Check for APIs: Many websites offer APIs (Application Programming Interfaces) that allow you to access data programmatically. This is often the preferred method as it avoids scraping altogether.\n",
    "\n",
    "- Minimize data collection: only save the data I absolutely need from your page to fulfill my purpose. This helps protect your privacy and bandwidth.\n",
    "\n",
    "- Inspecting the **robots.txt** file: Always inspect the website's *robots.txt* file for rules about what pages can be scraped, indexed, etc.\n",
    "\n",
    "### What is a robots.txt?\n",
    "\n",
    "A simple text file placed on the web server which tells crawlers which file they can and cannot access. It's also called _The Robots Exclusion Protocol_.\n",
    "\n",
    "<img src='https://github.com/nestauk/im-tutorials/blob/3-ysi-tutorial/figures/Web-Scraping/robots.png?raw=1' width=\"600\">\n",
    "\n",
    "#### Some examples"
   ]
  },
  {
   "cell_type": "code",
   "execution_count": 21,
   "metadata": {
    "id": "H1zpMsnryHwW",
    "jupyter": {
     "outputs_hidden": true
    },
    "tags": []
   },
   "outputs": [
    {
     "name": "stdout",
     "output_type": "stream",
     "text": [
      "User-Agent: *\n",
      "\n",
      "Disallow: /search/\n",
      "\n",
      "Allow: /\n",
      "\n",
      "-----\n",
      "# robots.txt for BoxOfficeMojo\n",
      "User-agent: *\n",
      "Allow: /\n",
      "\n",
      "-----\n",
      "Error due to hottogeek.com is blocking us\n"
     ]
    }
   ],
   "source": [
    "print(requests.get('https://www.nesta.org.uk/robots.txt').text)\n",
    "print('-----')\n",
    "print(requests.get('https://www.boxofficemojo.com/robots.txt').text)\n",
    "print('-----')\n",
    "try:\n",
    "    print(requests.get('https://www.howtogeek.com/robots.txt').text)\n",
    "except :\n",
    "    print(\"Error due to hottogeek.com is blocking us\")"
   ]
  },
  {
   "cell_type": "markdown",
   "metadata": {},
   "source": [
    "### How to get around the blocking?\n",
    "- Let's use fake user info by defining a header"
   ]
  },
  {
   "cell_type": "code",
   "execution_count": 24,
   "metadata": {},
   "outputs": [
    {
     "name": "stdout",
     "output_type": "stream",
     "text": [
      "User-agent: *\n",
      "Disallow: /pixel.png*\n",
      "Disallow: /search/\n",
      "Disallow: /profile/\n",
      "User-agent: GPTBot\n",
      "Disallow: /\n",
      "Sitemap: https://www.howtogeek.com/sitemap.xml\n",
      "\n",
      "\n"
     ]
    }
   ],
   "source": [
    "headers = { 'User-Agent': 'Mozilla/5.0 (Windows NT 6.0; WOW64; rv:24.0) Gecko/20100101 Firefox/24.0' }\n",
    "\n",
    "print(requests.get('https://www.howtogeek.com/robots.txt', headers=headers).text)"
   ]
  },
  {
   "cell_type": "markdown",
   "metadata": {
    "id": "h7faH-ENyHwW"
   },
   "source": [
    "#### What's a User-Agent?\n",
    "\n",
    "A User-Agent is a string identifying the browser and operating system to the web server. It's your machine's way of saying _Hi, I am Chrome on macOS_ to a web server.\n",
    "\n",
    "Web servers use user agents for a variety of purposes:\n",
    "* Serving different web pages to different web browsers. This can be used for good – for example, to serve simpler web pages to older browsers – or evil – for example, to display a “This web page must be viewed in Internet Explorer” message.\n",
    "* Displaying different content to different operating systems – for example, by displaying a slimmed-down page on mobile devices.\n",
    "* Gathering statistics showing the browsers and operating systems in use by their users. If you ever see browser market-share statistics, this is how they’re acquired.\n",
    "\n",
    "Let's break down the structure of a human-operated User-Agent:\n",
    "\n",
    "```Mozilla/5.0 (iPad; U; CPU OS 3_2_1 like Mac OS X; en-us) AppleWebKit/531.21.10 (KHTML, like Gecko) Mobile/7B405```\n",
    "\n",
    "The components of this string are as follows:\n",
    "\n",
    "* Mozilla/5.0: Previously used to indicate compatibility with the Mozilla rendering engine.\n",
    "* (iPad; U; CPU OS 3_2_1 like Mac OS X; en-us): Details of the system in which the browser is running.\n",
    "* AppleWebKit/531.21.10: The platform the browser uses.\n",
    "* (KHTML, like Gecko): Browser platform details.\n",
    "* Mobile/7B405: This is used by the browser to indicate specific enhancements that are available directly in the browser or through third parties. An example of this is Microsoft Live Meeting which registers an extension so that the Live Meeting service knows if the software is already installed, which means it can provide a streamlined experience to joining meetings.\n",
    "\n",
    "When scraping websites, it is a good idea to include your contact information as a custom **User-Agent** string so that the webmaster can get in contact. For example:"
   ]
  },
  {
   "cell_type": "code",
   "execution_count": null,
   "metadata": {
    "id": "PB2WE5o1yHwW"
   },
   "outputs": [],
   "source": [
    "headers = {\n",
    "    'User-Agent': 'Kostas Stathoulopoulos bot',\n",
    "    'From': 'konstantinos.stathoulopoulos@nesta.org.uk'\n",
    "}\n",
    "request = requests.get('https://www.nesta.org.uk/', headers=headers)\n",
    "print(request.request.headers)"
   ]
  },
  {
   "cell_type": "markdown",
   "metadata": {
    "id": "vTXOv41pyHwW"
   },
   "source": [
    "## Advanced web scraping tools\n",
    "\n",
    "**[Scrapy](https://scrapy.org)** is a Python framework for large scale web scraping. It gives you all the tools you need to efficiently extract data from websites, process them as you want, and store them in your preferred structure and format.\n",
    "\n",
    "**[Selenium](https://selenium-python.readthedocs.io/index.html)** is an umbrella project encapsulating a variety of tools and libraries enabling web browser automation. Selenium specifically provides infrastructure for the W3C WebDriver specification — a platform and language-neutral coding interface compatible with all major web browsers. We can use it to imitate a user's behaviour and interact with Javascript elements (buttons, sliders etc.).\n",
    "\n",
    "For now, let's see how Selenium works.\n",
    "\n",
    "### How to install Selenium\n",
    "1. If you are using Anaconda: `conda install -c conda-forge selenium `\n",
    "2. Download the driver for your web browser for [here](https://selenium-python.readthedocs.io/installation.html#drivers). **Note:** Choose a driver that corresponds to your web browser's version. Unzip the file and move the executable to your working directory.\n",
    "\n",
    "#### Important note on Selinium and web drivers\n",
    "If you are running this notebook locally, follow the above steps and run the code directly below (change the path to where your web driver is located). If you are running this notebook on colab, skip the next cell and run the one below it.\n",
    "\n",
    "### Scraping data with Selenium\n",
    "\n",
    "<img src='../../../images/scraping/selenium-pipeline.png' width='1024'>"
   ]
  },
  {
   "cell_type": "markdown",
   "metadata": {},
   "source": []
  },
  {
   "cell_type": "code",
   "execution_count": null,
   "metadata": {},
   "outputs": [],
   "source": [
    "# install selenium if it isn't already installed\n",
    "!pip install selenium"
   ]
  },
  {
   "cell_type": "markdown",
   "metadata": {},
   "source": [
    "since version 4.6.0 you do not need to download a driver"
   ]
  },
  {
   "cell_type": "code",
   "execution_count": 1,
   "metadata": {},
   "outputs": [],
   "source": [
    "from selenium import webdriver\n",
    "# open a chrome page\n",
    "driver = webdriver.Chrome() # you do not need to download the webdriver for selenium version 4.6+\n",
    "driver.get(\"https://www.google.com/\")\n",
    "driver.quit() # close the page"
   ]
  },
  {
   "cell_type": "markdown",
   "metadata": {},
   "source": [
    "Now let's try something more meaningful, Some websites deliver their content in a dynamic manner, resulting in a varied appearance every time they are accessed through a browser. The HTML content observed through your browser's element inspection might not be present when using `requests` and `BeautifulSoup`, as it can be generated on-the-fly when accessed."
   ]
  },
  {
   "cell_type": "code",
   "execution_count": 4,
   "metadata": {},
   "outputs": [],
   "source": [
    "#youtube is one of these dynamic pages\n",
    "query = \"data science\"\n",
    "youtube_search = \"https://www.youtube.com/results?search_query=\"\n",
    "youtube_query = youtube_search + query.replace(' ', '+')"
   ]
  },
  {
   "cell_type": "code",
   "execution_count": 11,
   "metadata": {},
   "outputs": [],
   "source": [
    "#let's first try to capture it using Beautiful Soup\n",
    "page = requests.get(youtube_query).text\n",
    "soup = BeautifulSoup(page)\n",
    "soup.find('div', id='contents')"
   ]
  },
  {
   "cell_type": "markdown",
   "metadata": {},
   "source": [
    "As Expected contents is genrated dynamically so a simple get request does not work now let's use selenium to interact with the website in question"
   ]
  },
  {
   "cell_type": "code",
   "execution_count": 13,
   "metadata": {},
   "outputs": [],
   "source": [
    "# Let's load the page with Selenium THEN parse the page's HTML with BeautifulSoup.\n",
    "driver = webdriver.Chrome()\n",
    "driver.get(youtube_query) # open the youtube page"
   ]
  },
  {
   "cell_type": "markdown",
   "metadata": {},
   "source": [
    "Now we can parse the page to get the content using BeautifulSoup"
   ]
  },
  {
   "cell_type": "code",
   "execution_count": 17,
   "metadata": {},
   "outputs": [
    {
     "name": "stdout",
     "output_type": "stream",
     "text": [
      "What is Data Science?\n",
      "Data Analytics vs Data Science\n",
      "Intro to Data Science: What is Data Science?\n",
      "Data Science Full Course - Learn Data Science in 10 Hours | Data Science For Beginners | Edureka\n",
      "Demystifying Data Science | Mr.Asitang Mishra | TEDxOakLawn\n",
      "Data Science In 5 Minutes | Data Science For Beginners | What Is Data Science? | Simplilearn\n",
      "The most important skills of data scientists | Jose Miguel Cansado | TEDxIEMadrid\n",
      "Scientific Methods of Data Science: The Basics with Liam Dermody - nyhackr March Meetup\n",
      "Complete Statistics For Data Science In 6 hours By Krish Naik\n",
      "Data Scientist vs Data Analyst - Which Is Right For You? (2024)\n",
      "Complete Data Science RoadMap For Beginners 2024 | What is Data Science? | Jobs, Salary, Career #pw\n",
      "Starting a Career in Data Science (10 Thing I Wish I Knew…)\n",
      "Data Analyst Vs Data Scientist, and Business Analyst | Differences, Role, Skills, Salary\n",
      "Data Science Roadmap 2024 | Data Science Weekly Study Plan | Free Resources to Become Data Scientist\n",
      "AI VS ML VS DL VS Data Science\n",
      "The NBA Data Scientist\n",
      "Data Science in 8 Minutes | Data Science for Beginners | What is Data Science? | Edureka\n",
      "Intro to Data Science - Crash Course for Beginners\n",
      "Learn Data Science Tutorial - Full Course for Beginners\n",
      "What REALLY is Data Science? Told by a Data Scientist\n",
      "What is Data Science? | Introduction to Data Science | Data Science for Beginners | Simplilearn\n"
     ]
    }
   ],
   "source": [
    "soup = BeautifulSoup(driver.page_source) #parsing the page captured by the driver\n",
    "\n",
    "contents_div = soup.find('div', id='contents')\n",
    "for title in contents_div.find_all('a', id='video-title'):\n",
    "    print(title.text.strip())"
   ]
  },
  {
   "cell_type": "code",
   "execution_count": 21,
   "metadata": {},
   "outputs": [
    {
     "data": {
      "text/plain": [
       "21"
      ]
     },
     "execution_count": 21,
     "metadata": {},
     "output_type": "execute_result"
    }
   ],
   "source": [
    "# number of titles\n",
    "contents_div = soup.find('div', id='contents')\n",
    "len(contents_div.find_all('a', id='video-title'))"
   ]
  },
  {
   "cell_type": "markdown",
   "metadata": {},
   "source": [
    "**Actions using Selenium**\n",
    "\n",
    "Now we can interact with the website let's try some actions!!\n",
    "\n",
    "Also note that any actions you do to the website manually can also be captured by the driver and parsed but its always better to automate actions since most to the time you will not be working on only an Ad-Hoc request."
   ]
  },
  {
   "cell_type": "markdown",
   "metadata": {},
   "source": [
    "**Interactions in Selenium**\n",
    "\n",
    "Selenium allows us to engage with web pages directly. This includes actions such as:\n",
    "\n",
    "- clicking,\n",
    "- typing into input fields,\n",
    "- scrolling,\n",
    "- dragging and dropping, among others.\n",
    "\n",
    "To access additional data science video titles, it's necessary to scroll to the bottom of the page, prompting more videos to appear."
   ]
  },
  {
   "cell_type": "code",
   "execution_count": 19,
   "metadata": {},
   "outputs": [],
   "source": [
    "import time\n",
    "\n",
    "for i in range(5):\n",
    "    #Scroll\n",
    "    driver.execute_script(\n",
    "        \"window.scrollTo(0, document.documentElement.scrollHeight);\" #Alternatively, document.body.scrollHeight\n",
    "    )\n",
    "    \n",
    "    #Wait for page to load increase it if you have bad internet connection\n",
    "    time.sleep(3)"
   ]
  },
  {
   "cell_type": "code",
   "execution_count": 22,
   "metadata": {},
   "outputs": [
    {
     "data": {
      "text/plain": [
       "141"
      ]
     },
     "execution_count": 22,
     "metadata": {},
     "output_type": "execute_result"
    }
   ],
   "source": [
    "soup = BeautifulSoup(driver.page_source) #parse the new page\n",
    "# number of titles\n",
    "contents_div = soup.find('div', id='contents')\n",
    "len(contents_div.find_all('a', id='video-title'))"
   ]
  },
  {
   "cell_type": "markdown",
   "metadata": {},
   "source": [
    "Note the increase in the titles now that we scrolled"
   ]
  },
  {
   "cell_type": "markdown",
   "metadata": {},
   "source": [
    "Now let's try something slightly more advanced\n",
    "Let's try search with a new keyword\n",
    "The steps should be as follows:\n",
    "\n",
    "1. Capture the search box\n",
    "2. Clear it from the old search\n",
    "3. Assign a new search phrase for it\n",
    "4. Hit Enther to run the search\n",
    "5. Parse the page to get the new titles"
   ]
  },
  {
   "cell_type": "code",
   "execution_count": 31,
   "metadata": {},
   "outputs": [],
   "source": [
    "from selenium.webdriver.common.keys import Keys\n",
    "\n",
    "# find the search box id using the inspect element then use it as follows to select the element\n",
    "search_box = driver.find_element(\"xpath\",\"//input[@id='search']\") \n",
    "\n",
    "#clear the current search\n",
    "search_box.clear()\n",
    "\n",
    "#input new search\n",
    "search_box.send_keys(\"Saudi 2030\"+ Keys.ENTER) # update the search box and click enter\n",
    "\n",
    "#hit enter\n",
    "search_box.send_keys(Keys.RETURN)  \n",
    "\n",
    "time.sleep(3)"
   ]
  },
  {
   "cell_type": "markdown",
   "metadata": {},
   "source": [
    "#### Notes\n",
    "\n",
    "- Any changes in the page such as expanding the window size may result in a different elements being visible\n",
    "- Check [here](https://www.w3schools.com/xml/xpath_syntax.asp) for additonal help writing xpath selectors.\n",
    "\n",
    "- To select multiple elements, just switch to `driver.find_elements(...)`, which will return a list of matching elements.\n",
    "\n",
    "- You can also access elements by id, name, etc.  Check [the docs](https://selenium-python.readthedocs.io/locating-elements.html) for more options."
   ]
  },
  {
   "cell_type": "code",
   "execution_count": null,
   "metadata": {},
   "outputs": [],
   "source": []
  }
 ],
 "metadata": {
  "colab": {
   "provenance": []
  },
  "kernelspec": {
   "display_name": "Python 3 (ipykernel)",
   "language": "python",
   "name": "python3"
  },
  "language_info": {
   "codemirror_mode": {
    "name": "ipython",
    "version": 3
   },
   "file_extension": ".py",
   "mimetype": "text/x-python",
   "name": "python",
   "nbconvert_exporter": "python",
   "pygments_lexer": "ipython3",
   "version": "3.9.13"
  }
 },
 "nbformat": 4,
 "nbformat_minor": 4
}
