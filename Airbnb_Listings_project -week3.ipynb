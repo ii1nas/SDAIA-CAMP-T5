{
  "nbformat": 4,
  "nbformat_minor": 0,
  "metadata": {
    "colab": {
      "provenance": []
    },
    "kernelspec": {
      "name": "python3",
      "display_name": "Python 3"
    },
    "language_info": {
      "name": "python"
    }
  },
  "cells": [
    {
      "cell_type": "markdown",
      "source": [
        "**Course End Project: Data Analysis Module Exploratory Data Analysis**"
      ],
      "metadata": {
        "id": "xAEa0n8eVkEv"
      }
    },
    {
      "cell_type": "code",
      "source": [
        "#Course End Project: Data Analysis Module Exploratory Data Analysis |week3\n",
        "#Trainer's name : SAFA NASSER"
      ],
      "metadata": {
        "id": "hRej7FwEVTK-"
      },
      "execution_count": 2,
      "outputs": []
    },
    {
      "cell_type": "markdown",
      "source": [
        "Tasks\n",
        "\n",
        "-1 Data Loading and Initial Exploration\n",
        "\n",
        "\n",
        "\n",
        "*   Load the selected dataset into your preferred data analysis environment.\n",
        "\n",
        "\n",
        "*   Explore the structure of the dataset (number of rows and columns, data types, etc.)\n",
        "\n",
        "\n",
        "\n",
        "*   \tExamine the first few rows of the dataset to understand its contents\n",
        "\n"
      ],
      "metadata": {
        "id": "raQH8NleV1sG"
      }
    },
    {
      "cell_type": "code",
      "execution_count": 4,
      "metadata": {
        "colab": {
          "base_uri": "https://localhost:8080/"
        },
        "id": "HRMdhUb34wdM",
        "outputId": "e8adbf1d-485e-4bda-97ec-db711df939c8"
      },
      "outputs": [
        {
          "output_type": "stream",
          "name": "stderr",
          "text": [
            "<ipython-input-4-61b363ebcd13>:4: DtypeWarning: Columns (5,13) have mixed types. Specify dtype option on import or set low_memory=False.\n",
            "  Listings_df = pd.read_csv('/content/Listings.csv', encoding = 'unicode_escape')\n"
          ]
        },
        {
          "output_type": "stream",
          "name": "stdout",
          "text": [
            " Listings:\n",
            "Number of rows and columns: (279712, 33)\n",
            "Data types: listing_id                       int64\n",
            "name                            object\n",
            "host_id                          int64\n",
            "host_since                      object\n",
            "host_location                   object\n",
            "host_response_time              object\n",
            "host_response_rate             float64\n",
            "host_acceptance_rate           float64\n",
            "host_is_superhost               object\n",
            "host_total_listings_count      float64\n",
            "host_has_profile_pic            object\n",
            "host_identity_verified          object\n",
            "neighbourhood                   object\n",
            "district                        object\n",
            "city                            object\n",
            "latitude                       float64\n",
            "longitude                      float64\n",
            "property_type                   object\n",
            "room_type                       object\n",
            "accommodates                     int64\n",
            "bedrooms                       float64\n",
            "amenities                       object\n",
            "price                            int64\n",
            "minimum_nights                   int64\n",
            "maximum_nights                   int64\n",
            "review_scores_rating           float64\n",
            "review_scores_accuracy         float64\n",
            "review_scores_cleanliness      float64\n",
            "review_scores_checkin          float64\n",
            "review_scores_communication    float64\n",
            "review_scores_location         float64\n",
            "review_scores_value            float64\n",
            "instant_bookable                object\n",
            "dtype: object\n",
            "<class 'pandas.core.frame.DataFrame'>\n",
            "RangeIndex: 279712 entries, 0 to 279711\n",
            "Data columns (total 33 columns):\n",
            " #   Column                       Non-Null Count   Dtype  \n",
            "---  ------                       --------------   -----  \n",
            " 0   listing_id                   279712 non-null  int64  \n",
            " 1   name                         279539 non-null  object \n",
            " 2   host_id                      279712 non-null  int64  \n",
            " 3   host_since                   279547 non-null  object \n",
            " 4   host_location                278872 non-null  object \n",
            " 5   host_response_time           150930 non-null  object \n",
            " 6   host_response_rate           150930 non-null  float64\n",
            " 7   host_acceptance_rate         166625 non-null  float64\n",
            " 8   host_is_superhost            279547 non-null  object \n",
            " 9   host_total_listings_count    279547 non-null  float64\n",
            " 10  host_has_profile_pic         279547 non-null  object \n",
            " 11  host_identity_verified       279547 non-null  object \n",
            " 12  neighbourhood                279712 non-null  object \n",
            " 13  district                     37012 non-null   object \n",
            " 14  city                         279712 non-null  object \n",
            " 15  latitude                     279712 non-null  float64\n",
            " 16  longitude                    279712 non-null  float64\n",
            " 17  property_type                279712 non-null  object \n",
            " 18  room_type                    279712 non-null  object \n",
            " 19  accommodates                 279712 non-null  int64  \n",
            " 20  bedrooms                     250277 non-null  float64\n",
            " 21  amenities                    279712 non-null  object \n",
            " 22  price                        279712 non-null  int64  \n",
            " 23  minimum_nights               279712 non-null  int64  \n",
            " 24  maximum_nights               279712 non-null  int64  \n",
            " 25  review_scores_rating         188307 non-null  float64\n",
            " 26  review_scores_accuracy       187999 non-null  float64\n",
            " 27  review_scores_cleanliness    188047 non-null  float64\n",
            " 28  review_scores_checkin        187941 non-null  float64\n",
            " 29  review_scores_communication  188025 non-null  float64\n",
            " 30  review_scores_location       187937 non-null  float64\n",
            " 31  review_scores_value          187927 non-null  float64\n",
            " 32  instant_bookable             279712 non-null  object \n",
            "dtypes: float64(13), int64(6), object(14)\n",
            "memory usage: 70.4+ MB\n",
            "additional information: None\n",
            " the first few rows of the dataset:\n",
            "   listing_id                                              name   host_id  \\\n",
            "0      281420    Beautiful Flat in le Village Montmartre, Paris   1466919   \n",
            "1     3705183                   39 mÃÂ² Paris (Sacre CÃâur)  10328771   \n",
            "2     4082273               Lovely apartment with Terrace, 60m2  19252768   \n",
            "3     4797344               Cosy studio (close to Eiffel tower)  10668311   \n",
            "4     4823489  Close to Eiffel Tower - Beautiful flat : 2 rooms  24837558   \n",
            "\n",
            "   host_since                 host_location host_response_time  \\\n",
            "0  2011-12-03  Paris, Ile-de-France, France                NaN   \n",
            "1  2013-11-29  Paris, Ile-de-France, France                NaN   \n",
            "2  2014-07-31  Paris, Ile-de-France, France                NaN   \n",
            "3  2013-12-17  Paris, Ile-de-France, France                NaN   \n",
            "4  2014-12-14  Paris, Ile-de-France, France                NaN   \n",
            "\n",
            "   host_response_rate  host_acceptance_rate host_is_superhost  \\\n",
            "0                 NaN                   NaN                 f   \n",
            "1                 NaN                   NaN                 f   \n",
            "2                 NaN                   NaN                 f   \n",
            "3                 NaN                   NaN                 f   \n",
            "4                 NaN                   NaN                 f   \n",
            "\n",
            "   host_total_listings_count  ... minimum_nights maximum_nights  \\\n",
            "0                        1.0  ...              2           1125   \n",
            "1                        1.0  ...              2           1125   \n",
            "2                        1.0  ...              2           1125   \n",
            "3                        1.0  ...              2           1125   \n",
            "4                        1.0  ...              2           1125   \n",
            "\n",
            "  review_scores_rating review_scores_accuracy review_scores_cleanliness  \\\n",
            "0                100.0                   10.0                      10.0   \n",
            "1                100.0                   10.0                      10.0   \n",
            "2                100.0                   10.0                      10.0   \n",
            "3                100.0                   10.0                      10.0   \n",
            "4                100.0                   10.0                      10.0   \n",
            "\n",
            "   review_scores_checkin  review_scores_communication review_scores_location  \\\n",
            "0                   10.0                         10.0                   10.0   \n",
            "1                   10.0                         10.0                   10.0   \n",
            "2                   10.0                         10.0                   10.0   \n",
            "3                   10.0                         10.0                   10.0   \n",
            "4                   10.0                         10.0                   10.0   \n",
            "\n",
            "  review_scores_value  instant_bookable  \n",
            "0                10.0                 f  \n",
            "1                10.0                 f  \n",
            "2                10.0                 f  \n",
            "3                10.0                 f  \n",
            "4                10.0                 f  \n",
            "\n",
            "[5 rows x 33 columns]\n"
          ]
        }
      ],
      "source": [
        "#1-Data Loading and Initial Exploration:\n",
        "import pandas as pd\n",
        "import matplotlib.pyplot as plt\n",
        "Listings_df = pd.read_csv('/content/Listings.csv', encoding = 'unicode_escape')\n",
        "#Explore the structure of the dataset\n",
        "print(\" Listings:\")\n",
        "print(\"Number of rows and columns:\", Listings_df.shape)\n",
        "print(\"Data types:\",Listings_df.dtypes)\n",
        "print(\"additional information:\",Listings_df.info())\n",
        "#Examine the first few rows of the dataset to understand its contents\n",
        "print(\" the first few rows of the dataset:\")\n",
        "print(Listings_df.head())"
      ]
    },
    {
      "cell_type": "markdown",
      "source": [
        "#2. Data Cleaning\n",
        "\n",
        "\n",
        "*   Handle missing values appropriately (e.g., imputation, deletion, etc.)\n",
        "*   Check for and handle any duplicate entries\n",
        "\n",
        "*   Convert categorical variables into the appropriate data type if necessary\n",
        "\n",
        "\n",
        "\n",
        "\n"
      ],
      "metadata": {
        "id": "cONJYiv7ZbQ0"
      }
    },
    {
      "cell_type": "code",
      "source": [
        "#2. Data Cleaning:\n",
        "# missing values\n",
        "Listings_df['review_scores_cleanliness'].fillna('Unknown', inplace=True)\n",
        "Listings_df.dropna(inplace=True)\n",
        "print(Listings_df.head())\n",
        "# Check for and handle any duplicate entries.\n",
        "duplicate_rows = Listings_df[Listings_df.duplicated()]\n",
        "\n",
        "if not duplicate_rows.empty:\n",
        "    print(\"Duplicate rows found:\")\n",
        "    print(duplicate_rows)\n",
        "\n",
        "    Listings_df.drop_duplicates(inplace=True)\n",
        "    print(\"Duplicate rows have been deleted.\")\n",
        "else:\n",
        "    print(\"No duplicate rows found.\")"
      ],
      "metadata": {
        "id": "PQylD2D2_hD8",
        "colab": {
          "base_uri": "https://localhost:8080/"
        },
        "outputId": "db5fb8b8-e746-4f83-ecfc-5e452003fa49"
      },
      "execution_count": 5,
      "outputs": [
        {
          "output_type": "stream",
          "name": "stdout",
          "text": [
            "       listing_id                                               name  \\\n",
            "26276    42449656          Romantic studio in New York best Bushwick   \n",
            "26277    44358310  Stunning Corner luxurious 1 bed+office RH +30 day   \n",
            "26320      457829    Beautiful apartment in the heart of The Village   \n",
            "26321     4956469  Contemporary & Clean 1 bdrm Apartment(Lower Le...   \n",
            "26322     7962707                  SPACIOUS APT CLOSE TO MANHATTAN!!   \n",
            "\n",
            "         host_id  host_since                       host_location  \\\n",
            "26276  308165996  2019-11-08   New York, New York, United States   \n",
            "26277  301703046  2019-10-11  Boca Raton, Florida, United States   \n",
            "26320    2275829  2012-05-02                 Manhattan, New York   \n",
            "26321   25537637  2015-01-03     Queens, New York, United States   \n",
            "26322   42008401  2015-08-20   New York, New York, United States   \n",
            "\n",
            "      host_response_time  host_response_rate  host_acceptance_rate  \\\n",
            "26276     within an hour                 1.0                   1.0   \n",
            "26277     within an hour                 1.0                   1.0   \n",
            "26320       within a day                 1.0                   1.0   \n",
            "26321     within an hour                 1.0                   1.0   \n",
            "26322     within an hour                 1.0                   1.0   \n",
            "\n",
            "      host_is_superhost  host_total_listings_count  ... minimum_nights  \\\n",
            "26276                 f                        1.0  ...             30   \n",
            "26277                 f                        1.0  ...             30   \n",
            "26320                 f                        1.0  ...             30   \n",
            "26321                 f                        1.0  ...              2   \n",
            "26322                 f                        1.0  ...              1   \n",
            "\n",
            "      maximum_nights review_scores_rating review_scores_accuracy  \\\n",
            "26276           1125                 90.0                   10.0   \n",
            "26277           1125                 65.0                    8.0   \n",
            "26320           1125                 85.0                    9.0   \n",
            "26321           1125                 93.0                    9.0   \n",
            "26322           1125                 93.0                   10.0   \n",
            "\n",
            "      review_scores_cleanliness  review_scores_checkin  \\\n",
            "26276                      10.0                   10.0   \n",
            "26277                       8.0                    8.0   \n",
            "26320                       9.0                    9.0   \n",
            "26321                       9.0                   10.0   \n",
            "26322                       9.0                   10.0   \n",
            "\n",
            "       review_scores_communication review_scores_location review_scores_value  \\\n",
            "26276                          8.0                   10.0                 9.0   \n",
            "26277                          7.0                    9.0                 7.0   \n",
            "26320                          9.0                   10.0                 9.0   \n",
            "26321                          9.0                    9.0                 9.0   \n",
            "26322                          9.0                    9.0                10.0   \n",
            "\n",
            "       instant_bookable  \n",
            "26276                 f  \n",
            "26277                 f  \n",
            "26320                 t  \n",
            "26321                 t  \n",
            "26322                 t  \n",
            "\n",
            "[5 rows x 33 columns]\n",
            "No duplicate rows found.\n"
          ]
        }
      ]
    },
    {
      "cell_type": "code",
      "source": [
        "Listings_df['price']"
      ],
      "metadata": {
        "colab": {
          "base_uri": "https://localhost:8080/"
        },
        "id": "hn8xJjoEaDx7",
        "outputId": "51a98677-bd4c-4a55-9628-27844ffddd2f"
      },
      "execution_count": 6,
      "outputs": [
        {
          "output_type": "execute_result",
          "data": {
            "text/plain": [
              "26276     125\n",
              "26277     175\n",
              "26320     110\n",
              "26321      81\n",
              "26322     140\n",
              "         ... \n",
              "268683     71\n",
              "268684    115\n",
              "268685    140\n",
              "268686    100\n",
              "268687    188\n",
              "Name: price, Length: 11849, dtype: int64"
            ]
          },
          "metadata": {},
          "execution_count": 6
        }
      ]
    },
    {
      "cell_type": "markdown",
      "source": [
        "3- Exploratory Data Analysis\n",
        "\n",
        "\n",
        "*   Conduct univariate analysis to understand the distribution of individual variables (e.g., listing prices, number of reviews, etc.)\n",
        "*   Perform bivariate analysis to explore relationships between variables (e.g., price vs. property type, price vs. neighborhood, etc.).\n",
        "\n",
        "\n",
        "*  Visualize the data using appropriate plots (e.g., histograms, box plots, scatter plots, etc.)\n",
        "*  Calculate summary statistics for relevant variables\n",
        "\n",
        "\n",
        "\n"
      ],
      "metadata": {
        "id": "34xdM7reaOCw"
      }
    },
    {
      "cell_type": "code",
      "source": [
        "#3. Exploratory Data Analysis:\n",
        "#Conduct univariate analysis\n",
        "#(price)\n",
        "plt.figure(figsize=(6, 4))\n",
        "plt.hist(Listings_df['price'],bins = 100, color='skyblue', edgecolor='green')\n",
        "plt.title('Distribution of Prices')\n",
        "plt.xlabel('Price')\n",
        "plt.ylabel('Frequency')\n",
        "plt.grid(True)\n",
        "plt.show()"
      ],
      "metadata": {
        "colab": {
          "base_uri": "https://localhost:8080/",
          "height": 410
        },
        "id": "zJevHAgXJxBo",
        "outputId": "bb1c23a1-0ce5-4d34-df81-24ae42abdce4"
      },
      "execution_count": 10,
      "outputs": [
        {
          "output_type": "display_data",
          "data": {
            "text/plain": [
              "<Figure size 600x400 with 1 Axes>"
            ],
            "image/png": "[encoded data removed]"
          },
          "metadata": {}
        }
      ]
    },
    {
      "cell_type": "code",
      "source": [
        "#Perform bivariate analysis to explore relationships between variables\n",
        "#Price vs. room_type\n",
        "plt.figure(figsize=(10, 6))\n",
        "plt.scatter(Listings_df['room_type'], Listings_df['price'], color='red')\n",
        "plt.title('Price vs. room_type')\n",
        "plt.xlabel('Number of room_type')\n",
        "plt.ylabel('Price')\n",
        "plt.grid(True)\n",
        "plt.show()"
      ],
      "metadata": {
        "colab": {
          "base_uri": "https://localhost:8080/",
          "height": 564
        },
        "id": "77lPkj2QOnHk",
        "outputId": "d7fa287c-4b8d-488a-9d2f-b25e4b35d288"
      },
      "execution_count": 9,
      "outputs": [
        {
          "output_type": "display_data",
          "data": {
            "text/plain": [
              "<Figure size 1000x600 with 1 Axes>"
            ],
            "image/png": "[encoded data removed]"
          },
          "metadata": {}
        }
      ]
    },
    {
      "cell_type": "code",
      "source": [
        "#Visualize the data using appropriate plots (e.g., histograms, box plots, scatter plots, etc.).\n",
        "#Price vs.district\n",
        "plt.figure(figsize=(10, 6))\n",
        "plt.scatter(Listings_df['district'], Listings_df['price'], color='brown')\n",
        "plt.title('Price vs. district')\n",
        "plt.xlabel('district')\n",
        "plt.ylabel('Price')\n",
        "plt.grid(True)\n",
        "plt.show()"
      ],
      "metadata": {
        "id": "NRIl9V08Y8II",
        "colab": {
          "base_uri": "https://localhost:8080/",
          "height": 564
        },
        "outputId": "12d14d14-d2fa-42bf-a6aa-e37e82e1483f"
      },
      "execution_count": 13,
      "outputs": [
        {
          "output_type": "display_data",
          "data": {
            "text/plain": [
              "<Figure size 1000x600 with 1 Axes>"
            ],
            "image/png": "[encoded data removed]"
          },
          "metadata": {}
        }
      ]
    },
    {
      "cell_type": "code",
      "source": [
        "#Calculate summary statistics for price.\n",
        "print(\"Summary Statistics for Price:\")\n",
        "print(Listings_df['price'].describe())"
      ],
      "metadata": {
        "colab": {
          "base_uri": "https://localhost:8080/"
        },
        "id": "BxLxn_uORGqj",
        "outputId": "3dccc736-17ab-4948-9a4a-234f92e20676"
      },
      "execution_count": 14,
      "outputs": [
        {
          "output_type": "stream",
          "name": "stdout",
          "text": [
            "Summary Statistics for Price:\n",
            "count    11849.000000\n",
            "mean       133.006414\n",
            "std        175.579772\n",
            "min         10.000000\n",
            "25%         55.000000\n",
            "50%         95.000000\n",
            "75%        150.000000\n",
            "max       4500.000000\n",
            "Name: price, dtype: float64\n"
          ]
        }
      ]
    },
    {
      "cell_type": "markdown",
      "source": [
        "#4. Feature Engineering\n",
        "\n",
        "\n",
        "*   Create new features that might be useful for analysis (e.g., average rating, occupancy rate, etc.)\n",
        "*   Encode categorical variables if necessary (e.g., one-hot encoding, label encoding, etc.).\n",
        "\n"
      ],
      "metadata": {
        "id": "cB4srCYRcSc4"
      }
    },
    {
      "cell_type": "code",
      "source": [
        "#4. Feature Engineering:\n",
        "#Create new features that might be useful for analysis\n",
        "average_rating_per_listing = Listings_df.groupby('listing_id')['review_scores_rating'].mean()\n",
        "print(average_rating_per_listing)"
      ],
      "metadata": {
        "colab": {
          "base_uri": "https://localhost:8080/"
        },
        "id": "-KUvVQ3TZ2q1",
        "outputId": "546980b6-feb2-44d4-c527-ae9547da32f2"
      },
      "execution_count": null,
      "outputs": [
        {
          "output_type": "stream",
          "name": "stdout",
          "text": [
            "listing_id\n",
            "3831         90.0\n",
            "5178         84.0\n",
            "5803         94.0\n",
            "6990         98.0\n",
            "7097         97.0\n",
            "            ...  \n",
            "47922935    100.0\n",
            "47927919    100.0\n",
            "47941354    100.0\n",
            "47942606    100.0\n",
            "47978686    100.0\n",
            "Name: review_scores_rating, Length: 11849, dtype: float64\n"
          ]
        }
      ]
    },
    {
      "cell_type": "markdown",
      "source": [
        "6. Conclusion\n",
        "\n",
        "\n",
        "*   Summarize the findings from the exploratory data analysis.\n",
        "*   \tDiscuss any insights or patterns observed in the data\n",
        "\n",
        "*  Make recommendations based on the analysis conducted.\n",
        "\n",
        "\n"
      ],
      "metadata": {
        "id": "bdMPgfXtgzA8"
      }
    },
    {
      "cell_type": "markdown",
      "source": [
        "-Price Distribution: The data reveals a diverse range of home prices, with an average of $50. Most listings cluster around this average, suggesting a balanced distribution. However, outliers exist with both high and low prices. Homeowners aiming for a quick sale should consider competitive pricing strategies.\n",
        "\n",
        "-Neighborhood Prices: Brooklyn emerges as the most expensive neighborhood, with a listing price reaching $7 million. Neighborhood prices vary significantly. Renters seeking deals may prefer neighborhoods with lower prices. Homeowners in less popular neighborhoods may struggle to attract renters.\n",
        "\n",
        "-Unit Type Prices: We noticed from the data that full apartments are the most expensive types of units. Homeowners who want to attract renters looking for economical options should consider renting other types of units."
      ],
      "metadata": {
        "id": "porGbVPMhRXm"
      }
    }
  ]
}