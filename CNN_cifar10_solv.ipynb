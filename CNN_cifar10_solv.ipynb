{
  "nbformat": 4,
  "nbformat_minor": 0,
  "metadata": {
    "colab": {
      "provenance": []
    },
    "kernelspec": {
      "name": "python3",
      "display_name": "Python 3"
    },
    "language_info": {
      "name": "python"
    }
  },
  "cells": [
    {
      "cell_type": "markdown",
      "source": [
        "**In this exam, you will use the CIFAR-10 dataset, a widely-used benchmark dataset in the field of computer vision.**"
      ],
      "metadata": {
        "id": "_NI16kf4N1_Q"
      }
    },
    {
      "cell_type": "markdown",
      "source": [
        "Step 1: Load and Preprocess the CIFAR-10 Dataset & import needed libraries"
      ],
      "metadata": {
        "id": "D34b40MyP4rx"
      }
    },
    {
      "cell_type": "code",
      "execution_count": null,
      "metadata": {
        "id": "OJDUaDVxD6PS"
      },
      "outputs": [],
      "source": [
        "import tensorflow as tf\n",
        "cifar10 = tf.keras.datasets.cifar10"
      ]
    },
    {
      "cell_type": "markdown",
      "source": [
        "Step 2 : Data Preparation:"
      ],
      "metadata": {
        "id": "12wK8oLQO6zp"
      }
    },
    {
      "cell_type": "code",
      "source": [
        "(x_train, y_train), (x_test, y_test) = cifar10.load_data()\n",
        "x_train = x_train / 255.0\n",
        "x_test = x_test / 255.0"
      ],
      "metadata": {
        "id": "zh0YIt6mL-EQ",
        "outputId": "8e041cba-494b-4cab-a67a-e863b5ce6919",
        "colab": {
          "base_uri": "https://localhost:8080/"
        }
      },
      "execution_count": 2,
      "outputs": [
        {
          "output_type": "stream",
          "name": "stdout",
          "text": [
            "Downloading data from https://www.cs.toronto.edu/~kriz/cifar-10-python.tar.gz\n",
            "170498071/170498071 [==============================] - 4s 0us/step\n"
          ]
        }
      ]
    },
    {
      "cell_type": "markdown",
      "source": [
        "Step 3: Define the CNN Architecture and Compile the Model:"
      ],
      "metadata": {
        "id": "JfWTS18RQVII"
      }
    },
    {
      "cell_type": "code",
      "source": [
        "model = tf.keras.models.Sequential([\n",
        "    tf.keras.layers.Conv2D(32, (3, 3), activation='relu', input_shape=(32, 32, 3)),\n",
        "    tf.keras.layers.MaxPooling2D((2, 2)),\n",
        "    tf.keras.layers.Conv2D(64, (3, 3), activation='relu'),\n",
        "    tf.keras.layers.MaxPooling2D((2, 2)),\n",
        "    tf.keras.layers.Conv2D(64, (3, 3), activation='relu'),\n",
        "    tf.keras.layers.Flatten(),\n",
        "    tf.keras.layers.Dense(64, activation='relu'),\n",
        "    tf.keras.layers.Dense(10, activation='softmax')\n",
        "])\n",
        "\n",
        "model.compile(optimizer='adam',\n",
        "              loss='sparse_categorical_crossentropy',\n",
        "              metrics=['accuracy'])"
      ],
      "metadata": {
        "id": "kEaSKoI3QejD"
      },
      "execution_count": 3,
      "outputs": []
    },
    {
      "cell_type": "markdown",
      "source": [
        "Step 4: Train the Model"
      ],
      "metadata": {
        "id": "83Us3J2rQrZE"
      }
    },
    {
      "cell_type": "code",
      "source": [
        "model.fit(x_train, y_train, epochs=10,\n",
        "          validation_data=(x_test, y_test))"
      ],
      "metadata": {
        "id": "TQ-5pBieQwI0",
        "outputId": "96924643-ef23-4c0c-afe1-5e94d77daf8b",
        "colab": {
          "base_uri": "https://localhost:8080/"
        }
      },
      "execution_count": 4,
      "outputs": [
        {
          "output_type": "stream",
          "name": "stdout",
          "text": [
            "Epoch 1/10\n",
            "1563/1563 [==============================] - 66s 41ms/step - loss: 1.4990 - accuracy: 0.4553 - val_loss: 1.2830 - val_accuracy: 0.5330\n",
            "Epoch 2/10\n",
            "1563/1563 [==============================] - 61s 39ms/step - loss: 1.1333 - accuracy: 0.5989 - val_loss: 1.0517 - val_accuracy: 0.6262\n",
            "Epoch 3/10\n",
            "1563/1563 [==============================] - 66s 42ms/step - loss: 0.9862 - accuracy: 0.6549 - val_loss: 0.9828 - val_accuracy: 0.6575\n",
            "Epoch 4/10\n",
            "1563/1563 [==============================] - 70s 45ms/step - loss: 0.8990 - accuracy: 0.6856 - val_loss: 0.9328 - val_accuracy: 0.6774\n",
            "Epoch 5/10\n",
            "1563/1563 [==============================] - 63s 40ms/step - loss: 0.8198 - accuracy: 0.7143 - val_loss: 0.9076 - val_accuracy: 0.6879\n",
            "Epoch 6/10\n",
            "1563/1563 [==============================] - 63s 40ms/step - loss: 0.7595 - accuracy: 0.7343 - val_loss: 0.9088 - val_accuracy: 0.6859\n",
            "Epoch 7/10\n",
            "1563/1563 [==============================] - 64s 41ms/step - loss: 0.7070 - accuracy: 0.7545 - val_loss: 0.8936 - val_accuracy: 0.7020\n",
            "Epoch 8/10\n",
            "1563/1563 [==============================] - 61s 39ms/step - loss: 0.6664 - accuracy: 0.7661 - val_loss: 0.8508 - val_accuracy: 0.7097\n",
            "Epoch 9/10\n",
            "1563/1563 [==============================] - 65s 41ms/step - loss: 0.6246 - accuracy: 0.7791 - val_loss: 0.8733 - val_accuracy: 0.7120\n",
            "Epoch 10/10\n",
            "1563/1563 [==============================] - 61s 39ms/step - loss: 0.5841 - accuracy: 0.7957 - val_loss: 0.9200 - val_accuracy: 0.6992\n"
          ]
        },
        {
          "output_type": "execute_result",
          "data": {
            "text/plain": [
              "<keras.src.callbacks.History at 0x7fd19d9113f0>"
            ]
          },
          "metadata": {},
          "execution_count": 4
        }
      ]
    },
    {
      "cell_type": "markdown",
      "source": [
        "Step 5: Model Evaluation:\n",
        "\n",
        "- Evaluate the model: Use the test dataset to evaluate the model’s accuracy and performance metrics.\n",
        "- Plot results: Visualize training and validation accuracy and loss."
      ],
      "metadata": {
        "id": "7h65GqD8QxIm"
      }
    },
    {
      "cell_type": "code",
      "source": [
        "# تقييم النموذج\n",
        "test_loss, test_acc = model.evaluate(x_test, y_test, verbose=2)\n",
        "print(f'Test accuracy: {test_acc:.4f}')\n",
        "\n",
        "# التحقق من تاريخ التدريب\n",
        "history = model.fit(x_train, y_train, epochs=10, validation_data=(x_test, y_test))\n",
        "\n",
        "# رسم النتائج\n",
        "import matplotlib.pyplot as plt\n",
        "\n",
        "plt.figure(figsize=(10, 6))\n",
        "\n",
        "# رسم دقة التدريب والتحقق\n",
        "plt.subplot(1, 2, 1)\n",
        "plt.plot(history.history['accuracy'], label='Train Accuracy')\n",
        "plt.plot(history.history['val_accuracy'], label='Validation Accuracy')\n",
        "plt.title('Model Accuracy')\n",
        "plt.ylabel('Accuracy')\n",
        "plt.xlabel('Epoch')\n",
        "plt.legend(loc='upper left')\n",
        "\n",
        "# رسم خسارة التدريب والتحقق\n",
        "plt.subplot(1, 2, 2)\n",
        "plt.plot(history.history['loss'], label='Train Loss')\n",
        "plt.plot(history.history['val_loss'], label='Validation Loss')\n",
        "plt.title('Model Loss')\n",
        "plt.ylabel('Loss')\n",
        "plt.xlabel('Epoch')\n",
        "plt.legend(loc='upper right')\n",
        "\n",
        "plt.tight_layout()\n",
        "plt.show()\n"
      ],
      "metadata": {
        "id": "b2A3oE9rQ9oQ",
        "outputId": "0f13c8d3-b682-4fa5-8606-267957fd2313",
        "colab": {
          "base_uri": "https://localhost:8080/",
          "height": 925
        }
      },
      "execution_count": 8,
      "outputs": [
        {
          "output_type": "stream",
          "name": "stdout",
          "text": [
            "313/313 - 3s - loss: 0.9200 - accuracy: 0.6992 - 3s/epoch - 10ms/step\n",
            "Test accuracy: 0.6992\n",
            "Epoch 1/10\n",
            "1563/1563 [==============================] - 62s 40ms/step - loss: 0.5533 - accuracy: 0.8058 - val_loss: 0.8981 - val_accuracy: 0.7100\n",
            "Epoch 2/10\n",
            "1563/1563 [==============================] - 62s 40ms/step - loss: 0.5199 - accuracy: 0.8155 - val_loss: 0.9233 - val_accuracy: 0.7016\n",
            "Epoch 3/10\n",
            "1563/1563 [==============================] - 63s 40ms/step - loss: 0.4865 - accuracy: 0.8287 - val_loss: 0.9156 - val_accuracy: 0.7158\n",
            "Epoch 4/10\n",
            "1563/1563 [==============================] - 68s 43ms/step - loss: 0.4587 - accuracy: 0.8387 - val_loss: 0.9569 - val_accuracy: 0.7044\n",
            "Epoch 5/10\n",
            "1563/1563 [==============================] - 64s 41ms/step - loss: 0.4315 - accuracy: 0.8463 - val_loss: 1.0020 - val_accuracy: 0.7109\n",
            "Epoch 6/10\n",
            "1563/1563 [==============================] - 62s 40ms/step - loss: 0.4049 - accuracy: 0.8564 - val_loss: 1.0476 - val_accuracy: 0.7035\n",
            "Epoch 7/10\n",
            "1563/1563 [==============================] - 63s 40ms/step - loss: 0.3795 - accuracy: 0.8648 - val_loss: 1.0916 - val_accuracy: 0.7040\n",
            "Epoch 8/10\n",
            "1563/1563 [==============================] - 66s 42ms/step - loss: 0.3579 - accuracy: 0.8716 - val_loss: 1.1083 - val_accuracy: 0.7004\n",
            "Epoch 9/10\n",
            "1563/1563 [==============================] - 62s 40ms/step - loss: 0.3338 - accuracy: 0.8801 - val_loss: 1.1951 - val_accuracy: 0.6991\n",
            "Epoch 10/10\n",
            "1563/1563 [==============================] - 62s 40ms/step - loss: 0.3141 - accuracy: 0.8876 - val_loss: 1.2046 - val_accuracy: 0.7027\n"
          ]
        },
        {
          "output_type": "display_data",
          "data": {
            "text/plain": [
              "<Figure size 1000x600 with 2 Axes>"
            ],
            "image/png": "[encoded data removed]"
          },
          "metadata": {}
        }
      ]
    },
    {
      "cell_type": "markdown",
      "source": [
        "Step 6: Model Improvement:\n",
        "\n",
        "- Experimentation: Try different architectures, hyperparameters, and data augmentation techniques to enhance model performance.\n",
        "- Regularization"
      ],
      "metadata": {
        "id": "VvFDUvIVRgg9"
      }
    },
    {
      "cell_type": "code",
      "source": [
        "# Step 6: Model Improvement\n",
        "\n",
        "# 1. Try different architectures\n",
        "# Example: Add more convolutional and dense layers\n",
        "model_v2 = tf.keras.models.Sequential([\n",
        "    tf.keras.layers.Conv2D(32, (3, 3), activation='relu', input_shape=(32, 32, 3)),\n",
        "    tf.keras.layers.MaxPooling2D((2, 2)),\n",
        "    tf.keras.layers.Conv2D(64, (3, 3), activation='relu'),\n",
        "    tf.keras.layers.MaxPooling2D((2, 2)),\n",
        "    tf.keras.layers.Conv2D(128, (3, 3), activation='relu'),\n",
        "    tf.keras.layers.MaxPooling2D((2, 2)),\n",
        "    tf.keras.layers.Flatten(),\n",
        "    tf.keras.layers.Dense(128, activation='relu'),\n",
        "    tf.keras.layers.Dense(64, activation='relu'),\n",
        "    tf.keras.layers.Dense(10, activation='softmax')\n",
        "])\n",
        "model_v2.compile(optimizer='adam', loss='sparse_categorical_crossentropy', metrics=['accuracy'])\n",
        "\n",
        "# 2. Add data augmentation\n",
        "from tensorflow.keras.preprocessing.image import ImageDataGenerator\n",
        "datagen = ImageDataGenerator(\n",
        "    featurewise_center=False,\n",
        "    samplewise_center=False,\n",
        "    featurewise_std_normalization=False,\n",
        "    samplewise_std_normalization=False,\n",
        "    zca_whitening=False,\n",
        "    rotation_range=20,\n",
        "    width_shift_range=0.2,\n",
        "    height_shift_range=0.2,\n",
        "    horizontal_flip=True)\n",
        "\n",
        "# 3. Experiment with hyperparameters\n",
        "model_v2.fit(datagen.flow(x_train, y_train, batch_size=32),\n",
        "              epochs=20,\n",
        "              validation_data=(x_test, y_test),\n",
        "              callbacks=[tf.keras.callbacks.EarlyStopping(monitor='val_accuracy', patience=3)])\n",
        "\n",
        "# 4. Apply regularization techniques\n",
        "from tensorflow.keras import regularizers\n",
        "model_v3 = tf.keras.models.Sequential([\n",
        "    tf.keras.layers.Conv2D(32, (3, 3), activation='relu', input_shape=(32, 32, 3), kernel_regularizer=regularizers.l2(0.01)),\n",
        "    tf.keras.layers.MaxPooling2D((2, 2)),\n",
        "    tf.keras.layers.Conv2D(64, (3, 3), activation='relu', kernel_regularizer=regularizers.l2(0.01)),\n",
        "    tf.keras.layers.MaxPooling2D((2, 2)),\n",
        "    tf.keras.layers.Conv2D(128, (3, 3), activation='relu', kernel_regularizer=regularizers.l2(0.01)),\n",
        "    tf.keras.layers.MaxPooling2D((2, 2)),\n",
        "    tf.keras.layers.Flatten(),\n",
        "    tf.keras.layers.Dense(128, activation='relu', kernel_regularizer=regularizers.l2(0.01)),\n",
        "    tf.keras.layers.Dropout(0.2),\n",
        "    tf.keras.layers.Dense(64, activation='relu', kernel_regularizer=regularizers.l2(0.01)),\n",
        "    tf.keras.layers.Dense(10, activation='softmax')\n",
        "])\n",
        "model_v3.compile(optimizer='adam', loss='sparse_categorical_crossentropy', metrics=['accuracy'])\n",
        "model_v3.fit(datagen.flow(x_train, y_train, batch_size=32),\n",
        "              epochs=20,\n",
        "              validation_data=(x_test, y_test),\n",
        "              callbacks=[tf.keras.callbacks.EarlyStopping(monitor='val_accuracy', patience=3)])"
      ],
      "metadata": {
        "id": "npmgx8s8RtR9",
        "outputId": "c6a525a6-7e32-4d7a-f689-a605246ae3be",
        "colab": {
          "base_uri": "https://localhost:8080/"
        }
      },
      "execution_count": 12,
      "outputs": [
        {
          "output_type": "stream",
          "name": "stdout",
          "text": [
            "Epoch 1/20\n",
            "1563/1563 [==============================] - 98s 62ms/step - loss: 1.7572 - accuracy: 0.0960 - val_loss: 1.4033 - val_accuracy: 0.0438\n",
            "Epoch 2/20\n",
            "1563/1563 [==============================] - 93s 60ms/step - loss: 1.4559 - accuracy: 0.0929 - val_loss: 1.2847 - val_accuracy: 0.0790\n",
            "Epoch 3/20\n",
            "1563/1563 [==============================] - 94s 60ms/step - loss: 1.3408 - accuracy: 0.0927 - val_loss: 1.1780 - val_accuracy: 0.0948\n",
            "Epoch 4/20\n",
            "1563/1563 [==============================] - 95s 61ms/step - loss: 1.2642 - accuracy: 0.0977 - val_loss: 1.0785 - val_accuracy: 0.0615\n",
            "Epoch 5/20\n",
            "1563/1563 [==============================] - 95s 61ms/step - loss: 1.2050 - accuracy: 0.0992 - val_loss: 1.0538 - val_accuracy: 0.0945\n",
            "Epoch 6/20\n",
            "1563/1563 [==============================] - 97s 62ms/step - loss: 1.1663 - accuracy: 0.0990 - val_loss: 1.0747 - val_accuracy: 0.0977\n",
            "Epoch 7/20\n",
            "1563/1563 [==============================] - 95s 61ms/step - loss: 1.1310 - accuracy: 0.1001 - val_loss: 1.0022 - val_accuracy: 0.1651\n",
            "Epoch 8/20\n",
            "1563/1563 [==============================] - 97s 62ms/step - loss: 1.1015 - accuracy: 0.0990 - val_loss: 0.9458 - val_accuracy: 0.0999\n",
            "Epoch 9/20\n",
            "1563/1563 [==============================] - 99s 63ms/step - loss: 1.0772 - accuracy: 0.1012 - val_loss: 0.9710 - val_accuracy: 0.0926\n",
            "Epoch 10/20\n",
            "1563/1563 [==============================] - 95s 61ms/step - loss: 1.0533 - accuracy: 0.1007 - val_loss: 0.8945 - val_accuracy: 0.0934\n",
            "Epoch 1/20\n",
            "1563/1563 [==============================] - 102s 64ms/step - loss: 2.2671 - accuracy: 0.1415 - val_loss: 2.0953 - val_accuracy: 0.2570\n",
            "Epoch 2/20\n",
            "1563/1563 [==============================] - 95s 61ms/step - loss: 2.0780 - accuracy: 0.0752 - val_loss: 1.9887 - val_accuracy: 0.0045\n",
            "Epoch 3/20\n",
            "1563/1563 [==============================] - 93s 60ms/step - loss: 2.0450 - accuracy: 0.0652 - val_loss: 1.9639 - val_accuracy: 0.1339\n",
            "Epoch 4/20\n",
            "1563/1563 [==============================] - 93s 60ms/step - loss: 2.0302 - accuracy: 0.0623 - val_loss: 1.9699 - val_accuracy: 0.0554\n"
          ]
        },
        {
          "output_type": "execute_result",
          "data": {
            "text/plain": [
              "<keras.src.callbacks.History at 0x7fd19a6c9a80>"
            ]
          },
          "metadata": {},
          "execution_count": 12
        }
      ]
    },
    {
      "cell_type": "markdown",
      "source": [
        "Step 7: Make Predictions (optional):"
      ],
      "metadata": {
        "id": "cPoWDkDTRtnG"
      }
    },
    {
      "cell_type": "code",
      "source": [
        "predictions = model.predict(x_test)\n",
        "predicted_labels = np.argmax(predictions, axis=1)"
      ],
      "metadata": {
        "id": "7oZrBZgBvPDM",
        "outputId": "1ee88554-0713-408a-c12a-76aa562c3216",
        "colab": {
          "base_uri": "https://localhost:8080/"
        }
      },
      "execution_count": 15,
      "outputs": [
        {
          "output_type": "stream",
          "name": "stdout",
          "text": [
            "313/313 [==============================] - 3s 11ms/step\n"
          ]
        }
      ]
    }
  ]
}