{
  "cells": [
    {
      "cell_type": "markdown",
      "metadata": {
        "id": "Bwj5Y9TddA6E"
      },
      "source": [
        "# Exercise \n",
        "\n",
        "1. Evaluate the performance of a Support Vector Machine regressor (sklearn.svm.SVR) by experimenting with different hyperparameters such as kernel=\"linear\" (varying the C hyperparameter) or kernel=\"rbf\" (adjusting both the C and gamma hyperparameters).\n",
        "\n",
        "2. Compare the model's performance when using RandomizedSearchCV versus GridSearchCV for hyperparameter optimization.\n",
        "\n",
        "3. Investigate the impact on model performance and feature selection by incorporating a transformer into the preparation pipeline to select the most important features.\n",
        "\n",
        "4. Assess whether combining comprehensive data preparation and the final prediction process into a unified pipeline yields better performance compared to separate pipelines.\n",
        "\n",
        "5. Explore how GridSearchCV automatically explores various preparation options and their effects on model performance.\n"
      ]
    },
    {
      "cell_type": "markdown",
      "metadata": {
        "id": "aMVCdCtrvopL"
      },
      "source": [
        "## <font color='red'> Exercise solutions"
      ]
    },
    {
      "cell_type": "markdown",
      "metadata": {
        "id": "J4-p7x88vkVx"
      },
      "source": [
        "Question 1: Experiment with a Support Vector Machine regressor (sklearn.svm.SVR), exploring different hyperparameters such as kernel=\"linear\" (using different values for the C hyperparameter) or kernel=\"rbf\" (using different values for both the C and gamma hyperparameters)."
      ]
    },
    {
      "cell_type": "code",
      "execution_count": null,
      "metadata": {
        "colab": {
          "background_save": true,
          "base_uri": "https://localhost:8080/"
        },
        "id": "OkTY2YNhYbXp",
        "outputId": "4b0d037e-406e-431f-9beb-fdb2420e108d"
      },
      "outputs": [
        {
          "name": "stdout",
          "output_type": "stream",
          "text": [
            "Fitting 5 folds for each of 50 candidates, totalling 250 fits\n",
            "[CV] END ..............................C=10.0, kernel=linear; total time=   7.7s\n",
            "[CV] END ..............................C=10.0, kernel=linear; total time=   8.7s\n",
            "[CV] END ..............................C=10.0, kernel=linear; total time=   8.6s\n",
            "[CV] END ..............................C=10.0, kernel=linear; total time=   7.6s\n",
            "[CV] END ..............................C=10.0, kernel=linear; total time=   8.7s\n",
            "[CV] END ..............................C=30.0, kernel=linear; total time=   8.7s\n",
            "[CV] END ..............................C=30.0, kernel=linear; total time=   7.5s\n",
            "[CV] END ..............................C=30.0, kernel=linear; total time=   8.7s\n",
            "[CV] END ..............................C=30.0, kernel=linear; total time=   8.7s\n",
            "[CV] END ..............................C=30.0, kernel=linear; total time=   7.5s\n",
            "[CV] END .............................C=100.0, kernel=linear; total time=   8.7s\n",
            "[CV] END .............................C=100.0, kernel=linear; total time=   8.4s\n",
            "[CV] END .............................C=100.0, kernel=linear; total time=   7.5s\n",
            "[CV] END .............................C=100.0, kernel=linear; total time=   8.6s\n",
            "[CV] END .............................C=100.0, kernel=linear; total time=   8.5s\n",
            "[CV] END .............................C=300.0, kernel=linear; total time=   8.0s\n",
            "[CV] END .............................C=300.0, kernel=linear; total time=   8.6s\n",
            "[CV] END .............................C=300.0, kernel=linear; total time=   8.4s\n",
            "[CV] END .............................C=300.0, kernel=linear; total time=   7.8s\n",
            "[CV] END .............................C=300.0, kernel=linear; total time=   8.7s\n",
            "[CV] END ............................C=1000.0, kernel=linear; total time=   8.8s\n",
            "[CV] END ............................C=1000.0, kernel=linear; total time=   7.7s\n",
            "[CV] END ............................C=1000.0, kernel=linear; total time=   8.9s\n",
            "[CV] END ............................C=1000.0, kernel=linear; total time=   8.9s\n",
            "[CV] END ............................C=1000.0, kernel=linear; total time=   7.8s\n",
            "[CV] END ............................C=3000.0, kernel=linear; total time=   9.9s\n",
            "[CV] END ............................C=3000.0, kernel=linear; total time=   9.6s\n",
            "[CV] END ............................C=3000.0, kernel=linear; total time=   9.3s\n",
            "[CV] END ............................C=3000.0, kernel=linear; total time=   8.8s\n",
            "[CV] END ............................C=3000.0, kernel=linear; total time=   9.5s\n",
            "[CV] END ...........................C=10000.0, kernel=linear; total time=  11.8s\n",
            "[CV] END ...........................C=10000.0, kernel=linear; total time=  11.7s\n",
            "[CV] END ...........................C=10000.0, kernel=linear; total time=  11.4s\n",
            "[CV] END ...........................C=10000.0, kernel=linear; total time=  11.1s\n",
            "[CV] END ...........................C=10000.0, kernel=linear; total time=  11.6s\n",
            "[CV] END ...........................C=30000.0, kernel=linear; total time=  17.6s\n",
            "[CV] END ...........................C=30000.0, kernel=linear; total time=  17.4s\n",
            "[CV] END ...........................C=30000.0, kernel=linear; total time=  16.5s\n",
            "[CV] END ...........................C=30000.0, kernel=linear; total time=  17.1s\n",
            "[CV] END ...........................C=30000.0, kernel=linear; total time=  19.0s\n",
            "[CV] END ......................C=1.0, gamma=0.01, kernel=rbf; total time=  13.2s\n",
            "[CV] END ......................C=1.0, gamma=0.01, kernel=rbf; total time=  13.2s\n",
            "[CV] END ......................C=1.0, gamma=0.01, kernel=rbf; total time=  13.1s\n",
            "[CV] END ......................C=1.0, gamma=0.01, kernel=rbf; total time=  13.1s\n",
            "[CV] END ......................C=1.0, gamma=0.01, kernel=rbf; total time=  13.2s\n",
            "[CV] END ......................C=1.0, gamma=0.03, kernel=rbf; total time=  13.1s\n",
            "[CV] END ......................C=1.0, gamma=0.03, kernel=rbf; total time=  13.1s\n",
            "[CV] END ......................C=1.0, gamma=0.03, kernel=rbf; total time=  13.1s\n",
            "[CV] END ......................C=1.0, gamma=0.03, kernel=rbf; total time=  13.1s\n",
            "[CV] END ......................C=1.0, gamma=0.03, kernel=rbf; total time=  13.1s\n",
            "[CV] END .......................C=1.0, gamma=0.1, kernel=rbf; total time=  13.0s\n",
            "[CV] END .......................C=1.0, gamma=0.1, kernel=rbf; total time=  13.0s\n",
            "[CV] END .......................C=1.0, gamma=0.1, kernel=rbf; total time=  13.0s\n",
            "[CV] END .......................C=1.0, gamma=0.1, kernel=rbf; total time=  13.3s\n",
            "[CV] END .......................C=1.0, gamma=0.1, kernel=rbf; total time=  13.6s\n",
            "[CV] END .......................C=1.0, gamma=0.3, kernel=rbf; total time=  13.3s\n",
            "[CV] END .......................C=1.0, gamma=0.3, kernel=rbf; total time=  13.0s\n",
            "[CV] END .......................C=1.0, gamma=0.3, kernel=rbf; total time=  12.9s\n",
            "[CV] END .......................C=1.0, gamma=0.3, kernel=rbf; total time=  12.8s\n",
            "[CV] END .......................C=1.0, gamma=0.3, kernel=rbf; total time=  12.8s\n",
            "[CV] END .......................C=1.0, gamma=1.0, kernel=rbf; total time=  12.5s\n",
            "[CV] END .......................C=1.0, gamma=1.0, kernel=rbf; total time=  12.4s\n",
            "[CV] END .......................C=1.0, gamma=1.0, kernel=rbf; total time=  12.4s\n",
            "[CV] END .......................C=1.0, gamma=1.0, kernel=rbf; total time=  13.0s\n",
            "[CV] END .......................C=1.0, gamma=1.0, kernel=rbf; total time=  14.6s\n",
            "[CV] END .......................C=1.0, gamma=3.0, kernel=rbf; total time=  13.5s\n",
            "[CV] END .......................C=1.0, gamma=3.0, kernel=rbf; total time=  13.3s\n",
            "[CV] END .......................C=1.0, gamma=3.0, kernel=rbf; total time=  13.3s\n",
            "[CV] END .......................C=1.0, gamma=3.0, kernel=rbf; total time=  13.3s\n",
            "[CV] END .......................C=1.0, gamma=3.0, kernel=rbf; total time=  14.0s\n",
            "[CV] END ......................C=3.0, gamma=0.01, kernel=rbf; total time=  13.6s\n",
            "[CV] END ......................C=3.0, gamma=0.01, kernel=rbf; total time=  13.2s\n",
            "[CV] END ......................C=3.0, gamma=0.01, kernel=rbf; total time=  13.0s\n",
            "[CV] END ......................C=3.0, gamma=0.01, kernel=rbf; total time=  13.0s\n",
            "[CV] END ......................C=3.0, gamma=0.01, kernel=rbf; total time=  13.0s\n",
            "[CV] END ......................C=3.0, gamma=0.03, kernel=rbf; total time=  13.0s\n",
            "[CV] END ......................C=3.0, gamma=0.03, kernel=rbf; total time=  13.0s\n",
            "[CV] END ......................C=3.0, gamma=0.03, kernel=rbf; total time=  13.0s\n",
            "[CV] END ......................C=3.0, gamma=0.03, kernel=rbf; total time=  13.0s\n",
            "[CV] END ......................C=3.0, gamma=0.03, kernel=rbf; total time=  13.0s\n",
            "[CV] END .......................C=3.0, gamma=0.1, kernel=rbf; total time=  12.8s\n",
            "[CV] END .......................C=3.0, gamma=0.1, kernel=rbf; total time=  12.9s\n",
            "[CV] END .......................C=3.0, gamma=0.1, kernel=rbf; total time=  13.1s\n",
            "[CV] END .......................C=3.0, gamma=0.1, kernel=rbf; total time=  13.7s\n",
            "[CV] END .......................C=3.0, gamma=0.1, kernel=rbf; total time=  13.2s\n",
            "[CV] END .......................C=3.0, gamma=0.3, kernel=rbf; total time=  12.8s\n",
            "[CV] END .......................C=3.0, gamma=0.3, kernel=rbf; total time=  12.7s\n",
            "[CV] END .......................C=3.0, gamma=0.3, kernel=rbf; total time=  12.6s\n",
            "[CV] END .......................C=3.0, gamma=0.3, kernel=rbf; total time=  12.6s\n",
            "[CV] END .......................C=3.0, gamma=0.3, kernel=rbf; total time=  12.6s\n",
            "[CV] END .......................C=3.0, gamma=1.0, kernel=rbf; total time=  12.3s\n",
            "[CV] END .......................C=3.0, gamma=1.0, kernel=rbf; total time=  12.2s\n",
            "[CV] END .......................C=3.0, gamma=1.0, kernel=rbf; total time=  12.3s\n",
            "[CV] END .......................C=3.0, gamma=1.0, kernel=rbf; total time=  12.3s\n",
            "[CV] END .......................C=3.0, gamma=1.0, kernel=rbf; total time=  12.3s\n",
            "[CV] END .......................C=3.0, gamma=3.0, kernel=rbf; total time=  13.3s\n",
            "[CV] END .......................C=3.0, gamma=3.0, kernel=rbf; total time=  13.2s\n",
            "[CV] END .......................C=3.0, gamma=3.0, kernel=rbf; total time=  13.3s\n",
            "[CV] END .......................C=3.0, gamma=3.0, kernel=rbf; total time=  13.3s\n",
            "[CV] END .......................C=3.0, gamma=3.0, kernel=rbf; total time=  13.3s\n",
            "[CV] END .....................C=10.0, gamma=0.01, kernel=rbf; total time=  13.1s\n",
            "[CV] END .....................C=10.0, gamma=0.01, kernel=rbf; total time=  13.9s\n",
            "[CV] END .....................C=10.0, gamma=0.01, kernel=rbf; total time=  13.4s\n",
            "[CV] END .....................C=10.0, gamma=0.01, kernel=rbf; total time=  13.1s\n",
            "[CV] END .....................C=10.0, gamma=0.01, kernel=rbf; total time=  13.0s\n",
            "[CV] END .....................C=10.0, gamma=0.03, kernel=rbf; total time=  12.9s\n",
            "[CV] END .....................C=10.0, gamma=0.03, kernel=rbf; total time=  13.0s\n",
            "[CV] END .....................C=10.0, gamma=0.03, kernel=rbf; total time=  12.9s\n",
            "[CV] END .....................C=10.0, gamma=0.03, kernel=rbf; total time=  12.9s\n",
            "[CV] END .....................C=10.0, gamma=0.03, kernel=rbf; total time=  13.0s\n",
            "[CV] END ......................C=10.0, gamma=0.1, kernel=rbf; total time=  15.0s\n",
            "[CV] END ......................C=10.0, gamma=0.1, kernel=rbf; total time=  13.8s\n",
            "[CV] END ......................C=10.0, gamma=0.1, kernel=rbf; total time=  13.6s\n",
            "[CV] END ......................C=10.0, gamma=0.1, kernel=rbf; total time=  13.1s\n",
            "[CV] END ......................C=10.0, gamma=0.1, kernel=rbf; total time=  13.0s\n",
            "[CV] END ......................C=10.0, gamma=0.3, kernel=rbf; total time=  12.6s\n",
            "[CV] END ......................C=10.0, gamma=0.3, kernel=rbf; total time=  12.7s\n",
            "[CV] END ......................C=10.0, gamma=0.3, kernel=rbf; total time=  12.6s\n",
            "[CV] END ......................C=10.0, gamma=0.3, kernel=rbf; total time=  12.6s\n",
            "[CV] END ......................C=10.0, gamma=0.3, kernel=rbf; total time=  12.5s\n",
            "[CV] END ......................C=10.0, gamma=1.0, kernel=rbf; total time=  12.3s\n",
            "[CV] END ......................C=10.0, gamma=1.0, kernel=rbf; total time=  12.2s\n",
            "[CV] END ......................C=10.0, gamma=1.0, kernel=rbf; total time=  12.2s\n",
            "[CV] END ......................C=10.0, gamma=1.0, kernel=rbf; total time=  12.3s\n",
            "[CV] END ......................C=10.0, gamma=1.0, kernel=rbf; total time=  12.3s\n",
            "[CV] END ......................C=10.0, gamma=3.0, kernel=rbf; total time=  13.3s\n",
            "[CV] END ......................C=10.0, gamma=3.0, kernel=rbf; total time=  13.2s\n",
            "[CV] END ......................C=10.0, gamma=3.0, kernel=rbf; total time=  13.3s\n",
            "[CV] END ......................C=10.0, gamma=3.0, kernel=rbf; total time=  13.3s\n",
            "[CV] END ......................C=10.0, gamma=3.0, kernel=rbf; total time=  13.2s\n",
            "[CV] END .....................C=30.0, gamma=0.01, kernel=rbf; total time=  13.5s\n",
            "[CV] END .....................C=30.0, gamma=0.01, kernel=rbf; total time=  13.7s\n",
            "[CV] END .....................C=30.0, gamma=0.01, kernel=rbf; total time=  13.2s\n",
            "[CV] END .....................C=30.0, gamma=0.01, kernel=rbf; total time=  13.0s\n",
            "[CV] END .....................C=30.0, gamma=0.01, kernel=rbf; total time=  13.0s\n",
            "[CV] END .....................C=30.0, gamma=0.03, kernel=rbf; total time=  12.9s\n",
            "[CV] END .....................C=30.0, gamma=0.03, kernel=rbf; total time=  12.9s\n",
            "[CV] END .....................C=30.0, gamma=0.03, kernel=rbf; total time=  12.9s\n",
            "[CV] END .....................C=30.0, gamma=0.03, kernel=rbf; total time=  12.9s\n",
            "[CV] END .....................C=30.0, gamma=0.03, kernel=rbf; total time=  12.9s\n",
            "[CV] END ......................C=30.0, gamma=0.1, kernel=rbf; total time=  12.8s\n",
            "[CV] END ......................C=30.0, gamma=0.1, kernel=rbf; total time=  12.8s\n",
            "[CV] END ......................C=30.0, gamma=0.1, kernel=rbf; total time=  12.8s\n",
            "[CV] END ......................C=30.0, gamma=0.1, kernel=rbf; total time=  12.8s\n",
            "[CV] END ......................C=30.0, gamma=0.1, kernel=rbf; total time=  12.8s\n",
            "[CV] END ......................C=30.0, gamma=0.3, kernel=rbf; total time=  12.6s\n",
            "[CV] END ......................C=30.0, gamma=0.3, kernel=rbf; total time=  13.0s\n",
            "[CV] END ......................C=30.0, gamma=0.3, kernel=rbf; total time=  13.1s\n",
            "[CV] END ......................C=30.0, gamma=0.3, kernel=rbf; total time=  12.8s\n",
            "[CV] END ......................C=30.0, gamma=0.3, kernel=rbf; total time=  12.7s\n",
            "[CV] END ......................C=30.0, gamma=1.0, kernel=rbf; total time=  12.4s\n",
            "[CV] END ......................C=30.0, gamma=1.0, kernel=rbf; total time=  12.5s\n",
            "[CV] END ......................C=30.0, gamma=1.0, kernel=rbf; total time=  12.4s\n",
            "[CV] END ......................C=30.0, gamma=1.0, kernel=rbf; total time=  12.4s\n",
            "[CV] END ......................C=30.0, gamma=1.0, kernel=rbf; total time=  12.3s\n",
            "[CV] END ......................C=30.0, gamma=3.0, kernel=rbf; total time=  13.3s\n",
            "[CV] END ......................C=30.0, gamma=3.0, kernel=rbf; total time=  13.3s\n",
            "[CV] END ......................C=30.0, gamma=3.0, kernel=rbf; total time=  13.3s\n",
            "[CV] END ......................C=30.0, gamma=3.0, kernel=rbf; total time=  13.3s\n",
            "[CV] END ......................C=30.0, gamma=3.0, kernel=rbf; total time=  13.3s\n",
            "[CV] END ....................C=100.0, gamma=0.01, kernel=rbf; total time=  13.0s\n",
            "[CV] END ....................C=100.0, gamma=0.01, kernel=rbf; total time=  13.0s\n",
            "[CV] END ....................C=100.0, gamma=0.01, kernel=rbf; total time=  13.0s\n",
            "[CV] END ....................C=100.0, gamma=0.01, kernel=rbf; total time=  13.8s\n",
            "[CV] END ....................C=100.0, gamma=0.01, kernel=rbf; total time=  13.4s\n",
            "[CV] END ....................C=100.0, gamma=0.03, kernel=rbf; total time=  13.0s\n",
            "[CV] END ....................C=100.0, gamma=0.03, kernel=rbf; total time=  12.8s\n",
            "[CV] END ....................C=100.0, gamma=0.03, kernel=rbf; total time=  12.8s\n",
            "[CV] END ....................C=100.0, gamma=0.03, kernel=rbf; total time=  12.8s\n",
            "[CV] END ....................C=100.0, gamma=0.03, kernel=rbf; total time=  12.8s\n",
            "[CV] END .....................C=100.0, gamma=0.1, kernel=rbf; total time=  12.6s\n",
            "[CV] END .....................C=100.0, gamma=0.1, kernel=rbf; total time=  12.6s\n",
            "[CV] END .....................C=100.0, gamma=0.1, kernel=rbf; total time=  12.6s\n",
            "[CV] END .....................C=100.0, gamma=0.1, kernel=rbf; total time=  12.6s\n",
            "[CV] END .....................C=100.0, gamma=0.1, kernel=rbf; total time=  12.6s\n",
            "[CV] END .....................C=100.0, gamma=0.3, kernel=rbf; total time=  12.4s\n",
            "[CV] END .....................C=100.0, gamma=0.3, kernel=rbf; total time=  12.5s\n",
            "[CV] END .....................C=100.0, gamma=0.3, kernel=rbf; total time=  12.5s\n",
            "[CV] END .....................C=100.0, gamma=0.3, kernel=rbf; total time=  12.4s\n",
            "[CV] END .....................C=100.0, gamma=0.3, kernel=rbf; total time=  12.5s\n",
            "[CV] END .....................C=100.0, gamma=1.0, kernel=rbf; total time=  12.2s\n",
            "[CV] END .....................C=100.0, gamma=1.0, kernel=rbf; total time=  12.3s\n",
            "[CV] END .....................C=100.0, gamma=1.0, kernel=rbf; total time=  12.2s\n",
            "[CV] END .....................C=100.0, gamma=1.0, kernel=rbf; total time=  12.3s\n",
            "[CV] END .....................C=100.0, gamma=1.0, kernel=rbf; total time=  12.3s\n",
            "[CV] END .....................C=100.0, gamma=3.0, kernel=rbf; total time=  13.2s\n",
            "[CV] END .....................C=100.0, gamma=3.0, kernel=rbf; total time=  13.2s\n",
            "[CV] END .....................C=100.0, gamma=3.0, kernel=rbf; total time=  14.2s\n",
            "[CV] END .....................C=100.0, gamma=3.0, kernel=rbf; total time=  13.7s\n",
            "[CV] END .....................C=100.0, gamma=3.0, kernel=rbf; total time=  13.3s\n",
            "[CV] END ....................C=300.0, gamma=0.01, kernel=rbf; total time=  12.8s\n",
            "[CV] END ....................C=300.0, gamma=0.01, kernel=rbf; total time=  12.9s\n",
            "[CV] END ....................C=300.0, gamma=0.01, kernel=rbf; total time=  12.8s\n",
            "[CV] END ....................C=300.0, gamma=0.01, kernel=rbf; total time=  12.8s\n",
            "[CV] END ....................C=300.0, gamma=0.01, kernel=rbf; total time=  12.7s\n",
            "[CV] END ....................C=300.0, gamma=0.03, kernel=rbf; total time=  12.6s\n",
            "[CV] END ....................C=300.0, gamma=0.03, kernel=rbf; total time=  12.6s\n",
            "[CV] END ....................C=300.0, gamma=0.03, kernel=rbf; total time=  12.5s\n",
            "[CV] END ....................C=300.0, gamma=0.03, kernel=rbf; total time=  12.5s\n",
            "[CV] END ....................C=300.0, gamma=0.03, kernel=rbf; total time=  12.5s\n",
            "[CV] END .....................C=300.0, gamma=0.1, kernel=rbf; total time=  12.3s\n",
            "[CV] END .....................C=300.0, gamma=0.1, kernel=rbf; total time=  12.3s\n",
            "[CV] END .....................C=300.0, gamma=0.1, kernel=rbf; total time=  12.4s\n",
            "[CV] END .....................C=300.0, gamma=0.1, kernel=rbf; total time=  12.4s\n",
            "[CV] END .....................C=300.0, gamma=0.1, kernel=rbf; total time=  12.3s\n",
            "[CV] END .....................C=300.0, gamma=0.3, kernel=rbf; total time=  12.3s\n",
            "[CV] END .....................C=300.0, gamma=0.3, kernel=rbf; total time=  12.3s\n",
            "[CV] END .....................C=300.0, gamma=0.3, kernel=rbf; total time=  12.3s\n",
            "[CV] END .....................C=300.0, gamma=0.3, kernel=rbf; total time=  12.3s\n",
            "[CV] END .....................C=300.0, gamma=0.3, kernel=rbf; total time=  12.3s\n",
            "[CV] END .....................C=300.0, gamma=1.0, kernel=rbf; total time=  12.3s\n",
            "[CV] END .....................C=300.0, gamma=1.0, kernel=rbf; total time=  12.2s\n",
            "[CV] END .....................C=300.0, gamma=1.0, kernel=rbf; total time=  12.2s\n",
            "[CV] END .....................C=300.0, gamma=1.0, kernel=rbf; total time=  12.2s\n",
            "[CV] END .....................C=300.0, gamma=1.0, kernel=rbf; total time=  12.2s\n",
            "[CV] END .....................C=300.0, gamma=3.0, kernel=rbf; total time=  13.3s\n",
            "[CV] END .....................C=300.0, gamma=3.0, kernel=rbf; total time=  14.2s\n",
            "[CV] END .....................C=300.0, gamma=3.0, kernel=rbf; total time=  13.5s\n",
            "[CV] END .....................C=300.0, gamma=3.0, kernel=rbf; total time=  13.3s\n",
            "[CV] END .....................C=300.0, gamma=3.0, kernel=rbf; total time=  13.3s\n",
            "[CV] END ...................C=1000.0, gamma=0.01, kernel=rbf; total time=  12.4s\n",
            "[CV] END ...................C=1000.0, gamma=0.01, kernel=rbf; total time=  12.4s\n",
            "[CV] END ...................C=1000.0, gamma=0.01, kernel=rbf; total time=  12.5s\n",
            "[CV] END ...................C=1000.0, gamma=0.01, kernel=rbf; total time=  12.4s\n",
            "[CV] END ...................C=1000.0, gamma=0.01, kernel=rbf; total time=  12.4s\n",
            "[CV] END ...................C=1000.0, gamma=0.03, kernel=rbf; total time=  12.3s\n",
            "[CV] END ...................C=1000.0, gamma=0.03, kernel=rbf; total time=  12.3s\n",
            "[CV] END ...................C=1000.0, gamma=0.03, kernel=rbf; total time=  12.3s\n",
            "[CV] END ...................C=1000.0, gamma=0.03, kernel=rbf; total time=  12.3s\n",
            "[CV] END ...................C=1000.0, gamma=0.03, kernel=rbf; total time=  12.3s\n",
            "[CV] END ....................C=1000.0, gamma=0.1, kernel=rbf; total time=  12.2s\n",
            "[CV] END ....................C=1000.0, gamma=0.1, kernel=rbf; total time=  12.2s\n",
            "[CV] END ....................C=1000.0, gamma=0.1, kernel=rbf; total time=  12.2s\n",
            "[CV] END ....................C=1000.0, gamma=0.1, kernel=rbf; total time=  12.2s\n",
            "[CV] END ....................C=1000.0, gamma=0.1, kernel=rbf; total time=  12.1s\n",
            "[CV] END ....................C=1000.0, gamma=0.3, kernel=rbf; total time=  12.1s\n",
            "[CV] END ....................C=1000.0, gamma=0.3, kernel=rbf; total time=  12.2s\n",
            "[CV] END ....................C=1000.0, gamma=0.3, kernel=rbf; total time=  12.1s\n",
            "[CV] END ....................C=1000.0, gamma=0.3, kernel=rbf; total time=  12.1s\n",
            "[CV] END ....................C=1000.0, gamma=0.3, kernel=rbf; total time=  12.2s\n",
            "[CV] END ....................C=1000.0, gamma=1.0, kernel=rbf; total time=  12.2s\n",
            "[CV] END ....................C=1000.0, gamma=1.0, kernel=rbf; total time=  12.2s\n",
            "[CV] END ....................C=1000.0, gamma=1.0, kernel=rbf; total time=  12.1s\n",
            "[CV] END ....................C=1000.0, gamma=1.0, kernel=rbf; total time=  12.1s\n",
            "[CV] END ....................C=1000.0, gamma=1.0, kernel=rbf; total time=  12.1s\n",
            "[CV] END ....................C=1000.0, gamma=3.0, kernel=rbf; total time=  13.3s\n",
            "[CV] END ....................C=1000.0, gamma=3.0, kernel=rbf; total time=  13.3s\n",
            "[CV] END ....................C=1000.0, gamma=3.0, kernel=rbf; total time=  13.3s\n",
            "[CV] END ....................C=1000.0, gamma=3.0, kernel=rbf; total time=  13.4s\n",
            "[CV] END ....................C=1000.0, gamma=3.0, kernel=rbf; total time=  14.2s\n"
          ]
        },
        {
          "data": {
            "text/html": [
              "<style>#sk-container-id-8 {color: black;background-color: white;}#sk-container-id-8 pre{padding: 0;}#sk-container-id-8 div.sk-toggleable {background-color: white;}#sk-container-id-8 label.sk-toggleable__label {cursor: pointer;display: block;width: 100%;margin-bottom: 0;padding: 0.3em;box-sizing: border-box;text-align: center;}#sk-container-id-8 label.sk-toggleable__label-arrow:before {content: \"▸\";float: left;margin-right: 0.25em;color: #696969;}#sk-container-id-8 label.sk-toggleable__label-arrow:hover:before {color: black;}#sk-container-id-8 div.sk-estimator:hover label.sk-toggleable__label-arrow:before {color: black;}#sk-container-id-8 div.sk-toggleable__content {max-height: 0;max-width: 0;overflow: hidden;text-align: left;background-color: #f0f8ff;}#sk-container-id-8 div.sk-toggleable__content pre {margin: 0.2em;color: black;border-radius: 0.25em;background-color: #f0f8ff;}#sk-container-id-8 input.sk-toggleable__control:checked~div.sk-toggleable__content {max-height: 200px;max-width: 100%;overflow: auto;}#sk-container-id-8 input.sk-toggleable__control:checked~label.sk-toggleable__label-arrow:before {content: \"▾\";}#sk-container-id-8 div.sk-estimator input.sk-toggleable__control:checked~label.sk-toggleable__label {background-color: #d4ebff;}#sk-container-id-8 div.sk-label input.sk-toggleable__control:checked~label.sk-toggleable__label {background-color: #d4ebff;}#sk-container-id-8 input.sk-hidden--visually {border: 0;clip: rect(1px 1px 1px 1px);clip: rect(1px, 1px, 1px, 1px);height: 1px;margin: -1px;overflow: hidden;padding: 0;position: absolute;width: 1px;}#sk-container-id-8 div.sk-estimator {font-family: monospace;background-color: #f0f8ff;border: 1px dotted black;border-radius: 0.25em;box-sizing: border-box;margin-bottom: 0.5em;}#sk-container-id-8 div.sk-estimator:hover {background-color: #d4ebff;}#sk-container-id-8 div.sk-parallel-item::after {content: \"\";width: 100%;border-bottom: 1px solid gray;flex-grow: 1;}#sk-container-id-8 div.sk-label:hover label.sk-toggleable__label {background-color: #d4ebff;}#sk-container-id-8 div.sk-serial::before {content: \"\";position: absolute;border-left: 1px solid gray;box-sizing: border-box;top: 0;bottom: 0;left: 50%;z-index: 0;}#sk-container-id-8 div.sk-serial {display: flex;flex-direction: column;align-items: center;background-color: white;padding-right: 0.2em;padding-left: 0.2em;position: relative;}#sk-container-id-8 div.sk-item {position: relative;z-index: 1;}#sk-container-id-8 div.sk-parallel {display: flex;align-items: stretch;justify-content: center;background-color: white;position: relative;}#sk-container-id-8 div.sk-item::before, #sk-container-id-8 div.sk-parallel-item::before {content: \"\";position: absolute;border-left: 1px solid gray;box-sizing: border-box;top: 0;bottom: 0;left: 50%;z-index: -1;}#sk-container-id-8 div.sk-parallel-item {display: flex;flex-direction: column;z-index: 1;position: relative;background-color: white;}#sk-container-id-8 div.sk-parallel-item:first-child::after {align-self: flex-end;width: 50%;}#sk-container-id-8 div.sk-parallel-item:last-child::after {align-self: flex-start;width: 50%;}#sk-container-id-8 div.sk-parallel-item:only-child::after {width: 0;}#sk-container-id-8 div.sk-dashed-wrapped {border: 1px dashed gray;margin: 0 0.4em 0.5em 0.4em;box-sizing: border-box;padding-bottom: 0.4em;background-color: white;}#sk-container-id-8 div.sk-label label {font-family: monospace;font-weight: bold;display: inline-block;line-height: 1.2em;}#sk-container-id-8 div.sk-label-container {text-align: center;}#sk-container-id-8 div.sk-container {/* jupyter's `normalize.less` sets `[hidden] { display: none; }` but bootstrap.min.css set `[hidden] { display: none !important; }` so we also need the `!important` here to be able to override the default hidden behavior on the sphinx rendered scikit-learn.org. See: https://github.com/scikit-learn/scikit-learn/issues/21755 */display: inline-block !important;position: relative;}#sk-container-id-8 div.sk-text-repr-fallback {display: none;}</style><div id=\"sk-container-id-8\" class=\"sk-top-container\"><div class=\"sk-text-repr-fallback\"><pre>GridSearchCV(cv=5, estimator=SVR(),\n",
              "             param_grid=[{&#x27;C&#x27;: [10.0, 30.0, 100.0, 300.0, 1000.0, 3000.0,\n",
              "                                10000.0, 30000.0],\n",
              "                          &#x27;kernel&#x27;: [&#x27;linear&#x27;]},\n",
              "                         {&#x27;C&#x27;: [1.0, 3.0, 10.0, 30.0, 100.0, 300.0, 1000.0],\n",
              "                          &#x27;gamma&#x27;: [0.01, 0.03, 0.1, 0.3, 1.0, 3.0],\n",
              "                          &#x27;kernel&#x27;: [&#x27;rbf&#x27;]}],\n",
              "             scoring=&#x27;neg_mean_squared_error&#x27;, verbose=2)</pre><b>In a Jupyter environment, please rerun this cell to show the HTML representation or trust the notebook. <br />On GitHub, the HTML representation is unable to render, please try loading this page with nbviewer.org.</b></div><div class=\"sk-container\" hidden><div class=\"sk-item sk-dashed-wrapped\"><div class=\"sk-label-container\"><div class=\"sk-label sk-toggleable\"><input class=\"sk-toggleable__control sk-hidden--visually\" id=\"sk-estimator-id-12\" type=\"checkbox\" ><label for=\"sk-estimator-id-12\" class=\"sk-toggleable__label sk-toggleable__label-arrow\">GridSearchCV</label><div class=\"sk-toggleable__content\"><pre>GridSearchCV(cv=5, estimator=SVR(),\n",
              "             param_grid=[{&#x27;C&#x27;: [10.0, 30.0, 100.0, 300.0, 1000.0, 3000.0,\n",
              "                                10000.0, 30000.0],\n",
              "                          &#x27;kernel&#x27;: [&#x27;linear&#x27;]},\n",
              "                         {&#x27;C&#x27;: [1.0, 3.0, 10.0, 30.0, 100.0, 300.0, 1000.0],\n",
              "                          &#x27;gamma&#x27;: [0.01, 0.03, 0.1, 0.3, 1.0, 3.0],\n",
              "                          &#x27;kernel&#x27;: [&#x27;rbf&#x27;]}],\n",
              "             scoring=&#x27;neg_mean_squared_error&#x27;, verbose=2)</pre></div></div></div><div class=\"sk-parallel\"><div class=\"sk-parallel-item\"><div class=\"sk-item\"><div class=\"sk-label-container\"><div class=\"sk-label sk-toggleable\"><input class=\"sk-toggleable__control sk-hidden--visually\" id=\"sk-estimator-id-13\" type=\"checkbox\" ><label for=\"sk-estimator-id-13\" class=\"sk-toggleable__label sk-toggleable__label-arrow\">estimator: SVR</label><div class=\"sk-toggleable__content\"><pre>SVR()</pre></div></div></div><div class=\"sk-serial\"><div class=\"sk-item\"><div class=\"sk-estimator sk-toggleable\"><input class=\"sk-toggleable__control sk-hidden--visually\" id=\"sk-estimator-id-14\" type=\"checkbox\" ><label for=\"sk-estimator-id-14\" class=\"sk-toggleable__label sk-toggleable__label-arrow\">SVR</label><div class=\"sk-toggleable__content\"><pre>SVR()</pre></div></div></div></div></div></div></div></div></div></div>"
            ],
            "text/plain": [
              "GridSearchCV(cv=5, estimator=SVR(),\n",
              "             param_grid=[{'C': [10.0, 30.0, 100.0, 300.0, 1000.0, 3000.0,\n",
              "                                10000.0, 30000.0],\n",
              "                          'kernel': ['linear']},\n",
              "                         {'C': [1.0, 3.0, 10.0, 30.0, 100.0, 300.0, 1000.0],\n",
              "                          'gamma': [0.01, 0.03, 0.1, 0.3, 1.0, 3.0],\n",
              "                          'kernel': ['rbf']}],\n",
              "             scoring='neg_mean_squared_error', verbose=2)"
            ]
          },
          "execution_count": 114,
          "metadata": {},
          "output_type": "execute_result"
        }
      ],
      "source": [
        "from sklearn.model_selection import GridSearchCV\n",
        "from sklearn.svm import SVR\n",
        "\n",
        "# Define the grid of hyperparameters to search\n",
        "param_grid = [\n",
        "    {'kernel': ['linear'], 'C': [10., 30., 100., 300., 1000., 3000., 10000., 30000.0]},\n",
        "    {'kernel': ['rbf'], 'C': [1.0, 3.0, 10., 30., 100., 300., 1000.0],\n",
        "     'gamma': [0.01, 0.03, 0.1, 0.3, 1.0, 3.0]},\n",
        "]\n",
        "\n",
        "# Create an SVR model\n",
        "svm_reg = SVR()\n",
        "\n",
        "# Perform grid search using cross-validation\n",
        "grid_search = GridSearchCV(svm_reg, param_grid, cv=5, scoring='neg_mean_squared_error', verbose=2)\n",
        "\n",
        "# Fit the grid search to the prepared housing data and corresponding labels\n",
        "grid_search.fit(housing_prepared, housing_labels)\n"
      ]
    },
    {
      "cell_type": "code",
      "execution_count": null,
      "metadata": {
        "colab": {
          "background_save": true
        },
        "id": "CbAMxR2lYkpB",
        "outputId": "cdd60206-fd66-4fef-c3db-b41fd2402831"
      },
      "outputs": [
        {
          "data": {
            "text/plain": [
              "70286.61835383571"
            ]
          },
          "execution_count": 115,
          "metadata": {},
          "output_type": "execute_result"
        }
      ],
      "source": [
        "# Get the negative mean squared error from the best estimator found by grid search\n",
        "negative_mse = grid_search.best_score_\n",
        "\n",
        "# Convert the negative mean squared error back to root mean squared error\n",
        "rmse = np.sqrt(-negative_mse)\n",
        "rmse\n"
      ]
    },
    {
      "cell_type": "code",
      "execution_count": null,
      "metadata": {
        "colab": {
          "background_save": true
        },
        "id": "DKfRhF-FYr5T",
        "outputId": "55d7bd26-cff7-42dd-adaf-7c3b4903ae8a"
      },
      "outputs": [
        {
          "data": {
            "text/plain": [
              "{'C': 30000.0, 'kernel': 'linear'}"
            ]
          },
          "execution_count": 116,
          "metadata": {},
          "output_type": "execute_result"
        }
      ],
      "source": [
        "# Retrieve the best hyperparameters found during grid search\n",
        "grid_search.best_params_\n"
      ]
    },
    {
      "cell_type": "markdown",
      "metadata": {
        "id": "7Go7UtRXrcaH"
      },
      "source": [
        "Question 2 : Try substituting GridSearchCV with RandomizedSearchCV."
      ]
    },
    {
      "cell_type": "code",
      "execution_count": null,
      "metadata": {
        "colab": {
          "background_save": true
        },
        "id": "PKjMtva6YyHh",
        "outputId": "66fcabf5-9aad-4433-9962-bbbcd7c7cbad"
      },
      "outputs": [
        {
          "name": "stdout",
          "output_type": "stream",
          "text": [
            "Fitting 5 folds for each of 50 candidates, totalling 250 fits\n",
            "[CV] END C=629.7823295913721, gamma=3.010121430917521, kernel=linear; total time=   7.6s\n",
            "[CV] END C=629.7823295913721, gamma=3.010121430917521, kernel=linear; total time=   8.5s\n",
            "[CV] END C=629.7823295913721, gamma=3.010121430917521, kernel=linear; total time=   8.6s\n",
            "[CV] END C=629.7823295913721, gamma=3.010121430917521, kernel=linear; total time=   7.6s\n",
            "[CV] END C=629.7823295913721, gamma=3.010121430917521, kernel=linear; total time=   8.6s\n",
            "[CV] END C=26290.20646430022, gamma=0.9084469696321253, kernel=rbf; total time=  14.7s\n",
            "[CV] END C=26290.20646430022, gamma=0.9084469696321253, kernel=rbf; total time=  15.9s\n",
            "[CV] END C=26290.20646430022, gamma=0.9084469696321253, kernel=rbf; total time=  15.1s\n",
            "[CV] END C=26290.20646430022, gamma=0.9084469696321253, kernel=rbf; total time=  15.2s\n",
            "[CV] END C=26290.20646430022, gamma=0.9084469696321253, kernel=rbf; total time=  14.8s\n",
            "[CV] END C=84.14107900575871, gamma=0.059838768608680676, kernel=rbf; total time=  12.4s\n",
            "[CV] END C=84.14107900575871, gamma=0.059838768608680676, kernel=rbf; total time=  12.5s\n",
            "[CV] END C=84.14107900575871, gamma=0.059838768608680676, kernel=rbf; total time=  12.5s\n",
            "[CV] END C=84.14107900575871, gamma=0.059838768608680676, kernel=rbf; total time=  12.5s\n",
            "[CV] END C=84.14107900575871, gamma=0.059838768608680676, kernel=rbf; total time=  12.7s\n",
            "[CV] END C=432.37884813148844, gamma=0.15416196746656105, kernel=linear; total time=   8.3s\n",
            "[CV] END C=432.37884813148844, gamma=0.15416196746656105, kernel=linear; total time=   8.4s\n",
            "[CV] END C=432.37884813148844, gamma=0.15416196746656105, kernel=linear; total time=   7.8s\n",
            "[CV] END C=432.37884813148844, gamma=0.15416196746656105, kernel=linear; total time=   8.3s\n",
            "[CV] END C=432.37884813148844, gamma=0.15416196746656105, kernel=linear; total time=   8.5s\n",
            "[CV] END C=24.175082946113903, gamma=3.503557475158312, kernel=rbf; total time=  13.6s\n",
            "[CV] END C=24.175082946113903, gamma=3.503557475158312, kernel=rbf; total time=  13.5s\n",
            "[CV] END C=24.175082946113903, gamma=3.503557475158312, kernel=rbf; total time=  13.5s\n",
            "[CV] END C=24.175082946113903, gamma=3.503557475158312, kernel=rbf; total time=  13.5s\n",
            "[CV] END C=24.175082946113903, gamma=3.503557475158312, kernel=rbf; total time=  13.5s\n",
            "[CV] END C=113564.03940586244, gamma=0.0007790692366582295, kernel=rbf; total time=  12.2s\n",
            "[CV] END C=113564.03940586244, gamma=0.0007790692366582295, kernel=rbf; total time=  12.1s\n",
            "[CV] END C=113564.03940586244, gamma=0.0007790692366582295, kernel=rbf; total time=  12.2s\n",
            "[CV] END C=113564.03940586244, gamma=0.0007790692366582295, kernel=rbf; total time=  12.2s\n",
            "[CV] END C=113564.03940586244, gamma=0.0007790692366582295, kernel=rbf; total time=  12.2s\n",
            "[CV] END C=108.30488238805071, gamma=0.3627537294604771, kernel=rbf; total time=  12.2s\n",
            "[CV] END C=108.30488238805071, gamma=0.3627537294604771, kernel=rbf; total time=  12.2s\n",
            "[CV] END C=108.30488238805071, gamma=0.3627537294604771, kernel=rbf; total time=  12.2s\n",
            "[CV] END C=108.30488238805071, gamma=0.3627537294604771, kernel=rbf; total time=  12.2s\n",
            "[CV] END C=108.30488238805071, gamma=0.3627537294604771, kernel=rbf; total time=  12.2s\n",
            "[CV] END C=21.34495367264743, gamma=0.023332523598323388, kernel=linear; total time=   8.5s\n",
            "[CV] END C=21.34495367264743, gamma=0.023332523598323388, kernel=linear; total time=   8.4s\n",
            "[CV] END C=21.34495367264743, gamma=0.023332523598323388, kernel=linear; total time=   7.6s\n",
            "[CV] END C=21.34495367264743, gamma=0.023332523598323388, kernel=linear; total time=   8.5s\n",
            "[CV] END C=21.34495367264743, gamma=0.023332523598323388, kernel=linear; total time=   8.6s\n",
            "[CV] END C=5603.270317432522, gamma=0.15023452872733867, kernel=rbf; total time=  12.0s\n",
            "[CV] END C=5603.270317432522, gamma=0.15023452872733867, kernel=rbf; total time=  12.0s\n",
            "[CV] END C=5603.270317432522, gamma=0.15023452872733867, kernel=rbf; total time=  12.0s\n",
            "[CV] END C=5603.270317432522, gamma=0.15023452872733867, kernel=rbf; total time=  12.0s\n",
            "[CV] END C=5603.270317432522, gamma=0.15023452872733867, kernel=rbf; total time=  12.1s\n",
            "[CV] END C=157055.10989448498, gamma=0.26497040005002437, kernel=rbf; total time=  31.6s\n",
            "[CV] END C=157055.10989448498, gamma=0.26497040005002437, kernel=rbf; total time=  33.4s\n",
            "[CV] END C=157055.10989448498, gamma=0.26497040005002437, kernel=rbf; total time=  35.2s\n",
            "[CV] END C=157055.10989448498, gamma=0.26497040005002437, kernel=rbf; total time=  31.4s\n",
            "[CV] END C=157055.10989448498, gamma=0.26497040005002437, kernel=rbf; total time=  33.8s\n",
            "[CV] END C=27652.46435873972, gamma=0.2227358621286903, kernel=linear; total time=  17.8s\n",
            "[CV] END C=27652.46435873972, gamma=0.2227358621286903, kernel=linear; total time=  15.7s\n",
            "[CV] END C=27652.46435873972, gamma=0.2227358621286903, kernel=linear; total time=  15.4s\n",
            "[CV] END C=27652.46435873972, gamma=0.2227358621286903, kernel=linear; total time=  17.9s\n",
            "[CV] END C=27652.46435873972, gamma=0.2227358621286903, kernel=linear; total time=  17.0s\n",
            "[CV] END C=171377.39570377997, gamma=0.628789100540856, kernel=linear; total time=  54.4s\n",
            "[CV] END C=171377.39570377997, gamma=0.628789100540856, kernel=linear; total time=  56.9s\n",
            "[CV] END C=171377.39570377997, gamma=0.628789100540856, kernel=linear; total time=  45.5s\n",
            "[CV] END C=171377.39570377997, gamma=0.628789100540856, kernel=linear; total time=  56.8s\n",
            "[CV] END C=171377.39570377997, gamma=0.628789100540856, kernel=linear; total time= 1.0min\n",
            "[CV] END C=5385.293820172355, gamma=0.18696125197741642, kernel=linear; total time=  10.2s\n",
            "[CV] END C=5385.293820172355, gamma=0.18696125197741642, kernel=linear; total time=   9.2s\n",
            "[CV] END C=5385.293820172355, gamma=0.18696125197741642, kernel=linear; total time=  10.0s\n",
            "[CV] END C=5385.293820172355, gamma=0.18696125197741642, kernel=linear; total time=   9.9s\n",
            "[CV] END C=5385.293820172355, gamma=0.18696125197741642, kernel=linear; total time=  10.0s\n",
            "[CV] END C=22.599032166213227, gamma=2.850796878935603, kernel=rbf; total time=  12.9s\n",
            "[CV] END C=22.599032166213227, gamma=2.850796878935603, kernel=rbf; total time=  12.9s\n",
            "[CV] END C=22.599032166213227, gamma=2.850796878935603, kernel=rbf; total time=  12.9s\n",
            "[CV] END C=22.599032166213227, gamma=2.850796878935603, kernel=rbf; total time=  12.9s\n",
            "[CV] END C=22.599032166213227, gamma=2.850796878935603, kernel=rbf; total time=  12.9s\n",
            "[CV] END C=34246.751946327975, gamma=0.3632878599687583, kernel=linear; total time=  20.3s\n",
            "[CV] END C=34246.751946327975, gamma=0.3632878599687583, kernel=linear; total time=  20.0s\n",
            "[CV] END C=34246.751946327975, gamma=0.3632878599687583, kernel=linear; total time=  17.6s\n",
            "[CV] END C=34246.751946327975, gamma=0.3632878599687583, kernel=linear; total time=  18.0s\n",
            "[CV] END C=34246.751946327975, gamma=0.3632878599687583, kernel=linear; total time=  20.8s\n",
            "[CV] END C=167.7278956080511, gamma=0.2757870542258224, kernel=rbf; total time=  12.1s\n",
            "[CV] END C=167.7278956080511, gamma=0.2757870542258224, kernel=rbf; total time=  12.2s\n",
            "[CV] END C=167.7278956080511, gamma=0.2757870542258224, kernel=rbf; total time=  12.1s\n",
            "[CV] END C=167.7278956080511, gamma=0.2757870542258224, kernel=rbf; total time=  12.2s\n",
            "[CV] END C=167.7278956080511, gamma=0.2757870542258224, kernel=rbf; total time=  12.2s\n",
            "[CV] END C=61.54360542501372, gamma=0.6835472281341501, kernel=linear; total time=   8.5s\n",
            "[CV] END C=61.54360542501372, gamma=0.6835472281341501, kernel=linear; total time=   7.4s\n",
            "[CV] END C=61.54360542501372, gamma=0.6835472281341501, kernel=linear; total time=   8.3s\n",
            "[CV] END C=61.54360542501372, gamma=0.6835472281341501, kernel=linear; total time=   8.4s\n",
            "[CV] END C=61.54360542501372, gamma=0.6835472281341501, kernel=linear; total time=   7.4s\n",
            "[CV] END C=98.73897389920917, gamma=0.4960365360493639, kernel=rbf; total time=  12.1s\n",
            "[CV] END C=98.73897389920917, gamma=0.4960365360493639, kernel=rbf; total time=  12.1s\n",
            "[CV] END C=98.73897389920917, gamma=0.4960365360493639, kernel=rbf; total time=  12.1s\n",
            "[CV] END C=98.73897389920917, gamma=0.4960365360493639, kernel=rbf; total time=  12.2s\n",
            "[CV] END C=98.73897389920917, gamma=0.4960365360493639, kernel=rbf; total time=  12.2s\n",
            "[CV] END C=8935.505635947806, gamma=0.37354658165762367, kernel=rbf; total time=  12.1s\n",
            "[CV] END C=8935.505635947806, gamma=0.37354658165762367, kernel=rbf; total time=  12.0s\n",
            "[CV] END C=8935.505635947806, gamma=0.37354658165762367, kernel=rbf; total time=  12.1s\n",
            "[CV] END C=8935.505635947806, gamma=0.37354658165762367, kernel=rbf; total time=  12.0s\n",
            "[CV] END C=8935.505635947806, gamma=0.37354658165762367, kernel=rbf; total time=  12.1s\n",
            "[CV] END C=135.7677582484244, gamma=0.838636245624803, kernel=linear; total time=   8.5s\n",
            "[CV] END C=135.7677582484244, gamma=0.838636245624803, kernel=linear; total time=   8.3s\n",
            "[CV] END C=135.7677582484244, gamma=0.838636245624803, kernel=linear; total time=   7.3s\n",
            "[CV] END C=135.7677582484244, gamma=0.838636245624803, kernel=linear; total time=   8.5s\n",
            "[CV] END C=135.7677582484244, gamma=0.838636245624803, kernel=linear; total time=   8.4s\n",
            "[CV] END C=151136.20282548846, gamma=1.4922453771381408, kernel=rbf; total time= 2.4min\n",
            "[CV] END C=151136.20282548846, gamma=1.4922453771381408, kernel=rbf; total time= 2.3min\n",
            "[CV] END C=151136.20282548846, gamma=1.4922453771381408, kernel=rbf; total time= 2.4min\n",
            "[CV] END C=151136.20282548846, gamma=1.4922453771381408, kernel=rbf; total time= 2.2min\n",
            "[CV] END C=151136.20282548846, gamma=1.4922453771381408, kernel=rbf; total time= 2.2min\n",
            "[CV] END C=761.4316758498787, gamma=2.6126336514161914, kernel=linear; total time=   8.3s\n",
            "[CV] END C=761.4316758498787, gamma=2.6126336514161914, kernel=linear; total time=   8.6s\n",
            "[CV] END C=761.4316758498787, gamma=2.6126336514161914, kernel=linear; total time=   8.4s\n",
            "[CV] END C=761.4316758498787, gamma=2.6126336514161914, kernel=linear; total time=   7.8s\n",
            "[CV] END C=761.4316758498787, gamma=2.6126336514161914, kernel=linear; total time=   8.8s\n"
          ]
        }
      ],
      "source": [
        " from sklearn.model_selection import RandomizedSearchCV\n",
        "from scipy.stats import expon, reciprocal\n",
        "\n",
        "# Define the distributions for hyperparameters to search over\n",
        "# 'kernel' is set to either 'linear' or 'rbf'\n",
        "# 'C' is sampled from a reciprocal distribution with range [20, 200000]\n",
        "# 'gamma' is sampled from an exponential distribution with scale parameter 1.0\n",
        "param_distribs = {\n",
        "    'kernel': ['linear', 'rbf'],\n",
        "    'C': reciprocal(20, 200000),\n",
        "    'gamma': expon(scale=1.0),\n",
        "}\n",
        "\n",
        "# Create an SVR model\n",
        "svm_reg = SVR()\n",
        "\n",
        "# Perform randomized search using the specified distributions\n",
        "rnd_search = RandomizedSearchCV(svm_reg, param_distributions=param_distribs,\n",
        "                                n_iter=50, cv=5, scoring='neg_mean_squared_error',\n",
        "                                verbose=2, random_state=42)\n",
        "\n",
        "# Fit the randomized search to the prepared housing data and corresponding labels\n",
        "rnd_search.fit(housing_prepared, housing_labels)\n"
      ]
    },
    {
      "cell_type": "code",
      "execution_count": null,
      "metadata": {
        "id": "1mVXbfJSY7gH"
      },
      "outputs": [],
      "source": [
        "# Get the negative mean squared error from the best estimator found by randomized search\n",
        "negative_mse = rnd_search.best_score_\n",
        "\n",
        "# Convert the negative mean squared error back to root mean squared error\n",
        "rmse = np.sqrt(-negative_mse)\n",
        "rmse\n"
      ]
    },
    {
      "cell_type": "code",
      "execution_count": null,
      "metadata": {
        "id": "UmiU_Tw2ZCOA"
      },
      "outputs": [],
      "source": [
        "# Retrieve the best hyperparameters found during randomized search\n",
        "rnd_search.best_params_\n"
      ]
    },
    {
      "cell_type": "code",
      "execution_count": null,
      "metadata": {
        "id": "H5gDSvRUZHWs"
      },
      "outputs": [],
      "source": [
        "# Generate samples from an exponential distribution with scale parameter 1.0\n",
        "expon_distrib = expon(scale=1.)\n",
        "samples = expon_distrib.rvs(10000, random_state=42)\n",
        "\n",
        "# Plot the original exponential distribution\n",
        "plt.figure(figsize=(10, 4))\n",
        "plt.subplot(121)\n",
        "plt.title(\"Exponential distribution (scale=1.0)\")\n",
        "plt.hist(samples, bins=50)\n",
        "\n",
        "# Plot the distribution of logarithms of the samples\n",
        "plt.subplot(122)\n",
        "plt.title(\"Log of this distribution\")\n",
        "plt.hist(np.log(samples), bins=50)\n",
        "\n",
        "# Show the plots\n",
        "plt.show()\n"
      ]
    },
    {
      "cell_type": "code",
      "execution_count": null,
      "metadata": {
        "id": "7Xv3mXIwZMt6"
      },
      "outputs": [],
      "source": [
        "# Generate samples from a reciprocal distribution with range [20, 200000]\n",
        "reciprocal_distrib = reciprocal(20, 200000)\n",
        "samples = reciprocal_distrib.rvs(10000, random_state=42)\n",
        "\n",
        "# Plot the original reciprocal distribution\n",
        "plt.figure(figsize=(10, 4))\n",
        "plt.subplot(121)\n",
        "plt.title(\"Reciprocal distribution (range=[20, 200000])\")\n",
        "plt.hist(samples, bins=50)\n",
        "\n",
        "# Plot the distribution of logarithms of the samples\n",
        "plt.subplot(122)\n",
        "plt.title(\"Log of this distribution\")\n",
        "plt.hist(np.log(samples), bins=50)\n",
        "\n",
        "# Show the plots\n",
        "plt.show()\n"
      ]
    },
    {
      "cell_type": "markdown",
      "metadata": {
        "id": "StYnFJUIrC9O"
      },
      "source": [
        "Question 3 :Experiment with integrating a transformer into the preparation pipeline to choose the most important feature."
      ]
    },
    {
      "cell_type": "code",
      "execution_count": null,
      "metadata": {
        "id": "3C0-z4V8ZRxP"
      },
      "outputs": [],
      "source": [
        "from sklearn.base import BaseEstimator, TransformerMixin\n",
        "\n",
        "def indices_of_top_k(arr, k):\n",
        "    \"\"\"Function to get indices of top k elements in an array.\"\"\"\n",
        "    return np.sort(np.argpartition(np.array(arr), -k)[-k:])\n",
        "\n",
        "class TopFeatureSelector(BaseEstimator, TransformerMixin):\n",
        "    \"\"\"Custom transformer to select top k features based on their importances.\"\"\"\n",
        "\n",
        "    def __init__(self, feature_importances, k):\n",
        "        \"\"\"Initialize the transformer with feature importances and the number of top features to select.\"\"\"\n",
        "        self.feature_importances = feature_importances\n",
        "        self.k = k\n",
        "\n",
        "    def fit(self, X, y=None):\n",
        "        \"\"\"Fit the transformer to the data.\"\"\"\n",
        "        # Get indices of top k features based on their importances\n",
        "        self.feature_indices_ = indices_of_top_k(self.feature_importances, self.k)\n",
        "        return self\n",
        "\n",
        "    def transform(self, X):\n",
        "        \"\"\"Transform the data by selecting only the top k features.\"\"\"\n",
        "        return X[:, self.feature_indices_]\n"
      ]
    },
    {
      "cell_type": "code",
      "execution_count": null,
      "metadata": {
        "id": "osuoGGvoZY9w"
      },
      "outputs": [],
      "source": [
        "# Define the number of top features to select\n",
        "k = 5\n",
        "\n",
        "# Get the indices of top k features based on their importances\n",
        "top_k_feature_indices = indices_of_top_k(feature_importances, k)\n",
        "\n",
        "# Display the top k feature indices and their corresponding attribute names\n",
        "np.array(attributes)[top_k_feature_indices]\n"
      ]
    },
    {
      "cell_type": "code",
      "execution_count": null,
      "metadata": {
        "id": "il2zWBaDZ8iE"
      },
      "outputs": [],
      "source": [
        "\n",
        "# Alternatively, display the top k feature importances and their corresponding attribute names\n",
        "sorted(zip(feature_importances, attributes), reverse=True)[:k]\n",
        "\n",
        "# Create a pipeline for preparation and feature selection\n",
        "preparation_and_feature_selection_pipeline = Pipeline([\n",
        "    ('preparation', full_pipeline),  # Include the full data preparation pipeline\n",
        "    ('feature_selection', TopFeatureSelector(feature_importances, k))  # Include the top feature selector\n",
        "])\n",
        "\n",
        "# Apply the pipeline to select the top k features from the prepared housing data\n",
        "housing_prepared_top_k_features = preparation_and_feature_selection_pipeline.fit_transform(housing)\n"
      ]
    },
    {
      "cell_type": "code",
      "execution_count": null,
      "metadata": {
        "id": "T686GTWdZ9Me"
      },
      "outputs": [],
      "source": [
        "# Selecting the top k features for the first three housing instances\n",
        "# from the dataset containing only the selected features.\n",
        "housing_prepared_top_k_features[0:3]\n",
        "\n",
        "# Extracting the top k selected features for the first three housing instances\n",
        "# from the original prepared housing data.\n",
        "housing_prepared[0:3, top_k_feature_indices]\n"
      ]
    },
    {
      "cell_type": "markdown",
      "metadata": {
        "id": "vhrlh-nZa_kZ"
      },
      "source": [
        "Question 4:  construct a unified pipeline that encompasses both comprehensive data preparation and the ultimate prediction process?"
      ]
    },
    {
      "cell_type": "code",
      "execution_count": null,
      "metadata": {
        "id": "fKdaHg8na3dW"
      },
      "outputs": [],
      "source": [
        "# Pipeline for preparing the data, selecting top features, and training a Support Vector Machine regressor\n",
        "prepare_select_and_predict_pipeline = Pipeline([\n",
        "    ('preparation', full_pipeline),  # Preparation step including data preprocessing\n",
        "    ('feature_selection', TopFeatureSelector(feature_importances, k)),  # Feature selection\n",
        "    ('svm_reg', SVR(**rnd_search.best_params_))  # Support Vector Machine regressor with best hyperparameters\n",
        "])\n"
      ]
    },
    {
      "cell_type": "code",
      "execution_count": null,
      "metadata": {
        "id": "rg0EzmnWa-CP"
      },
      "outputs": [],
      "source": [
        "# Fit the pipeline to the training data along with their corresponding labels\n",
        "prepare_select_and_predict_pipeline.fit(housing, housing_labels)\n"
      ]
    },
    {
      "cell_type": "code",
      "execution_count": null,
      "metadata": {
        "id": "B4LnZm6zcj3b"
      },
      "outputs": [],
      "source": [
        "# Obtain predictions for a subset of the data using the prepared and trained pipeline\n",
        "some_data = housing.iloc[:4]  # Subset of the housing data\n",
        "some_labels = housing_labels.iloc[:4]  # Subset of the housing labels\n",
        "print(\"Predictions:\\t\", prepare_select_and_predict_pipeline.predict(some_data))  # Print predictions\n",
        "print(\"Labels:\\t\\t\", list(some_labels))  # Print actual labels\n"
      ]
    },
    {
      "cell_type": "markdown",
      "metadata": {
        "id": "5mrpG1w7dKSg"
      },
      "source": [
        "Question 5: Use `GridSearchCV` to automatically investigate various preparation options."
      ]
    },
    {
      "cell_type": "code",
      "execution_count": null,
      "metadata": {
        "id": "13vKCXPvctnD"
      },
      "outputs": [],
      "source": [
        "# Set the handling of unknown categories to ignore in the categorical transformer\n",
        "full_pipeline.named_transformers_[\"cat\"].handle_unknown = 'ignore'\n",
        "\n",
        "# Define parameter grid for GridSearchCV\n",
        "param_grid = [{\n",
        "    'preparation__num__imputer__strategy': ['mean', 'median', 'most_frequent'],\n",
        "    'feature_selection__k': list(range(1, len(feature_importances) + 1))\n",
        "}]\n",
        "\n",
        "# Perform GridSearchCV for preparation and prediction pipeline\n",
        "grid_search_prep = GridSearchCV(prepare_select_and_predict_pipeline, param_grid, cv=5,\n",
        "                                scoring='neg_mean_squared_error', verbose=2)\n",
        "grid_search_prep.fit(housing, housing_labels)\n"
      ]
    },
    {
      "cell_type": "code",
      "execution_count": null,
      "metadata": {},
      "outputs": [],
      "source": [
        "# Best parameters found by the GridSearchCV\n",
        "grid_search_prep.best_params_\n"
      ]
    }
  ],
  "metadata": {
    "colab": {
      "provenance": []
    },
    "kernelspec": {
      "display_name": "Python 3",
      "name": "python3"
    },
    "language_info": {
      "codemirror_mode": {
        "name": "ipython",
        "version": 3
      },
      "file_extension": ".py",
      "mimetype": "text/x-python",
      "name": "python",
      "nbconvert_exporter": "python",
      "pygments_lexer": "ipython3",
      "version": "3.8.0"
    }
  },
  "nbformat": 4,
  "nbformat_minor": 0
}
