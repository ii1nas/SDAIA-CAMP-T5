{
 "cells": [
  {
   "cell_type": "markdown",
   "id": "Spub1aVhLth-",
   "metadata": {
    "id": "Spub1aVhLth-"
   },
   "source": [
    "\n",
    "\n",
    "---\n",
    "\n",
    "\n",
    "\n",
    "---\n",
    "\n",
    "\n",
    "\n",
    "# Dummy Classifier Notebook\n",
    "\n",
    "\n",
    "---\n",
    "\n",
    "\n",
    "\n",
    "---\n",
    "\n",
    "\n",
    "\n",
    "DummyClassifier is a simple baseline classifier used for comparison with more sophisticated models. It makes predictions using simple rules, such as predicting the most frequent class or generating random predictions. It's useful for understanding classification problem difficulty and evaluating model performance.\n",
    "\n",
    "\n",
    "In this notebook, we will use the DummyClassifier algorithm as a baseline model on the MNIST dataset."
   ]
  },
  {
   "cell_type": "markdown",
   "id": "gQTT16-vLYVB",
   "metadata": {
    "id": "gQTT16-vLYVB"
   },
   "source": [
    "### **MNIST Dataset:**\n",
    "The MNIST dataset is a large database of handwritten digits commonly used for training various image processing systems. It contains 70,000 images of handwritten digits from 0 to 9, making it a staple dataset for benchmarking classification algorithms.\n",
    "\n",
    "![MNIST Sample](https://upload.wikimedia.org/wikipedia/commons/2/27/MnistExamples.png)\n"
   ]
  },
  {
   "cell_type": "markdown",
   "id": "fw2Jm38vVMdq",
   "metadata": {
    "id": "fw2Jm38vVMdq"
   },
   "source": [
    "#Setup"
   ]
  },
  {
   "cell_type": "code",
   "execution_count": null,
   "id": "ef455b54",
   "metadata": {
    "id": "ef455b54"
   },
   "outputs": [],
   "source": [
    "\n",
    "# imports\n",
    "import numpy as np\n",
    "import sklearn\n",
    "import os\n",
    "import matplotlib as mpl\n",
    "import matplotlib.pyplot as plt\n",
    "mpl.rc('axes', labelsize=14)\n",
    "mpl.rc('xtick', labelsize=12)\n",
    "mpl.rc('ytick', labelsize=12)\n",
    "\n",
    "# Establish a fixed random seed for consistent reproducibility in random processes\n",
    "np.random.seed(42)\n"
   ]
  },
  {
   "cell_type": "markdown",
   "id": "Wia6hK8ZVgvz",
   "metadata": {
    "id": "Wia6hK8ZVgvz"
   },
   "source": [
    "#Import MNIST dataset"
   ]
  },
  {
   "cell_type": "code",
   "execution_count": null,
   "id": "427e5408",
   "metadata": {
    "colab": {
     "base_uri": "https://localhost:8080/"
    },
    "id": "427e5408",
    "outputId": "6cc65aba-14d5-4155-ecb2-8a9fe4cca547"
   },
   "outputs": [
    {
     "name": "stderr",
     "output_type": "stream",
     "text": [
      "/usr/local/lib/python3.10/dist-packages/sklearn/datasets/_openml.py:968: FutureWarning: The default value of `parser` will change from `'liac-arff'` to `'auto'` in 1.4. You can set `parser='auto'` to silence this warning. Therefore, an `ImportError` will be raised from 1.4 if the dataset is dense and pandas is not installed. Note that the pandas parser may return different data types. See the Notes Section in fetch_openml's API doc for details.\n",
      "  warn(\n"
     ]
    },
    {
     "name": "stdout",
     "output_type": "stream",
     "text": [
      "dict_keys(['data', 'target', 'frame', 'categories', 'feature_names', 'target_names', 'DESCR', 'details', 'url'])\n"
     ]
    }
   ],
   "source": [
    "from sklearn.datasets import fetch_openml\n",
    "\n",
    "# Fetch the MNIST dataset\n",
    "mnist = fetch_openml('mnist_784', version=1, as_frame=False)\n",
    "\n",
    "# Print the keys of the dataset\n",
    "print(mnist.keys())"
   ]
  },
  {
   "cell_type": "code",
   "execution_count": null,
   "id": "d910ae08",
   "metadata": {
    "colab": {
     "base_uri": "https://localhost:8080/"
    },
    "id": "d910ae08",
    "outputId": "3a5b9bed-feec-4c45-8141-6fda1b07add8"
   },
   "outputs": [
    {
     "name": "stdout",
     "output_type": "stream",
     "text": [
      "(70000, 784)\n"
     ]
    }
   ],
   "source": [
    "\n",
    "X, y = mnist[\"data\"], mnist[\"target\"]\n",
    "\n",
    "# Print the shape of the feature matrix (X)\n",
    "print(X.shape)"
   ]
  },
  {
   "cell_type": "code",
   "execution_count": null,
   "id": "1b41478b",
   "metadata": {
    "colab": {
     "base_uri": "https://localhost:8080/"
    },
    "id": "1b41478b",
    "outputId": "4ee7eb95-d7da-41ad-f116-0f58957ba975"
   },
   "outputs": [
    {
     "name": "stdout",
     "output_type": "stream",
     "text": [
      "(70000,)\n"
     ]
    }
   ],
   "source": [
    "# Print the shape of the target labels (y)\n",
    "print(y.shape)"
   ]
  },
  {
   "cell_type": "code",
   "execution_count": null,
   "id": "93e216e8",
   "metadata": {
    "colab": {
     "base_uri": "https://localhost:8080/"
    },
    "id": "93e216e8",
    "outputId": "6dde9251-d854-4987-e2b7-3dfbaec51a9d"
   },
   "outputs": [
    {
     "name": "stdout",
     "output_type": "stream",
     "text": [
      "784\n"
     ]
    }
   ],
   "source": [
    "# Calculate the product of 28 * 28\n",
    "print(28 * 28)"
   ]
  },
  {
   "cell_type": "code",
   "execution_count": null,
   "id": "987536c2",
   "metadata": {
    "colab": {
     "base_uri": "https://localhost:8080/",
     "height": 406
    },
    "id": "987536c2",
    "outputId": "c2217ffe-39cf-4b2f-b3e8-37287d2701ba"
   },
   "outputs": [
    {
     "data": {
      "image/png": "[encoded data removed]",
      "text/plain": [
       "<Figure size 640x480 with 1 Axes>"
      ]
     },
     "metadata": {},
     "output_type": "display_data"
    }
   ],
   "source": [
    "# Select a digit from the MNIST dataset\n",
    "some_digit = X[10]\n",
    "\n",
    "# Reshape the flattened 1D array into a 2D array representing a 28x28 image\n",
    "some_digit_image = some_digit.reshape(28, 28)\n",
    "\n",
    "# Display the digit using Matplotlib with a binary color map (black and white)\n",
    "plt.imshow(some_digit_image, cmap=mpl.cm.binary)\n",
    "\n",
    "# Turn off axis labels\n",
    "plt.axis(\"off\")\n",
    "\n",
    "# Save the figure with the name \"some_digit_plot.png\"\n",
    "plt.savefig(\"some_digit_plot.png\")\n",
    "\n",
    "# Show the plotted image\n",
    "plt.show()"
   ]
  },
  {
   "cell_type": "code",
   "execution_count": null,
   "id": "2a1ea7ac",
   "metadata": {
    "colab": {
     "base_uri": "https://localhost:8080/"
    },
    "id": "2a1ea7ac",
    "outputId": "f82d61f1-d49f-4b65-a36f-6a455b2115cd"
   },
   "outputs": [
    {
     "name": "stdout",
     "output_type": "stream",
     "text": [
      "Label of the first digit: 3\n"
     ]
    }
   ],
   "source": [
    "# Display the label of the first digit in the MNIST dataset\n",
    "print(\"Label of the first digit:\", y[10])\n"
   ]
  },
  {
   "cell_type": "code",
   "execution_count": null,
   "id": "664570e8",
   "metadata": {
    "id": "664570e8"
   },
   "outputs": [],
   "source": [
    "\n",
    "# Convert the entire y array to unsigned integers\n",
    "y = y.astype(np.uint8)"
   ]
  },
  {
   "cell_type": "code",
   "execution_count": null,
   "id": "6f80ca28",
   "metadata": {
    "id": "6f80ca28"
   },
   "outputs": [],
   "source": [
    "# Define a function to plot a digit\n",
    "def plot_digit(data):\n",
    "    image = data.reshape(28, 28)\n",
    "    plt.imshow(image, cmap=mpl.cm.binary, interpolation=\"nearest\")\n",
    "    plt.axis(\"off\")"
   ]
  },
  {
   "cell_type": "code",
   "execution_count": null,
   "id": "4b8e2aa7",
   "metadata": {
    "id": "4b8e2aa7"
   },
   "outputs": [],
   "source": [
    "# Define a function to plot a grid of digits\n",
    "def plot_digits(instances, images_per_row=10, **options):\n",
    "    # Size of each image (assuming 28x28 pixels for MNIST)\n",
    "    size = 28\n",
    "\n",
    "    # Calculate the number of rows needed for the grid\n",
    "    n_rows = (len(instances) - 1) // images_per_row + 1\n",
    "\n",
    "    # Calculate the number of empty slots needed to fill the grid\n",
    "    n_empty = n_rows * images_per_row - len(instances)\n",
    "\n",
    "    # Pad the instances array with zeros to fill the empty slots\n",
    "    padded_instances = np.concatenate([instances, np.zeros((n_empty, size * size))], axis=0)\n",
    "\n",
    "    # Reshape the array to create a grid of images\n",
    "    image_grid = padded_instances.reshape((n_rows, images_per_row, size, size))\n",
    "\n",
    "    # Combine axes 0 and 2 (vertical image grid axis, and vertical image axis),\n",
    "    # and axes 1 and 3 (horizontal axes). Use transpose() and reshape for this.\n",
    "    big_image = image_grid.transpose(0, 2, 1, 3).reshape(n_rows * size, images_per_row * size)\n",
    "\n",
    "    # Display the big image grid\n",
    "    plt.imshow(big_image, cmap=mpl.cm.binary, **options)\n",
    "    plt.axis(\"off\")\n"
   ]
  },
  {
   "cell_type": "markdown",
   "id": "AfUdRoQpO554",
   "metadata": {
    "id": "AfUdRoQpO554"
   },
   "source": [
    "#### **Split the data into training and testing**\n",
    "\n",
    "This is done to train the model and then later evaluate the model's learning ability on the training dataset and its generalization ability on the test dataset"
   ]
  },
  {
   "cell_type": "code",
   "execution_count": null,
   "id": "3e2a16b6",
   "metadata": {
    "id": "3e2a16b6"
   },
   "outputs": [],
   "source": [
    "# Split the MNIST dataset into training and testing sets\n",
    "# X_train: Training feature matrix (first 60,000 samples)\n",
    "# X_test: Testing feature matrix (remaining samples)\n",
    "# y_train: Training target labels (first 60,000 samples)\n",
    "# y_test: Testing target labels (remaining samples)\n",
    "X_train, X_test, y_train, y_test = X[:60000], X[60000:], y[:60000], y[60000:]"
   ]
  },
  {
   "cell_type": "markdown",
   "id": "i5YNFD1LQEE4",
   "metadata": {
    "id": "i5YNFD1LQEE4"
   },
   "source": [
    "Map the target column to a binary label (5 or not) with True and False to transform the problem to a binary classification problem"
   ]
  },
  {
   "cell_type": "code",
   "execution_count": null,
   "id": "5ad37248",
   "metadata": {
    "id": "5ad37248"
   },
   "outputs": [],
   "source": [
    "# Create binary labels for the \"5\" digit in the training set\n",
    "# y_train_5: True for instances where the label is 5, False otherwise\n",
    "y_train_5 = (y_train == 5)\n",
    "\n",
    "# Create binary labels for the \"5\" digit in the testing set\n",
    "# y_test_5: True for instances where the label is 5, False otherwise\n",
    "y_test_5 = (y_test == 5)"
   ]
  },
  {
   "cell_type": "markdown",
   "id": "xdFcCIFNZWuR",
   "metadata": {
    "id": "xdFcCIFNZWuR"
   },
   "source": [
    "#### **Predict using the Dummy Classifier**"
   ]
  },
  {
   "cell_type": "markdown",
   "id": "YmiN0Sv9ZhT1",
   "metadata": {
    "id": "YmiN0Sv9ZhT1"
   },
   "source": [
    "The `DummyClassifier` is a classifier that makes predictions using simple rules, which makes it useful for establishing baseline performance metrics for classification tasks. It comes with a `strategy` attribute that determines the approach to make predictions, such as predicting the most frequent class, a random class, or a constant value.\n",
    "\n",
    "For more details, visit the [DummyClassifier documentation](https://scikit-learn.org/stable/modules/generated/sklearn.dummy.DummyClassifier.html).\n"
   ]
  },
  {
   "cell_type": "code",
   "execution_count": null,
   "id": "Z9BmG-tJKeFH",
   "metadata": {
    "id": "Z9BmG-tJKeFH"
   },
   "outputs": [],
   "source": [
    "# Importing the DummyClassifier class from scikit-learn's dummy module\n",
    "from sklearn.dummy import DummyClassifier\n",
    "from sklearn.model_selection import cross_val_predict\n",
    "\n",
    "# Creating a DummyClassifier instance with the strategy set to \"prior\"\n",
    "dmy_clf = DummyClassifier(strategy=\"prior\")\n",
    "\n",
    "# Performing cross-validated predictions using the DummyClassifier and obtaining class probabilities\n",
    "# The predictions are made on the training data X_train and the target variable y_train_5\n",
    "# The method used to generate class probabilities is \"predict_proba\"\n",
    "# The cross-validation strategy used is 3-fold cross-validation (cv=3)\n",
    "y_probas_dmy = cross_val_predict(dmy_clf, X_train, y_train_5, cv=3, method=\"predict_proba\")\n",
    "\n",
    "# Extracting the probability scores for the positive class (class labeled as 1)\n",
    "# These scores will be used for further analysis or evaluation\n",
    "y_scores_dmy = y_probas_dmy[:, 1]\n"
   ]
  },
  {
   "cell_type": "markdown",
   "id": "TdLVw6IVQvHT",
   "metadata": {
    "id": "TdLVw6IVQvHT"
   },
   "source": [
    "#### **Evaluate the model**"
   ]
  },
  {
   "cell_type": "code",
   "execution_count": null,
   "id": "hnvGDUz9N8Wh",
   "metadata": {
    "colab": {
     "base_uri": "https://localhost:8080/",
     "height": 575
    },
    "id": "hnvGDUz9N8Wh",
    "outputId": "5d27afad-2cb4-4f40-c65a-dcd5e8e0e2b3"
   },
   "outputs": [
    {
     "data": {
      "image/png": "[encoded data removed]",
      "text/plain": [
       "<Figure size 800x600 with 1 Axes>"
      ]
     },
     "metadata": {},
     "output_type": "display_data"
    }
   ],
   "source": [
    "from sklearn.metrics import roc_curve\n",
    "#Compute the Receiver Operating Characteristic (ROC) curve using the true labels (y_train_5)\n",
    "# and the predicted probability scores for the positive class (y_scores_dmy)\n",
    "fprr, tprr, thresholdsr = roc_curve(y_train_5, y_scores_dmy)\n",
    "\n",
    "# Plot the ROC curve using matplotlib\n",
    "plt.figure(figsize=(8, 6))\n",
    "plt.plot(fprr, tprr, linewidth=2)\n",
    "plt.plot([0, 1], [0, 1], 'r--')  # Diagonal line for reference (random classifier)\n",
    "plt.xlabel('False Positive Rate', fontsize=14)\n",
    "plt.ylabel('True Positive Rate (Recall)', fontsize=14)\n",
    "plt.title('ROC Curve', fontsize=16)\n",
    "plt.grid(True)\n",
    "plt.show()\n",
    "\n"
   ]
  }
 ],
 "metadata": {
  "colab": {
   "provenance": []
  },
  "kernelspec": {
   "display_name": "Python 3 (ipykernel)",
   "language": "python",
   "name": "python3"
  },
  "language_info": {
   "codemirror_mode": {
    "name": "ipython",
    "version": 3
   },
   "file_extension": ".py",
   "mimetype": "text/x-python",
   "name": "python",
   "nbconvert_exporter": "python",
   "pygments_lexer": "ipython3",
   "version": "3.9.13"
  }
 },
 "nbformat": 4,
 "nbformat_minor": 5
}
