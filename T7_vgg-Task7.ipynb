{
  "cells": [
    {
      "cell_type": "markdown",
      "metadata": {
        "id": "cZc2Se9fDwVZ"
      },
      "source": [
        "# Exploration of Deep Learning in Computer Vision with Transfer Learning\n",
        "Task7 | week 7\n",
        "\n",
        "Names of Trainees : SAFA ,NEDAA , AREEJ"
      ]
    },
    {
      "cell_type": "markdown",
      "metadata": {
        "id": "UDIKlq-3EbVM"
      },
      "source": [
        "#1. Dataset Selection:\n",
        "• Choose a computer vision dataset suitable for classification\n",
        "or object detection tasks. The\n",
        "dataset should be publicly available and appropriate for transfer learning experiments.\n",
        "\n",
        "• Ensure the dataset contains a sufficient number of images and corresponding labels for\n",
        "training and evaluation."
      ]
    },
    {
      "cell_type": "markdown",
      "metadata": {
        "id": "z2TGCA_XEjTR"
      },
      "source": [
        "\n",
        "\n",
        "*   The dataset chosen was from a source platform kaggle\n",
        "*   We inform you that the subject of the data set is about\n",
        "          **Waste Classification data**\n",
        "\n",
        " *This dataset contains 22500 images of organic and recyclable objects*\n",
        "\n",
        "\n",
        "\n",
        "\n"
      ]
    },
    {
      "cell_type": "code",
      "execution_count": 2,
      "metadata": {
        "colab": {
          "base_uri": "https://localhost:8080/"
        },
        "id": "ZcqhgcXf7PkH",
        "outputId": "6e9d820a-8435-431c-da22-30ddcfa5c85a"
      },
      "outputs": [
        {
          "output_type": "stream",
          "name": "stdout",
          "text": [
            "Collecting opendatasets\n",
            "  Downloading opendatasets-0.1.22-py3-none-any.whl (15 kB)\n",
            "Requirement already satisfied: tqdm in /usr/local/lib/python3.10/dist-packages (from opendatasets) (4.66.2)\n",
            "Requirement already satisfied: kaggle in /usr/local/lib/python3.10/dist-packages (from opendatasets) (1.6.12)\n",
            "Requirement already satisfied: click in /usr/local/lib/python3.10/dist-packages (from opendatasets) (8.1.7)\n",
            "Requirement already satisfied: six>=1.10 in /usr/local/lib/python3.10/dist-packages (from kaggle->opendatasets) (1.16.0)\n",
            "Requirement already satisfied: certifi>=2023.7.22 in /usr/local/lib/python3.10/dist-packages (from kaggle->opendatasets) (2024.2.2)\n",
            "Requirement already satisfied: python-dateutil in /usr/local/lib/python3.10/dist-packages (from kaggle->opendatasets) (2.8.2)\n",
            "Requirement already satisfied: requests in /usr/local/lib/python3.10/dist-packages (from kaggle->opendatasets) (2.31.0)\n",
            "Requirement already satisfied: python-slugify in /usr/local/lib/python3.10/dist-packages (from kaggle->opendatasets) (8.0.4)\n",
            "Requirement already satisfied: urllib3 in /usr/local/lib/python3.10/dist-packages (from kaggle->opendatasets) (2.0.7)\n",
            "Requirement already satisfied: bleach in /usr/local/lib/python3.10/dist-packages (from kaggle->opendatasets) (6.1.0)\n",
            "Requirement already satisfied: webencodings in /usr/local/lib/python3.10/dist-packages (from bleach->kaggle->opendatasets) (0.5.1)\n",
            "Requirement already satisfied: text-unidecode>=1.3 in /usr/local/lib/python3.10/dist-packages (from python-slugify->kaggle->opendatasets) (1.3)\n",
            "Requirement already satisfied: charset-normalizer<4,>=2 in /usr/local/lib/python3.10/dist-packages (from requests->kaggle->opendatasets) (3.3.2)\n",
            "Requirement already satisfied: idna<4,>=2.5 in /usr/local/lib/python3.10/dist-packages (from requests->kaggle->opendatasets) (3.7)\n",
            "Installing collected packages: opendatasets\n",
            "Successfully installed opendatasets-0.1.22\n"
          ]
        }
      ],
      "source": [
        "!pip install opendatasets\n",
        "import numpy as np\n",
        "import pandas as pd\n",
        "import opendatasets as od\n"
      ]
    },
    {
      "cell_type": "code",
      "execution_count": 3,
      "metadata": {
        "colab": {
          "base_uri": "https://localhost:8080/"
        },
        "id": "aRaMpS1o7cwX",
        "outputId": "75985a7e-3eb0-4a72-befe-088741ecd0e4"
      },
      "outputs": [
        {
          "output_type": "stream",
          "name": "stdout",
          "text": [
            "Please provide your Kaggle credentials to download this dataset. Learn more: http://bit.ly/kaggle-creds\n",
            "Your Kaggle username: ii1nas\n",
            "Your Kaggle Key: ··········\n",
            "Dataset URL: https://www.kaggle.com/datasets/techsash/waste-classification-data\n",
            "Downloading waste-classification-data.zip to ./waste-classification-data\n"
          ]
        },
        {
          "output_type": "stream",
          "name": "stderr",
          "text": [
            "100%|██████████| 427M/427M [00:05<00:00, 84.1MB/s]\n"
          ]
        },
        {
          "output_type": "stream",
          "name": "stdout",
          "text": [
            "\n"
          ]
        }
      ],
      "source": [
        "# Assign the Kaggle data set URL into variable\n",
        "dataset = 'https://www.kaggle.com/datasets/techsash/waste-classification-data'\n",
        "# Using opendatasets let's download the data sets\n",
        "od.download(dataset)"
      ]
    },
    {
      "cell_type": "code",
      "execution_count": 4,
      "metadata": {
        "id": "8VrfcqMf9KhN"
      },
      "outputs": [],
      "source": [
        "import pandas as pd\n",
        "import numpy as np\n",
        "import matplotlib.pyplot as plt\n",
        "import skimage.io\n",
        "import tensorflow\n",
        "import tqdm\n",
        "import glob\n",
        "\n",
        "from tqdm import tqdm\n",
        "\n",
        "from skimage.io import imread, imshow\n",
        "# from skimage.transform import resize\n",
        "\n",
        "from tensorflow.keras.preprocessing.image import ImageDataGenerator\n",
        "from tensorflow.keras.applications.vgg16 import VGG16\n",
        "from tensorflow.keras.models import Sequential\n",
        "from tensorflow.keras.layers import InputLayer, Dense, Flatten, BatchNormalization, Dropout, Activation\n",
        "from tensorflow.keras.callbacks import EarlyStopping, ModelCheckpoint\n",
        "from tensorflow.keras.preprocessing.image import load_img, img_to_array\n",
        "from sklearn.metrics import confusion_matrix\n",
        "import seaborn as sns\n",
        "\n",
        "%matplotlib inline"
      ]
    },
    {
      "cell_type": "code",
      "execution_count": 5,
      "metadata": {
        "id": "_7L6YaaX8lym"
      },
      "outputs": [],
      "source": [
        "train_path = \"/content/waste-classification-data/DATASET/TRAIN\"\n",
        "test_path = \"/content/waste-classification-data/DATASET/TEST\""
      ]
    },
    {
      "cell_type": "code",
      "execution_count": 6,
      "metadata": {
        "id": "1qRrxM0g-FZU"
      },
      "outputs": [],
      "source": [
        "from keras.models import Sequential\n",
        "from keras.layers import Conv2D, MaxPooling2D, Activation, Dropout, Flatten, Dense, BatchNormalization\n",
        "from keras.preprocessing.image import ImageDataGenerator, img_to_array, load_img\n",
        "from glob import glob\n",
        "import cv2"
      ]
    },
    {
      "cell_type": "code",
      "execution_count": 7,
      "metadata": {
        "colab": {
          "base_uri": "https://localhost:8080/"
        },
        "id": "nn36qGLl9542",
        "outputId": "f986a4ff-da4d-48b5-8ece-04f3593ee59b"
      },
      "outputs": [
        {
          "output_type": "stream",
          "name": "stderr",
          "text": [
            "100%|██████████| 9999/9999 [00:12<00:00, 809.08it/s] \n",
            "100%|██████████| 12565/12565 [00:13<00:00, 928.18it/s]\n"
          ]
        }
      ],
      "source": [
        "x_data = []\n",
        "y_data = []\n",
        "\n",
        "for category in glob(train_path+'/*'):\n",
        "    for file in tqdm(glob(category+'/*')):\n",
        "        img_array=cv2.imread(file)\n",
        "        img_array = cv2.cvtColor(img_array, cv2.COLOR_BGR2RGB)\n",
        "        x_data.append(img_array)\n",
        "        y_data.append(category.split(\"/\")[-1])\n",
        "\n",
        "data=pd.DataFrame({'image': x_data,'label': y_data})"
      ]
    },
    {
      "cell_type": "markdown",
      "metadata": {
        "id": "vi3GdjghE1Js"
      },
      "source": [
        "#2. Transfer Learning Implementation:\n",
        "• Preprocess the selected dataset, including data augmentation techniques such as rotation, flipping, and resizing.\n",
        "\n",
        "• Choose a pre-trained deep learning model (e.g., VGG, ResNet, Inception) suitable for transfer learning.\n",
        "\n",
        "• Implement transfer learning by loading the pre-trained model and fine-tuning it on the selected dataset.\n",
        "\n",
        "• Train the transferred model on the dataset and monitor its performance during training.\n",
        "\n",
        "• Evaluate the performance of the transferred model on a separate validation set and compare it with the performance of a model\n",
        "trained from scratch."
      ]
    },
    {
      "cell_type": "code",
      "execution_count": 17,
      "metadata": {
        "colab": {
          "base_uri": "https://localhost:8080/"
        },
        "id": "2KZ1NWuLZcZj",
        "outputId": "7f0509cc-b542-4b83-b6e6-52a0a51f83f6"
      },
      "outputs": [
        {
          "output_type": "stream",
          "name": "stdout",
          "text": [
            "Number Of Class:  2\n"
          ]
        }
      ],
      "source": [
        "className = glob(train_path + '/*' )\n",
        "numberOfClass = len(className)\n",
        "print(\"Number Of Class: \",numberOfClass)"
      ]
    },
    {
      "cell_type": "code",
      "execution_count": 8,
      "metadata": {
        "id": "OGwQJ2y4u3-O"
      },
      "outputs": [],
      "source": [
        "import tensorflow as tf\n",
        "from tensorflow import keras\n",
        "from keras import Sequential\n",
        "from keras.layers import Dense,Flatten,Conv2D,MaxPool2D\n",
        "from keras.utils import image_dataset_from_directory"
      ]
    },
    {
      "cell_type": "code",
      "execution_count": 18,
      "metadata": {
        "colab": {
          "base_uri": "https://localhost:8080/"
        },
        "id": "sA0dpZ2AvAh-",
        "outputId": "dcca1527-50c8-43bf-9b0d-b80153ddfcce"
      },
      "outputs": [
        {
          "output_type": "stream",
          "name": "stdout",
          "text": [
            "Found 22564 files belonging to 2 classes.\n"
          ]
        }
      ],
      "source": [
        "#Importing Training Data\n",
        "train_data=image_dataset_from_directory(\n",
        "    directory=\"/content/waste-classification-data/DATASET/TRAIN\",\n",
        "    labels='inferred',\n",
        "    label_mode='int',\n",
        "    batch_size=32,\n",
        "    image_size=(100,100)\n",
        "    )"
      ]
    },
    {
      "cell_type": "code",
      "execution_count": 19,
      "metadata": {
        "colab": {
          "base_uri": "https://localhost:8080/"
        },
        "id": "8Ej20_LAvOUU",
        "outputId": "57cd1971-2253-44ec-8b8a-c73c3132e59c"
      },
      "outputs": [
        {
          "output_type": "stream",
          "name": "stdout",
          "text": [
            "Found 2513 files belonging to 2 classes.\n"
          ]
        }
      ],
      "source": [
        "#Importing Testing Data\n",
        "test_data=image_dataset_from_directory(\n",
        "    directory=\"/content/waste-classification-data/DATASET/TEST\",\n",
        "    labels='inferred',\n",
        "    label_mode='int',\n",
        "    batch_size=32,\n",
        "    image_size=(100,100)\n",
        "    )"
      ]
    },
    {
      "cell_type": "code",
      "execution_count": 20,
      "metadata": {
        "id": "SgDTZkgyvUW7"
      },
      "outputs": [],
      "source": [
        "#Importing VGG16\n",
        "from keras.applications.vgg16 import VGG16\n",
        "vgg=VGG16(include_top=False,weights='imagenet',input_shape=(100,100,3))"
      ]
    },
    {
      "cell_type": "code",
      "execution_count": 21,
      "metadata": {
        "id": "Kjp-vi2VvdrH"
      },
      "outputs": [],
      "source": [
        "#Trainable\n",
        "vgg.trainable=False"
      ]
    },
    {
      "cell_type": "code",
      "execution_count": 22,
      "metadata": {
        "id": "34jm-y2Avl60"
      },
      "outputs": [],
      "source": [
        "#Building Model\n",
        "model=Sequential()\n",
        "#Adding EfficientNetB1 Layer\n",
        "model.add(vgg)\n",
        "#Adding Flatten Layer\n",
        "model.add(Flatten())\n",
        "#Addding ANN Layer\n",
        "model.add(Dense(32,activation='relu'))\n",
        "#Adding Output Layer\n",
        "model.add(Dense(1,activation='sigmoid'))"
      ]
    },
    {
      "cell_type": "code",
      "execution_count": 23,
      "metadata": {
        "id": "5k9AABfsvoRW"
      },
      "outputs": [],
      "source": [
        "#Model Compilation\n",
        "model.compile(optimizer='rmsprop',loss='binary_crossentropy',metrics=['accuracy'])"
      ]
    },
    {
      "cell_type": "code",
      "execution_count": 24,
      "metadata": {
        "colab": {
          "base_uri": "https://localhost:8080/"
        },
        "id": "uWtwCXPGvyJF",
        "outputId": "503bf389-9a8e-465f-8d64-f159f3633808"
      },
      "outputs": [
        {
          "output_type": "stream",
          "name": "stdout",
          "text": [
            "Epoch 1/5\n",
            "706/706 [==============================] - 2608s 4s/step - loss: 0.4611 - accuracy: 0.8743 - val_loss: 0.7942 - val_accuracy: 0.8659\n",
            "Epoch 2/5\n",
            "706/706 [==============================] - 2607s 4s/step - loss: 0.2749 - accuracy: 0.9142 - val_loss: 0.8409 - val_accuracy: 0.8552\n",
            "Epoch 3/5\n",
            "706/706 [==============================] - 2523s 4s/step - loss: 0.2027 - accuracy: 0.9373 - val_loss: 0.9523 - val_accuracy: 0.8388\n",
            "Epoch 4/5\n",
            "706/706 [==============================] - 2533s 4s/step - loss: 0.1470 - accuracy: 0.9527 - val_loss: 1.0473 - val_accuracy: 0.8635\n",
            "Epoch 5/5\n",
            "706/706 [==============================] - 2539s 4s/step - loss: 0.1113 - accuracy: 0.9653 - val_loss: 1.1853 - val_accuracy: 0.8579\n"
          ]
        }
      ],
      "source": [
        "#Model Training\n",
        "history=model.fit(train_data,validation_data=test_data,epochs=5)"
      ]
    },
    {
      "cell_type": "code",
      "execution_count": 32,
      "metadata": {
        "id": "kXGUI1-IwqiE",
        "colab": {
          "base_uri": "https://localhost:8080/"
        },
        "outputId": "b5c21bd2-4096-4317-d627-f9c5f6f98f67"
      },
      "outputs": [
        {
          "output_type": "stream",
          "name": "stdout",
          "text": [
            "79/79 [==============================] - 263s 3s/step - loss: 1.1853 - accuracy: 0.8579\n"
          ]
        },
        {
          "output_type": "execute_result",
          "data": {
            "text/plain": [
              "85.79387068748474"
            ]
          },
          "metadata": {},
          "execution_count": 32
        }
      ],
      "source": [
        "#On Test Data\n",
        "model.evaluate(test_data)[1]*100"
      ]
    },
    {
      "cell_type": "code",
      "source": [
        "model.save('VGG_model_path.h5')"
      ],
      "metadata": {
        "colab": {
          "base_uri": "https://localhost:8080/"
        },
        "id": "CO2_LCxEqAsa",
        "outputId": "f1d36c78-3514-4e17-f672-63e8ef05033a"
      },
      "execution_count": 33,
      "outputs": [
        {
          "output_type": "stream",
          "name": "stderr",
          "text": [
            "/usr/local/lib/python3.10/dist-packages/keras/src/engine/training.py:3103: UserWarning: You are saving your model as an HDF5 file via `model.save()`. This file format is considered legacy. We recommend using instead the native Keras format, e.g. `model.save('my_model.keras')`.\n",
            "  saving_api.save_model(\n"
          ]
        }
      ]
    },
    {
      "cell_type": "code",
      "source": [
        "import matplotlib.pyplot as plt\n",
        "plt.plot(history.history['val_loss'],label=\"Testing\",color='Green')\n",
        "plt.plot(history.history['loss'],label=\"Training\",color='Red')\n",
        "plt.legend()\n",
        "plt.show()"
      ],
      "metadata": {
        "colab": {
          "base_uri": "https://localhost:8080/",
          "height": 430
        },
        "id": "sfo6-itfqh6o",
        "outputId": "5c31db6a-0612-40df-f7d6-39ae8900b498"
      },
      "execution_count": 34,
      "outputs": [
        {
          "output_type": "display_data",
          "data": {
            "text/plain": [
              "<Figure size 640x480 with 1 Axes>"
            ],
            "image/png": "[encoded data removed]"
          },
          "metadata": {}
        }
      ]
    },
    {
      "cell_type": "code",
      "source": [
        "plt.plot(history.history['val_accuracy'],label=\"Testing\",color='Green')\n",
        "plt.plot(history.history['accuracy'],label=\"Training\",color='Red')\n",
        "plt.legend()\n",
        "plt.show()"
      ],
      "metadata": {
        "colab": {
          "base_uri": "https://localhost:8080/",
          "height": 430
        },
        "id": "aDCOitQyqnLq",
        "outputId": "b18b2e7c-39c3-4a2d-de64-91e30ac710e2"
      },
      "execution_count": 35,
      "outputs": [
        {
          "output_type": "display_data",
          "data": {
            "text/plain": [
              "<Figure size 640x480 with 1 Axes>"
            ],
            "image/png": "[encoded data removed]"
          },
          "metadata": {}
        }
      ]
    }
  ],
  "metadata": {
    "colab": {
      "provenance": []
    },
    "kernelspec": {
      "display_name": "Python 3",
      "name": "python3"
    },
    "language_info": {
      "name": "python"
    }
  },
  "nbformat": 4,
  "nbformat_minor": 0
}